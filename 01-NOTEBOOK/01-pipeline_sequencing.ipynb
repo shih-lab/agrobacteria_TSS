{
 "cells": [
  {
   "cell_type": "code",
   "execution_count": 2,
   "id": "b03c6fd7-e43a-46d3-912e-eb7b612bf97d",
   "metadata": {
    "collapsed": true,
    "jupyter": {
     "outputs_hidden": true
    },
    "tags": []
   },
   "outputs": [],
   "source": [
    "from glob import glob\n",
    "from tqdm import tqdm\n",
    "import os\n",
    "os.chdir('/home/lucas/Documents/01-experiments/eLW008-dRNA_seq/03-CODE/09-run_pipeline/')"
   ]
  },
  {
   "cell_type": "markdown",
   "id": "bd2102fb-f4ea-4cf6-a3ba-bcec6aa5659f",
   "metadata": {
    "tags": []
   },
   "source": [
    "# 01 QC"
   ]
  },
  {
   "cell_type": "code",
   "execution_count": 18,
   "id": "9c6729b4-e11a-46f0-a98b-2f7a6bf823cc",
   "metadata": {
    "collapsed": true,
    "jupyter": {
     "outputs_hidden": true
    },
    "scrolled": true,
    "tags": []
   },
   "outputs": [
    {
     "name": "stdout",
     "output_type": "stream",
     "text": [
      "Started analysis of 01-C58-BV1-MOPS_glucose-tex_plus-R1.fq.gz\n",
      "Approx 5% complete for 01-C58-BV1-MOPS_glucose-tex_plus-R1.fq.gz\n",
      "^C\n"
     ]
    }
   ],
   "source": [
    "!fastqc ../../01-INPUT/02-FASTQ/renamed/* -o ../../02-OUTPUT/01-QC/"
   ]
  },
  {
   "cell_type": "code",
   "execution_count": null,
   "id": "b2a828b5-1414-478a-a7e9-6b641034f4a2",
   "metadata": {
    "collapsed": true,
    "jupyter": {
     "outputs_hidden": true
    },
    "tags": []
   },
   "outputs": [],
   "source": [
    "!multiqc ../../02-OUTPUT/01-QC/ -o ../../02-OUTPUT/01-QC/"
   ]
  },
  {
   "cell_type": "code",
   "execution_count": null,
   "id": "a99a4e1f-8d38-45f3-ae3b-b6d86c17c31f",
   "metadata": {
    "collapsed": true,
    "jupyter": {
     "outputs_hidden": true
    },
    "tags": []
   },
   "outputs": [],
   "source": [
    "!IN_DIR=../../01-INPUT/02-FASTQ/renamed;OUT_DIR=../../02-OUTPUT/01-QC; \\\n",
    "    bbduk.sh \\\n",
    "    in1=$IN_DIR/01-C58-BV1-MOPS_glucose-tex_plus-R1.fq.gz \\\n",
    "    in2=$IN_DIR/01-C58-BV1-MOPS_glucose-tex_plus-R2.fq.gz  \\\n",
    "    k=23 \\\n",
    "    ref=/Users/waldburger/opt/anaconda3/pkgs/bbmap-39.00-h3fae6ef_0/opt/bbmap-39.00-0/resources/adapters.fa \\\n",
    "    stats=$OUT_DIR/bbduk-overrepresented_stats.txt"
   ]
  },
  {
   "cell_type": "markdown",
   "id": "2416c73e-f3db-46a7-bfb8-22a83996a55b",
   "metadata": {
    "tags": []
   },
   "source": [
    "# 02 TRIM"
   ]
  },
  {
   "cell_type": "code",
   "execution_count": null,
   "id": "1cc2eb1f-d300-4590-ab84-373b867b37a8",
   "metadata": {
    "collapsed": true,
    "jupyter": {
     "outputs_hidden": true
    },
    "tags": []
   },
   "outputs": [],
   "source": [
    "!head /Users/waldburger/opt/anaconda3/pkgs/trimmomatic-0.39-hdfd78af_2/share/trimmomatic-0.39-2/adapters/TruSeq3-PE.fa"
   ]
  },
  {
   "cell_type": "code",
   "execution_count": null,
   "id": "b0e7556a-8d55-4b83-8594-f19dbc591e6a",
   "metadata": {
    "collapsed": true,
    "jupyter": {
     "outputs_hidden": true
    },
    "tags": []
   },
   "outputs": [],
   "source": [
    "!gunzip -c ../../01-INPUT/02-FASTQ/renamed/01-C58-BV1-MOPS_glucose-tex_plus-R1.fq.gz | grep ACGACGCTCTTCCGATCT | wc -l"
   ]
  },
  {
   "cell_type": "code",
   "execution_count": null,
   "id": "62c8d914-296f-4295-995b-b81b6aee637c",
   "metadata": {
    "collapsed": true,
    "jupyter": {
     "outputs_hidden": true
    },
    "tags": []
   },
   "outputs": [
    {
     "name": "stdout",
     "output_type": "stream",
     "text": [
      "22-C58-BV1-PITA_log-tex_minus\n"
     ]
    },
    {
     "name": "stderr",
     "output_type": "stream",
     "text": [
      "TrimmomaticPE: Started with arguments:\n",
      " -phred33 -threads 4 -trimlog ../../02-OUTPUT/02-TRIM/trimmomatic-trim_log_22-C58-BV1-PITA_log-tex_minus.txt ../../01-INPUT/02-FASTQ/renamed/22-C58-BV1-PITA_log-tex_minus-R1.fq.gz ../../01-INPUT/02-FASTQ/renamed/22-C58-BV1-PITA_log-tex_minus-R2.fq.gz ../../02-OUTPUT/02-TRIM/22-C58-BV1-PITA_log-tex_minus-R1-trimmed.fq.gz ../../02-OUTPUT/02-TRIM/22-C58-BV1-PITA_log-tex_minus-R1-untrimmed.fq.gz ../../02-OUTPUT/02-TRIM/22-C58-BV1-PITA_log-tex_minus-R2-trimmed.fq.gz ../../02-OUTPUT/02-TRIM/22-C58-BV1-PITA_log-tex_minus-R2-untrimmed.fq.gz ILLUMINACLIP:/home/lucas/anaconda3/pkgs/trimmomatic-0.38-1/share/trimmomatic-0.38-1/adapters/TruSeq3-PE.fa:2:20:10 LEADING:3 TRAILING:3 SLIDINGWINDOW:4:20 MINLEN:20\n",
      "Using PrefixPair: 'TACACTCTTTCCCTACACGACGCTCTTCCGATCT' and 'GTGACTGGAGTTCAGACGTGTGCTCTTCCGATCT'\n",
      "ILLUMINACLIP: Using 1 prefix pairs, 0 forward/reverse sequences, 0 forward only sequences, 0 reverse only sequences\n",
      "Input Read Pairs: 23738951 Both Surviving: 14655722 (61.74%) Forward Only Surviving: 8365928 (35.24%) Reverse Only Surviving: 88099 (0.37%) Dropped: 629202 (2.65%)\n",
      "TrimmomaticPE: Completed successfully\n",
      "\n",
      "real\t7m26.044s\n",
      "user\t16m34.919s\n",
      "sys\t4m58.901s\n",
      "TrimmomaticPE: Started with arguments:\n",
      " -phred33 -threads 4 -trimlog ../../02-OUTPUT/02-TRIM/trimmomatic-trim_log_04-C58-BV1-MOPS_succinate-tex_plus.txt ../../01-INPUT/02-FASTQ/renamed/04-C58-BV1-MOPS_succinate-tex_plus-R1.fq.gz ../../01-INPUT/02-FASTQ/renamed/04-C58-BV1-MOPS_succinate-tex_plus-R2.fq.gz ../../02-OUTPUT/02-TRIM/04-C58-BV1-MOPS_succinate-tex_plus-R1-trimmed.fq.gz ../../02-OUTPUT/02-TRIM/04-C58-BV1-MOPS_succinate-tex_plus-R1-untrimmed.fq.gz ../../02-OUTPUT/02-TRIM/04-C58-BV1-MOPS_succinate-tex_plus-R2-trimmed.fq.gz ../../02-OUTPUT/02-TRIM/04-C58-BV1-MOPS_succinate-tex_plus-R2-untrimmed.fq.gz ILLUMINACLIP:/home/lucas/anaconda3/pkgs/trimmomatic-0.38-1/share/trimmomatic-0.38-1/adapters/TruSeq3-PE.fa:2:20:10 LEADING:3 TRAILING:3 SLIDINGWINDOW:4:20 MINLEN:20\n",
      "Using PrefixPair: 'TACACTCTTTCCCTACACGACGCTCTTCCGATCT' and 'GTGACTGGAGTTCAGACGTGTGCTCTTCCGATCT'\n",
      "ILLUMINACLIP: Using 1 prefix pairs, 0 forward/reverse sequences, 0 forward only sequences, 0 reverse only sequences\n"
     ]
    },
    {
     "name": "stdout",
     "output_type": "stream",
     "text": [
      "04-C58-BV1-MOPS_succinate-tex_plus\n"
     ]
    },
    {
     "name": "stderr",
     "output_type": "stream",
     "text": [
      "Input Read Pairs: 42331828 Both Surviving: 32054676 (75.72%) Forward Only Surviving: 6604677 (15.60%) Reverse Only Surviving: 355941 (0.84%) Dropped: 3316534 (7.83%)\n",
      "TrimmomaticPE: Completed successfully\n",
      "\n",
      "real\t13m5.598s\n",
      "user\t29m19.420s\n",
      "sys\t8m52.983s\n",
      "TrimmomaticPE: Started with arguments:\n",
      " -phred33 -threads 4 -trimlog ../../02-OUTPUT/02-TRIM/trimmomatic-trim_log_11-C16_80-BV2-PITA_induced-tex_plus.txt ../../01-INPUT/02-FASTQ/renamed/11-C16_80-BV2-PITA_induced-tex_plus-R1.fq.gz ../../01-INPUT/02-FASTQ/renamed/11-C16_80-BV2-PITA_induced-tex_plus-R2.fq.gz ../../02-OUTPUT/02-TRIM/11-C16_80-BV2-PITA_induced-tex_plus-R1-trimmed.fq.gz ../../02-OUTPUT/02-TRIM/11-C16_80-BV2-PITA_induced-tex_plus-R1-untrimmed.fq.gz ../../02-OUTPUT/02-TRIM/11-C16_80-BV2-PITA_induced-tex_plus-R2-trimmed.fq.gz ../../02-OUTPUT/02-TRIM/11-C16_80-BV2-PITA_induced-tex_plus-R2-untrimmed.fq.gz ILLUMINACLIP:/home/lucas/anaconda3/pkgs/trimmomatic-0.38-1/share/trimmomatic-0.38-1/adapters/TruSeq3-PE.fa:2:20:10 LEADING:3 TRAILING:3 SLIDINGWINDOW:4:20 MINLEN:20\n",
      "Using PrefixPair: 'TACACTCTTTCCCTACACGACGCTCTTCCGATCT' and 'GTGACTGGAGTTCAGACGTGTGCTCTTCCGATCT'\n",
      "ILLUMINACLIP: Using 1 prefix pairs, 0 forward/reverse sequences, 0 forward only sequences, 0 reverse only sequences\n"
     ]
    },
    {
     "name": "stdout",
     "output_type": "stream",
     "text": [
      "11-C16_80-BV2-PITA_induced-tex_plus\n"
     ]
    },
    {
     "name": "stderr",
     "output_type": "stream",
     "text": [
      "Input Read Pairs: 9762006 Both Surviving: 8176644 (83.76%) Forward Only Surviving: 1238382 (12.69%) Reverse Only Surviving: 60921 (0.62%) Dropped: 286059 (2.93%)\n",
      "TrimmomaticPE: Completed successfully\n",
      "\n",
      "real\t3m1.459s\n",
      "user\t6m48.709s\n",
      "sys\t2m5.348s\n",
      "TrimmomaticPE: Started with arguments:\n",
      " -phred33 -threads 4 -trimlog ../../02-OUTPUT/02-TRIM/trimmomatic-trim_log_29-C16_80-BV2-PITA_stationary-tex_minus.txt ../../01-INPUT/02-FASTQ/renamed/29-C16_80-BV2-PITA_stationary-tex_minus-R1.fq.gz ../../01-INPUT/02-FASTQ/renamed/29-C16_80-BV2-PITA_stationary-tex_minus-R2.fq.gz ../../02-OUTPUT/02-TRIM/29-C16_80-BV2-PITA_stationary-tex_minus-R1-trimmed.fq.gz ../../02-OUTPUT/02-TRIM/29-C16_80-BV2-PITA_stationary-tex_minus-R1-untrimmed.fq.gz ../../02-OUTPUT/02-TRIM/29-C16_80-BV2-PITA_stationary-tex_minus-R2-trimmed.fq.gz ../../02-OUTPUT/02-TRIM/29-C16_80-BV2-PITA_stationary-tex_minus-R2-untrimmed.fq.gz ILLUMINACLIP:/home/lucas/anaconda3/pkgs/trimmomatic-0.38-1/share/trimmomatic-0.38-1/adapters/TruSeq3-PE.fa:2:20:10 LEADING:3 TRAILING:3 SLIDINGWINDOW:4:20 MINLEN:20\n",
      "Using PrefixPair: 'TACACTCTTTCCCTACACGACGCTCTTCCGATCT' and 'GTGACTGGAGTTCAGACGTGTGCTCTTCCGATCT'\n",
      "ILLUMINACLIP: Using 1 prefix pairs, 0 forward/reverse sequences, 0 forward only sequences, 0 reverse only sequences\n"
     ]
    },
    {
     "name": "stdout",
     "output_type": "stream",
     "text": [
      "29-C16_80-BV2-PITA_stationary-tex_minus\n"
     ]
    },
    {
     "name": "stderr",
     "output_type": "stream",
     "text": [
      "Input Read Pairs: 35721154 Both Surviving: 18285821 (51.19%) Forward Only Surviving: 16457776 (46.07%) Reverse Only Surviving: 101133 (0.28%) Dropped: 876424 (2.45%)\n",
      "TrimmomaticPE: Completed successfully\n",
      "\n",
      "real\t11m5.557s\n",
      "user\t24m31.625s\n",
      "sys\t7m25.183s\n",
      "TrimmomaticPE: Started with arguments:\n",
      " -phred33 -threads 4 -trimlog ../../02-OUTPUT/02-TRIM/trimmomatic-trim_log_08-C16_80-BV2-PITA_log-tex_plus.txt ../../01-INPUT/02-FASTQ/renamed/08-C16_80-BV2-PITA_log-tex_plus-R1.fq.gz ../../01-INPUT/02-FASTQ/renamed/08-C16_80-BV2-PITA_log-tex_plus-R2.fq.gz ../../02-OUTPUT/02-TRIM/08-C16_80-BV2-PITA_log-tex_plus-R1-trimmed.fq.gz ../../02-OUTPUT/02-TRIM/08-C16_80-BV2-PITA_log-tex_plus-R1-untrimmed.fq.gz ../../02-OUTPUT/02-TRIM/08-C16_80-BV2-PITA_log-tex_plus-R2-trimmed.fq.gz ../../02-OUTPUT/02-TRIM/08-C16_80-BV2-PITA_log-tex_plus-R2-untrimmed.fq.gz ILLUMINACLIP:/home/lucas/anaconda3/pkgs/trimmomatic-0.38-1/share/trimmomatic-0.38-1/adapters/TruSeq3-PE.fa:2:20:10 LEADING:3 TRAILING:3 SLIDINGWINDOW:4:20 MINLEN:20\n",
      "Using PrefixPair: 'TACACTCTTTCCCTACACGACGCTCTTCCGATCT' and 'GTGACTGGAGTTCAGACGTGTGCTCTTCCGATCT'\n",
      "ILLUMINACLIP: Using 1 prefix pairs, 0 forward/reverse sequences, 0 forward only sequences, 0 reverse only sequences\n"
     ]
    },
    {
     "name": "stdout",
     "output_type": "stream",
     "text": [
      "08-C16_80-BV2-PITA_log-tex_plus\n"
     ]
    },
    {
     "name": "stderr",
     "output_type": "stream",
     "text": [
      "Input Read Pairs: 5748699 Both Surviving: 5439027 (94.61%) Forward Only Surviving: 225285 (3.92%) Reverse Only Surviving: 37238 (0.65%) Dropped: 47149 (0.82%)\n",
      "TrimmomaticPE: Completed successfully\n",
      "\n",
      "real\t1m47.267s\n",
      "user\t4m6.369s\n",
      "sys\t1m13.830s\n",
      "TrimmomaticPE: Started with arguments:\n",
      " -phred33 -threads 4 -trimlog ../../02-OUTPUT/02-TRIM/trimmomatic-trim_log_22-C58-BV1-PITA_log-tex_minus.txt ../../01-INPUT/02-FASTQ/renamed/22-C58-BV1-PITA_log-tex_minus-R1.fq.gz ../../01-INPUT/02-FASTQ/renamed/22-C58-BV1-PITA_log-tex_minus-R2.fq.gz ../../02-OUTPUT/02-TRIM/22-C58-BV1-PITA_log-tex_minus-R1-trimmed.fq.gz ../../02-OUTPUT/02-TRIM/22-C58-BV1-PITA_log-tex_minus-R1-untrimmed.fq.gz ../../02-OUTPUT/02-TRIM/22-C58-BV1-PITA_log-tex_minus-R2-trimmed.fq.gz ../../02-OUTPUT/02-TRIM/22-C58-BV1-PITA_log-tex_minus-R2-untrimmed.fq.gz ILLUMINACLIP:/home/lucas/anaconda3/pkgs/trimmomatic-0.38-1/share/trimmomatic-0.38-1/adapters/TruSeq3-PE.fa:2:20:10 LEADING:3 TRAILING:3 SLIDINGWINDOW:4:20 MINLEN:20\n",
      "Using PrefixPair: 'TACACTCTTTCCCTACACGACGCTCTTCCGATCT' and 'GTGACTGGAGTTCAGACGTGTGCTCTTCCGATCT'\n",
      "ILLUMINACLIP: Using 1 prefix pairs, 0 forward/reverse sequences, 0 forward only sequences, 0 reverse only sequences\n"
     ]
    },
    {
     "name": "stdout",
     "output_type": "stream",
     "text": [
      "22-C58-BV1-PITA_log-tex_minus\n"
     ]
    },
    {
     "name": "stderr",
     "output_type": "stream",
     "text": [
      "Input Read Pairs: 23738951 Both Surviving: 14655722 (61.74%) Forward Only Surviving: 8365928 (35.24%) Reverse Only Surviving: 88099 (0.37%) Dropped: 629202 (2.65%)\n",
      "TrimmomaticPE: Completed successfully\n",
      "\n",
      "real\t7m29.029s\n",
      "user\t17m15.291s\n",
      "sys\t4m58.740s\n",
      "TrimmomaticPE: Started with arguments:\n",
      " -phred33 -threads 4 -trimlog ../../02-OUTPUT/02-TRIM/trimmomatic-trim_log_03-T60_94-BV3-MOPS_glucose-tex_plus.txt ../../01-INPUT/02-FASTQ/renamed/03-T60_94-BV3-MOPS_glucose-tex_plus-R1.fq.gz ../../01-INPUT/02-FASTQ/renamed/03-T60_94-BV3-MOPS_glucose-tex_plus-R2.fq.gz ../../02-OUTPUT/02-TRIM/03-T60_94-BV3-MOPS_glucose-tex_plus-R1-trimmed.fq.gz ../../02-OUTPUT/02-TRIM/03-T60_94-BV3-MOPS_glucose-tex_plus-R1-untrimmed.fq.gz ../../02-OUTPUT/02-TRIM/03-T60_94-BV3-MOPS_glucose-tex_plus-R2-trimmed.fq.gz ../../02-OUTPUT/02-TRIM/03-T60_94-BV3-MOPS_glucose-tex_plus-R2-untrimmed.fq.gz ILLUMINACLIP:/home/lucas/anaconda3/pkgs/trimmomatic-0.38-1/share/trimmomatic-0.38-1/adapters/TruSeq3-PE.fa:2:20:10 LEADING:3 TRAILING:3 SLIDINGWINDOW:4:20 MINLEN:20\n",
      "Using PrefixPair: 'TACACTCTTTCCCTACACGACGCTCTTCCGATCT' and 'GTGACTGGAGTTCAGACGTGTGCTCTTCCGATCT'\n",
      "ILLUMINACLIP: Using 1 prefix pairs, 0 forward/reverse sequences, 0 forward only sequences, 0 reverse only sequences\n"
     ]
    },
    {
     "name": "stdout",
     "output_type": "stream",
     "text": [
      "03-T60_94-BV3-MOPS_glucose-tex_plus\n"
     ]
    },
    {
     "name": "stderr",
     "output_type": "stream",
     "text": [
      "Input Read Pairs: 52821501 Both Surviving: 32502231 (61.53%) Forward Only Surviving: 11137339 (21.08%) Reverse Only Surviving: 561359 (1.06%) Dropped: 8620572 (16.32%)\n",
      "TrimmomaticPE: Completed successfully\n",
      "\n",
      "real\t16m41.043s\n",
      "user\t37m53.518s\n",
      "sys\t11m11.548s\n",
      "TrimmomaticPE: Started with arguments:\n",
      " -phred33 -threads 4 -trimlog ../../02-OUTPUT/02-TRIM/trimmomatic-trim_log_05-C16_80-BV2-MOPS_succinate-tex_plus.txt ../../01-INPUT/02-FASTQ/renamed/05-C16_80-BV2-MOPS_succinate-tex_plus-R1.fq.gz ../../01-INPUT/02-FASTQ/renamed/05-C16_80-BV2-MOPS_succinate-tex_plus-R2.fq.gz ../../02-OUTPUT/02-TRIM/05-C16_80-BV2-MOPS_succinate-tex_plus-R1-trimmed.fq.gz ../../02-OUTPUT/02-TRIM/05-C16_80-BV2-MOPS_succinate-tex_plus-R1-untrimmed.fq.gz ../../02-OUTPUT/02-TRIM/05-C16_80-BV2-MOPS_succinate-tex_plus-R2-trimmed.fq.gz ../../02-OUTPUT/02-TRIM/05-C16_80-BV2-MOPS_succinate-tex_plus-R2-untrimmed.fq.gz ILLUMINACLIP:/home/lucas/anaconda3/pkgs/trimmomatic-0.38-1/share/trimmomatic-0.38-1/adapters/TruSeq3-PE.fa:2:20:10 LEADING:3 TRAILING:3 SLIDINGWINDOW:4:20 MINLEN:20\n",
      "Using PrefixPair: 'TACACTCTTTCCCTACACGACGCTCTTCCGATCT' and 'GTGACTGGAGTTCAGACGTGTGCTCTTCCGATCT'\n",
      "ILLUMINACLIP: Using 1 prefix pairs, 0 forward/reverse sequences, 0 forward only sequences, 0 reverse only sequences\n"
     ]
    },
    {
     "name": "stdout",
     "output_type": "stream",
     "text": [
      "05-C16_80-BV2-MOPS_succinate-tex_plus\n"
     ]
    },
    {
     "name": "stderr",
     "output_type": "stream",
     "text": [
      "Input Read Pairs: 32156317 Both Surviving: 24290589 (75.54%) Forward Only Surviving: 5525968 (17.18%) Reverse Only Surviving: 213598 (0.66%) Dropped: 2126162 (6.61%)\n",
      "TrimmomaticPE: Completed successfully\n",
      "\n",
      "real\t10m1.888s\n",
      "user\t22m49.759s\n",
      "sys\t6m43.053s\n",
      "TrimmomaticPE: Started with arguments:\n",
      " -phred33 -threads 4 -trimlog ../../02-OUTPUT/02-TRIM/trimmomatic-trim_log_29-C16_80-BV2-PITA_stationary-tex_minus.txt ../../01-INPUT/02-FASTQ/renamed/29-C16_80-BV2-PITA_stationary-tex_minus-R1.fq.gz ../../01-INPUT/02-FASTQ/renamed/29-C16_80-BV2-PITA_stationary-tex_minus-R2.fq.gz ../../02-OUTPUT/02-TRIM/29-C16_80-BV2-PITA_stationary-tex_minus-R1-trimmed.fq.gz ../../02-OUTPUT/02-TRIM/29-C16_80-BV2-PITA_stationary-tex_minus-R1-untrimmed.fq.gz ../../02-OUTPUT/02-TRIM/29-C16_80-BV2-PITA_stationary-tex_minus-R2-trimmed.fq.gz ../../02-OUTPUT/02-TRIM/29-C16_80-BV2-PITA_stationary-tex_minus-R2-untrimmed.fq.gz ILLUMINACLIP:/home/lucas/anaconda3/pkgs/trimmomatic-0.38-1/share/trimmomatic-0.38-1/adapters/TruSeq3-PE.fa:2:20:10 LEADING:3 TRAILING:3 SLIDINGWINDOW:4:20 MINLEN:20\n",
      "Using PrefixPair: 'TACACTCTTTCCCTACACGACGCTCTTCCGATCT' and 'GTGACTGGAGTTCAGACGTGTGCTCTTCCGATCT'\n",
      "ILLUMINACLIP: Using 1 prefix pairs, 0 forward/reverse sequences, 0 forward only sequences, 0 reverse only sequences\n"
     ]
    },
    {
     "name": "stdout",
     "output_type": "stream",
     "text": [
      "29-C16_80-BV2-PITA_stationary-tex_minus\n"
     ]
    },
    {
     "name": "stderr",
     "output_type": "stream",
     "text": [
      "Input Read Pairs: 35721154 Both Surviving: 18285821 (51.19%) Forward Only Surviving: 16457776 (46.07%) Reverse Only Surviving: 101133 (0.28%) Dropped: 876424 (2.45%)\n",
      "TrimmomaticPE: Completed successfully\n",
      "\n",
      "real\t11m21.577s\n",
      "user\t26m36.765s\n",
      "sys\t7m28.006s\n",
      "TrimmomaticPE: Started with arguments:\n",
      " -phred33 -threads 4 -trimlog ../../02-OUTPUT/02-TRIM/trimmomatic-trim_log_27-T60_94-BV3-PITA_induced-tex_minus.txt ../../01-INPUT/02-FASTQ/renamed/27-T60_94-BV3-PITA_induced-tex_minus-R1.fq.gz ../../01-INPUT/02-FASTQ/renamed/27-T60_94-BV3-PITA_induced-tex_minus-R2.fq.gz ../../02-OUTPUT/02-TRIM/27-T60_94-BV3-PITA_induced-tex_minus-R1-trimmed.fq.gz ../../02-OUTPUT/02-TRIM/27-T60_94-BV3-PITA_induced-tex_minus-R1-untrimmed.fq.gz ../../02-OUTPUT/02-TRIM/27-T60_94-BV3-PITA_induced-tex_minus-R2-trimmed.fq.gz ../../02-OUTPUT/02-TRIM/27-T60_94-BV3-PITA_induced-tex_minus-R2-untrimmed.fq.gz ILLUMINACLIP:/home/lucas/anaconda3/pkgs/trimmomatic-0.38-1/share/trimmomatic-0.38-1/adapters/TruSeq3-PE.fa:2:20:10 LEADING:3 TRAILING:3 SLIDINGWINDOW:4:20 MINLEN:20\n",
      "Using PrefixPair: 'TACACTCTTTCCCTACACGACGCTCTTCCGATCT' and 'GTGACTGGAGTTCAGACGTGTGCTCTTCCGATCT'\n",
      "ILLUMINACLIP: Using 1 prefix pairs, 0 forward/reverse sequences, 0 forward only sequences, 0 reverse only sequences\n"
     ]
    },
    {
     "name": "stdout",
     "output_type": "stream",
     "text": [
      "27-T60_94-BV3-PITA_induced-tex_minus\n"
     ]
    },
    {
     "name": "stderr",
     "output_type": "stream",
     "text": [
      "Input Read Pairs: 19994101 Both Surviving: 13703108 (68.54%) Forward Only Surviving: 4917759 (24.60%) Reverse Only Surviving: 71216 (0.36%) Dropped: 1302018 (6.51%)\n",
      "TrimmomaticPE: Completed successfully\n",
      "\n",
      "real\t6m6.075s\n",
      "user\t13m26.847s\n",
      "sys\t4m8.346s\n",
      "TrimmomaticPE: Started with arguments:\n",
      " -phred33 -threads 4 -trimlog ../../02-OUTPUT/02-TRIM/trimmomatic-trim_log_16-C58-BV1-MOPS_glucose-tex_minus.txt ../../01-INPUT/02-FASTQ/renamed/16-C58-BV1-MOPS_glucose-tex_minus-R1.fq.gz ../../01-INPUT/02-FASTQ/renamed/16-C58-BV1-MOPS_glucose-tex_minus-R2.fq.gz ../../02-OUTPUT/02-TRIM/16-C58-BV1-MOPS_glucose-tex_minus-R1-trimmed.fq.gz ../../02-OUTPUT/02-TRIM/16-C58-BV1-MOPS_glucose-tex_minus-R1-untrimmed.fq.gz ../../02-OUTPUT/02-TRIM/16-C58-BV1-MOPS_glucose-tex_minus-R2-trimmed.fq.gz ../../02-OUTPUT/02-TRIM/16-C58-BV1-MOPS_glucose-tex_minus-R2-untrimmed.fq.gz ILLUMINACLIP:/home/lucas/anaconda3/pkgs/trimmomatic-0.38-1/share/trimmomatic-0.38-1/adapters/TruSeq3-PE.fa:2:20:10 LEADING:3 TRAILING:3 SLIDINGWINDOW:4:20 MINLEN:20\n",
      "Using PrefixPair: 'TACACTCTTTCCCTACACGACGCTCTTCCGATCT' and 'GTGACTGGAGTTCAGACGTGTGCTCTTCCGATCT'\n",
      "ILLUMINACLIP: Using 1 prefix pairs, 0 forward/reverse sequences, 0 forward only sequences, 0 reverse only sequences\n"
     ]
    },
    {
     "name": "stdout",
     "output_type": "stream",
     "text": [
      "16-C58-BV1-MOPS_glucose-tex_minus\n"
     ]
    },
    {
     "name": "stderr",
     "output_type": "stream",
     "text": [
      "Input Read Pairs: 34845936 Both Surviving: 20857699 (59.86%) Forward Only Surviving: 12566423 (36.06%) Reverse Only Surviving: 135599 (0.39%) Dropped: 1286215 (3.69%)\n",
      "TrimmomaticPE: Completed successfully\n",
      "\n",
      "real\t10m58.229s\n",
      "user\t25m48.836s\n",
      "sys\t7m17.153s\n",
      "TrimmomaticPE: Started with arguments:\n",
      " -phred33 -threads 4 -trimlog ../../02-OUTPUT/02-TRIM/trimmomatic-trim_log_21-T60_94-BV3-MOPS_succinate-tex_minus.txt ../../01-INPUT/02-FASTQ/renamed/21-T60_94-BV3-MOPS_succinate-tex_minus-R1.fq.gz ../../01-INPUT/02-FASTQ/renamed/21-T60_94-BV3-MOPS_succinate-tex_minus-R2.fq.gz ../../02-OUTPUT/02-TRIM/21-T60_94-BV3-MOPS_succinate-tex_minus-R1-trimmed.fq.gz ../../02-OUTPUT/02-TRIM/21-T60_94-BV3-MOPS_succinate-tex_minus-R1-untrimmed.fq.gz ../../02-OUTPUT/02-TRIM/21-T60_94-BV3-MOPS_succinate-tex_minus-R2-trimmed.fq.gz ../../02-OUTPUT/02-TRIM/21-T60_94-BV3-MOPS_succinate-tex_minus-R2-untrimmed.fq.gz ILLUMINACLIP:/home/lucas/anaconda3/pkgs/trimmomatic-0.38-1/share/trimmomatic-0.38-1/adapters/TruSeq3-PE.fa:2:20:10 LEADING:3 TRAILING:3 SLIDINGWINDOW:4:20 MINLEN:20\n",
      "Using PrefixPair: 'TACACTCTTTCCCTACACGACGCTCTTCCGATCT' and 'GTGACTGGAGTTCAGACGTGTGCTCTTCCGATCT'\n",
      "ILLUMINACLIP: Using 1 prefix pairs, 0 forward/reverse sequences, 0 forward only sequences, 0 reverse only sequences\n"
     ]
    },
    {
     "name": "stdout",
     "output_type": "stream",
     "text": [
      "21-T60_94-BV3-MOPS_succinate-tex_minus\n"
     ]
    },
    {
     "name": "stderr",
     "output_type": "stream",
     "text": [
      "Input Read Pairs: 18289355 Both Surviving: 14016452 (76.64%) Forward Only Surviving: 3387231 (18.52%) Reverse Only Surviving: 80286 (0.44%) Dropped: 805386 (4.40%)\n",
      "TrimmomaticPE: Completed successfully\n",
      "\n",
      "real\t5m39.201s\n",
      "user\t11m46.750s\n",
      "sys\t3m49.106s\n",
      "TrimmomaticPE: Started with arguments:\n",
      " -phred33 -threads 4 -trimlog ../../02-OUTPUT/02-TRIM/trimmomatic-trim_log_20-C16_80-BV2-MOPS_succinate-tex_minus.txt ../../01-INPUT/02-FASTQ/renamed/20-C16_80-BV2-MOPS_succinate-tex_minus-R1.fq.gz ../../01-INPUT/02-FASTQ/renamed/20-C16_80-BV2-MOPS_succinate-tex_minus-R2.fq.gz ../../02-OUTPUT/02-TRIM/20-C16_80-BV2-MOPS_succinate-tex_minus-R1-trimmed.fq.gz ../../02-OUTPUT/02-TRIM/20-C16_80-BV2-MOPS_succinate-tex_minus-R1-untrimmed.fq.gz ../../02-OUTPUT/02-TRIM/20-C16_80-BV2-MOPS_succinate-tex_minus-R2-trimmed.fq.gz ../../02-OUTPUT/02-TRIM/20-C16_80-BV2-MOPS_succinate-tex_minus-R2-untrimmed.fq.gz ILLUMINACLIP:/home/lucas/anaconda3/pkgs/trimmomatic-0.38-1/share/trimmomatic-0.38-1/adapters/TruSeq3-PE.fa:2:20:10 LEADING:3 TRAILING:3 SLIDINGWINDOW:4:20 MINLEN:20\n",
      "Using PrefixPair: 'TACACTCTTTCCCTACACGACGCTCTTCCGATCT' and 'GTGACTGGAGTTCAGACGTGTGCTCTTCCGATCT'\n",
      "ILLUMINACLIP: Using 1 prefix pairs, 0 forward/reverse sequences, 0 forward only sequences, 0 reverse only sequences\n"
     ]
    },
    {
     "name": "stdout",
     "output_type": "stream",
     "text": [
      "20-C16_80-BV2-MOPS_succinate-tex_minus\n"
     ]
    },
    {
     "name": "stderr",
     "output_type": "stream",
     "text": [
      "Input Read Pairs: 16169792 Both Surviving: 8451784 (52.27%) Forward Only Surviving: 7067275 (43.71%) Reverse Only Surviving: 51035 (0.32%) Dropped: 599698 (3.71%)\n",
      "TrimmomaticPE: Completed successfully\n",
      "\n",
      "real\t4m59.894s\n",
      "user\t10m50.693s\n",
      "sys\t3m24.389s\n",
      "TrimmomaticPE: Started with arguments:\n",
      " -phred33 -threads 4 -trimlog ../../02-OUTPUT/02-TRIM/trimmomatic-trim_log_06-T60_94-BV3-MOPS_succinate-tex_plus.txt ../../01-INPUT/02-FASTQ/renamed/06-T60_94-BV3-MOPS_succinate-tex_plus-R1.fq.gz ../../01-INPUT/02-FASTQ/renamed/06-T60_94-BV3-MOPS_succinate-tex_plus-R2.fq.gz ../../02-OUTPUT/02-TRIM/06-T60_94-BV3-MOPS_succinate-tex_plus-R1-trimmed.fq.gz ../../02-OUTPUT/02-TRIM/06-T60_94-BV3-MOPS_succinate-tex_plus-R1-untrimmed.fq.gz ../../02-OUTPUT/02-TRIM/06-T60_94-BV3-MOPS_succinate-tex_plus-R2-trimmed.fq.gz ../../02-OUTPUT/02-TRIM/06-T60_94-BV3-MOPS_succinate-tex_plus-R2-untrimmed.fq.gz ILLUMINACLIP:/home/lucas/anaconda3/pkgs/trimmomatic-0.38-1/share/trimmomatic-0.38-1/adapters/TruSeq3-PE.fa:2:20:10 LEADING:3 TRAILING:3 SLIDINGWINDOW:4:20 MINLEN:20\n",
      "Using PrefixPair: 'TACACTCTTTCCCTACACGACGCTCTTCCGATCT' and 'GTGACTGGAGTTCAGACGTGTGCTCTTCCGATCT'\n",
      "ILLUMINACLIP: Using 1 prefix pairs, 0 forward/reverse sequences, 0 forward only sequences, 0 reverse only sequences\n"
     ]
    },
    {
     "name": "stdout",
     "output_type": "stream",
     "text": [
      "06-T60_94-BV3-MOPS_succinate-tex_plus\n"
     ]
    },
    {
     "name": "stderr",
     "output_type": "stream",
     "text": [
      "Input Read Pairs: 37942238 Both Surviving: 27511022 (72.51%) Forward Only Surviving: 6085357 (16.04%) Reverse Only Surviving: 303277 (0.80%) Dropped: 4042582 (10.65%)\n",
      "TrimmomaticPE: Completed successfully\n",
      "\n",
      "real\t11m42.025s\n",
      "user\t25m14.271s\n",
      "sys\t7m56.922s\n",
      "TrimmomaticPE: Started with arguments:\n",
      " -phred33 -threads 4 -trimlog ../../02-OUTPUT/02-TRIM/trimmomatic-trim_log_07-C58-BV1-PITA_log-tex_plus.txt ../../01-INPUT/02-FASTQ/renamed/07-C58-BV1-PITA_log-tex_plus-R1.fq.gz ../../01-INPUT/02-FASTQ/renamed/07-C58-BV1-PITA_log-tex_plus-R2.fq.gz ../../02-OUTPUT/02-TRIM/07-C58-BV1-PITA_log-tex_plus-R1-trimmed.fq.gz ../../02-OUTPUT/02-TRIM/07-C58-BV1-PITA_log-tex_plus-R1-untrimmed.fq.gz ../../02-OUTPUT/02-TRIM/07-C58-BV1-PITA_log-tex_plus-R2-trimmed.fq.gz ../../02-OUTPUT/02-TRIM/07-C58-BV1-PITA_log-tex_plus-R2-untrimmed.fq.gz ILLUMINACLIP:/home/lucas/anaconda3/pkgs/trimmomatic-0.38-1/share/trimmomatic-0.38-1/adapters/TruSeq3-PE.fa:2:20:10 LEADING:3 TRAILING:3 SLIDINGWINDOW:4:20 MINLEN:20\n",
      "Using PrefixPair: 'TACACTCTTTCCCTACACGACGCTCTTCCGATCT' and 'GTGACTGGAGTTCAGACGTGTGCTCTTCCGATCT'\n",
      "ILLUMINACLIP: Using 1 prefix pairs, 0 forward/reverse sequences, 0 forward only sequences, 0 reverse only sequences\n"
     ]
    },
    {
     "name": "stdout",
     "output_type": "stream",
     "text": [
      "07-C58-BV1-PITA_log-tex_plus\n"
     ]
    },
    {
     "name": "stderr",
     "output_type": "stream",
     "text": [
      "Input Read Pairs: 6517291 Both Surviving: 6015240 (92.30%) Forward Only Surviving: 366967 (5.63%) Reverse Only Surviving: 48003 (0.74%) Dropped: 87081 (1.34%)\n",
      "TrimmomaticPE: Completed successfully\n",
      "\n",
      "real\t1m58.081s\n",
      "user\t4m13.978s\n",
      "sys\t1m20.371s\n",
      "TrimmomaticPE: Started with arguments:\n",
      " -phred33 -threads 4 -trimlog ../../02-OUTPUT/02-TRIM/trimmomatic-trim_log_18-T60_94-BV3-MOPS_glucose-tex_minus.txt ../../01-INPUT/02-FASTQ/renamed/18-T60_94-BV3-MOPS_glucose-tex_minus-R1.fq.gz ../../01-INPUT/02-FASTQ/renamed/18-T60_94-BV3-MOPS_glucose-tex_minus-R2.fq.gz ../../02-OUTPUT/02-TRIM/18-T60_94-BV3-MOPS_glucose-tex_minus-R1-trimmed.fq.gz ../../02-OUTPUT/02-TRIM/18-T60_94-BV3-MOPS_glucose-tex_minus-R1-untrimmed.fq.gz ../../02-OUTPUT/02-TRIM/18-T60_94-BV3-MOPS_glucose-tex_minus-R2-trimmed.fq.gz ../../02-OUTPUT/02-TRIM/18-T60_94-BV3-MOPS_glucose-tex_minus-R2-untrimmed.fq.gz ILLUMINACLIP:/home/lucas/anaconda3/pkgs/trimmomatic-0.38-1/share/trimmomatic-0.38-1/adapters/TruSeq3-PE.fa:2:20:10 LEADING:3 TRAILING:3 SLIDINGWINDOW:4:20 MINLEN:20\n",
      "Using PrefixPair: 'TACACTCTTTCCCTACACGACGCTCTTCCGATCT' and 'GTGACTGGAGTTCAGACGTGTGCTCTTCCGATCT'\n",
      "ILLUMINACLIP: Using 1 prefix pairs, 0 forward/reverse sequences, 0 forward only sequences, 0 reverse only sequences\n"
     ]
    },
    {
     "name": "stdout",
     "output_type": "stream",
     "text": [
      "18-T60_94-BV3-MOPS_glucose-tex_minus\n"
     ]
    },
    {
     "name": "stderr",
     "output_type": "stream",
     "text": [
      "Input Read Pairs: 11188919 Both Surviving: 10418344 (93.11%) Forward Only Surviving: 637020 (5.69%) Reverse Only Surviving: 57897 (0.52%) Dropped: 75658 (0.68%)\n",
      "TrimmomaticPE: Completed successfully\n",
      "\n",
      "real\t3m23.550s\n",
      "user\t7m9.866s\n",
      "sys\t2m19.548s\n",
      "TrimmomaticPE: Started with arguments:\n",
      " -phred33 -threads 4 -trimlog ../../02-OUTPUT/02-TRIM/trimmomatic-trim_log_01-C58-BV1-MOPS_glucose-tex_plus.txt ../../01-INPUT/02-FASTQ/renamed/01-C58-BV1-MOPS_glucose-tex_plus-R1.fq.gz ../../01-INPUT/02-FASTQ/renamed/01-C58-BV1-MOPS_glucose-tex_plus-R2.fq.gz ../../02-OUTPUT/02-TRIM/01-C58-BV1-MOPS_glucose-tex_plus-R1-trimmed.fq.gz ../../02-OUTPUT/02-TRIM/01-C58-BV1-MOPS_glucose-tex_plus-R1-untrimmed.fq.gz ../../02-OUTPUT/02-TRIM/01-C58-BV1-MOPS_glucose-tex_plus-R2-trimmed.fq.gz ../../02-OUTPUT/02-TRIM/01-C58-BV1-MOPS_glucose-tex_plus-R2-untrimmed.fq.gz ILLUMINACLIP:/home/lucas/anaconda3/pkgs/trimmomatic-0.38-1/share/trimmomatic-0.38-1/adapters/TruSeq3-PE.fa:2:20:10 LEADING:3 TRAILING:3 SLIDINGWINDOW:4:20 MINLEN:20\n",
      "Using PrefixPair: 'TACACTCTTTCCCTACACGACGCTCTTCCGATCT' and 'GTGACTGGAGTTCAGACGTGTGCTCTTCCGATCT'\n",
      "ILLUMINACLIP: Using 1 prefix pairs, 0 forward/reverse sequences, 0 forward only sequences, 0 reverse only sequences\n"
     ]
    },
    {
     "name": "stdout",
     "output_type": "stream",
     "text": [
      "01-C58-BV1-MOPS_glucose-tex_plus\n"
     ]
    },
    {
     "name": "stderr",
     "output_type": "stream",
     "text": [
      "Input Read Pairs: 18823336 Both Surviving: 10931482 (58.07%) Forward Only Surviving: 5774816 (30.68%) Reverse Only Surviving: 99829 (0.53%) Dropped: 2017209 (10.72%)\n",
      "TrimmomaticPE: Completed successfully\n",
      "\n",
      "real\t5m48.187s\n",
      "user\t13m3.163s\n",
      "sys\t3m55.513s\n",
      "TrimmomaticPE: Started with arguments:\n",
      " -phred33 -threads 4 -trimlog ../../02-OUTPUT/02-TRIM/trimmomatic-trim_log_06-T60_94-BV3-MOPS_succinate-tex_plus.txt ../../01-INPUT/02-FASTQ/renamed/06-T60_94-BV3-MOPS_succinate-tex_plus-R1.fq.gz ../../01-INPUT/02-FASTQ/renamed/06-T60_94-BV3-MOPS_succinate-tex_plus-R2.fq.gz ../../02-OUTPUT/02-TRIM/06-T60_94-BV3-MOPS_succinate-tex_plus-R1-trimmed.fq.gz ../../02-OUTPUT/02-TRIM/06-T60_94-BV3-MOPS_succinate-tex_plus-R1-untrimmed.fq.gz ../../02-OUTPUT/02-TRIM/06-T60_94-BV3-MOPS_succinate-tex_plus-R2-trimmed.fq.gz ../../02-OUTPUT/02-TRIM/06-T60_94-BV3-MOPS_succinate-tex_plus-R2-untrimmed.fq.gz ILLUMINACLIP:/home/lucas/anaconda3/pkgs/trimmomatic-0.38-1/share/trimmomatic-0.38-1/adapters/TruSeq3-PE.fa:2:20:10 LEADING:3 TRAILING:3 SLIDINGWINDOW:4:20 MINLEN:20\n",
      "Using PrefixPair: 'TACACTCTTTCCCTACACGACGCTCTTCCGATCT' and 'GTGACTGGAGTTCAGACGTGTGCTCTTCCGATCT'\n",
      "ILLUMINACLIP: Using 1 prefix pairs, 0 forward/reverse sequences, 0 forward only sequences, 0 reverse only sequences\n"
     ]
    },
    {
     "name": "stdout",
     "output_type": "stream",
     "text": [
      "06-T60_94-BV3-MOPS_succinate-tex_plus\n"
     ]
    },
    {
     "name": "stderr",
     "output_type": "stream",
     "text": [
      "Input Read Pairs: 37942238 Both Surviving: 27511022 (72.51%) Forward Only Surviving: 6085357 (16.04%) Reverse Only Surviving: 303277 (0.80%) Dropped: 4042582 (10.65%)\n",
      "TrimmomaticPE: Completed successfully\n",
      "\n",
      "real\t11m48.942s\n",
      "user\t25m59.624s\n",
      "sys\t7m56.415s\n",
      "TrimmomaticPE: Started with arguments:\n",
      " -phred33 -threads 4 -trimlog ../../02-OUTPUT/02-TRIM/trimmomatic-trim_log_01-C58-BV1-MOPS_glucose-tex_plus.txt ../../01-INPUT/02-FASTQ/renamed/01-C58-BV1-MOPS_glucose-tex_plus-R1.fq.gz ../../01-INPUT/02-FASTQ/renamed/01-C58-BV1-MOPS_glucose-tex_plus-R2.fq.gz ../../02-OUTPUT/02-TRIM/01-C58-BV1-MOPS_glucose-tex_plus-R1-trimmed.fq.gz ../../02-OUTPUT/02-TRIM/01-C58-BV1-MOPS_glucose-tex_plus-R1-untrimmed.fq.gz ../../02-OUTPUT/02-TRIM/01-C58-BV1-MOPS_glucose-tex_plus-R2-trimmed.fq.gz ../../02-OUTPUT/02-TRIM/01-C58-BV1-MOPS_glucose-tex_plus-R2-untrimmed.fq.gz ILLUMINACLIP:/home/lucas/anaconda3/pkgs/trimmomatic-0.38-1/share/trimmomatic-0.38-1/adapters/TruSeq3-PE.fa:2:20:10 LEADING:3 TRAILING:3 SLIDINGWINDOW:4:20 MINLEN:20\n",
      "Using PrefixPair: 'TACACTCTTTCCCTACACGACGCTCTTCCGATCT' and 'GTGACTGGAGTTCAGACGTGTGCTCTTCCGATCT'\n",
      "ILLUMINACLIP: Using 1 prefix pairs, 0 forward/reverse sequences, 0 forward only sequences, 0 reverse only sequences\n"
     ]
    },
    {
     "name": "stdout",
     "output_type": "stream",
     "text": [
      "01-C58-BV1-MOPS_glucose-tex_plus\n"
     ]
    },
    {
     "name": "stderr",
     "output_type": "stream",
     "text": [
      "Input Read Pairs: 18823336 Both Surviving: 10931482 (58.07%) Forward Only Surviving: 5774816 (30.68%) Reverse Only Surviving: 99829 (0.53%) Dropped: 2017209 (10.72%)\n",
      "TrimmomaticPE: Completed successfully\n",
      "\n",
      "real\t5m54.837s\n",
      "user\t14m20.513s\n",
      "sys\t3m58.083s\n",
      "TrimmomaticPE: Started with arguments:\n",
      " -phred33 -threads 4 -trimlog ../../02-OUTPUT/02-TRIM/trimmomatic-trim_log_11-C16_80-BV2-PITA_induced-tex_plus.txt ../../01-INPUT/02-FASTQ/renamed/11-C16_80-BV2-PITA_induced-tex_plus-R1.fq.gz ../../01-INPUT/02-FASTQ/renamed/11-C16_80-BV2-PITA_induced-tex_plus-R2.fq.gz ../../02-OUTPUT/02-TRIM/11-C16_80-BV2-PITA_induced-tex_plus-R1-trimmed.fq.gz ../../02-OUTPUT/02-TRIM/11-C16_80-BV2-PITA_induced-tex_plus-R1-untrimmed.fq.gz ../../02-OUTPUT/02-TRIM/11-C16_80-BV2-PITA_induced-tex_plus-R2-trimmed.fq.gz ../../02-OUTPUT/02-TRIM/11-C16_80-BV2-PITA_induced-tex_plus-R2-untrimmed.fq.gz ILLUMINACLIP:/home/lucas/anaconda3/pkgs/trimmomatic-0.38-1/share/trimmomatic-0.38-1/adapters/TruSeq3-PE.fa:2:20:10 LEADING:3 TRAILING:3 SLIDINGWINDOW:4:20 MINLEN:20\n",
      "Using PrefixPair: 'TACACTCTTTCCCTACACGACGCTCTTCCGATCT' and 'GTGACTGGAGTTCAGACGTGTGCTCTTCCGATCT'\n",
      "ILLUMINACLIP: Using 1 prefix pairs, 0 forward/reverse sequences, 0 forward only sequences, 0 reverse only sequences\n"
     ]
    },
    {
     "name": "stdout",
     "output_type": "stream",
     "text": [
      "11-C16_80-BV2-PITA_induced-tex_plus\n"
     ]
    },
    {
     "name": "stderr",
     "output_type": "stream",
     "text": [
      "Input Read Pairs: 9762006 Both Surviving: 8176644 (83.76%) Forward Only Surviving: 1238382 (12.69%) Reverse Only Surviving: 60921 (0.62%) Dropped: 286059 (2.93%)\n",
      "TrimmomaticPE: Completed successfully\n",
      "\n",
      "real\t3m1.114s\n",
      "user\t6m46.624s\n",
      "sys\t2m3.207s\n",
      "TrimmomaticPE: Started with arguments:\n",
      " -phred33 -threads 4 -trimlog ../../02-OUTPUT/02-TRIM/trimmomatic-trim_log_14-C16_80-BV2-PITA_stationary-tex_plus.txt ../../01-INPUT/02-FASTQ/renamed/14-C16_80-BV2-PITA_stationary-tex_plus-R1.fq.gz ../../01-INPUT/02-FASTQ/renamed/14-C16_80-BV2-PITA_stationary-tex_plus-R2.fq.gz ../../02-OUTPUT/02-TRIM/14-C16_80-BV2-PITA_stationary-tex_plus-R1-trimmed.fq.gz ../../02-OUTPUT/02-TRIM/14-C16_80-BV2-PITA_stationary-tex_plus-R1-untrimmed.fq.gz ../../02-OUTPUT/02-TRIM/14-C16_80-BV2-PITA_stationary-tex_plus-R2-trimmed.fq.gz ../../02-OUTPUT/02-TRIM/14-C16_80-BV2-PITA_stationary-tex_plus-R2-untrimmed.fq.gz ILLUMINACLIP:/home/lucas/anaconda3/pkgs/trimmomatic-0.38-1/share/trimmomatic-0.38-1/adapters/TruSeq3-PE.fa:2:20:10 LEADING:3 TRAILING:3 SLIDINGWINDOW:4:20 MINLEN:20\n",
      "Using PrefixPair: 'TACACTCTTTCCCTACACGACGCTCTTCCGATCT' and 'GTGACTGGAGTTCAGACGTGTGCTCTTCCGATCT'\n",
      "ILLUMINACLIP: Using 1 prefix pairs, 0 forward/reverse sequences, 0 forward only sequences, 0 reverse only sequences\n"
     ]
    },
    {
     "name": "stdout",
     "output_type": "stream",
     "text": [
      "14-C16_80-BV2-PITA_stationary-tex_plus\n"
     ]
    },
    {
     "name": "stderr",
     "output_type": "stream",
     "text": [
      "Input Read Pairs: 10418171 Both Surviving: 9371844 (89.96%) Forward Only Surviving: 825674 (7.93%) Reverse Only Surviving: 65720 (0.63%) Dropped: 154933 (1.49%)\n",
      "TrimmomaticPE: Completed successfully\n",
      "\n",
      "real\t3m12.853s\n",
      "user\t7m2.984s\n",
      "sys\t2m11.195s\n",
      "TrimmomaticPE: Started with arguments:\n",
      " -phred33 -threads 4 -trimlog ../../02-OUTPUT/02-TRIM/trimmomatic-trim_log_28-C58-BV1-PITA_stationary-tex_minus.txt ../../01-INPUT/02-FASTQ/renamed/28-C58-BV1-PITA_stationary-tex_minus-R1.fq.gz ../../01-INPUT/02-FASTQ/renamed/28-C58-BV1-PITA_stationary-tex_minus-R2.fq.gz ../../02-OUTPUT/02-TRIM/28-C58-BV1-PITA_stationary-tex_minus-R1-trimmed.fq.gz ../../02-OUTPUT/02-TRIM/28-C58-BV1-PITA_stationary-tex_minus-R1-untrimmed.fq.gz ../../02-OUTPUT/02-TRIM/28-C58-BV1-PITA_stationary-tex_minus-R2-trimmed.fq.gz ../../02-OUTPUT/02-TRIM/28-C58-BV1-PITA_stationary-tex_minus-R2-untrimmed.fq.gz ILLUMINACLIP:/home/lucas/anaconda3/pkgs/trimmomatic-0.38-1/share/trimmomatic-0.38-1/adapters/TruSeq3-PE.fa:2:20:10 LEADING:3 TRAILING:3 SLIDINGWINDOW:4:20 MINLEN:20\n",
      "Using PrefixPair: 'TACACTCTTTCCCTACACGACGCTCTTCCGATCT' and 'GTGACTGGAGTTCAGACGTGTGCTCTTCCGATCT'\n",
      "ILLUMINACLIP: Using 1 prefix pairs, 0 forward/reverse sequences, 0 forward only sequences, 0 reverse only sequences\n"
     ]
    },
    {
     "name": "stdout",
     "output_type": "stream",
     "text": [
      "28-C58-BV1-PITA_stationary-tex_minus\n"
     ]
    },
    {
     "name": "stderr",
     "output_type": "stream",
     "text": [
      "Input Read Pairs: 35728399 Both Surviving: 19947708 (55.83%) Forward Only Surviving: 14640693 (40.98%) Reverse Only Surviving: 109625 (0.31%) Dropped: 1030373 (2.88%)\n",
      "TrimmomaticPE: Completed successfully\n",
      "\n",
      "real\t11m10.887s\n",
      "user\t24m35.761s\n",
      "sys\t7m30.217s\n",
      "TrimmomaticPE: Started with arguments:\n",
      " -phred33 -threads 4 -trimlog ../../02-OUTPUT/02-TRIM/trimmomatic-trim_log_05-C16_80-BV2-MOPS_succinate-tex_plus.txt ../../01-INPUT/02-FASTQ/renamed/05-C16_80-BV2-MOPS_succinate-tex_plus-R1.fq.gz ../../01-INPUT/02-FASTQ/renamed/05-C16_80-BV2-MOPS_succinate-tex_plus-R2.fq.gz ../../02-OUTPUT/02-TRIM/05-C16_80-BV2-MOPS_succinate-tex_plus-R1-trimmed.fq.gz ../../02-OUTPUT/02-TRIM/05-C16_80-BV2-MOPS_succinate-tex_plus-R1-untrimmed.fq.gz ../../02-OUTPUT/02-TRIM/05-C16_80-BV2-MOPS_succinate-tex_plus-R2-trimmed.fq.gz ../../02-OUTPUT/02-TRIM/05-C16_80-BV2-MOPS_succinate-tex_plus-R2-untrimmed.fq.gz ILLUMINACLIP:/home/lucas/anaconda3/pkgs/trimmomatic-0.38-1/share/trimmomatic-0.38-1/adapters/TruSeq3-PE.fa:2:20:10 LEADING:3 TRAILING:3 SLIDINGWINDOW:4:20 MINLEN:20\n",
      "Using PrefixPair: 'TACACTCTTTCCCTACACGACGCTCTTCCGATCT' and 'GTGACTGGAGTTCAGACGTGTGCTCTTCCGATCT'\n",
      "ILLUMINACLIP: Using 1 prefix pairs, 0 forward/reverse sequences, 0 forward only sequences, 0 reverse only sequences\n"
     ]
    },
    {
     "name": "stdout",
     "output_type": "stream",
     "text": [
      "05-C16_80-BV2-MOPS_succinate-tex_plus\n"
     ]
    },
    {
     "name": "stderr",
     "output_type": "stream",
     "text": [
      "Input Read Pairs: 32156317 Both Surviving: 24290589 (75.54%) Forward Only Surviving: 5525968 (17.18%) Reverse Only Surviving: 213598 (0.66%) Dropped: 2126162 (6.61%)\n",
      "TrimmomaticPE: Completed successfully\n",
      "\n",
      "real\t10m4.257s\n",
      "user\t23m1.704s\n",
      "sys\t6m45.131s\n",
      "TrimmomaticPE: Started with arguments:\n",
      " -phred33 -threads 4 -trimlog ../../02-OUTPUT/02-TRIM/trimmomatic-trim_log_02-C16_80-BV2-MOPS_glucose-tex_plus.txt ../../01-INPUT/02-FASTQ/renamed/02-C16_80-BV2-MOPS_glucose-tex_plus-R1.fq.gz ../../01-INPUT/02-FASTQ/renamed/02-C16_80-BV2-MOPS_glucose-tex_plus-R2.fq.gz ../../02-OUTPUT/02-TRIM/02-C16_80-BV2-MOPS_glucose-tex_plus-R1-trimmed.fq.gz ../../02-OUTPUT/02-TRIM/02-C16_80-BV2-MOPS_glucose-tex_plus-R1-untrimmed.fq.gz ../../02-OUTPUT/02-TRIM/02-C16_80-BV2-MOPS_glucose-tex_plus-R2-trimmed.fq.gz ../../02-OUTPUT/02-TRIM/02-C16_80-BV2-MOPS_glucose-tex_plus-R2-untrimmed.fq.gz ILLUMINACLIP:/home/lucas/anaconda3/pkgs/trimmomatic-0.38-1/share/trimmomatic-0.38-1/adapters/TruSeq3-PE.fa:2:20:10 LEADING:3 TRAILING:3 SLIDINGWINDOW:4:20 MINLEN:20\n",
      "Using PrefixPair: 'TACACTCTTTCCCTACACGACGCTCTTCCGATCT' and 'GTGACTGGAGTTCAGACGTGTGCTCTTCCGATCT'\n",
      "ILLUMINACLIP: Using 1 prefix pairs, 0 forward/reverse sequences, 0 forward only sequences, 0 reverse only sequences\n"
     ]
    },
    {
     "name": "stdout",
     "output_type": "stream",
     "text": [
      "02-C16_80-BV2-MOPS_glucose-tex_plus\n"
     ]
    },
    {
     "name": "stderr",
     "output_type": "stream",
     "text": [
      "Input Read Pairs: 25438393 Both Surviving: 17083318 (67.16%) Forward Only Surviving: 6247478 (24.56%) Reverse Only Surviving: 142578 (0.56%) Dropped: 1965019 (7.72%)\n",
      "TrimmomaticPE: Completed successfully\n",
      "\n",
      "real\t7m47.713s\n",
      "user\t17m29.074s\n",
      "sys\t5m19.984s\n",
      "TrimmomaticPE: Started with arguments:\n",
      " -phred33 -threads 4 -trimlog ../../02-OUTPUT/02-TRIM/trimmomatic-trim_log_04-C58-BV1-MOPS_succinate-tex_plus.txt ../../01-INPUT/02-FASTQ/renamed/04-C58-BV1-MOPS_succinate-tex_plus-R1.fq.gz ../../01-INPUT/02-FASTQ/renamed/04-C58-BV1-MOPS_succinate-tex_plus-R2.fq.gz ../../02-OUTPUT/02-TRIM/04-C58-BV1-MOPS_succinate-tex_plus-R1-trimmed.fq.gz ../../02-OUTPUT/02-TRIM/04-C58-BV1-MOPS_succinate-tex_plus-R1-untrimmed.fq.gz ../../02-OUTPUT/02-TRIM/04-C58-BV1-MOPS_succinate-tex_plus-R2-trimmed.fq.gz ../../02-OUTPUT/02-TRIM/04-C58-BV1-MOPS_succinate-tex_plus-R2-untrimmed.fq.gz ILLUMINACLIP:/home/lucas/anaconda3/pkgs/trimmomatic-0.38-1/share/trimmomatic-0.38-1/adapters/TruSeq3-PE.fa:2:20:10 LEADING:3 TRAILING:3 SLIDINGWINDOW:4:20 MINLEN:20\n",
      "Using PrefixPair: 'TACACTCTTTCCCTACACGACGCTCTTCCGATCT' and 'GTGACTGGAGTTCAGACGTGTGCTCTTCCGATCT'\n",
      "ILLUMINACLIP: Using 1 prefix pairs, 0 forward/reverse sequences, 0 forward only sequences, 0 reverse only sequences\n"
     ]
    },
    {
     "name": "stdout",
     "output_type": "stream",
     "text": [
      "04-C58-BV1-MOPS_succinate-tex_plus\n"
     ]
    },
    {
     "name": "stderr",
     "output_type": "stream",
     "text": [
      "Input Read Pairs: 42331828 Both Surviving: 32054676 (75.72%) Forward Only Surviving: 6604677 (15.60%) Reverse Only Surviving: 355941 (0.84%) Dropped: 3316534 (7.83%)\n",
      "TrimmomaticPE: Completed successfully\n",
      "\n",
      "real\t13m22.043s\n",
      "user\t31m49.733s\n",
      "sys\t8m57.335s\n",
      "TrimmomaticPE: Started with arguments:\n",
      " -phred33 -threads 4 -trimlog ../../02-OUTPUT/02-TRIM/trimmomatic-trim_log_18-T60_94-BV3-MOPS_glucose-tex_minus.txt ../../01-INPUT/02-FASTQ/renamed/18-T60_94-BV3-MOPS_glucose-tex_minus-R1.fq.gz ../../01-INPUT/02-FASTQ/renamed/18-T60_94-BV3-MOPS_glucose-tex_minus-R2.fq.gz ../../02-OUTPUT/02-TRIM/18-T60_94-BV3-MOPS_glucose-tex_minus-R1-trimmed.fq.gz ../../02-OUTPUT/02-TRIM/18-T60_94-BV3-MOPS_glucose-tex_minus-R1-untrimmed.fq.gz ../../02-OUTPUT/02-TRIM/18-T60_94-BV3-MOPS_glucose-tex_minus-R2-trimmed.fq.gz ../../02-OUTPUT/02-TRIM/18-T60_94-BV3-MOPS_glucose-tex_minus-R2-untrimmed.fq.gz ILLUMINACLIP:/home/lucas/anaconda3/pkgs/trimmomatic-0.38-1/share/trimmomatic-0.38-1/adapters/TruSeq3-PE.fa:2:20:10 LEADING:3 TRAILING:3 SLIDINGWINDOW:4:20 MINLEN:20\n",
      "Using PrefixPair: 'TACACTCTTTCCCTACACGACGCTCTTCCGATCT' and 'GTGACTGGAGTTCAGACGTGTGCTCTTCCGATCT'\n",
      "ILLUMINACLIP: Using 1 prefix pairs, 0 forward/reverse sequences, 0 forward only sequences, 0 reverse only sequences\n"
     ]
    },
    {
     "name": "stdout",
     "output_type": "stream",
     "text": [
      "18-T60_94-BV3-MOPS_glucose-tex_minus\n"
     ]
    },
    {
     "name": "stderr",
     "output_type": "stream",
     "text": [
      "Input Read Pairs: 11188919 Both Surviving: 10418344 (93.11%) Forward Only Surviving: 637020 (5.69%) Reverse Only Surviving: 57897 (0.52%) Dropped: 75658 (0.68%)\n",
      "TrimmomaticPE: Completed successfully\n",
      "\n",
      "real\t3m26.570s\n",
      "user\t7m34.904s\n",
      "sys\t2m21.729s\n",
      "TrimmomaticPE: Started with arguments:\n",
      " -phred33 -threads 4 -trimlog ../../02-OUTPUT/02-TRIM/trimmomatic-trim_log_10-C58-BV1-PITA_induced-tex_plus.txt ../../01-INPUT/02-FASTQ/renamed/10-C58-BV1-PITA_induced-tex_plus-R1.fq.gz ../../01-INPUT/02-FASTQ/renamed/10-C58-BV1-PITA_induced-tex_plus-R2.fq.gz ../../02-OUTPUT/02-TRIM/10-C58-BV1-PITA_induced-tex_plus-R1-trimmed.fq.gz ../../02-OUTPUT/02-TRIM/10-C58-BV1-PITA_induced-tex_plus-R1-untrimmed.fq.gz ../../02-OUTPUT/02-TRIM/10-C58-BV1-PITA_induced-tex_plus-R2-trimmed.fq.gz ../../02-OUTPUT/02-TRIM/10-C58-BV1-PITA_induced-tex_plus-R2-untrimmed.fq.gz ILLUMINACLIP:/home/lucas/anaconda3/pkgs/trimmomatic-0.38-1/share/trimmomatic-0.38-1/adapters/TruSeq3-PE.fa:2:20:10 LEADING:3 TRAILING:3 SLIDINGWINDOW:4:20 MINLEN:20\n",
      "Using PrefixPair: 'TACACTCTTTCCCTACACGACGCTCTTCCGATCT' and 'GTGACTGGAGTTCAGACGTGTGCTCTTCCGATCT'\n",
      "ILLUMINACLIP: Using 1 prefix pairs, 0 forward/reverse sequences, 0 forward only sequences, 0 reverse only sequences\n"
     ]
    },
    {
     "name": "stdout",
     "output_type": "stream",
     "text": [
      "10-C58-BV1-PITA_induced-tex_plus\n"
     ]
    },
    {
     "name": "stderr",
     "output_type": "stream",
     "text": [
      "Input Read Pairs: 13521854 Both Surviving: 11091690 (82.03%) Forward Only Surviving: 1948174 (14.41%) Reverse Only Surviving: 81736 (0.60%) Dropped: 400254 (2.96%)\n",
      "TrimmomaticPE: Completed successfully\n",
      "\n",
      "real\t4m11.391s\n",
      "user\t9m53.588s\n",
      "sys\t2m49.807s\n",
      "TrimmomaticPE: Started with arguments:\n",
      " -phred33 -threads 4 -trimlog ../../02-OUTPUT/02-TRIM/trimmomatic-trim_log_17-C16_80-BV2-MOPS_glucose-tex_minus.txt ../../01-INPUT/02-FASTQ/renamed/17-C16_80-BV2-MOPS_glucose-tex_minus-R1.fq.gz ../../01-INPUT/02-FASTQ/renamed/17-C16_80-BV2-MOPS_glucose-tex_minus-R2.fq.gz ../../02-OUTPUT/02-TRIM/17-C16_80-BV2-MOPS_glucose-tex_minus-R1-trimmed.fq.gz ../../02-OUTPUT/02-TRIM/17-C16_80-BV2-MOPS_glucose-tex_minus-R1-untrimmed.fq.gz ../../02-OUTPUT/02-TRIM/17-C16_80-BV2-MOPS_glucose-tex_minus-R2-trimmed.fq.gz ../../02-OUTPUT/02-TRIM/17-C16_80-BV2-MOPS_glucose-tex_minus-R2-untrimmed.fq.gz ILLUMINACLIP:/home/lucas/anaconda3/pkgs/trimmomatic-0.38-1/share/trimmomatic-0.38-1/adapters/TruSeq3-PE.fa:2:20:10 LEADING:3 TRAILING:3 SLIDINGWINDOW:4:20 MINLEN:20\n",
      "Using PrefixPair: 'TACACTCTTTCCCTACACGACGCTCTTCCGATCT' and 'GTGACTGGAGTTCAGACGTGTGCTCTTCCGATCT'\n",
      "ILLUMINACLIP: Using 1 prefix pairs, 0 forward/reverse sequences, 0 forward only sequences, 0 reverse only sequences\n"
     ]
    },
    {
     "name": "stdout",
     "output_type": "stream",
     "text": [
      "17-C16_80-BV2-MOPS_glucose-tex_minus\n"
     ]
    },
    {
     "name": "stderr",
     "output_type": "stream",
     "text": [
      "Input Read Pairs: 32018255 Both Surviving: 19733991 (61.63%) Forward Only Surviving: 10703196 (33.43%) Reverse Only Surviving: 115150 (0.36%) Dropped: 1465918 (4.58%)\n",
      "TrimmomaticPE: Completed successfully\n",
      "\n",
      "real\t9m57.979s\n",
      "user\t22m30.637s\n",
      "sys\t6m37.996s\n",
      "TrimmomaticPE: Started with arguments:\n",
      " -phred33 -threads 4 -trimlog ../../02-OUTPUT/02-TRIM/trimmomatic-trim_log_12-T60_94-BV3-PITA_induced-tex_plus.txt ../../01-INPUT/02-FASTQ/renamed/12-T60_94-BV3-PITA_induced-tex_plus-R1.fq.gz ../../01-INPUT/02-FASTQ/renamed/12-T60_94-BV3-PITA_induced-tex_plus-R2.fq.gz ../../02-OUTPUT/02-TRIM/12-T60_94-BV3-PITA_induced-tex_plus-R1-trimmed.fq.gz ../../02-OUTPUT/02-TRIM/12-T60_94-BV3-PITA_induced-tex_plus-R1-untrimmed.fq.gz ../../02-OUTPUT/02-TRIM/12-T60_94-BV3-PITA_induced-tex_plus-R2-trimmed.fq.gz ../../02-OUTPUT/02-TRIM/12-T60_94-BV3-PITA_induced-tex_plus-R2-untrimmed.fq.gz ILLUMINACLIP:/home/lucas/anaconda3/pkgs/trimmomatic-0.38-1/share/trimmomatic-0.38-1/adapters/TruSeq3-PE.fa:2:20:10 LEADING:3 TRAILING:3 SLIDINGWINDOW:4:20 MINLEN:20\n",
      "Using PrefixPair: 'TACACTCTTTCCCTACACGACGCTCTTCCGATCT' and 'GTGACTGGAGTTCAGACGTGTGCTCTTCCGATCT'\n",
      "ILLUMINACLIP: Using 1 prefix pairs, 0 forward/reverse sequences, 0 forward only sequences, 0 reverse only sequences\n"
     ]
    },
    {
     "name": "stdout",
     "output_type": "stream",
     "text": [
      "12-T60_94-BV3-PITA_induced-tex_plus\n"
     ]
    },
    {
     "name": "stderr",
     "output_type": "stream",
     "text": [
      "Input Read Pairs: 12458823 Both Surviving: 9732034 (78.11%) Forward Only Surviving: 1957910 (15.72%) Reverse Only Surviving: 92323 (0.74%) Dropped: 676556 (5.43%)\n",
      "TrimmomaticPE: Completed successfully\n",
      "\n",
      "real\t3m55.771s\n",
      "user\t9m17.913s\n",
      "sys\t2m37.802s\n",
      "TrimmomaticPE: Started with arguments:\n",
      " -phred33 -threads 4 -trimlog ../../02-OUTPUT/02-TRIM/trimmomatic-trim_log_15-T60_94-BV3-PITA_stationary-tex_plus.txt ../../01-INPUT/02-FASTQ/renamed/15-T60_94-BV3-PITA_stationary-tex_plus-R1.fq.gz ../../01-INPUT/02-FASTQ/renamed/15-T60_94-BV3-PITA_stationary-tex_plus-R2.fq.gz ../../02-OUTPUT/02-TRIM/15-T60_94-BV3-PITA_stationary-tex_plus-R1-trimmed.fq.gz ../../02-OUTPUT/02-TRIM/15-T60_94-BV3-PITA_stationary-tex_plus-R1-untrimmed.fq.gz ../../02-OUTPUT/02-TRIM/15-T60_94-BV3-PITA_stationary-tex_plus-R2-trimmed.fq.gz ../../02-OUTPUT/02-TRIM/15-T60_94-BV3-PITA_stationary-tex_plus-R2-untrimmed.fq.gz ILLUMINACLIP:/home/lucas/anaconda3/pkgs/trimmomatic-0.38-1/share/trimmomatic-0.38-1/adapters/TruSeq3-PE.fa:2:20:10 LEADING:3 TRAILING:3 SLIDINGWINDOW:4:20 MINLEN:20\n",
      "Using PrefixPair: 'TACACTCTTTCCCTACACGACGCTCTTCCGATCT' and 'GTGACTGGAGTTCAGACGTGTGCTCTTCCGATCT'\n",
      "ILLUMINACLIP: Using 1 prefix pairs, 0 forward/reverse sequences, 0 forward only sequences, 0 reverse only sequences\n"
     ]
    },
    {
     "name": "stdout",
     "output_type": "stream",
     "text": [
      "15-T60_94-BV3-PITA_stationary-tex_plus\n"
     ]
    },
    {
     "name": "stderr",
     "output_type": "stream",
     "text": [
      "Input Read Pairs: 17790070 Both Surviving: 13656888 (76.77%) Forward Only Surviving: 3242805 (18.23%) Reverse Only Surviving: 92272 (0.52%) Dropped: 798105 (4.49%)\n",
      "TrimmomaticPE: Completed successfully\n",
      "\n",
      "real\t5m31.237s\n",
      "user\t12m3.369s\n",
      "sys\t3m44.610s\n",
      "TrimmomaticPE: Started with arguments:\n",
      " -phred33 -threads 4 -trimlog ../../02-OUTPUT/02-TRIM/trimmomatic-trim_log_23-C16_80-BV2-PITA_log-tex_minus.txt ../../01-INPUT/02-FASTQ/renamed/23-C16_80-BV2-PITA_log-tex_minus-R1.fq.gz ../../01-INPUT/02-FASTQ/renamed/23-C16_80-BV2-PITA_log-tex_minus-R2.fq.gz ../../02-OUTPUT/02-TRIM/23-C16_80-BV2-PITA_log-tex_minus-R1-trimmed.fq.gz ../../02-OUTPUT/02-TRIM/23-C16_80-BV2-PITA_log-tex_minus-R1-untrimmed.fq.gz ../../02-OUTPUT/02-TRIM/23-C16_80-BV2-PITA_log-tex_minus-R2-trimmed.fq.gz ../../02-OUTPUT/02-TRIM/23-C16_80-BV2-PITA_log-tex_minus-R2-untrimmed.fq.gz ILLUMINACLIP:/home/lucas/anaconda3/pkgs/trimmomatic-0.38-1/share/trimmomatic-0.38-1/adapters/TruSeq3-PE.fa:2:20:10 LEADING:3 TRAILING:3 SLIDINGWINDOW:4:20 MINLEN:20\n",
      "Using PrefixPair: 'TACACTCTTTCCCTACACGACGCTCTTCCGATCT' and 'GTGACTGGAGTTCAGACGTGTGCTCTTCCGATCT'\n",
      "ILLUMINACLIP: Using 1 prefix pairs, 0 forward/reverse sequences, 0 forward only sequences, 0 reverse only sequences\n"
     ]
    },
    {
     "name": "stdout",
     "output_type": "stream",
     "text": [
      "23-C16_80-BV2-PITA_log-tex_minus\n"
     ]
    },
    {
     "name": "stderr",
     "output_type": "stream",
     "text": [
      "Input Read Pairs: 19666278 Both Surviving: 8096759 (41.17%) Forward Only Surviving: 10741909 (54.62%) Reverse Only Surviving: 47965 (0.24%) Dropped: 779645 (3.96%)\n",
      "TrimmomaticPE: Completed successfully\n",
      "\n",
      "real\t6m7.292s\n",
      "user\t12m16.690s\n",
      "sys\t4m5.309s\n",
      "TrimmomaticPE: Started with arguments:\n",
      " -phred33 -threads 4 -trimlog ../../02-OUTPUT/02-TRIM/trimmomatic-trim_log_24-T60_94-BV3-PITA_log-tex_minus.txt ../../01-INPUT/02-FASTQ/renamed/24-T60_94-BV3-PITA_log-tex_minus-R1.fq.gz ../../01-INPUT/02-FASTQ/renamed/24-T60_94-BV3-PITA_log-tex_minus-R2.fq.gz ../../02-OUTPUT/02-TRIM/24-T60_94-BV3-PITA_log-tex_minus-R1-trimmed.fq.gz ../../02-OUTPUT/02-TRIM/24-T60_94-BV3-PITA_log-tex_minus-R1-untrimmed.fq.gz ../../02-OUTPUT/02-TRIM/24-T60_94-BV3-PITA_log-tex_minus-R2-trimmed.fq.gz ../../02-OUTPUT/02-TRIM/24-T60_94-BV3-PITA_log-tex_minus-R2-untrimmed.fq.gz ILLUMINACLIP:/home/lucas/anaconda3/pkgs/trimmomatic-0.38-1/share/trimmomatic-0.38-1/adapters/TruSeq3-PE.fa:2:20:10 LEADING:3 TRAILING:3 SLIDINGWINDOW:4:20 MINLEN:20\n",
      "Using PrefixPair: 'TACACTCTTTCCCTACACGACGCTCTTCCGATCT' and 'GTGACTGGAGTTCAGACGTGTGCTCTTCCGATCT'\n",
      "ILLUMINACLIP: Using 1 prefix pairs, 0 forward/reverse sequences, 0 forward only sequences, 0 reverse only sequences\n"
     ]
    },
    {
     "name": "stdout",
     "output_type": "stream",
     "text": [
      "24-T60_94-BV3-PITA_log-tex_minus\n"
     ]
    },
    {
     "name": "stderr",
     "output_type": "stream",
     "text": [
      "Input Read Pairs: 7760877 Both Surviving: 7079982 (91.23%) Forward Only Surviving: 574465 (7.40%) Reverse Only Surviving: 36491 (0.47%) Dropped: 69939 (0.90%)\n",
      "TrimmomaticPE: Completed successfully\n",
      "\n",
      "real\t2m25.860s\n",
      "user\t5m38.661s\n",
      "sys\t1m38.051s\n",
      "TrimmomaticPE: Started with arguments:\n",
      " -phred33 -threads 4 -trimlog ../../02-OUTPUT/02-TRIM/trimmomatic-trim_log_19-C58-BV1-MOPS_succinate-tex_minus.txt ../../01-INPUT/02-FASTQ/renamed/19-C58-BV1-MOPS_succinate-tex_minus-R1.fq.gz ../../01-INPUT/02-FASTQ/renamed/19-C58-BV1-MOPS_succinate-tex_minus-R2.fq.gz ../../02-OUTPUT/02-TRIM/19-C58-BV1-MOPS_succinate-tex_minus-R1-trimmed.fq.gz ../../02-OUTPUT/02-TRIM/19-C58-BV1-MOPS_succinate-tex_minus-R1-untrimmed.fq.gz ../../02-OUTPUT/02-TRIM/19-C58-BV1-MOPS_succinate-tex_minus-R2-trimmed.fq.gz ../../02-OUTPUT/02-TRIM/19-C58-BV1-MOPS_succinate-tex_minus-R2-untrimmed.fq.gz ILLUMINACLIP:/home/lucas/anaconda3/pkgs/trimmomatic-0.38-1/share/trimmomatic-0.38-1/adapters/TruSeq3-PE.fa:2:20:10 LEADING:3 TRAILING:3 SLIDINGWINDOW:4:20 MINLEN:20\n",
      "Using PrefixPair: 'TACACTCTTTCCCTACACGACGCTCTTCCGATCT' and 'GTGACTGGAGTTCAGACGTGTGCTCTTCCGATCT'\n",
      "ILLUMINACLIP: Using 1 prefix pairs, 0 forward/reverse sequences, 0 forward only sequences, 0 reverse only sequences\n"
     ]
    },
    {
     "name": "stdout",
     "output_type": "stream",
     "text": [
      "19-C58-BV1-MOPS_succinate-tex_minus\n"
     ]
    },
    {
     "name": "stderr",
     "output_type": "stream",
     "text": [
      "Input Read Pairs: 27987863 Both Surviving: 15555817 (55.58%) Forward Only Surviving: 11189919 (39.98%) Reverse Only Surviving: 94605 (0.34%) Dropped: 1147522 (4.10%)\n",
      "TrimmomaticPE: Completed successfully\n",
      "\n",
      "real\t8m39.292s\n",
      "user\t19m24.289s\n",
      "sys\t5m50.936s\n",
      "TrimmomaticPE: Started with arguments:\n",
      " -phred33 -threads 4 -trimlog ../../02-OUTPUT/02-TRIM/trimmomatic-trim_log_09-T60_94-BV3-PITA_log-tex_plus.txt ../../01-INPUT/02-FASTQ/renamed/09-T60_94-BV3-PITA_log-tex_plus-R1.fq.gz ../../01-INPUT/02-FASTQ/renamed/09-T60_94-BV3-PITA_log-tex_plus-R2.fq.gz ../../02-OUTPUT/02-TRIM/09-T60_94-BV3-PITA_log-tex_plus-R1-trimmed.fq.gz ../../02-OUTPUT/02-TRIM/09-T60_94-BV3-PITA_log-tex_plus-R1-untrimmed.fq.gz ../../02-OUTPUT/02-TRIM/09-T60_94-BV3-PITA_log-tex_plus-R2-trimmed.fq.gz ../../02-OUTPUT/02-TRIM/09-T60_94-BV3-PITA_log-tex_plus-R2-untrimmed.fq.gz ILLUMINACLIP:/home/lucas/anaconda3/pkgs/trimmomatic-0.38-1/share/trimmomatic-0.38-1/adapters/TruSeq3-PE.fa:2:20:10 LEADING:3 TRAILING:3 SLIDINGWINDOW:4:20 MINLEN:20\n",
      "Using PrefixPair: 'TACACTCTTTCCCTACACGACGCTCTTCCGATCT' and 'GTGACTGGAGTTCAGACGTGTGCTCTTCCGATCT'\n",
      "ILLUMINACLIP: Using 1 prefix pairs, 0 forward/reverse sequences, 0 forward only sequences, 0 reverse only sequences\n"
     ]
    },
    {
     "name": "stdout",
     "output_type": "stream",
     "text": [
      "09-T60_94-BV3-PITA_log-tex_plus\n"
     ]
    },
    {
     "name": "stderr",
     "output_type": "stream",
     "text": [
      "Input Read Pairs: 8005210 Both Surviving: 7325130 (91.50%) Forward Only Surviving: 500984 (6.26%) Reverse Only Surviving: 48580 (0.61%) Dropped: 130516 (1.63%)\n",
      "TrimmomaticPE: Completed successfully\n",
      "\n",
      "real\t2m24.724s\n",
      "user\t5m9.164s\n",
      "sys\t1m38.989s\n",
      "TrimmomaticPE: Started with arguments:\n",
      " -phred33 -threads 4 -trimlog ../../02-OUTPUT/02-TRIM/trimmomatic-trim_log_13-C58-BV1-PITA_stationary-tex_plus.txt ../../01-INPUT/02-FASTQ/renamed/13-C58-BV1-PITA_stationary-tex_plus-R1.fq.gz ../../01-INPUT/02-FASTQ/renamed/13-C58-BV1-PITA_stationary-tex_plus-R2.fq.gz ../../02-OUTPUT/02-TRIM/13-C58-BV1-PITA_stationary-tex_plus-R1-trimmed.fq.gz ../../02-OUTPUT/02-TRIM/13-C58-BV1-PITA_stationary-tex_plus-R1-untrimmed.fq.gz ../../02-OUTPUT/02-TRIM/13-C58-BV1-PITA_stationary-tex_plus-R2-trimmed.fq.gz ../../02-OUTPUT/02-TRIM/13-C58-BV1-PITA_stationary-tex_plus-R2-untrimmed.fq.gz ILLUMINACLIP:/home/lucas/anaconda3/pkgs/trimmomatic-0.38-1/share/trimmomatic-0.38-1/adapters/TruSeq3-PE.fa:2:20:10 LEADING:3 TRAILING:3 SLIDINGWINDOW:4:20 MINLEN:20\n",
      "Using PrefixPair: 'TACACTCTTTCCCTACACGACGCTCTTCCGATCT' and 'GTGACTGGAGTTCAGACGTGTGCTCTTCCGATCT'\n",
      "ILLUMINACLIP: Using 1 prefix pairs, 0 forward/reverse sequences, 0 forward only sequences, 0 reverse only sequences\n"
     ]
    },
    {
     "name": "stdout",
     "output_type": "stream",
     "text": [
      "13-C58-BV1-PITA_stationary-tex_plus\n"
     ]
    },
    {
     "name": "stderr",
     "output_type": "stream",
     "text": [
      "Input Read Pairs: 33918506 Both Surviving: 22333959 (65.85%) Forward Only Surviving: 9373023 (27.63%) Reverse Only Surviving: 175869 (0.52%) Dropped: 2035655 (6.00%)\n",
      "TrimmomaticPE: Completed successfully\n",
      "\n",
      "real\t10m39.468s\n",
      "user\t25m33.076s\n",
      "sys\t7m10.933s\n",
      "TrimmomaticPE: Started with arguments:\n",
      " -phred33 -threads 4 -trimlog ../../02-OUTPUT/02-TRIM/trimmomatic-trim_log_28-C58-BV1-PITA_stationary-tex_minus.txt ../../01-INPUT/02-FASTQ/renamed/28-C58-BV1-PITA_stationary-tex_minus-R1.fq.gz ../../01-INPUT/02-FASTQ/renamed/28-C58-BV1-PITA_stationary-tex_minus-R2.fq.gz ../../02-OUTPUT/02-TRIM/28-C58-BV1-PITA_stationary-tex_minus-R1-trimmed.fq.gz ../../02-OUTPUT/02-TRIM/28-C58-BV1-PITA_stationary-tex_minus-R1-untrimmed.fq.gz ../../02-OUTPUT/02-TRIM/28-C58-BV1-PITA_stationary-tex_minus-R2-trimmed.fq.gz ../../02-OUTPUT/02-TRIM/28-C58-BV1-PITA_stationary-tex_minus-R2-untrimmed.fq.gz ILLUMINACLIP:/home/lucas/anaconda3/pkgs/trimmomatic-0.38-1/share/trimmomatic-0.38-1/adapters/TruSeq3-PE.fa:2:20:10 LEADING:3 TRAILING:3 SLIDINGWINDOW:4:20 MINLEN:20\n",
      "Using PrefixPair: 'TACACTCTTTCCCTACACGACGCTCTTCCGATCT' and 'GTGACTGGAGTTCAGACGTGTGCTCTTCCGATCT'\n",
      "ILLUMINACLIP: Using 1 prefix pairs, 0 forward/reverse sequences, 0 forward only sequences, 0 reverse only sequences\n"
     ]
    },
    {
     "name": "stdout",
     "output_type": "stream",
     "text": [
      "28-C58-BV1-PITA_stationary-tex_minus\n"
     ]
    },
    {
     "name": "stderr",
     "output_type": "stream",
     "text": [
      "Input Read Pairs: 35728399 Both Surviving: 19947708 (55.83%) Forward Only Surviving: 14640693 (40.98%) Reverse Only Surviving: 109625 (0.31%) Dropped: 1030373 (2.88%)\n",
      "TrimmomaticPE: Completed successfully\n",
      "\n",
      "real\t10m59.533s\n",
      "user\t23m17.900s\n",
      "sys\t7m28.882s\n",
      "TrimmomaticPE: Started with arguments:\n",
      " -phred33 -threads 4 -trimlog ../../02-OUTPUT/02-TRIM/trimmomatic-trim_log_02-C16_80-BV2-MOPS_glucose-tex_plus.txt ../../01-INPUT/02-FASTQ/renamed/02-C16_80-BV2-MOPS_glucose-tex_plus-R1.fq.gz ../../01-INPUT/02-FASTQ/renamed/02-C16_80-BV2-MOPS_glucose-tex_plus-R2.fq.gz ../../02-OUTPUT/02-TRIM/02-C16_80-BV2-MOPS_glucose-tex_plus-R1-trimmed.fq.gz ../../02-OUTPUT/02-TRIM/02-C16_80-BV2-MOPS_glucose-tex_plus-R1-untrimmed.fq.gz ../../02-OUTPUT/02-TRIM/02-C16_80-BV2-MOPS_glucose-tex_plus-R2-trimmed.fq.gz ../../02-OUTPUT/02-TRIM/02-C16_80-BV2-MOPS_glucose-tex_plus-R2-untrimmed.fq.gz ILLUMINACLIP:/home/lucas/anaconda3/pkgs/trimmomatic-0.38-1/share/trimmomatic-0.38-1/adapters/TruSeq3-PE.fa:2:20:10 LEADING:3 TRAILING:3 SLIDINGWINDOW:4:20 MINLEN:20\n",
      "Using PrefixPair: 'TACACTCTTTCCCTACACGACGCTCTTCCGATCT' and 'GTGACTGGAGTTCAGACGTGTGCTCTTCCGATCT'\n",
      "ILLUMINACLIP: Using 1 prefix pairs, 0 forward/reverse sequences, 0 forward only sequences, 0 reverse only sequences\n"
     ]
    },
    {
     "name": "stdout",
     "output_type": "stream",
     "text": [
      "02-C16_80-BV2-MOPS_glucose-tex_plus\n"
     ]
    },
    {
     "name": "stderr",
     "output_type": "stream",
     "text": [
      "Input Read Pairs: 25438393 Both Surviving: 17083318 (67.16%) Forward Only Surviving: 6247478 (24.56%) Reverse Only Surviving: 142578 (0.56%) Dropped: 1965019 (7.72%)\n",
      "TrimmomaticPE: Completed successfully\n",
      "\n",
      "real\t7m57.503s\n",
      "user\t18m7.739s\n",
      "sys\t5m19.729s\n",
      "TrimmomaticPE: Started with arguments:\n",
      " -phred33 -threads 4 -trimlog ../../02-OUTPUT/02-TRIM/trimmomatic-trim_log_16-C58-BV1-MOPS_glucose-tex_minus.txt ../../01-INPUT/02-FASTQ/renamed/16-C58-BV1-MOPS_glucose-tex_minus-R1.fq.gz ../../01-INPUT/02-FASTQ/renamed/16-C58-BV1-MOPS_glucose-tex_minus-R2.fq.gz ../../02-OUTPUT/02-TRIM/16-C58-BV1-MOPS_glucose-tex_minus-R1-trimmed.fq.gz ../../02-OUTPUT/02-TRIM/16-C58-BV1-MOPS_glucose-tex_minus-R1-untrimmed.fq.gz ../../02-OUTPUT/02-TRIM/16-C58-BV1-MOPS_glucose-tex_minus-R2-trimmed.fq.gz ../../02-OUTPUT/02-TRIM/16-C58-BV1-MOPS_glucose-tex_minus-R2-untrimmed.fq.gz ILLUMINACLIP:/home/lucas/anaconda3/pkgs/trimmomatic-0.38-1/share/trimmomatic-0.38-1/adapters/TruSeq3-PE.fa:2:20:10 LEADING:3 TRAILING:3 SLIDINGWINDOW:4:20 MINLEN:20\n",
      "Using PrefixPair: 'TACACTCTTTCCCTACACGACGCTCTTCCGATCT' and 'GTGACTGGAGTTCAGACGTGTGCTCTTCCGATCT'\n",
      "ILLUMINACLIP: Using 1 prefix pairs, 0 forward/reverse sequences, 0 forward only sequences, 0 reverse only sequences\n"
     ]
    },
    {
     "name": "stdout",
     "output_type": "stream",
     "text": [
      "16-C58-BV1-MOPS_glucose-tex_minus\n"
     ]
    },
    {
     "name": "stderr",
     "output_type": "stream",
     "text": [
      "Input Read Pairs: 34845936 Both Surviving: 20857699 (59.86%) Forward Only Surviving: 12566423 (36.06%) Reverse Only Surviving: 135599 (0.39%) Dropped: 1286215 (3.69%)\n",
      "TrimmomaticPE: Completed successfully\n",
      "\n",
      "real\t10m44.534s\n",
      "user\t23m10.990s\n",
      "sys\t7m18.189s\n",
      "TrimmomaticPE: Started with arguments:\n",
      " -phred33 -threads 4 -trimlog ../../02-OUTPUT/02-TRIM/trimmomatic-trim_log_21-T60_94-BV3-MOPS_succinate-tex_minus.txt ../../01-INPUT/02-FASTQ/renamed/21-T60_94-BV3-MOPS_succinate-tex_minus-R1.fq.gz ../../01-INPUT/02-FASTQ/renamed/21-T60_94-BV3-MOPS_succinate-tex_minus-R2.fq.gz ../../02-OUTPUT/02-TRIM/21-T60_94-BV3-MOPS_succinate-tex_minus-R1-trimmed.fq.gz ../../02-OUTPUT/02-TRIM/21-T60_94-BV3-MOPS_succinate-tex_minus-R1-untrimmed.fq.gz ../../02-OUTPUT/02-TRIM/21-T60_94-BV3-MOPS_succinate-tex_minus-R2-trimmed.fq.gz ../../02-OUTPUT/02-TRIM/21-T60_94-BV3-MOPS_succinate-tex_minus-R2-untrimmed.fq.gz ILLUMINACLIP:/home/lucas/anaconda3/pkgs/trimmomatic-0.38-1/share/trimmomatic-0.38-1/adapters/TruSeq3-PE.fa:2:20:10 LEADING:3 TRAILING:3 SLIDINGWINDOW:4:20 MINLEN:20\n",
      "Using PrefixPair: 'TACACTCTTTCCCTACACGACGCTCTTCCGATCT' and 'GTGACTGGAGTTCAGACGTGTGCTCTTCCGATCT'\n",
      "ILLUMINACLIP: Using 1 prefix pairs, 0 forward/reverse sequences, 0 forward only sequences, 0 reverse only sequences\n"
     ]
    },
    {
     "name": "stdout",
     "output_type": "stream",
     "text": [
      "21-T60_94-BV3-MOPS_succinate-tex_minus\n"
     ]
    },
    {
     "name": "stderr",
     "output_type": "stream",
     "text": [
      "Input Read Pairs: 18289355 Both Surviving: 14016452 (76.64%) Forward Only Surviving: 3387231 (18.52%) Reverse Only Surviving: 80286 (0.44%) Dropped: 805386 (4.40%)\n",
      "TrimmomaticPE: Completed successfully\n",
      "\n",
      "real\t5m37.208s\n",
      "user\t11m49.389s\n",
      "sys\t3m49.383s\n",
      "TrimmomaticPE: Started with arguments:\n",
      " -phred33 -threads 4 -trimlog ../../02-OUTPUT/02-TRIM/trimmomatic-trim_log_25-C58-BV1-PITA_induced-tex_minus.txt ../../01-INPUT/02-FASTQ/renamed/25-C58-BV1-PITA_induced-tex_minus-R1.fq.gz ../../01-INPUT/02-FASTQ/renamed/25-C58-BV1-PITA_induced-tex_minus-R2.fq.gz ../../02-OUTPUT/02-TRIM/25-C58-BV1-PITA_induced-tex_minus-R1-trimmed.fq.gz ../../02-OUTPUT/02-TRIM/25-C58-BV1-PITA_induced-tex_minus-R1-untrimmed.fq.gz ../../02-OUTPUT/02-TRIM/25-C58-BV1-PITA_induced-tex_minus-R2-trimmed.fq.gz ../../02-OUTPUT/02-TRIM/25-C58-BV1-PITA_induced-tex_minus-R2-untrimmed.fq.gz ILLUMINACLIP:/home/lucas/anaconda3/pkgs/trimmomatic-0.38-1/share/trimmomatic-0.38-1/adapters/TruSeq3-PE.fa:2:20:10 LEADING:3 TRAILING:3 SLIDINGWINDOW:4:20 MINLEN:20\n",
      "Using PrefixPair: 'TACACTCTTTCCCTACACGACGCTCTTCCGATCT' and 'GTGACTGGAGTTCAGACGTGTGCTCTTCCGATCT'\n",
      "ILLUMINACLIP: Using 1 prefix pairs, 0 forward/reverse sequences, 0 forward only sequences, 0 reverse only sequences\n"
     ]
    },
    {
     "name": "stdout",
     "output_type": "stream",
     "text": [
      "25-C58-BV1-PITA_induced-tex_minus\n"
     ]
    },
    {
     "name": "stderr",
     "output_type": "stream",
     "text": [
      "Input Read Pairs: 19857956 Both Surviving: 15733173 (79.23%) Forward Only Surviving: 3768090 (18.98%) Reverse Only Surviving: 82499 (0.42%) Dropped: 274194 (1.38%)\n",
      "TrimmomaticPE: Completed successfully\n",
      "\n",
      "real\t6m7.387s\n",
      "user\t11m58.290s\n",
      "sys\t4m7.578s\n",
      "TrimmomaticPE: Started with arguments:\n",
      " -phred33 -threads 4 -trimlog ../../02-OUTPUT/02-TRIM/trimmomatic-trim_log_26-C16_80-BV2-PITA_induced-tex_minus.txt ../../01-INPUT/02-FASTQ/renamed/26-C16_80-BV2-PITA_induced-tex_minus-R1.fq.gz ../../01-INPUT/02-FASTQ/renamed/26-C16_80-BV2-PITA_induced-tex_minus-R2.fq.gz ../../02-OUTPUT/02-TRIM/26-C16_80-BV2-PITA_induced-tex_minus-R1-trimmed.fq.gz ../../02-OUTPUT/02-TRIM/26-C16_80-BV2-PITA_induced-tex_minus-R1-untrimmed.fq.gz ../../02-OUTPUT/02-TRIM/26-C16_80-BV2-PITA_induced-tex_minus-R2-trimmed.fq.gz ../../02-OUTPUT/02-TRIM/26-C16_80-BV2-PITA_induced-tex_minus-R2-untrimmed.fq.gz ILLUMINACLIP:/home/lucas/anaconda3/pkgs/trimmomatic-0.38-1/share/trimmomatic-0.38-1/adapters/TruSeq3-PE.fa:2:20:10 LEADING:3 TRAILING:3 SLIDINGWINDOW:4:20 MINLEN:20\n",
      "Using PrefixPair: 'TACACTCTTTCCCTACACGACGCTCTTCCGATCT' and 'GTGACTGGAGTTCAGACGTGTGCTCTTCCGATCT'\n",
      "ILLUMINACLIP: Using 1 prefix pairs, 0 forward/reverse sequences, 0 forward only sequences, 0 reverse only sequences\n"
     ]
    },
    {
     "name": "stdout",
     "output_type": "stream",
     "text": [
      "26-C16_80-BV2-PITA_induced-tex_minus\n"
     ]
    },
    {
     "name": "stderr",
     "output_type": "stream",
     "text": [
      "Input Read Pairs: 15254480 Both Surviving: 12863271 (84.32%) Forward Only Surviving: 2219029 (14.55%) Reverse Only Surviving: 69068 (0.45%) Dropped: 103112 (0.68%)\n",
      "TrimmomaticPE: Completed successfully\n",
      "\n",
      "real\t4m41.834s\n",
      "user\t9m33.419s\n",
      "sys\t3m11.419s\n",
      "TrimmomaticPE: Started with arguments:\n",
      " -phred33 -threads 4 -trimlog ../../02-OUTPUT/02-TRIM/trimmomatic-trim_log_09-T60_94-BV3-PITA_log-tex_plus.txt ../../01-INPUT/02-FASTQ/renamed/09-T60_94-BV3-PITA_log-tex_plus-R1.fq.gz ../../01-INPUT/02-FASTQ/renamed/09-T60_94-BV3-PITA_log-tex_plus-R2.fq.gz ../../02-OUTPUT/02-TRIM/09-T60_94-BV3-PITA_log-tex_plus-R1-trimmed.fq.gz ../../02-OUTPUT/02-TRIM/09-T60_94-BV3-PITA_log-tex_plus-R1-untrimmed.fq.gz ../../02-OUTPUT/02-TRIM/09-T60_94-BV3-PITA_log-tex_plus-R2-trimmed.fq.gz ../../02-OUTPUT/02-TRIM/09-T60_94-BV3-PITA_log-tex_plus-R2-untrimmed.fq.gz ILLUMINACLIP:/home/lucas/anaconda3/pkgs/trimmomatic-0.38-1/share/trimmomatic-0.38-1/adapters/TruSeq3-PE.fa:2:20:10 LEADING:3 TRAILING:3 SLIDINGWINDOW:4:20 MINLEN:20\n",
      "Using PrefixPair: 'TACACTCTTTCCCTACACGACGCTCTTCCGATCT' and 'GTGACTGGAGTTCAGACGTGTGCTCTTCCGATCT'\n",
      "ILLUMINACLIP: Using 1 prefix pairs, 0 forward/reverse sequences, 0 forward only sequences, 0 reverse only sequences\n"
     ]
    },
    {
     "name": "stdout",
     "output_type": "stream",
     "text": [
      "09-T60_94-BV3-PITA_log-tex_plus\n"
     ]
    },
    {
     "name": "stderr",
     "output_type": "stream",
     "text": [
      "Input Read Pairs: 8005210 Both Surviving: 7325130 (91.50%) Forward Only Surviving: 500984 (6.26%) Reverse Only Surviving: 48580 (0.61%) Dropped: 130516 (1.63%)\n",
      "TrimmomaticPE: Completed successfully\n",
      "\n",
      "real\t2m29.743s\n",
      "user\t5m32.970s\n",
      "sys\t1m42.197s\n",
      "TrimmomaticPE: Started with arguments:\n",
      " -phred33 -threads 4 -trimlog ../../02-OUTPUT/02-TRIM/trimmomatic-trim_log_12-T60_94-BV3-PITA_induced-tex_plus.txt ../../01-INPUT/02-FASTQ/renamed/12-T60_94-BV3-PITA_induced-tex_plus-R1.fq.gz ../../01-INPUT/02-FASTQ/renamed/12-T60_94-BV3-PITA_induced-tex_plus-R2.fq.gz ../../02-OUTPUT/02-TRIM/12-T60_94-BV3-PITA_induced-tex_plus-R1-trimmed.fq.gz ../../02-OUTPUT/02-TRIM/12-T60_94-BV3-PITA_induced-tex_plus-R1-untrimmed.fq.gz ../../02-OUTPUT/02-TRIM/12-T60_94-BV3-PITA_induced-tex_plus-R2-trimmed.fq.gz ../../02-OUTPUT/02-TRIM/12-T60_94-BV3-PITA_induced-tex_plus-R2-untrimmed.fq.gz ILLUMINACLIP:/home/lucas/anaconda3/pkgs/trimmomatic-0.38-1/share/trimmomatic-0.38-1/adapters/TruSeq3-PE.fa:2:20:10 LEADING:3 TRAILING:3 SLIDINGWINDOW:4:20 MINLEN:20\n",
      "Using PrefixPair: 'TACACTCTTTCCCTACACGACGCTCTTCCGATCT' and 'GTGACTGGAGTTCAGACGTGTGCTCTTCCGATCT'\n",
      "ILLUMINACLIP: Using 1 prefix pairs, 0 forward/reverse sequences, 0 forward only sequences, 0 reverse only sequences\n"
     ]
    },
    {
     "name": "stdout",
     "output_type": "stream",
     "text": [
      "12-T60_94-BV3-PITA_induced-tex_plus\n"
     ]
    },
    {
     "name": "stderr",
     "output_type": "stream",
     "text": [
      "Input Read Pairs: 12458823 Both Surviving: 9732034 (78.11%) Forward Only Surviving: 1957910 (15.72%) Reverse Only Surviving: 92323 (0.74%) Dropped: 676556 (5.43%)\n",
      "TrimmomaticPE: Completed successfully\n",
      "\n",
      "real\t3m58.781s\n",
      "user\t9m26.160s\n",
      "sys\t2m40.682s\n",
      "TrimmomaticPE: Started with arguments:\n",
      " -phred33 -threads 4 -trimlog ../../02-OUTPUT/02-TRIM/trimmomatic-trim_log_27-T60_94-BV3-PITA_induced-tex_minus.txt ../../01-INPUT/02-FASTQ/renamed/27-T60_94-BV3-PITA_induced-tex_minus-R1.fq.gz ../../01-INPUT/02-FASTQ/renamed/27-T60_94-BV3-PITA_induced-tex_minus-R2.fq.gz ../../02-OUTPUT/02-TRIM/27-T60_94-BV3-PITA_induced-tex_minus-R1-trimmed.fq.gz ../../02-OUTPUT/02-TRIM/27-T60_94-BV3-PITA_induced-tex_minus-R1-untrimmed.fq.gz ../../02-OUTPUT/02-TRIM/27-T60_94-BV3-PITA_induced-tex_minus-R2-trimmed.fq.gz ../../02-OUTPUT/02-TRIM/27-T60_94-BV3-PITA_induced-tex_minus-R2-untrimmed.fq.gz ILLUMINACLIP:/home/lucas/anaconda3/pkgs/trimmomatic-0.38-1/share/trimmomatic-0.38-1/adapters/TruSeq3-PE.fa:2:20:10 LEADING:3 TRAILING:3 SLIDINGWINDOW:4:20 MINLEN:20\n",
      "Using PrefixPair: 'TACACTCTTTCCCTACACGACGCTCTTCCGATCT' and 'GTGACTGGAGTTCAGACGTGTGCTCTTCCGATCT'\n",
      "ILLUMINACLIP: Using 1 prefix pairs, 0 forward/reverse sequences, 0 forward only sequences, 0 reverse only sequences\n"
     ]
    },
    {
     "name": "stdout",
     "output_type": "stream",
     "text": [
      "27-T60_94-BV3-PITA_induced-tex_minus\n"
     ]
    },
    {
     "name": "stderr",
     "output_type": "stream",
     "text": [
      "Input Read Pairs: 19994101 Both Surviving: 13703108 (68.54%) Forward Only Surviving: 4917759 (24.60%) Reverse Only Surviving: 71216 (0.36%) Dropped: 1302018 (6.51%)\n",
      "TrimmomaticPE: Completed successfully\n",
      "\n",
      "real\t6m14.646s\n",
      "user\t13m43.133s\n",
      "sys\t4m15.966s\n",
      "TrimmomaticPE: Started with arguments:\n",
      " -phred33 -threads 4 -trimlog ../../02-OUTPUT/02-TRIM/trimmomatic-trim_log_24-T60_94-BV3-PITA_log-tex_minus.txt ../../01-INPUT/02-FASTQ/renamed/24-T60_94-BV3-PITA_log-tex_minus-R1.fq.gz ../../01-INPUT/02-FASTQ/renamed/24-T60_94-BV3-PITA_log-tex_minus-R2.fq.gz ../../02-OUTPUT/02-TRIM/24-T60_94-BV3-PITA_log-tex_minus-R1-trimmed.fq.gz ../../02-OUTPUT/02-TRIM/24-T60_94-BV3-PITA_log-tex_minus-R1-untrimmed.fq.gz ../../02-OUTPUT/02-TRIM/24-T60_94-BV3-PITA_log-tex_minus-R2-trimmed.fq.gz ../../02-OUTPUT/02-TRIM/24-T60_94-BV3-PITA_log-tex_minus-R2-untrimmed.fq.gz ILLUMINACLIP:/home/lucas/anaconda3/pkgs/trimmomatic-0.38-1/share/trimmomatic-0.38-1/adapters/TruSeq3-PE.fa:2:20:10 LEADING:3 TRAILING:3 SLIDINGWINDOW:4:20 MINLEN:20\n",
      "Using PrefixPair: 'TACACTCTTTCCCTACACGACGCTCTTCCGATCT' and 'GTGACTGGAGTTCAGACGTGTGCTCTTCCGATCT'\n",
      "ILLUMINACLIP: Using 1 prefix pairs, 0 forward/reverse sequences, 0 forward only sequences, 0 reverse only sequences\n"
     ]
    },
    {
     "name": "stdout",
     "output_type": "stream",
     "text": [
      "24-T60_94-BV3-PITA_log-tex_minus\n"
     ]
    },
    {
     "name": "stderr",
     "output_type": "stream",
     "text": [
      "Input Read Pairs: 7760877 Both Surviving: 7079982 (91.23%) Forward Only Surviving: 574465 (7.40%) Reverse Only Surviving: 36491 (0.47%) Dropped: 69939 (0.90%)\n",
      "TrimmomaticPE: Completed successfully\n",
      "\n",
      "real\t2m26.643s\n",
      "user\t5m49.601s\n",
      "sys\t1m39.886s\n",
      "TrimmomaticPE: Started with arguments:\n",
      " -phred33 -threads 4 -trimlog ../../02-OUTPUT/02-TRIM/trimmomatic-trim_log_08-C16_80-BV2-PITA_log-tex_plus.txt ../../01-INPUT/02-FASTQ/renamed/08-C16_80-BV2-PITA_log-tex_plus-R1.fq.gz ../../01-INPUT/02-FASTQ/renamed/08-C16_80-BV2-PITA_log-tex_plus-R2.fq.gz ../../02-OUTPUT/02-TRIM/08-C16_80-BV2-PITA_log-tex_plus-R1-trimmed.fq.gz ../../02-OUTPUT/02-TRIM/08-C16_80-BV2-PITA_log-tex_plus-R1-untrimmed.fq.gz ../../02-OUTPUT/02-TRIM/08-C16_80-BV2-PITA_log-tex_plus-R2-trimmed.fq.gz ../../02-OUTPUT/02-TRIM/08-C16_80-BV2-PITA_log-tex_plus-R2-untrimmed.fq.gz ILLUMINACLIP:/home/lucas/anaconda3/pkgs/trimmomatic-0.38-1/share/trimmomatic-0.38-1/adapters/TruSeq3-PE.fa:2:20:10 LEADING:3 TRAILING:3 SLIDINGWINDOW:4:20 MINLEN:20\n",
      "Using PrefixPair: 'TACACTCTTTCCCTACACGACGCTCTTCCGATCT' and 'GTGACTGGAGTTCAGACGTGTGCTCTTCCGATCT'\n",
      "ILLUMINACLIP: Using 1 prefix pairs, 0 forward/reverse sequences, 0 forward only sequences, 0 reverse only sequences\n"
     ]
    },
    {
     "name": "stdout",
     "output_type": "stream",
     "text": [
      "08-C16_80-BV2-PITA_log-tex_plus\n"
     ]
    },
    {
     "name": "stderr",
     "output_type": "stream",
     "text": [
      "Input Read Pairs: 5748699 Both Surviving: 5439027 (94.61%) Forward Only Surviving: 225285 (3.92%) Reverse Only Surviving: 37238 (0.65%) Dropped: 47149 (0.82%)\n",
      "TrimmomaticPE: Completed successfully\n",
      "\n",
      "real\t1m46.698s\n",
      "user\t4m11.017s\n",
      "sys\t1m14.083s\n",
      "TrimmomaticPE: Started with arguments:\n",
      " -phred33 -threads 4 -trimlog ../../02-OUTPUT/02-TRIM/trimmomatic-trim_log_13-C58-BV1-PITA_stationary-tex_plus.txt ../../01-INPUT/02-FASTQ/renamed/13-C58-BV1-PITA_stationary-tex_plus-R1.fq.gz ../../01-INPUT/02-FASTQ/renamed/13-C58-BV1-PITA_stationary-tex_plus-R2.fq.gz ../../02-OUTPUT/02-TRIM/13-C58-BV1-PITA_stationary-tex_plus-R1-trimmed.fq.gz ../../02-OUTPUT/02-TRIM/13-C58-BV1-PITA_stationary-tex_plus-R1-untrimmed.fq.gz ../../02-OUTPUT/02-TRIM/13-C58-BV1-PITA_stationary-tex_plus-R2-trimmed.fq.gz ../../02-OUTPUT/02-TRIM/13-C58-BV1-PITA_stationary-tex_plus-R2-untrimmed.fq.gz ILLUMINACLIP:/home/lucas/anaconda3/pkgs/trimmomatic-0.38-1/share/trimmomatic-0.38-1/adapters/TruSeq3-PE.fa:2:20:10 LEADING:3 TRAILING:3 SLIDINGWINDOW:4:20 MINLEN:20\n",
      "Using PrefixPair: 'TACACTCTTTCCCTACACGACGCTCTTCCGATCT' and 'GTGACTGGAGTTCAGACGTGTGCTCTTCCGATCT'\n",
      "ILLUMINACLIP: Using 1 prefix pairs, 0 forward/reverse sequences, 0 forward only sequences, 0 reverse only sequences\n"
     ]
    },
    {
     "name": "stdout",
     "output_type": "stream",
     "text": [
      "13-C58-BV1-PITA_stationary-tex_plus\n"
     ]
    },
    {
     "name": "stderr",
     "output_type": "stream",
     "text": [
      "Input Read Pairs: 33918506 Both Surviving: 22333959 (65.85%) Forward Only Surviving: 9373023 (27.63%) Reverse Only Surviving: 175869 (0.52%) Dropped: 2035655 (6.00%)\n",
      "TrimmomaticPE: Completed successfully\n",
      "\n",
      "real\t10m33.761s\n",
      "user\t26m12.182s\n",
      "sys\t7m5.803s\n",
      "TrimmomaticPE: Started with arguments:\n",
      " -phred33 -threads 4 -trimlog ../../02-OUTPUT/02-TRIM/trimmomatic-trim_log_25-C58-BV1-PITA_induced-tex_minus.txt ../../01-INPUT/02-FASTQ/renamed/25-C58-BV1-PITA_induced-tex_minus-R1.fq.gz ../../01-INPUT/02-FASTQ/renamed/25-C58-BV1-PITA_induced-tex_minus-R2.fq.gz ../../02-OUTPUT/02-TRIM/25-C58-BV1-PITA_induced-tex_minus-R1-trimmed.fq.gz ../../02-OUTPUT/02-TRIM/25-C58-BV1-PITA_induced-tex_minus-R1-untrimmed.fq.gz ../../02-OUTPUT/02-TRIM/25-C58-BV1-PITA_induced-tex_minus-R2-trimmed.fq.gz ../../02-OUTPUT/02-TRIM/25-C58-BV1-PITA_induced-tex_minus-R2-untrimmed.fq.gz ILLUMINACLIP:/home/lucas/anaconda3/pkgs/trimmomatic-0.38-1/share/trimmomatic-0.38-1/adapters/TruSeq3-PE.fa:2:20:10 LEADING:3 TRAILING:3 SLIDINGWINDOW:4:20 MINLEN:20\n",
      "Using PrefixPair: 'TACACTCTTTCCCTACACGACGCTCTTCCGATCT' and 'GTGACTGGAGTTCAGACGTGTGCTCTTCCGATCT'\n",
      "ILLUMINACLIP: Using 1 prefix pairs, 0 forward/reverse sequences, 0 forward only sequences, 0 reverse only sequences\n"
     ]
    },
    {
     "name": "stdout",
     "output_type": "stream",
     "text": [
      "25-C58-BV1-PITA_induced-tex_minus\n"
     ]
    },
    {
     "name": "stderr",
     "output_type": "stream",
     "text": [
      "Input Read Pairs: 19857956 Both Surviving: 15733173 (79.23%) Forward Only Surviving: 3768090 (18.98%) Reverse Only Surviving: 82499 (0.42%) Dropped: 274194 (1.38%)\n",
      "TrimmomaticPE: Completed successfully\n",
      "\n",
      "real\t6m18.687s\n",
      "user\t14m12.366s\n",
      "sys\t4m12.414s\n",
      "TrimmomaticPE: Started with arguments:\n",
      " -phred33 -threads 4 -trimlog ../../02-OUTPUT/02-TRIM/trimmomatic-trim_log_15-T60_94-BV3-PITA_stationary-tex_plus.txt ../../01-INPUT/02-FASTQ/renamed/15-T60_94-BV3-PITA_stationary-tex_plus-R1.fq.gz ../../01-INPUT/02-FASTQ/renamed/15-T60_94-BV3-PITA_stationary-tex_plus-R2.fq.gz ../../02-OUTPUT/02-TRIM/15-T60_94-BV3-PITA_stationary-tex_plus-R1-trimmed.fq.gz ../../02-OUTPUT/02-TRIM/15-T60_94-BV3-PITA_stationary-tex_plus-R1-untrimmed.fq.gz ../../02-OUTPUT/02-TRIM/15-T60_94-BV3-PITA_stationary-tex_plus-R2-trimmed.fq.gz ../../02-OUTPUT/02-TRIM/15-T60_94-BV3-PITA_stationary-tex_plus-R2-untrimmed.fq.gz ILLUMINACLIP:/home/lucas/anaconda3/pkgs/trimmomatic-0.38-1/share/trimmomatic-0.38-1/adapters/TruSeq3-PE.fa:2:20:10 LEADING:3 TRAILING:3 SLIDINGWINDOW:4:20 MINLEN:20\n",
      "Using PrefixPair: 'TACACTCTTTCCCTACACGACGCTCTTCCGATCT' and 'GTGACTGGAGTTCAGACGTGTGCTCTTCCGATCT'\n",
      "ILLUMINACLIP: Using 1 prefix pairs, 0 forward/reverse sequences, 0 forward only sequences, 0 reverse only sequences\n"
     ]
    },
    {
     "name": "stdout",
     "output_type": "stream",
     "text": [
      "15-T60_94-BV3-PITA_stationary-tex_plus\n"
     ]
    },
    {
     "name": "stderr",
     "output_type": "stream",
     "text": [
      "Input Read Pairs: 17790070 Both Surviving: 13656888 (76.77%) Forward Only Surviving: 3242805 (18.23%) Reverse Only Surviving: 92272 (0.52%) Dropped: 798105 (4.49%)\n",
      "TrimmomaticPE: Completed successfully\n",
      "\n",
      "real\t5m39.489s\n",
      "user\t13m35.140s\n",
      "sys\t3m46.931s\n",
      "TrimmomaticPE: Started with arguments:\n",
      " -phred33 -threads 4 -trimlog ../../02-OUTPUT/02-TRIM/trimmomatic-trim_log_14-C16_80-BV2-PITA_stationary-tex_plus.txt ../../01-INPUT/02-FASTQ/renamed/14-C16_80-BV2-PITA_stationary-tex_plus-R1.fq.gz ../../01-INPUT/02-FASTQ/renamed/14-C16_80-BV2-PITA_stationary-tex_plus-R2.fq.gz ../../02-OUTPUT/02-TRIM/14-C16_80-BV2-PITA_stationary-tex_plus-R1-trimmed.fq.gz ../../02-OUTPUT/02-TRIM/14-C16_80-BV2-PITA_stationary-tex_plus-R1-untrimmed.fq.gz ../../02-OUTPUT/02-TRIM/14-C16_80-BV2-PITA_stationary-tex_plus-R2-trimmed.fq.gz ../../02-OUTPUT/02-TRIM/14-C16_80-BV2-PITA_stationary-tex_plus-R2-untrimmed.fq.gz ILLUMINACLIP:/home/lucas/anaconda3/pkgs/trimmomatic-0.38-1/share/trimmomatic-0.38-1/adapters/TruSeq3-PE.fa:2:20:10 LEADING:3 TRAILING:3 SLIDINGWINDOW:4:20 MINLEN:20\n",
      "Using PrefixPair: 'TACACTCTTTCCCTACACGACGCTCTTCCGATCT' and 'GTGACTGGAGTTCAGACGTGTGCTCTTCCGATCT'\n",
      "ILLUMINACLIP: Using 1 prefix pairs, 0 forward/reverse sequences, 0 forward only sequences, 0 reverse only sequences\n"
     ]
    },
    {
     "name": "stdout",
     "output_type": "stream",
     "text": [
      "14-C16_80-BV2-PITA_stationary-tex_plus\n"
     ]
    },
    {
     "name": "stderr",
     "output_type": "stream",
     "text": [
      "Input Read Pairs: 10418171 Both Surviving: 9371844 (89.96%) Forward Only Surviving: 825674 (7.93%) Reverse Only Surviving: 65720 (0.63%) Dropped: 154933 (1.49%)\n",
      "TrimmomaticPE: Completed successfully\n",
      "\n",
      "real\t3m17.242s\n",
      "user\t7m31.371s\n",
      "sys\t2m13.920s\n",
      "TrimmomaticPE: Started with arguments:\n",
      " -phred33 -threads 4 -trimlog ../../02-OUTPUT/02-TRIM/trimmomatic-trim_log_20-C16_80-BV2-MOPS_succinate-tex_minus.txt ../../01-INPUT/02-FASTQ/renamed/20-C16_80-BV2-MOPS_succinate-tex_minus-R1.fq.gz ../../01-INPUT/02-FASTQ/renamed/20-C16_80-BV2-MOPS_succinate-tex_minus-R2.fq.gz ../../02-OUTPUT/02-TRIM/20-C16_80-BV2-MOPS_succinate-tex_minus-R1-trimmed.fq.gz ../../02-OUTPUT/02-TRIM/20-C16_80-BV2-MOPS_succinate-tex_minus-R1-untrimmed.fq.gz ../../02-OUTPUT/02-TRIM/20-C16_80-BV2-MOPS_succinate-tex_minus-R2-trimmed.fq.gz ../../02-OUTPUT/02-TRIM/20-C16_80-BV2-MOPS_succinate-tex_minus-R2-untrimmed.fq.gz ILLUMINACLIP:/home/lucas/anaconda3/pkgs/trimmomatic-0.38-1/share/trimmomatic-0.38-1/adapters/TruSeq3-PE.fa:2:20:10 LEADING:3 TRAILING:3 SLIDINGWINDOW:4:20 MINLEN:20\n",
      "Using PrefixPair: 'TACACTCTTTCCCTACACGACGCTCTTCCGATCT' and 'GTGACTGGAGTTCAGACGTGTGCTCTTCCGATCT'\n",
      "ILLUMINACLIP: Using 1 prefix pairs, 0 forward/reverse sequences, 0 forward only sequences, 0 reverse only sequences\n"
     ]
    },
    {
     "name": "stdout",
     "output_type": "stream",
     "text": [
      "20-C16_80-BV2-MOPS_succinate-tex_minus\n"
     ]
    },
    {
     "name": "stderr",
     "output_type": "stream",
     "text": [
      "Input Read Pairs: 16169792 Both Surviving: 8451784 (52.27%) Forward Only Surviving: 7067275 (43.71%) Reverse Only Surviving: 51035 (0.32%) Dropped: 599698 (3.71%)\n",
      "TrimmomaticPE: Completed successfully\n",
      "\n",
      "real\t5m6.170s\n",
      "user\t12m26.441s\n",
      "sys\t3m24.736s\n",
      "TrimmomaticPE: Started with arguments:\n",
      " -phred33 -threads 4 -trimlog ../../02-OUTPUT/02-TRIM/trimmomatic-trim_log_26-C16_80-BV2-PITA_induced-tex_minus.txt ../../01-INPUT/02-FASTQ/renamed/26-C16_80-BV2-PITA_induced-tex_minus-R1.fq.gz ../../01-INPUT/02-FASTQ/renamed/26-C16_80-BV2-PITA_induced-tex_minus-R2.fq.gz ../../02-OUTPUT/02-TRIM/26-C16_80-BV2-PITA_induced-tex_minus-R1-trimmed.fq.gz ../../02-OUTPUT/02-TRIM/26-C16_80-BV2-PITA_induced-tex_minus-R1-untrimmed.fq.gz ../../02-OUTPUT/02-TRIM/26-C16_80-BV2-PITA_induced-tex_minus-R2-trimmed.fq.gz ../../02-OUTPUT/02-TRIM/26-C16_80-BV2-PITA_induced-tex_minus-R2-untrimmed.fq.gz ILLUMINACLIP:/home/lucas/anaconda3/pkgs/trimmomatic-0.38-1/share/trimmomatic-0.38-1/adapters/TruSeq3-PE.fa:2:20:10 LEADING:3 TRAILING:3 SLIDINGWINDOW:4:20 MINLEN:20\n",
      "Using PrefixPair: 'TACACTCTTTCCCTACACGACGCTCTTCCGATCT' and 'GTGACTGGAGTTCAGACGTGTGCTCTTCCGATCT'\n",
      "ILLUMINACLIP: Using 1 prefix pairs, 0 forward/reverse sequences, 0 forward only sequences, 0 reverse only sequences\n"
     ]
    },
    {
     "name": "stdout",
     "output_type": "stream",
     "text": [
      "26-C16_80-BV2-PITA_induced-tex_minus\n"
     ]
    },
    {
     "name": "stderr",
     "output_type": "stream",
     "text": [
      "Input Read Pairs: 15254480 Both Surviving: 12863271 (84.32%) Forward Only Surviving: 2219029 (14.55%) Reverse Only Surviving: 69068 (0.45%) Dropped: 103112 (0.68%)\n",
      "TrimmomaticPE: Completed successfully\n",
      "\n",
      "real\t4m47.774s\n",
      "user\t10m32.990s\n",
      "sys\t3m11.784s\n",
      "TrimmomaticPE: Started with arguments:\n",
      " -phred33 -threads 4 -trimlog ../../02-OUTPUT/02-TRIM/trimmomatic-trim_log_03-T60_94-BV3-MOPS_glucose-tex_plus.txt ../../01-INPUT/02-FASTQ/renamed/03-T60_94-BV3-MOPS_glucose-tex_plus-R1.fq.gz ../../01-INPUT/02-FASTQ/renamed/03-T60_94-BV3-MOPS_glucose-tex_plus-R2.fq.gz ../../02-OUTPUT/02-TRIM/03-T60_94-BV3-MOPS_glucose-tex_plus-R1-trimmed.fq.gz ../../02-OUTPUT/02-TRIM/03-T60_94-BV3-MOPS_glucose-tex_plus-R1-untrimmed.fq.gz ../../02-OUTPUT/02-TRIM/03-T60_94-BV3-MOPS_glucose-tex_plus-R2-trimmed.fq.gz ../../02-OUTPUT/02-TRIM/03-T60_94-BV3-MOPS_glucose-tex_plus-R2-untrimmed.fq.gz ILLUMINACLIP:/home/lucas/anaconda3/pkgs/trimmomatic-0.38-1/share/trimmomatic-0.38-1/adapters/TruSeq3-PE.fa:2:20:10 LEADING:3 TRAILING:3 SLIDINGWINDOW:4:20 MINLEN:20\n",
      "Using PrefixPair: 'TACACTCTTTCCCTACACGACGCTCTTCCGATCT' and 'GTGACTGGAGTTCAGACGTGTGCTCTTCCGATCT'\n",
      "ILLUMINACLIP: Using 1 prefix pairs, 0 forward/reverse sequences, 0 forward only sequences, 0 reverse only sequences\n"
     ]
    },
    {
     "name": "stdout",
     "output_type": "stream",
     "text": [
      "03-T60_94-BV3-MOPS_glucose-tex_plus\n"
     ]
    },
    {
     "name": "stderr",
     "output_type": "stream",
     "text": [
      "Input Read Pairs: 52821501 Both Surviving: 32502231 (61.53%) Forward Only Surviving: 11137339 (21.08%) Reverse Only Surviving: 561359 (1.06%) Dropped: 8620572 (16.32%)\n",
      "TrimmomaticPE: Completed successfully\n",
      "\n",
      "real\t16m12.439s\n",
      "user\t37m3.115s\n",
      "sys\t11m1.202s\n",
      "TrimmomaticPE: Started with arguments:\n",
      " -phred33 -threads 4 -trimlog ../../02-OUTPUT/02-TRIM/trimmomatic-trim_log_10-C58-BV1-PITA_induced-tex_plus.txt ../../01-INPUT/02-FASTQ/renamed/10-C58-BV1-PITA_induced-tex_plus-R1.fq.gz ../../01-INPUT/02-FASTQ/renamed/10-C58-BV1-PITA_induced-tex_plus-R2.fq.gz ../../02-OUTPUT/02-TRIM/10-C58-BV1-PITA_induced-tex_plus-R1-trimmed.fq.gz ../../02-OUTPUT/02-TRIM/10-C58-BV1-PITA_induced-tex_plus-R1-untrimmed.fq.gz ../../02-OUTPUT/02-TRIM/10-C58-BV1-PITA_induced-tex_plus-R2-trimmed.fq.gz ../../02-OUTPUT/02-TRIM/10-C58-BV1-PITA_induced-tex_plus-R2-untrimmed.fq.gz ILLUMINACLIP:/home/lucas/anaconda3/pkgs/trimmomatic-0.38-1/share/trimmomatic-0.38-1/adapters/TruSeq3-PE.fa:2:20:10 LEADING:3 TRAILING:3 SLIDINGWINDOW:4:20 MINLEN:20\n",
      "Using PrefixPair: 'TACACTCTTTCCCTACACGACGCTCTTCCGATCT' and 'GTGACTGGAGTTCAGACGTGTGCTCTTCCGATCT'\n",
      "ILLUMINACLIP: Using 1 prefix pairs, 0 forward/reverse sequences, 0 forward only sequences, 0 reverse only sequences\n"
     ]
    },
    {
     "name": "stdout",
     "output_type": "stream",
     "text": [
      "10-C58-BV1-PITA_induced-tex_plus\n"
     ]
    },
    {
     "name": "stderr",
     "output_type": "stream",
     "text": [
      "Input Read Pairs: 13521854 Both Surviving: 11091690 (82.03%) Forward Only Surviving: 1948174 (14.41%) Reverse Only Surviving: 81736 (0.60%) Dropped: 400254 (2.96%)\n",
      "TrimmomaticPE: Completed successfully\n",
      "\n",
      "real\t4m13.614s\n",
      "user\t10m12.979s\n",
      "sys\t2m48.989s\n",
      "TrimmomaticPE: Started with arguments:\n",
      " -phred33 -threads 4 -trimlog ../../02-OUTPUT/02-TRIM/trimmomatic-trim_log_07-C58-BV1-PITA_log-tex_plus.txt ../../01-INPUT/02-FASTQ/renamed/07-C58-BV1-PITA_log-tex_plus-R1.fq.gz ../../01-INPUT/02-FASTQ/renamed/07-C58-BV1-PITA_log-tex_plus-R2.fq.gz ../../02-OUTPUT/02-TRIM/07-C58-BV1-PITA_log-tex_plus-R1-trimmed.fq.gz ../../02-OUTPUT/02-TRIM/07-C58-BV1-PITA_log-tex_plus-R1-untrimmed.fq.gz ../../02-OUTPUT/02-TRIM/07-C58-BV1-PITA_log-tex_plus-R2-trimmed.fq.gz ../../02-OUTPUT/02-TRIM/07-C58-BV1-PITA_log-tex_plus-R2-untrimmed.fq.gz ILLUMINACLIP:/home/lucas/anaconda3/pkgs/trimmomatic-0.38-1/share/trimmomatic-0.38-1/adapters/TruSeq3-PE.fa:2:20:10 LEADING:3 TRAILING:3 SLIDINGWINDOW:4:20 MINLEN:20\n",
      "Using PrefixPair: 'TACACTCTTTCCCTACACGACGCTCTTCCGATCT' and 'GTGACTGGAGTTCAGACGTGTGCTCTTCCGATCT'\n",
      "ILLUMINACLIP: Using 1 prefix pairs, 0 forward/reverse sequences, 0 forward only sequences, 0 reverse only sequences\n"
     ]
    },
    {
     "name": "stdout",
     "output_type": "stream",
     "text": [
      "07-C58-BV1-PITA_log-tex_plus\n"
     ]
    },
    {
     "name": "stderr",
     "output_type": "stream",
     "text": [
      "Input Read Pairs: 6517291 Both Surviving: 6015240 (92.30%) Forward Only Surviving: 366967 (5.63%) Reverse Only Surviving: 48003 (0.74%) Dropped: 87081 (1.34%)\n",
      "TrimmomaticPE: Completed successfully\n",
      "\n",
      "real\t2m0.296s\n",
      "user\t4m18.152s\n",
      "sys\t1m21.974s\n",
      "TrimmomaticPE: Started with arguments:\n",
      " -phred33 -threads 4 -trimlog ../../02-OUTPUT/02-TRIM/trimmomatic-trim_log_17-C16_80-BV2-MOPS_glucose-tex_minus.txt ../../01-INPUT/02-FASTQ/renamed/17-C16_80-BV2-MOPS_glucose-tex_minus-R1.fq.gz ../../01-INPUT/02-FASTQ/renamed/17-C16_80-BV2-MOPS_glucose-tex_minus-R2.fq.gz ../../02-OUTPUT/02-TRIM/17-C16_80-BV2-MOPS_glucose-tex_minus-R1-trimmed.fq.gz ../../02-OUTPUT/02-TRIM/17-C16_80-BV2-MOPS_glucose-tex_minus-R1-untrimmed.fq.gz ../../02-OUTPUT/02-TRIM/17-C16_80-BV2-MOPS_glucose-tex_minus-R2-trimmed.fq.gz ../../02-OUTPUT/02-TRIM/17-C16_80-BV2-MOPS_glucose-tex_minus-R2-untrimmed.fq.gz ILLUMINACLIP:/home/lucas/anaconda3/pkgs/trimmomatic-0.38-1/share/trimmomatic-0.38-1/adapters/TruSeq3-PE.fa:2:20:10 LEADING:3 TRAILING:3 SLIDINGWINDOW:4:20 MINLEN:20\n",
      "Using PrefixPair: 'TACACTCTTTCCCTACACGACGCTCTTCCGATCT' and 'GTGACTGGAGTTCAGACGTGTGCTCTTCCGATCT'\n",
      "ILLUMINACLIP: Using 1 prefix pairs, 0 forward/reverse sequences, 0 forward only sequences, 0 reverse only sequences\n"
     ]
    },
    {
     "name": "stdout",
     "output_type": "stream",
     "text": [
      "17-C16_80-BV2-MOPS_glucose-tex_minus\n"
     ]
    },
    {
     "name": "stderr",
     "output_type": "stream",
     "text": [
      "Input Read Pairs: 32018255 Both Surviving: 19733991 (61.63%) Forward Only Surviving: 10703196 (33.43%) Reverse Only Surviving: 115150 (0.36%) Dropped: 1465918 (4.58%)\n",
      "TrimmomaticPE: Completed successfully\n",
      "\n",
      "real\t10m4.611s\n",
      "user\t21m57.681s\n",
      "sys\t6m46.454s\n",
      "TrimmomaticPE: Started with arguments:\n",
      " -phred33 -threads 4 -trimlog ../../02-OUTPUT/02-TRIM/trimmomatic-trim_log_19-C58-BV1-MOPS_succinate-tex_minus.txt ../../01-INPUT/02-FASTQ/renamed/19-C58-BV1-MOPS_succinate-tex_minus-R1.fq.gz ../../01-INPUT/02-FASTQ/renamed/19-C58-BV1-MOPS_succinate-tex_minus-R2.fq.gz ../../02-OUTPUT/02-TRIM/19-C58-BV1-MOPS_succinate-tex_minus-R1-trimmed.fq.gz ../../02-OUTPUT/02-TRIM/19-C58-BV1-MOPS_succinate-tex_minus-R1-untrimmed.fq.gz ../../02-OUTPUT/02-TRIM/19-C58-BV1-MOPS_succinate-tex_minus-R2-trimmed.fq.gz ../../02-OUTPUT/02-TRIM/19-C58-BV1-MOPS_succinate-tex_minus-R2-untrimmed.fq.gz ILLUMINACLIP:/home/lucas/anaconda3/pkgs/trimmomatic-0.38-1/share/trimmomatic-0.38-1/adapters/TruSeq3-PE.fa:2:20:10 LEADING:3 TRAILING:3 SLIDINGWINDOW:4:20 MINLEN:20\n",
      "Using PrefixPair: 'TACACTCTTTCCCTACACGACGCTCTTCCGATCT' and 'GTGACTGGAGTTCAGACGTGTGCTCTTCCGATCT'\n",
      "ILLUMINACLIP: Using 1 prefix pairs, 0 forward/reverse sequences, 0 forward only sequences, 0 reverse only sequences\n"
     ]
    },
    {
     "name": "stdout",
     "output_type": "stream",
     "text": [
      "19-C58-BV1-MOPS_succinate-tex_minus\n"
     ]
    },
    {
     "name": "stderr",
     "output_type": "stream",
     "text": [
      "Input Read Pairs: 27987863 Both Surviving: 15555817 (55.58%) Forward Only Surviving: 11189919 (39.98%) Reverse Only Surviving: 94605 (0.34%) Dropped: 1147522 (4.10%)\n",
      "TrimmomaticPE: Completed successfully\n",
      "\n",
      "real\t8m49.427s\n",
      "user\t19m58.158s\n",
      "sys\t5m53.561s\n",
      "TrimmomaticPE: Started with arguments:\n",
      " -phred33 -threads 4 -trimlog ../../02-OUTPUT/02-TRIM/trimmomatic-trim_log_30-T60_94-BV3-PITA_stationary-tex_minus.txt ../../01-INPUT/02-FASTQ/renamed/30-T60_94-BV3-PITA_stationary-tex_minus-R1.fq.gz ../../01-INPUT/02-FASTQ/renamed/30-T60_94-BV3-PITA_stationary-tex_minus-R2.fq.gz ../../02-OUTPUT/02-TRIM/30-T60_94-BV3-PITA_stationary-tex_minus-R1-trimmed.fq.gz ../../02-OUTPUT/02-TRIM/30-T60_94-BV3-PITA_stationary-tex_minus-R1-untrimmed.fq.gz ../../02-OUTPUT/02-TRIM/30-T60_94-BV3-PITA_stationary-tex_minus-R2-trimmed.fq.gz ../../02-OUTPUT/02-TRIM/30-T60_94-BV3-PITA_stationary-tex_minus-R2-untrimmed.fq.gz ILLUMINACLIP:/home/lucas/anaconda3/pkgs/trimmomatic-0.38-1/share/trimmomatic-0.38-1/adapters/TruSeq3-PE.fa:2:20:10 LEADING:3 TRAILING:3 SLIDINGWINDOW:4:20 MINLEN:20\n",
      "Using PrefixPair: 'TACACTCTTTCCCTACACGACGCTCTTCCGATCT' and 'GTGACTGGAGTTCAGACGTGTGCTCTTCCGATCT'\n",
      "ILLUMINACLIP: Using 1 prefix pairs, 0 forward/reverse sequences, 0 forward only sequences, 0 reverse only sequences\n"
     ]
    },
    {
     "name": "stdout",
     "output_type": "stream",
     "text": [
      "30-T60_94-BV3-PITA_stationary-tex_minus\n"
     ]
    },
    {
     "name": "stderr",
     "output_type": "stream",
     "text": [
      "Input Read Pairs: 23070214 Both Surviving: 15584161 (67.55%) Forward Only Surviving: 5842667 (25.33%) Reverse Only Surviving: 87408 (0.38%) Dropped: 1555978 (6.74%)\n",
      "TrimmomaticPE: Completed successfully\n",
      "\n",
      "real\t7m12.117s\n",
      "user\t14m59.910s\n",
      "sys\t4m51.744s\n",
      "TrimmomaticPE: Started with arguments:\n",
      " -phred33 -threads 4 -trimlog ../../02-OUTPUT/02-TRIM/trimmomatic-trim_log_23-C16_80-BV2-PITA_log-tex_minus.txt ../../01-INPUT/02-FASTQ/renamed/23-C16_80-BV2-PITA_log-tex_minus-R1.fq.gz ../../01-INPUT/02-FASTQ/renamed/23-C16_80-BV2-PITA_log-tex_minus-R2.fq.gz ../../02-OUTPUT/02-TRIM/23-C16_80-BV2-PITA_log-tex_minus-R1-trimmed.fq.gz ../../02-OUTPUT/02-TRIM/23-C16_80-BV2-PITA_log-tex_minus-R1-untrimmed.fq.gz ../../02-OUTPUT/02-TRIM/23-C16_80-BV2-PITA_log-tex_minus-R2-trimmed.fq.gz ../../02-OUTPUT/02-TRIM/23-C16_80-BV2-PITA_log-tex_minus-R2-untrimmed.fq.gz ILLUMINACLIP:/home/lucas/anaconda3/pkgs/trimmomatic-0.38-1/share/trimmomatic-0.38-1/adapters/TruSeq3-PE.fa:2:20:10 LEADING:3 TRAILING:3 SLIDINGWINDOW:4:20 MINLEN:20\n",
      "Using PrefixPair: 'TACACTCTTTCCCTACACGACGCTCTTCCGATCT' and 'GTGACTGGAGTTCAGACGTGTGCTCTTCCGATCT'\n",
      "ILLUMINACLIP: Using 1 prefix pairs, 0 forward/reverse sequences, 0 forward only sequences, 0 reverse only sequences\n"
     ]
    },
    {
     "name": "stdout",
     "output_type": "stream",
     "text": [
      "23-C16_80-BV2-PITA_log-tex_minus\n"
     ]
    },
    {
     "name": "stderr",
     "output_type": "stream",
     "text": [
      "Input Read Pairs: 19666278 Both Surviving: 8096759 (41.17%) Forward Only Surviving: 10741909 (54.62%) Reverse Only Surviving: 47965 (0.24%) Dropped: 779645 (3.96%)\n",
      "TrimmomaticPE: Completed successfully\n",
      "\n",
      "real\t6m2.631s\n",
      "user\t13m2.116s\n",
      "sys\t4m4.350s\n",
      "TrimmomaticPE: Started with arguments:\n",
      " -phred33 -threads 4 -trimlog ../../02-OUTPUT/02-TRIM/trimmomatic-trim_log_30-T60_94-BV3-PITA_stationary-tex_minus.txt ../../01-INPUT/02-FASTQ/renamed/30-T60_94-BV3-PITA_stationary-tex_minus-R1.fq.gz ../../01-INPUT/02-FASTQ/renamed/30-T60_94-BV3-PITA_stationary-tex_minus-R2.fq.gz ../../02-OUTPUT/02-TRIM/30-T60_94-BV3-PITA_stationary-tex_minus-R1-trimmed.fq.gz ../../02-OUTPUT/02-TRIM/30-T60_94-BV3-PITA_stationary-tex_minus-R1-untrimmed.fq.gz ../../02-OUTPUT/02-TRIM/30-T60_94-BV3-PITA_stationary-tex_minus-R2-trimmed.fq.gz ../../02-OUTPUT/02-TRIM/30-T60_94-BV3-PITA_stationary-tex_minus-R2-untrimmed.fq.gz ILLUMINACLIP:/home/lucas/anaconda3/pkgs/trimmomatic-0.38-1/share/trimmomatic-0.38-1/adapters/TruSeq3-PE.fa:2:20:10 LEADING:3 TRAILING:3 SLIDINGWINDOW:4:20 MINLEN:20\n",
      "Using PrefixPair: 'TACACTCTTTCCCTACACGACGCTCTTCCGATCT' and 'GTGACTGGAGTTCAGACGTGTGCTCTTCCGATCT'\n",
      "ILLUMINACLIP: Using 1 prefix pairs, 0 forward/reverse sequences, 0 forward only sequences, 0 reverse only sequences\n"
     ]
    },
    {
     "name": "stdout",
     "output_type": "stream",
     "text": [
      "30-T60_94-BV3-PITA_stationary-tex_minus\n"
     ]
    },
    {
     "name": "stderr",
     "output_type": "stream",
     "text": [
      "Input Read Pairs: 23070214 Both Surviving: 15584161 (67.55%) Forward Only Surviving: 5842667 (25.33%) Reverse Only Surviving: 87408 (0.38%) Dropped: 1555978 (6.74%)\n",
      "TrimmomaticPE: Completed successfully\n",
      "\n",
      "real\t7m11.145s\n",
      "user\t14m42.509s\n",
      "sys\t4m50.408s\n"
     ]
    }
   ],
   "source": [
    "IN = \"../../01-INPUT/02-FASTQ/renamed\"\n",
    "OUT = \"../../02-OUTPUT/02-TRIM\"\n",
    "\n",
    "for seq in glob(f\"{IN}/*\"):\n",
    "    seq_handle = seq.split('/')[-1].split('.')[0][:-3]\n",
    "    print(seq_handle)\n",
    "    r1 = seq_handle + \"-R1\"\n",
    "    r2 = seq_handle + \"-R2\"\n",
    "    os.system(f\"time trimmomatic PE -phred33 -threads 4 \\\n",
    "        {IN}/{r1}.fq.gz {IN}/{r2}.fq.gz \\\n",
    "        {OUT}/{r1}-trimmed.fq.gz {OUT}/{r1}-untrimmed.fq.gz \\\n",
    "        {OUT}/{r2}-trimmed.fq.gz {OUT}/{r2}-untrimmed.fq.gz \\\n",
    "        ILLUMINACLIP:/home/lucas/anaconda3/pkgs/trimmomatic-0.38-1/share/trimmomatic-0.38-1/adapters/TruSeq3-PE.fa:2:20:10 \\\n",
    "        LEADING:3 TRAILING:3 SLIDINGWINDOW:4:20 MINLEN:20\")"
   ]
  },
  {
   "cell_type": "code",
   "execution_count": 27,
   "id": "b5e8b2c1-9bbf-43d8-b4c6-3e57353777cd",
   "metadata": {},
   "outputs": [
    {
     "name": "stderr",
     "output_type": "stream",
     "text": [
      "  0%|                                                                                                                                                                                       | 0/60 [00:00<?, ?it/s]"
     ]
    },
    {
     "name": "stdout",
     "output_type": "stream",
     "text": [
      "../../02-OUTPUT/02-TRIM/01-C58-BV1-MOPS_glucose-tex_plus-R1\n"
     ]
    },
    {
     "name": "stderr",
     "output_type": "stream",
     "text": [
      "\n",
      "real\t0m7.955s\n",
      "user\t0m13.683s\n",
      "sys\t0m2.011s\n",
      "gzip: ../../02-OUTPUT/02-TRIM/01-C58-BV1-MOPS_glucose-tex_plus-R1-trimmed_filtered.fq.gz already exists;\tnot overwritten\n",
      "\n",
      "real\t0m0.001s\n",
      "user\t0m0.001s\n",
      "sys\t0m0.000s\n",
      "  2%|██▉                                                                                                                                                                            | 1/60 [00:07<07:49,  7.96s/it]"
     ]
    },
    {
     "name": "stdout",
     "output_type": "stream",
     "text": [
      "../../02-OUTPUT/02-TRIM/10-C58-BV1-PITA_induced-tex_plus-R1\n"
     ]
    },
    {
     "name": "stderr",
     "output_type": "stream",
     "text": [
      "\n",
      "real\t0m8.928s\n",
      "user\t0m14.147s\n",
      "sys\t0m2.278s\n",
      "\n",
      "real\t1m16.937s\n",
      "user\t1m16.420s\n",
      "sys\t0m0.466s\n",
      "  3%|█████▊                                                                                                                                                                         | 2/60 [01:33<51:59, 53.79s/it]"
     ]
    },
    {
     "name": "stdout",
     "output_type": "stream",
     "text": [
      "../../02-OUTPUT/02-TRIM/07-C58-BV1-PITA_log-tex_plus-R2\n"
     ]
    },
    {
     "name": "stderr",
     "output_type": "stream",
     "text": [
      "\n",
      "real\t0m4.805s\n",
      "user\t0m7.632s\n",
      "sys\t0m1.261s\n",
      "\n",
      "real\t0m49.483s\n",
      "user\t0m49.000s\n",
      "sys\t0m0.280s\n",
      "  5%|████████▊                                                                                                                                                                      | 3/60 [02:28<51:19, 54.02s/it]"
     ]
    },
    {
     "name": "stdout",
     "output_type": "stream",
     "text": [
      "../../02-OUTPUT/02-TRIM/17-C16_80-BV2-MOPS_glucose-tex_minus-R2\n"
     ]
    },
    {
     "name": "stderr",
     "output_type": "stream",
     "text": [
      "\n",
      "real\t0m15.556s\n",
      "user\t0m24.821s\n",
      "sys\t0m4.084s\n",
      "\n",
      "real\t2m27.441s\n",
      "user\t2m26.555s\n",
      "sys\t0m0.822s\n",
      "  7%|███████████▌                                                                                                                                                                 | 4/60 [05:11<1:30:34, 97.05s/it]"
     ]
    },
    {
     "name": "stdout",
     "output_type": "stream",
     "text": [
      "../../02-OUTPUT/02-TRIM/23-C16_80-BV2-PITA_log-tex_minus-R1\n"
     ]
    },
    {
     "name": "stderr",
     "output_type": "stream",
     "text": [
      "\n",
      "real\t0m5.934s\n",
      "user\t0m9.821s\n",
      "sys\t0m1.566s\n",
      "\n",
      "real\t0m32.872s\n",
      "user\t0m32.509s\n",
      "sys\t0m0.346s\n",
      "  8%|██████████████▍                                                                                                                                                              | 5/60 [05:49<1:09:42, 76.05s/it]"
     ]
    },
    {
     "name": "stdout",
     "output_type": "stream",
     "text": [
      "../../02-OUTPUT/02-TRIM/21-T60_94-BV3-MOPS_succinate-tex_minus-R1\n"
     ]
    },
    {
     "name": "stderr",
     "output_type": "stream",
     "text": [
      "\n",
      "real\t0m10.535s\n",
      "user\t0m17.549s\n",
      "sys\t0m2.791s\n",
      "\n",
      "real\t1m24.270s\n",
      "user\t1m23.624s\n",
      "sys\t0m0.606s\n",
      " 10%|█████████████████▎                                                                                                                                                           | 6/60 [07:24<1:14:11, 82.43s/it]"
     ]
    },
    {
     "name": "stdout",
     "output_type": "stream",
     "text": [
      "../../02-OUTPUT/02-TRIM/05-C16_80-BV2-MOPS_succinate-tex_plus-R1\n"
     ]
    },
    {
     "name": "stderr",
     "output_type": "stream",
     "text": [
      "\n",
      "real\t0m19.625s\n",
      "user\t0m30.395s\n",
      "sys\t0m4.826s\n",
      "\n",
      "real\t2m27.204s\n",
      "user\t2m26.064s\n",
      "sys\t0m1.072s\n",
      " 12%|████████████████████                                                                                                                                                        | 7/60 [10:11<1:37:11, 110.02s/it]"
     ]
    },
    {
     "name": "stdout",
     "output_type": "stream",
     "text": [
      "../../02-OUTPUT/02-TRIM/22-C58-BV1-PITA_log-tex_minus-R1\n"
     ]
    },
    {
     "name": "stderr",
     "output_type": "stream",
     "text": [
      "\n",
      "real\t0m10.690s\n",
      "user\t0m17.937s\n",
      "sys\t0m2.886s\n",
      "\n",
      "real\t0m56.833s\n",
      "user\t0m56.175s\n",
      "sys\t0m0.586s\n",
      " 13%|███████████████████████                                                                                                                                                      | 8/60 [11:19<1:23:37, 96.49s/it]"
     ]
    },
    {
     "name": "stdout",
     "output_type": "stream",
     "text": [
      "../../02-OUTPUT/02-TRIM/13-C58-BV1-PITA_stationary-tex_plus-R1\n"
     ]
    },
    {
     "name": "stderr",
     "output_type": "stream",
     "text": [
      "\n",
      "real\t0m16.884s\n",
      "user\t0m28.080s\n",
      "sys\t0m4.541s\n",
      "\n",
      "real\t2m19.213s\n",
      "user\t2m18.250s\n",
      "sys\t0m0.882s\n",
      " 15%|█████████████████████████▊                                                                                                                                                  | 9/60 [13:55<1:37:51, 115.13s/it]"
     ]
    },
    {
     "name": "stdout",
     "output_type": "stream",
     "text": [
      "../../02-OUTPUT/02-TRIM/04-C58-BV1-MOPS_succinate-tex_plus-R1\n"
     ]
    },
    {
     "name": "stderr",
     "output_type": "stream",
     "text": [
      "\n",
      "real\t0m23.889s\n",
      "user\t0m39.586s\n",
      "sys\t0m6.409s\n",
      "\n",
      "real\t3m8.550s\n",
      "user\t3m6.815s\n",
      "sys\t0m1.248s\n",
      " 17%|████████████████████████████▌                                                                                                                                              | 10/60 [17:27<2:00:58, 145.17s/it]"
     ]
    },
    {
     "name": "stdout",
     "output_type": "stream",
     "text": [
      "../../02-OUTPUT/02-TRIM/06-T60_94-BV3-MOPS_succinate-tex_plus-R2\n"
     ]
    },
    {
     "name": "stderr",
     "output_type": "stream",
     "text": [
      "\n",
      "real\t0m21.432s\n",
      "user\t0m35.472s\n",
      "sys\t0m5.491s\n",
      "\n",
      "real\t3m53.243s\n",
      "user\t3m51.913s\n",
      "sys\t0m1.225s\n",
      " 18%|███████████████████████████████▎                                                                                                                                           | 11/60 [21:42<2:25:55, 178.69s/it]"
     ]
    },
    {
     "name": "stdout",
     "output_type": "stream",
     "text": [
      "../../02-OUTPUT/02-TRIM/25-C58-BV1-PITA_induced-tex_minus-R2\n"
     ]
    },
    {
     "name": "stderr",
     "output_type": "stream",
     "text": [
      "\n",
      "real\t0m11.919s\n",
      "user\t0m19.723s\n",
      "sys\t0m3.398s\n",
      "\n",
      "real\t1m35.309s\n",
      "user\t1m34.581s\n",
      "sys\t0m0.679s\n",
      " 20%|██████████████████████████████████▏                                                                                                                                        | 12/60 [23:29<2:05:33, 156.95s/it]"
     ]
    },
    {
     "name": "stdout",
     "output_type": "stream",
     "text": [
      "../../02-OUTPUT/02-TRIM/12-T60_94-BV3-PITA_induced-tex_plus-R1\n"
     ]
    },
    {
     "name": "stderr",
     "output_type": "stream",
     "text": [
      "\n",
      "real\t0m7.400s\n",
      "user\t0m12.341s\n",
      "sys\t0m1.897s\n",
      "\n",
      "real\t1m7.057s\n",
      "user\t1m6.591s\n",
      "sys\t0m0.433s\n",
      " 22%|█████████████████████████████████████                                                                                                                                      | 13/60 [24:44<1:43:22, 131.96s/it]"
     ]
    },
    {
     "name": "stdout",
     "output_type": "stream",
     "text": [
      "../../02-OUTPUT/02-TRIM/25-C58-BV1-PITA_induced-tex_minus-R1\n"
     ]
    },
    {
     "name": "stderr",
     "output_type": "stream",
     "text": [
      "\n",
      "real\t0m11.337s\n",
      "user\t0m18.893s\n",
      "sys\t0m3.335s\n",
      "\n",
      "real\t0m52.162s\n",
      "user\t0m51.480s\n",
      "sys\t0m0.652s\n",
      " 23%|███████████████████████████████████████▉                                                                                                                                   | 14/60 [25:47<1:25:19, 111.28s/it]"
     ]
    },
    {
     "name": "stdout",
     "output_type": "stream",
     "text": [
      "../../02-OUTPUT/02-TRIM/30-T60_94-BV3-PITA_stationary-tex_minus-R2\n"
     ]
    },
    {
     "name": "stderr",
     "output_type": "stream",
     "text": [
      "\n",
      "real\t0m12.034s\n",
      "user\t0m19.773s\n",
      "sys\t0m3.217s\n",
      "\n",
      "real\t1m44.058s\n",
      "user\t1m43.304s\n",
      "sys\t0m0.706s\n",
      " 25%|██████████████████████████████████████████▊                                                                                                                                | 15/60 [27:43<1:24:33, 112.74s/it]"
     ]
    },
    {
     "name": "stdout",
     "output_type": "stream",
     "text": [
      "../../02-OUTPUT/02-TRIM/17-C16_80-BV2-MOPS_glucose-tex_minus-R1\n"
     ]
    },
    {
     "name": "stderr",
     "output_type": "stream",
     "text": [
      "\n",
      "real\t0m14.375s\n",
      "user\t0m24.035s\n",
      "sys\t0m3.995s\n",
      "\n",
      "real\t1m32.654s\n",
      "user\t1m31.776s\n",
      "sys\t0m0.816s\n",
      " 27%|█████████████████████████████████████████████▌                                                                                                                             | 16/60 [29:30<1:21:24, 111.02s/it]"
     ]
    },
    {
     "name": "stdout",
     "output_type": "stream",
     "text": [
      "../../02-OUTPUT/02-TRIM/16-C58-BV1-MOPS_glucose-tex_minus-R1\n"
     ]
    },
    {
     "name": "stderr",
     "output_type": "stream",
     "text": [
      "\n",
      "real\t0m15.050s\n",
      "user\t0m25.054s\n",
      "sys\t0m4.390s\n",
      "\n",
      "real\t1m30.274s\n",
      "user\t1m29.401s\n",
      "sys\t0m0.825s\n",
      " 28%|████████████████████████████████████████████████▍                                                                                                                          | 17/60 [31:16<1:18:20, 109.31s/it]"
     ]
    },
    {
     "name": "stdout",
     "output_type": "stream",
     "text": [
      "../../02-OUTPUT/02-TRIM/22-C58-BV1-PITA_log-tex_minus-R2\n"
     ]
    },
    {
     "name": "stderr",
     "output_type": "stream",
     "text": [
      "\n",
      "real\t0m11.018s\n",
      "user\t0m18.248s\n",
      "sys\t0m2.967s\n",
      "\n",
      "real\t1m38.261s\n",
      "user\t1m37.538s\n",
      "sys\t0m0.656s\n",
      " 30%|███████████████████████████████████████████████████▎                                                                                                                       | 18/60 [33:05<1:16:30, 109.30s/it]"
     ]
    },
    {
     "name": "stdout",
     "output_type": "stream",
     "text": [
      "../../02-OUTPUT/02-TRIM/11-C16_80-BV2-PITA_induced-tex_plus-R1\n"
     ]
    },
    {
     "name": "stderr",
     "output_type": "stream",
     "text": [
      "\n",
      "real\t0m6.298s\n",
      "user\t0m10.335s\n",
      "sys\t0m1.802s\n",
      "\n",
      "real\t0m59.828s\n",
      "user\t0m59.440s\n",
      "sys\t0m0.359s\n",
      " 32%|██████████████████████████████████████████████████████▍                                                                                                                     | 19/60 [34:11<1:05:49, 96.34s/it]"
     ]
    },
    {
     "name": "stdout",
     "output_type": "stream",
     "text": [
      "../../02-OUTPUT/02-TRIM/14-C16_80-BV2-PITA_stationary-tex_plus-R2\n"
     ]
    },
    {
     "name": "stderr",
     "output_type": "stream",
     "text": [
      "\n",
      "real\t0m7.332s\n",
      "user\t0m12.048s\n",
      "sys\t0m2.062s\n",
      "\n",
      "real\t1m13.293s\n",
      "user\t1m12.831s\n",
      "sys\t0m0.429s\n",
      " 33%|█████████████████████████████████████████████████████████▎                                                                                                                  | 20/60 [35:32<1:01:04, 91.62s/it]"
     ]
    },
    {
     "name": "stdout",
     "output_type": "stream",
     "text": [
      "../../02-OUTPUT/02-TRIM/18-T60_94-BV3-MOPS_glucose-tex_minus-R1\n"
     ]
    },
    {
     "name": "stderr",
     "output_type": "stream",
     "text": [
      "\n",
      "real\t0m7.455s\n",
      "user\t0m12.507s\n",
      "sys\t0m1.987s\n",
      "\n",
      "real\t0m38.815s\n",
      "user\t0m38.306s\n",
      "sys\t0m0.483s\n",
      " 35%|████████████████████████████████████████████████████████████▉                                                                                                                 | 21/60 [36:18<50:42, 78.01s/it]"
     ]
    },
    {
     "name": "stdout",
     "output_type": "stream",
     "text": [
      "../../02-OUTPUT/02-TRIM/15-T60_94-BV3-PITA_stationary-tex_plus-R1\n"
     ]
    },
    {
     "name": "stderr",
     "output_type": "stream",
     "text": [
      "\n",
      "real\t0m9.972s\n",
      "user\t0m16.538s\n",
      "sys\t0m2.877s\n",
      "\n",
      "real\t0m58.370s\n",
      "user\t0m57.745s\n",
      "sys\t0m0.593s\n",
      " 37%|███████████████████████████████████████████████████████████████▊                                                                                                              | 22/60 [37:26<47:34, 75.11s/it]"
     ]
    },
    {
     "name": "stdout",
     "output_type": "stream",
     "text": [
      "../../02-OUTPUT/02-TRIM/13-C58-BV1-PITA_stationary-tex_plus-R2\n"
     ]
    },
    {
     "name": "stderr",
     "output_type": "stream",
     "text": [
      "\n",
      "real\t0m17.305s\n",
      "user\t0m28.261s\n",
      "sys\t0m4.742s\n",
      "\n",
      "real\t3m2.986s\n",
      "user\t3m1.905s\n",
      "sys\t0m0.989s\n",
      " 38%|█████████████████████████████████████████████████████████████████▌                                                                                                         | 23/60 [40:46<1:09:29, 112.68s/it]"
     ]
    },
    {
     "name": "stdout",
     "output_type": "stream",
     "text": [
      "../../02-OUTPUT/02-TRIM/26-C16_80-BV2-PITA_induced-tex_minus-R2\n"
     ]
    },
    {
     "name": "stderr",
     "output_type": "stream",
     "text": [
      "\n",
      "real\t0m9.654s\n",
      "user\t0m16.017s\n",
      "sys\t0m2.664s\n",
      "\n",
      "real\t1m13.873s\n",
      "user\t1m13.306s\n",
      "sys\t0m0.529s\n",
      " 40%|████████████████████████████████████████████████████████████████████▍                                                                                                      | 24/60 [42:10<1:02:21, 103.93s/it]"
     ]
    },
    {
     "name": "stdout",
     "output_type": "stream",
     "text": [
      "../../02-OUTPUT/02-TRIM/24-T60_94-BV3-PITA_log-tex_minus-R2\n"
     ]
    },
    {
     "name": "stderr",
     "output_type": "stream",
     "text": [
      "\n",
      "real\t0m5.388s\n",
      "user\t0m8.762s\n",
      "sys\t0m1.565s\n",
      "\n",
      "real\t0m45.947s\n",
      "user\t0m45.594s\n",
      "sys\t0m0.330s\n",
      " 42%|████████████████████████████████████████████████████████████████████████▌                                                                                                     | 25/60 [43:01<51:25, 88.15s/it]"
     ]
    },
    {
     "name": "stdout",
     "output_type": "stream",
     "text": [
      "../../02-OUTPUT/02-TRIM/19-C58-BV1-MOPS_succinate-tex_minus-R2\n"
     ]
    },
    {
     "name": "stderr",
     "output_type": "stream",
     "text": [
      "\n",
      "real\t0m11.840s\n",
      "user\t0m19.688s\n",
      "sys\t0m3.130s\n",
      "\n",
      "real\t1m50.613s\n",
      "user\t1m49.813s\n",
      "sys\t0m0.669s\n",
      " 43%|███████████████████████████████████████████████████████████████████████████▍                                                                                                  | 26/60 [45:04<55:47, 98.45s/it]"
     ]
    },
    {
     "name": "stdout",
     "output_type": "stream",
     "text": [
      "../../02-OUTPUT/02-TRIM/02-C16_80-BV2-MOPS_glucose-tex_plus-R2\n"
     ]
    },
    {
     "name": "stderr",
     "output_type": "stream",
     "text": [
      "\n",
      "real\t0m13.777s\n",
      "user\t0m21.811s\n",
      "sys\t0m3.778s\n",
      "\n",
      "real\t2m20.105s\n",
      "user\t2m19.294s\n",
      "sys\t0m0.729s\n",
      " 45%|████████████████████████████████████████████████████████████████████████████▉                                                                                              | 27/60 [47:38<1:03:17, 115.08s/it]"
     ]
    },
    {
     "name": "stdout",
     "output_type": "stream",
     "text": [
      "../../02-OUTPUT/02-TRIM/27-T60_94-BV3-PITA_induced-tex_minus-R2\n"
     ]
    },
    {
     "name": "stderr",
     "output_type": "stream",
     "text": [
      "\n",
      "real\t0m10.534s\n",
      "user\t0m17.409s\n",
      "sys\t0m2.602s\n",
      "\n",
      "real\t1m38.296s\n",
      "user\t1m37.615s\n",
      "sys\t0m0.636s\n",
      " 47%|███████████████████████████████████████████████████████████████████████████████▊                                                                                           | 28/60 [49:27<1:00:22, 113.21s/it]"
     ]
    },
    {
     "name": "stdout",
     "output_type": "stream",
     "text": [
      "../../02-OUTPUT/02-TRIM/06-T60_94-BV3-MOPS_succinate-tex_plus-R1\n"
     ]
    },
    {
     "name": "stderr",
     "output_type": "stream",
     "text": [
      "\n",
      "real\t0m21.433s\n",
      "user\t0m34.585s\n",
      "sys\t0m5.865s\n",
      "\n",
      "real\t3m17.562s\n",
      "user\t3m16.377s\n",
      "sys\t0m1.072s\n",
      " 48%|██████████████████████████████████████████████████████████████████████████████████▋                                                                                        | 29/60 [53:06<1:14:53, 144.95s/it]"
     ]
    },
    {
     "name": "stdout",
     "output_type": "stream",
     "text": [
      "../../02-OUTPUT/02-TRIM/08-C16_80-BV2-PITA_log-tex_plus-R2\n"
     ]
    },
    {
     "name": "stderr",
     "output_type": "stream",
     "text": [
      "\n",
      "real\t0m4.309s\n",
      "user\t0m6.882s\n",
      "sys\t0m1.273s\n",
      "\n",
      "real\t0m44.931s\n",
      "user\t0m44.709s\n",
      "sys\t0m0.203s\n",
      " 50%|██████████████████████████████████████████████████████████████████████████████████████▌                                                                                      | 30/60 [53:55<58:07, 116.24s/it]"
     ]
    },
    {
     "name": "stdout",
     "output_type": "stream",
     "text": [
      "../../02-OUTPUT/02-TRIM/24-T60_94-BV3-PITA_log-tex_minus-R1\n"
     ]
    },
    {
     "name": "stderr",
     "output_type": "stream",
     "text": [
      "\n",
      "real\t0m5.085s\n",
      "user\t0m8.497s\n",
      "sys\t0m1.389s\n",
      "\n",
      "real\t0m27.900s\n",
      "user\t0m27.570s\n",
      "sys\t0m0.313s\n",
      " 52%|█████████████████████████████████████████████████████████████████████████████████████████▉                                                                                    | 31/60 [54:28<44:06, 91.26s/it]"
     ]
    },
    {
     "name": "stdout",
     "output_type": "stream",
     "text": [
      "../../02-OUTPUT/02-TRIM/15-T60_94-BV3-PITA_stationary-tex_plus-R2\n"
     ]
    },
    {
     "name": "stderr",
     "output_type": "stream",
     "text": [
      "\n",
      "real\t0m10.431s\n",
      "user\t0m17.136s\n",
      "sys\t0m2.844s\n",
      "\n",
      "real\t1m33.553s\n",
      "user\t1m32.811s\n",
      "sys\t0m0.586s\n",
      " 53%|████████████████████████████████████████████████████████████████████████████████████████████▊                                                                                 | 32/60 [56:12<44:22, 95.08s/it]"
     ]
    },
    {
     "name": "stdout",
     "output_type": "stream",
     "text": [
      "../../02-OUTPUT/02-TRIM/11-C16_80-BV2-PITA_induced-tex_plus-R2\n"
     ]
    },
    {
     "name": "stderr",
     "output_type": "stream",
     "text": [
      "\n",
      "real\t0m6.531s\n",
      "user\t0m10.511s\n",
      "sys\t0m1.675s\n",
      "\n",
      "real\t1m15.532s\n",
      "user\t1m15.093s\n",
      "sys\t0m0.380s\n",
      " 55%|███████████████████████████████████████████████████████████████████████████████████████████████▋                                                                              | 33/60 [57:34<41:01, 91.18s/it]"
     ]
    },
    {
     "name": "stdout",
     "output_type": "stream",
     "text": [
      "../../02-OUTPUT/02-TRIM/09-T60_94-BV3-PITA_log-tex_plus-R1\n"
     ]
    },
    {
     "name": "stderr",
     "output_type": "stream",
     "text": [
      "\n",
      "real\t0m5.486s\n",
      "user\t0m9.221s\n",
      "sys\t0m1.364s\n",
      "\n",
      "real\t0m45.244s\n",
      "user\t0m44.894s\n",
      "sys\t0m0.326s\n",
      " 57%|██████████████████████████████████████████████████████████████████████████████████████████████████▌                                                                           | 34/60 [58:25<34:15, 79.04s/it]"
     ]
    },
    {
     "name": "stdout",
     "output_type": "stream",
     "text": [
      "../../02-OUTPUT/02-TRIM/23-C16_80-BV2-PITA_log-tex_minus-R2\n"
     ]
    },
    {
     "name": "stderr",
     "output_type": "stream",
     "text": [
      "\n",
      "real\t0m6.151s\n",
      "user\t0m10.229s\n",
      "sys\t0m1.552s\n",
      "\n",
      "real\t0m57.380s\n",
      "user\t0m57.004s\n",
      "sys\t0m0.350s\n",
      " 58%|█████████████████████████████████████████████████████████████████████████████████████████████████████▌                                                                        | 35/60 [59:28<30:59, 74.39s/it]"
     ]
    },
    {
     "name": "stdout",
     "output_type": "stream",
     "text": [
      "../../02-OUTPUT/02-TRIM/29-C16_80-BV2-PITA_stationary-tex_minus-R2\n"
     ]
    },
    {
     "name": "stderr",
     "output_type": "stream",
     "text": [
      "\n",
      "real\t0m13.784s\n",
      "user\t0m23.130s\n",
      "sys\t0m3.579s\n",
      "\n",
      "real\t2m5.302s\n",
      "user\t2m4.442s\n",
      "sys\t0m0.796s\n",
      " 60%|███████████████████████████████████████████████████████████████████████████████████████████████████████▏                                                                    | 36/60 [1:01:47<37:31, 93.80s/it]"
     ]
    },
    {
     "name": "stdout",
     "output_type": "stream",
     "text": [
      "../../02-OUTPUT/02-TRIM/21-T60_94-BV3-MOPS_succinate-tex_minus-R2\n"
     ]
    },
    {
     "name": "stderr",
     "output_type": "stream",
     "text": [
      "\n",
      "real\t0m10.960s\n",
      "user\t0m17.904s\n",
      "sys\t0m2.899s\n",
      "\n",
      "real\t1m57.574s\n",
      "user\t1m56.832s\n",
      "sys\t0m0.686s\n",
      " 62%|█████████████████████████████████████████████████████████████████████████████████████████████████████████▍                                                                 | 37/60 [1:03:56<39:57, 104.22s/it]"
     ]
    },
    {
     "name": "stdout",
     "output_type": "stream",
     "text": [
      "../../02-OUTPUT/02-TRIM/03-T60_94-BV3-MOPS_glucose-tex_plus-R1\n"
     ]
    },
    {
     "name": "stderr",
     "output_type": "stream",
     "text": [
      "\n",
      "real\t0m24.536s\n",
      "user\t0m40.626s\n",
      "sys\t0m6.453s\n",
      "\n",
      "real\t4m2.318s\n",
      "user\t4m0.409s\n",
      "sys\t0m1.421s\n",
      " 63%|████████████████████████████████████████████████████████████████████████████████████████████████████████████▎                                                              | 38/60 [1:08:23<56:06, 153.01s/it]"
     ]
    },
    {
     "name": "stdout",
     "output_type": "stream",
     "text": [
      "../../02-OUTPUT/02-TRIM/28-C58-BV1-PITA_stationary-tex_minus-R1\n"
     ]
    },
    {
     "name": "stderr",
     "output_type": "stream",
     "text": [
      "\n",
      "real\t0m14.394s\n",
      "user\t0m24.109s\n",
      "sys\t0m4.009s\n",
      "\n",
      "real\t1m12.104s\n",
      "user\t1m10.253s\n",
      "sys\t0m0.789s\n",
      " 65%|███████████████████████████████████████████████████████████████████████████████████████████████████████████████▏                                                           | 39/60 [1:09:49<46:34, 133.06s/it]"
     ]
    },
    {
     "name": "stdout",
     "output_type": "stream",
     "text": [
      "../../02-OUTPUT/02-TRIM/20-C16_80-BV2-MOPS_succinate-tex_minus-R2\n"
     ]
    },
    {
     "name": "stderr",
     "output_type": "stream",
     "text": [
      "\n",
      "real\t0m6.636s\n",
      "user\t0m10.846s\n",
      "sys\t0m1.750s\n",
      "\n",
      "real\t1m10.602s\n",
      "user\t1m10.176s\n",
      "sys\t0m0.383s\n",
      " 67%|██████████████████████████████████████████████████████████████████████████████████████████████████████████████████                                                         | 40/60 [1:11:06<38:46, 116.32s/it]"
     ]
    },
    {
     "name": "stdout",
     "output_type": "stream",
     "text": [
      "../../02-OUTPUT/02-TRIM/01-C58-BV1-MOPS_glucose-tex_plus-R2\n"
     ]
    },
    {
     "name": "stderr",
     "output_type": "stream",
     "text": [
      "\n",
      "real\t0m8.651s\n",
      "user\t0m13.990s\n",
      "sys\t0m2.046s\n",
      "\n",
      "real\t1m28.699s\n",
      "user\t1m28.175s\n",
      "sys\t0m0.479s\n",
      " 68%|████████████████████████████████████████████████████████████████████████████████████████████████████████████████████▊                                                      | 41/60 [1:12:44<35:01, 110.63s/it]"
     ]
    },
    {
     "name": "stdout",
     "output_type": "stream",
     "text": [
      "../../02-OUTPUT/02-TRIM/18-T60_94-BV3-MOPS_glucose-tex_minus-R2\n"
     ]
    },
    {
     "name": "stderr",
     "output_type": "stream",
     "text": [
      "\n",
      "real\t0m7.870s\n",
      "user\t0m12.987s\n",
      "sys\t0m2.231s\n",
      "\n",
      "real\t1m3.081s\n",
      "user\t1m2.528s\n",
      "sys\t0m0.439s\n",
      " 70%|████████████████████████████████████████████████████████████████████████████████████████████████████████████████████████▍                                                   | 42/60 [1:13:55<29:37, 98.73s/it]"
     ]
    },
    {
     "name": "stdout",
     "output_type": "stream",
     "text": [
      "../../02-OUTPUT/02-TRIM/19-C58-BV1-MOPS_succinate-tex_minus-R1\n"
     ]
    },
    {
     "name": "stderr",
     "output_type": "stream",
     "text": [
      "\n",
      "real\t0m11.456s\n",
      "user\t0m19.226s\n",
      "sys\t0m2.924s\n",
      "\n",
      "real\t1m10.562s\n",
      "user\t1m9.518s\n",
      "sys\t0m0.616s\n",
      " 72%|███████████████████████████████████████████████████████████████████████████████████████████████████████████████████████████▎                                                | 43/60 [1:15:17<26:33, 93.72s/it]"
     ]
    },
    {
     "name": "stdout",
     "output_type": "stream",
     "text": [
      "../../02-OUTPUT/02-TRIM/03-T60_94-BV3-MOPS_glucose-tex_plus-R2\n"
     ]
    },
    {
     "name": "stderr",
     "output_type": "stream",
     "text": [
      "\n",
      "real\t0m25.349s\n",
      "user\t0m41.472s\n",
      "sys\t0m6.924s\n",
      "\n",
      "real\t4m54.535s\n",
      "user\t4m52.231s\n",
      "sys\t0m1.391s\n",
      " 73%|█████████████████████████████████████████████████████████████████████████████████████████████████████████████████████████████▍                                             | 44/60 [1:20:37<43:05, 161.57s/it]"
     ]
    },
    {
     "name": "stdout",
     "output_type": "stream",
     "text": [
      "../../02-OUTPUT/02-TRIM/10-C58-BV1-PITA_induced-tex_plus-R2\n"
     ]
    },
    {
     "name": "stderr",
     "output_type": "stream",
     "text": [
      "\n",
      "real\t0m8.774s\n",
      "user\t0m14.524s\n",
      "sys\t0m2.048s\n",
      "\n",
      "real\t1m41.514s\n",
      "user\t1m41.036s\n",
      "sys\t0m0.429s\n",
      " 75%|████████████████████████████████████████████████████████████████████████████████████████████████████████████████████████████████▎                                          | 45/60 [1:22:27<36:32, 146.19s/it]"
     ]
    },
    {
     "name": "stdout",
     "output_type": "stream",
     "text": [
      "../../02-OUTPUT/02-TRIM/02-C16_80-BV2-MOPS_glucose-tex_plus-R1\n"
     ]
    },
    {
     "name": "stderr",
     "output_type": "stream",
     "text": [
      "\n",
      "real\t0m12.819s\n",
      "user\t0m21.292s\n",
      "sys\t0m3.415s\n",
      "\n",
      "real\t1m50.434s\n",
      "user\t1m48.940s\n",
      "sys\t0m0.732s\n",
      " 77%|███████████████████████████████████████████████████████████████████████████████████████████████████████████████████████████████████                                        | 46/60 [1:24:30<32:30, 139.31s/it]"
     ]
    },
    {
     "name": "stdout",
     "output_type": "stream",
     "text": [
      "../../02-OUTPUT/02-TRIM/20-C16_80-BV2-MOPS_succinate-tex_minus-R1\n"
     ]
    },
    {
     "name": "stderr",
     "output_type": "stream",
     "text": [
      "\n",
      "real\t0m6.386s\n",
      "user\t0m10.424s\n",
      "sys\t0m1.805s\n",
      "\n",
      "real\t0m47.448s\n",
      "user\t0m47.009s\n",
      "sys\t0m0.416s\n",
      " 78%|█████████████████████████████████████████████████████████████████████████████████████████████████████████████████████████████████████▉                                     | 47/60 [1:25:24<24:37, 113.67s/it]"
     ]
    },
    {
     "name": "stdout",
     "output_type": "stream",
     "text": [
      "../../02-OUTPUT/02-TRIM/05-C16_80-BV2-MOPS_succinate-tex_plus-R2\n"
     ]
    },
    {
     "name": "stderr",
     "output_type": "stream",
     "text": [
      "\n",
      "real\t0m18.779s\n",
      "user\t0m30.663s\n",
      "sys\t0m4.973s\n",
      "\n",
      "real\t3m10.847s\n",
      "user\t3m9.675s\n",
      "sys\t0m1.075s\n",
      " 80%|████████████████████████████████████████████████████████████████████████████████████████████████████████████████████████████████████████▊                                  | 48/60 [1:28:54<28:29, 142.46s/it]"
     ]
    },
    {
     "name": "stdout",
     "output_type": "stream",
     "text": [
      "../../02-OUTPUT/02-TRIM/14-C16_80-BV2-PITA_stationary-tex_plus-R1\n"
     ]
    },
    {
     "name": "stderr",
     "output_type": "stream",
     "text": [
      "\n",
      "real\t0m7.134s\n",
      "user\t0m11.608s\n",
      "sys\t0m1.982s\n",
      "\n",
      "real\t0m56.368s\n",
      "user\t0m55.899s\n",
      "sys\t0m0.440s\n",
      " 82%|███████████████████████████████████████████████████████████████████████████████████████████████████████████████████████████████████████████▋                               | 49/60 [1:29:57<21:46, 118.77s/it]"
     ]
    },
    {
     "name": "stdout",
     "output_type": "stream",
     "text": [
      "../../02-OUTPUT/02-TRIM/30-T60_94-BV3-PITA_stationary-tex_minus-R1\n"
     ]
    },
    {
     "name": "stderr",
     "output_type": "stream",
     "text": [
      "\n",
      "real\t0m11.647s\n",
      "user\t0m18.956s\n",
      "sys\t0m3.028s\n",
      "\n",
      "real\t1m0.460s\n",
      "user\t0m59.770s\n",
      "sys\t0m0.662s\n",
      " 83%|██████████████████████████████████████████████████████████████████████████████████████████████████████████████████████████████████████████████▌                            | 50/60 [1:31:09<17:27, 104.77s/it]"
     ]
    },
    {
     "name": "stdout",
     "output_type": "stream",
     "text": [
      "../../02-OUTPUT/02-TRIM/04-C58-BV1-MOPS_succinate-tex_plus-R2\n"
     ]
    },
    {
     "name": "stderr",
     "output_type": "stream",
     "text": [
      "\n",
      "real\t0m25.152s\n",
      "user\t0m41.089s\n",
      "sys\t0m6.273s\n",
      "\n",
      "real\t4m10.583s\n",
      "user\t4m8.793s\n",
      "sys\t0m1.438s\n",
      " 85%|█████████████████████████████████████████████████████████████████████████████████████████████████████████████████████████████████████████████████▎                         | 51/60 [1:35:45<23:24, 156.06s/it]"
     ]
    },
    {
     "name": "stdout",
     "output_type": "stream",
     "text": [
      "../../02-OUTPUT/02-TRIM/16-C58-BV1-MOPS_glucose-tex_minus-R2\n"
     ]
    },
    {
     "name": "stderr",
     "output_type": "stream",
     "text": [
      "\n",
      "real\t0m16.206s\n",
      "user\t0m25.901s\n",
      "sys\t0m4.343s\n",
      "\n",
      "real\t2m20.321s\n",
      "user\t2m19.398s\n",
      "sys\t0m0.845s\n",
      " 87%|████████████████████████████████████████████████████████████████████████████████████████████████████████████████████████████████████████████████████▏                      | 52/60 [1:38:22<20:49, 156.21s/it]"
     ]
    },
    {
     "name": "stdout",
     "output_type": "stream",
     "text": [
      "../../02-OUTPUT/02-TRIM/08-C16_80-BV2-PITA_log-tex_plus-R1\n"
     ]
    },
    {
     "name": "stderr",
     "output_type": "stream",
     "text": [
      "\n",
      "real\t0m4.099s\n",
      "user\t0m6.712s\n",
      "sys\t0m1.156s\n",
      "\n",
      "real\t0m34.062s\n",
      "user\t0m33.785s\n",
      "sys\t0m0.260s\n",
      " 88%|███████████████████████████████████████████████████████████████████████████████████████████████████████████████████████████████████████████████████████                    | 53/60 [1:39:00<14:05, 120.79s/it]"
     ]
    },
    {
     "name": "stdout",
     "output_type": "stream",
     "text": [
      "../../02-OUTPUT/02-TRIM/28-C58-BV1-PITA_stationary-tex_minus-R2\n"
     ]
    },
    {
     "name": "stderr",
     "output_type": "stream",
     "text": [
      "\n",
      "real\t0m14.804s\n",
      "user\t0m24.653s\n",
      "sys\t0m3.770s\n",
      "\n",
      "real\t2m6.818s\n",
      "user\t2m5.847s\n",
      "sys\t0m0.812s\n",
      " 90%|█████████████████████████████████████████████████████████████████████████████████████████████████████████████████████████████████████████████████████████▉                 | 54/60 [1:41:21<12:42, 127.04s/it]"
     ]
    },
    {
     "name": "stdout",
     "output_type": "stream",
     "text": [
      "../../02-OUTPUT/02-TRIM/29-C16_80-BV2-PITA_stationary-tex_minus-R1\n"
     ]
    },
    {
     "name": "stderr",
     "output_type": "stream",
     "text": [
      "\n",
      "real\t0m12.984s\n",
      "user\t0m21.758s\n",
      "sys\t0m3.367s\n",
      "\n",
      "real\t1m11.042s\n",
      "user\t1m9.702s\n",
      "sys\t0m0.675s\n",
      " 92%|████████████████████████████████████████████████████████████████████████████████████████████████████████████████████████████████████████████████████████████▊              | 55/60 [1:42:45<09:30, 114.14s/it]"
     ]
    },
    {
     "name": "stdout",
     "output_type": "stream",
     "text": [
      "../../02-OUTPUT/02-TRIM/07-C58-BV1-PITA_log-tex_plus-R1\n"
     ]
    },
    {
     "name": "stderr",
     "output_type": "stream",
     "text": [
      "\n",
      "real\t0m4.512s\n",
      "user\t0m7.533s\n",
      "sys\t0m1.145s\n",
      "\n",
      "real\t0m39.061s\n",
      "user\t0m38.791s\n",
      "sys\t0m0.240s\n",
      " 93%|████████████████████████████████████████████████████████████████████████████████████████████████████████████████████████████████████████████████████████████████▌           | 56/60 [1:43:29<06:11, 92.97s/it]"
     ]
    },
    {
     "name": "stdout",
     "output_type": "stream",
     "text": [
      "../../02-OUTPUT/02-TRIM/09-T60_94-BV3-PITA_log-tex_plus-R2\n"
     ]
    },
    {
     "name": "stderr",
     "output_type": "stream",
     "text": [
      "\n",
      "real\t0m5.689s\n",
      "user\t0m9.214s\n",
      "sys\t0m1.558s\n",
      "\n",
      "real\t1m0.140s\n",
      "user\t0m59.795s\n",
      "sys\t0m0.303s\n",
      " 95%|███████████████████████████████████████████████████████████████████████████████████████████████████████████████████████████████████████████████████████████████████▍        | 57/60 [1:44:35<04:14, 84.83s/it]"
     ]
    },
    {
     "name": "stdout",
     "output_type": "stream",
     "text": [
      "../../02-OUTPUT/02-TRIM/27-T60_94-BV3-PITA_induced-tex_minus-R1\n"
     ]
    },
    {
     "name": "stderr",
     "output_type": "stream",
     "text": [
      "\n",
      "real\t0m10.046s\n",
      "user\t0m16.781s\n",
      "sys\t0m2.800s\n",
      "\n",
      "real\t0m56.491s\n",
      "user\t0m55.865s\n",
      "sys\t0m0.596s\n",
      " 97%|██████████████████████████████████████████████████████████████████████████████████████████████████████████████████████████████████████████████████████████████████████▎     | 58/60 [1:45:41<02:38, 79.34s/it]"
     ]
    },
    {
     "name": "stdout",
     "output_type": "stream",
     "text": [
      "../../02-OUTPUT/02-TRIM/26-C16_80-BV2-PITA_induced-tex_minus-R1\n"
     ]
    },
    {
     "name": "stderr",
     "output_type": "stream",
     "text": [
      "\n",
      "real\t0m9.205s\n",
      "user\t0m15.447s\n",
      "sys\t0m2.568s\n",
      "\n",
      "real\t0m40.905s\n",
      "user\t0m40.355s\n",
      "sys\t0m0.529s\n",
      " 98%|█████████████████████████████████████████████████████████████████████████████████████████████████████████████████████████████████████████████████████████████████████████▏  | 59/60 [1:46:31<01:10, 70.58s/it]"
     ]
    },
    {
     "name": "stdout",
     "output_type": "stream",
     "text": [
      "../../02-OUTPUT/02-TRIM/12-T60_94-BV3-PITA_induced-tex_plus-R2\n"
     ]
    },
    {
     "name": "stderr",
     "output_type": "stream",
     "text": [
      "\n",
      "real\t0m7.677s\n",
      "user\t0m12.427s\n",
      "sys\t0m2.041s\n",
      "\n",
      "real\t1m29.685s\n",
      "user\t1m28.385s\n",
      "sys\t0m0.443s\n",
      "100%|███████████████████████████████████████████████████████████████████████████████████████████████████████████████████████████████████████████████████████████████████████████| 60/60 [1:48:09<00:00, 108.15s/it]\n"
     ]
    }
   ],
   "source": [
    "for trimmed_seq in tqdm(glob(f'../../02-OUTPUT/02-TRIM/*-trimmed.fq.gz')):\n",
    "    handle = trimmed_seq.replace('-trimmed.fq.gz','')\n",
    "    print(handle)\n",
    "    os.system(f'time gunzip -c {handle}-trimmed.fq.gz | seqkit grep -v -p ACGACGCTCTTC -o {handle}-trimmed_filtered.fq')\n",
    "    os.system(f'time gzip {handle}-trimmed_filtered.fq')"
   ]
  },
  {
   "cell_type": "markdown",
   "id": "a404979e-9fb2-4b1d-b999-91cb25a00f35",
   "metadata": {},
   "source": [
    "# 03 ALIGN"
   ]
  },
  {
   "cell_type": "markdown",
   "id": "3efa9a79-53fe-4354-abe7-e9dae7488023",
   "metadata": {},
   "source": [
    "### BOWTIE2"
   ]
  },
  {
   "cell_type": "code",
   "execution_count": null,
   "id": "686bc77b-65d4-451b-9fae-6533f23d4b26",
   "metadata": {
    "collapsed": true,
    "jupyter": {
     "outputs_hidden": true
    }
   },
   "outputs": [
    {
     "name": "stderr",
     "output_type": "stream",
     "text": [
      "INFO: Command: /usr/bin/bowtie2-build-s --wrapper basic-0 ../../01-INPUT/03-REFERENCE/BV2-C16_80.fna ../../02-OUTPUT/03-ALIGN/01-BOWTIE2/BV2-C16_80\n",
      "Building a SMALL index\n",
      "Renaming ../../02-OUTPUT/03-ALIGN/01-BOWTIE2/BV2-C16_80.3.bt2.tmp to ../../02-OUTPUT/03-ALIGN/01-BOWTIE2/BV2-C16_80.3.bt2\n",
      "Renaming ../../02-OUTPUT/03-ALIGN/01-BOWTIE2/BV2-C16_80.4.bt2.tmp to ../../02-OUTPUT/03-ALIGN/01-BOWTIE2/BV2-C16_80.4.bt2\n",
      "Renaming ../../02-OUTPUT/03-ALIGN/01-BOWTIE2/BV2-C16_80.1.bt2.tmp to ../../02-OUTPUT/03-ALIGN/01-BOWTIE2/BV2-C16_80.1.bt2\n",
      "Renaming ../../02-OUTPUT/03-ALIGN/01-BOWTIE2/BV2-C16_80.2.bt2.tmp to ../../02-OUTPUT/03-ALIGN/01-BOWTIE2/BV2-C16_80.2.bt2\n",
      "Renaming ../../02-OUTPUT/03-ALIGN/01-BOWTIE2/BV2-C16_80.rev.1.bt2.tmp to ../../02-OUTPUT/03-ALIGN/01-BOWTIE2/BV2-C16_80.rev.1.bt2\n",
      "Renaming ../../02-OUTPUT/03-ALIGN/01-BOWTIE2/BV2-C16_80.rev.2.bt2.tmp to ../../02-OUTPUT/03-ALIGN/01-BOWTIE2/BV2-C16_80.rev.2.bt2\n",
      "INFO: Command: /usr/bin/bowtie2-build-s --wrapper basic-0 ../../01-INPUT/03-REFERENCE/BV1-C58.fna ../../02-OUTPUT/03-ALIGN/01-BOWTIE2/BV1-C58\n",
      "Building a SMALL index\n",
      "Renaming ../../02-OUTPUT/03-ALIGN/01-BOWTIE2/BV1-C58.3.bt2.tmp to ../../02-OUTPUT/03-ALIGN/01-BOWTIE2/BV1-C58.3.bt2\n",
      "Renaming ../../02-OUTPUT/03-ALIGN/01-BOWTIE2/BV1-C58.4.bt2.tmp to ../../02-OUTPUT/03-ALIGN/01-BOWTIE2/BV1-C58.4.bt2\n",
      "Renaming ../../02-OUTPUT/03-ALIGN/01-BOWTIE2/BV1-C58.1.bt2.tmp to ../../02-OUTPUT/03-ALIGN/01-BOWTIE2/BV1-C58.1.bt2\n",
      "Renaming ../../02-OUTPUT/03-ALIGN/01-BOWTIE2/BV1-C58.2.bt2.tmp to ../../02-OUTPUT/03-ALIGN/01-BOWTIE2/BV1-C58.2.bt2\n",
      "Renaming ../../02-OUTPUT/03-ALIGN/01-BOWTIE2/BV1-C58.rev.1.bt2.tmp to ../../02-OUTPUT/03-ALIGN/01-BOWTIE2/BV1-C58.rev.1.bt2\n",
      "Renaming ../../02-OUTPUT/03-ALIGN/01-BOWTIE2/BV1-C58.rev.2.bt2.tmp to ../../02-OUTPUT/03-ALIGN/01-BOWTIE2/BV1-C58.rev.2.bt2\n",
      "INFO: Command: /usr/bin/bowtie2-build-s --wrapper basic-0 ../../01-INPUT/03-REFERENCE/BV3-T60_94.fna ../../02-OUTPUT/03-ALIGN/01-BOWTIE2/BV3-T60_94\n",
      "Building a SMALL index\n",
      "Renaming ../../02-OUTPUT/03-ALIGN/01-BOWTIE2/BV3-T60_94.3.bt2.tmp to ../../02-OUTPUT/03-ALIGN/01-BOWTIE2/BV3-T60_94.3.bt2\n",
      "Renaming ../../02-OUTPUT/03-ALIGN/01-BOWTIE2/BV3-T60_94.4.bt2.tmp to ../../02-OUTPUT/03-ALIGN/01-BOWTIE2/BV3-T60_94.4.bt2\n",
      "Renaming ../../02-OUTPUT/03-ALIGN/01-BOWTIE2/BV3-T60_94.1.bt2.tmp to ../../02-OUTPUT/03-ALIGN/01-BOWTIE2/BV3-T60_94.1.bt2\n",
      "Renaming ../../02-OUTPUT/03-ALIGN/01-BOWTIE2/BV3-T60_94.2.bt2.tmp to ../../02-OUTPUT/03-ALIGN/01-BOWTIE2/BV3-T60_94.2.bt2\n",
      "Renaming ../../02-OUTPUT/03-ALIGN/01-BOWTIE2/BV3-T60_94.rev.1.bt2.tmp to ../../02-OUTPUT/03-ALIGN/01-BOWTIE2/BV3-T60_94.rev.1.bt2\n",
      "Renaming ../../02-OUTPUT/03-ALIGN/01-BOWTIE2/BV3-T60_94.rev.2.bt2.tmp to ../../02-OUTPUT/03-ALIGN/01-BOWTIE2/BV3-T60_94.rev.2.bt2\n"
     ]
    }
   ],
   "source": [
    "IN = '../../01-INPUT/03-REFERENCE'\n",
    "OUT = '../../02-OUTPUT/03-ALIGN/01-BOWTIE2'\n",
    "for fna in glob(f'{IN}/*.fna'):\n",
    "    handle = fna.split('/')[-1].replace('.fna','')\n",
    "    os.system(f'bowtie2-build {fna} {OUT}/{handle} --verbose > {OUT}/bt2_build_log.txt')"
   ]
  },
  {
   "cell_type": "code",
   "execution_count": null,
   "id": "fa794b21-3347-461b-bb5d-ae1e908ad0bc",
   "metadata": {
    "tags": []
   },
   "outputs": [
    {
     "name": "stderr",
     "output_type": "stream",
     "text": [
      "  0%|                                                                                                                                                                                       | 0/30 [00:00<?, ?it/s]"
     ]
    },
    {
     "name": "stdout",
     "output_type": "stream",
     "text": [
      "01-C58-BV1-MOPS_glucose-tex_plus\n"
     ]
    },
    {
     "name": "stderr",
     "output_type": "stream",
     "text": [
      "10931482 reads; of these:\n",
      "  10931482 (100.00%) were paired; of these:\n",
      "    954416 (8.73%) aligned concordantly 0 times\n",
      "    437138 (4.00%) aligned concordantly exactly 1 time\n",
      "    9539928 (87.27%) aligned concordantly >1 times\n",
      "    ----\n",
      "    954416 pairs aligned concordantly 0 times; of these:\n",
      "      52516 (5.50%) aligned discordantly 1 time\n",
      "    ----\n",
      "    901900 pairs aligned 0 times concordantly or discordantly; of these:\n",
      "      1803800 mates make up the pairs; of these:\n",
      "        470179 (26.07%) aligned 0 times\n",
      "        51260 (2.84%) aligned exactly 1 time\n",
      "        1282361 (71.09%) aligned >1 times\n",
      "97.85% overall alignment rate\n",
      "\n",
      "real\t5m12.027s\n",
      "user\t52m8.244s\n",
      "sys\t0m24.077s\n",
      "  3%|█████▋                                                                                                                                                                      | 1/30 [05:12<2:30:48, 312.03s/it]"
     ]
    },
    {
     "name": "stdout",
     "output_type": "stream",
     "text": [
      "10-C58-BV1-PITA_induced-tex_plus\n"
     ]
    },
    {
     "name": "stderr",
     "output_type": "stream",
     "text": [
      "11091690 reads; of these:\n",
      "  11091690 (100.00%) were paired; of these:\n",
      "    1046371 (9.43%) aligned concordantly 0 times\n",
      "    937555 (8.45%) aligned concordantly exactly 1 time\n",
      "    9107764 (82.11%) aligned concordantly >1 times\n",
      "    ----\n",
      "    1046371 pairs aligned concordantly 0 times; of these:\n",
      "      70498 (6.74%) aligned discordantly 1 time\n",
      "    ----\n",
      "    975873 pairs aligned 0 times concordantly or discordantly; of these:\n",
      "      1951746 mates make up the pairs; of these:\n",
      "        247275 (12.67%) aligned 0 times\n",
      "        49960 (2.56%) aligned exactly 1 time\n",
      "        1654511 (84.77%) aligned >1 times\n",
      "98.89% overall alignment rate\n",
      "\n",
      "real\t5m9.652s\n",
      "user\t51m44.932s\n",
      "sys\t0m24.892s\n",
      "  7%|███████████▍                                                                                                                                                                | 2/30 [10:21<2:24:57, 310.63s/it]"
     ]
    },
    {
     "name": "stdout",
     "output_type": "stream",
     "text": [
      "23-C16_80-BV2-PITA_log-tex_minus\n"
     ]
    },
    {
     "name": "stderr",
     "output_type": "stream",
     "text": [
      "8096759 reads; of these:\n",
      "  8096759 (100.00%) were paired; of these:\n",
      "    793841 (9.80%) aligned concordantly 0 times\n",
      "    250608 (3.10%) aligned concordantly exactly 1 time\n",
      "    7052310 (87.10%) aligned concordantly >1 times\n",
      "    ----\n",
      "    793841 pairs aligned concordantly 0 times; of these:\n",
      "      26483 (3.34%) aligned discordantly 1 time\n",
      "    ----\n",
      "    767358 pairs aligned 0 times concordantly or discordantly; of these:\n",
      "      1534716 mates make up the pairs; of these:\n",
      "        287414 (18.73%) aligned 0 times\n",
      "        16335 (1.06%) aligned exactly 1 time\n",
      "        1230967 (80.21%) aligned >1 times\n",
      "98.23% overall alignment rate\n",
      "\n",
      "real\t3m14.228s\n",
      "user\t32m25.021s\n",
      "sys\t0m18.160s\n",
      " 10%|█████████████████▏                                                                                                                                                          | 3/30 [13:35<1:55:52, 257.48s/it]"
     ]
    },
    {
     "name": "stdout",
     "output_type": "stream",
     "text": [
      "21-T60_94-BV3-MOPS_succinate-tex_minus\n"
     ]
    },
    {
     "name": "stderr",
     "output_type": "stream",
     "text": [
      "14016452 reads; of these:\n",
      "  14016452 (100.00%) were paired; of these:\n",
      "    1298997 (9.27%) aligned concordantly 0 times\n",
      "    1524027 (10.87%) aligned concordantly exactly 1 time\n",
      "    11193428 (79.86%) aligned concordantly >1 times\n",
      "    ----\n",
      "    1298997 pairs aligned concordantly 0 times; of these:\n",
      "      65342 (5.03%) aligned discordantly 1 time\n",
      "    ----\n",
      "    1233655 pairs aligned 0 times concordantly or discordantly; of these:\n",
      "      2467310 mates make up the pairs; of these:\n",
      "        1598026 (64.77%) aligned 0 times\n",
      "        40654 (1.65%) aligned exactly 1 time\n",
      "        828630 (33.58%) aligned >1 times\n",
      "94.30% overall alignment rate\n",
      "\n",
      "real\t6m27.077s\n",
      "user\t64m39.562s\n",
      "sys\t0m31.932s\n",
      " 13%|██████████████████████▉                                                                                                                                                     | 4/30 [20:02<2:13:44, 308.65s/it]"
     ]
    },
    {
     "name": "stdout",
     "output_type": "stream",
     "text": [
      "05-C16_80-BV2-MOPS_succinate-tex_plus\n"
     ]
    },
    {
     "name": "stderr",
     "output_type": "stream",
     "text": [
      "24290589 reads; of these:\n",
      "  24290589 (100.00%) were paired; of these:\n",
      "    2348369 (9.67%) aligned concordantly 0 times\n",
      "    1570306 (6.46%) aligned concordantly exactly 1 time\n",
      "    20371914 (83.87%) aligned concordantly >1 times\n",
      "    ----\n",
      "    2348369 pairs aligned concordantly 0 times; of these:\n",
      "      215766 (9.19%) aligned discordantly 1 time\n",
      "    ----\n",
      "    2132603 pairs aligned 0 times concordantly or discordantly; of these:\n",
      "      4265206 mates make up the pairs; of these:\n",
      "        644142 (15.10%) aligned 0 times\n",
      "        44705 (1.05%) aligned exactly 1 time\n",
      "        3576359 (83.85%) aligned >1 times\n",
      "98.67% overall alignment rate\n",
      "\n",
      "real\t9m51.098s\n",
      "user\t98m43.802s\n",
      "sys\t0m55.483s\n",
      " 17%|████████████████████████████▋                                                                                                                                               | 5/30 [29:54<2:51:02, 410.50s/it]"
     ]
    },
    {
     "name": "stdout",
     "output_type": "stream",
     "text": [
      "22-C58-BV1-PITA_log-tex_minus\n"
     ]
    },
    {
     "name": "stderr",
     "output_type": "stream",
     "text": [
      "14655722 reads; of these:\n",
      "  14655722 (100.00%) were paired; of these:\n",
      "    1256045 (8.57%) aligned concordantly 0 times\n",
      "    297240 (2.03%) aligned concordantly exactly 1 time\n",
      "    13102437 (89.40%) aligned concordantly >1 times\n",
      "    ----\n",
      "    1256045 pairs aligned concordantly 0 times; of these:\n",
      "      29881 (2.38%) aligned discordantly 1 time\n",
      "    ----\n",
      "    1226164 pairs aligned 0 times concordantly or discordantly; of these:\n",
      "      2452328 mates make up the pairs; of these:\n",
      "        352544 (14.38%) aligned 0 times\n",
      "        21704 (0.89%) aligned exactly 1 time\n",
      "        2078080 (84.74%) aligned >1 times\n",
      "98.80% overall alignment rate\n",
      "\n",
      "real\t7m1.023s\n",
      "user\t70m18.961s\n",
      "sys\t0m33.184s\n",
      " 20%|██████████████████████████████████▍                                                                                                                                         | 6/30 [36:55<2:45:37, 414.08s/it]"
     ]
    },
    {
     "name": "stdout",
     "output_type": "stream",
     "text": [
      "13-C58-BV1-PITA_stationary-tex_plus\n"
     ]
    },
    {
     "name": "stderr",
     "output_type": "stream",
     "text": [
      "22333959 reads; of these:\n",
      "  22333959 (100.00%) were paired; of these:\n",
      "    2199494 (9.85%) aligned concordantly 0 times\n",
      "    793868 (3.55%) aligned concordantly exactly 1 time\n",
      "    19340597 (86.60%) aligned concordantly >1 times\n",
      "    ----\n",
      "    2199494 pairs aligned concordantly 0 times; of these:\n",
      "      108048 (4.91%) aligned discordantly 1 time\n",
      "    ----\n",
      "    2091446 pairs aligned 0 times concordantly or discordantly; of these:\n",
      "      4182892 mates make up the pairs; of these:\n",
      "        511929 (12.24%) aligned 0 times\n",
      "        38401 (0.92%) aligned exactly 1 time\n",
      "        3632562 (86.84%) aligned >1 times\n",
      "98.85% overall alignment rate\n",
      "\n",
      "real\t10m45.070s\n",
      "user\t107m46.220s\n",
      "sys\t0m50.410s\n",
      " 23%|████████████████████████████████████████▏                                                                                                                                   | 7/30 [47:40<3:07:40, 489.60s/it]"
     ]
    },
    {
     "name": "stdout",
     "output_type": "stream",
     "text": [
      "04-C58-BV1-MOPS_succinate-tex_plus\n"
     ]
    },
    {
     "name": "stderr",
     "output_type": "stream",
     "text": [
      "32054676 reads; of these:\n",
      "  32054676 (100.00%) were paired; of these:\n",
      "    2800820 (8.74%) aligned concordantly 0 times\n",
      "    1610630 (5.02%) aligned concordantly exactly 1 time\n",
      "    27643226 (86.24%) aligned concordantly >1 times\n",
      "    ----\n",
      "    2800820 pairs aligned concordantly 0 times; of these:\n",
      "      146557 (5.23%) aligned discordantly 1 time\n",
      "    ----\n",
      "    2654263 pairs aligned 0 times concordantly or discordantly; of these:\n",
      "      5308526 mates make up the pairs; of these:\n",
      "        1565363 (29.49%) aligned 0 times\n",
      "        44992 (0.85%) aligned exactly 1 time\n",
      "        3698171 (69.66%) aligned >1 times\n",
      "97.56% overall alignment rate\n",
      "\n",
      "real\t15m22.728s\n",
      "user\t154m9.520s\n",
      "sys\t1m13.659s\n",
      " 27%|█████████████████████████████████████████████▎                                                                                                                            | 8/30 [1:03:02<3:50:04, 627.49s/it]"
     ]
    },
    {
     "name": "stdout",
     "output_type": "stream",
     "text": [
      "12-T60_94-BV3-PITA_induced-tex_plus\n"
     ]
    },
    {
     "name": "stderr",
     "output_type": "stream",
     "text": [
      "9732034 reads; of these:\n",
      "  9732034 (100.00%) were paired; of these:\n",
      "    919125 (9.44%) aligned concordantly 0 times\n",
      "    1142933 (11.74%) aligned concordantly exactly 1 time\n",
      "    7669976 (78.81%) aligned concordantly >1 times\n",
      "    ----\n",
      "    919125 pairs aligned concordantly 0 times; of these:\n",
      "      52761 (5.74%) aligned discordantly 1 time\n",
      "    ----\n",
      "    866364 pairs aligned 0 times concordantly or discordantly; of these:\n",
      "      1732728 mates make up the pairs; of these:\n",
      "        280263 (16.17%) aligned 0 times\n",
      "        19945 (1.15%) aligned exactly 1 time\n",
      "        1432520 (82.67%) aligned >1 times\n",
      "98.56% overall alignment rate\n",
      "\n",
      "real\t4m49.482s\n",
      "user\t48m19.196s\n",
      "sys\t0m22.310s\n",
      " 30%|███████████████████████████████████████████████████                                                                                                                       | 9/30 [1:07:52<3:02:38, 521.82s/it]"
     ]
    },
    {
     "name": "stdout",
     "output_type": "stream",
     "text": [
      "25-C58-BV1-PITA_induced-tex_minus\n"
     ]
    },
    {
     "name": "stderr",
     "output_type": "stream",
     "text": [
      "15733173 reads; of these:\n",
      "  15733173 (100.00%) were paired; of these:\n",
      "    701545 (4.46%) aligned concordantly 0 times\n",
      "    311711 (1.98%) aligned concordantly exactly 1 time\n",
      "    14719917 (93.56%) aligned concordantly >1 times\n",
      "    ----\n",
      "    701545 pairs aligned concordantly 0 times; of these:\n",
      "      21917 (3.12%) aligned discordantly 1 time\n",
      "    ----\n",
      "    679628 pairs aligned 0 times concordantly or discordantly; of these:\n",
      "      1359256 mates make up the pairs; of these:\n",
      "        274182 (20.17%) aligned 0 times\n",
      "        34817 (2.56%) aligned exactly 1 time\n",
      "        1050257 (77.27%) aligned >1 times\n",
      "99.13% overall alignment rate\n",
      "\n",
      "real\t7m20.006s\n",
      "user\t73m25.926s\n",
      "sys\t0m36.392s\n",
      " 33%|████████████████████████████████████████████████████████▎                                                                                                                | 10/30 [1:15:12<2:45:31, 496.57s/it]"
     ]
    },
    {
     "name": "stdout",
     "output_type": "stream",
     "text": [
      "17-C16_80-BV2-MOPS_glucose-tex_minus\n"
     ]
    },
    {
     "name": "stderr",
     "output_type": "stream",
     "text": [
      "19733991 reads; of these:\n",
      "  19733991 (100.00%) were paired; of these:\n",
      "    1681453 (8.52%) aligned concordantly 0 times\n",
      "    523395 (2.65%) aligned concordantly exactly 1 time\n",
      "    17529143 (88.83%) aligned concordantly >1 times\n",
      "    ----\n",
      "    1681453 pairs aligned concordantly 0 times; of these:\n",
      "      63546 (3.78%) aligned discordantly 1 time\n",
      "    ----\n",
      "    1617907 pairs aligned 0 times concordantly or discordantly; of these:\n",
      "      3235814 mates make up the pairs; of these:\n",
      "        668182 (20.65%) aligned 0 times\n",
      "        49333 (1.52%) aligned exactly 1 time\n",
      "        2518299 (77.83%) aligned >1 times\n",
      "98.31% overall alignment rate\n",
      "\n",
      "real\t8m1.843s\n",
      "user\t80m27.803s\n",
      "sys\t0m44.544s\n",
      " 37%|█████████████████████████████████████████████████████████████▉                                                                                                           | 11/30 [1:23:14<2:35:49, 492.06s/it]"
     ]
    },
    {
     "name": "stdout",
     "output_type": "stream",
     "text": [
      "16-C58-BV1-MOPS_glucose-tex_minus\n"
     ]
    },
    {
     "name": "stderr",
     "output_type": "stream",
     "text": [
      "20857699 reads; of these:\n",
      "  20857699 (100.00%) were paired; of these:\n",
      "    1788749 (8.58%) aligned concordantly 0 times\n",
      "    570839 (2.74%) aligned concordantly exactly 1 time\n",
      "    18498111 (88.69%) aligned concordantly >1 times\n",
      "    ----\n",
      "    1788749 pairs aligned concordantly 0 times; of these:\n",
      "      66609 (3.72%) aligned discordantly 1 time\n",
      "    ----\n",
      "    1722140 pairs aligned 0 times concordantly or discordantly; of these:\n",
      "      3444280 mates make up the pairs; of these:\n",
      "        1037107 (30.11%) aligned 0 times\n",
      "        93348 (2.71%) aligned exactly 1 time\n",
      "        2313825 (67.18%) aligned >1 times\n",
      "97.51% overall alignment rate\n",
      "\n",
      "real\t9m44.902s\n",
      "user\t97m40.432s\n",
      "sys\t0m47.091s\n",
      " 40%|███████████████████████████████████████████████████████████████████▌                                                                                                     | 12/30 [1:32:59<2:36:05, 520.31s/it]"
     ]
    },
    {
     "name": "stdout",
     "output_type": "stream",
     "text": [
      "11-C16_80-BV2-PITA_induced-tex_plus\n"
     ]
    },
    {
     "name": "stderr",
     "output_type": "stream",
     "text": [
      "8176644 reads; of these:\n",
      "  8176644 (100.00%) were paired; of these:\n",
      "    877779 (10.74%) aligned concordantly 0 times\n",
      "    909985 (11.13%) aligned concordantly exactly 1 time\n",
      "    6388880 (78.14%) aligned concordantly >1 times\n",
      "    ----\n",
      "    877779 pairs aligned concordantly 0 times; of these:\n",
      "      56154 (6.40%) aligned discordantly 1 time\n",
      "    ----\n",
      "    821625 pairs aligned 0 times concordantly or discordantly; of these:\n",
      "      1643250 mates make up the pairs; of these:\n",
      "        190292 (11.58%) aligned 0 times\n",
      "        49245 (3.00%) aligned exactly 1 time\n",
      "        1403713 (85.42%) aligned >1 times\n",
      "98.84% overall alignment rate\n",
      "\n",
      "real\t3m16.458s\n",
      "user\t32m47.800s\n",
      "sys\t0m19.017s\n",
      " 43%|█████████████████████████████████████████████████████████████████████████▏                                                                                               | 13/30 [1:36:15<1:59:37, 422.20s/it]"
     ]
    },
    {
     "name": "stdout",
     "output_type": "stream",
     "text": [
      "18-T60_94-BV3-MOPS_glucose-tex_minus\n"
     ]
    },
    {
     "name": "stderr",
     "output_type": "stream",
     "text": [
      "10418344 reads; of these:\n",
      "  10418344 (100.00%) were paired; of these:\n",
      "    395726 (3.80%) aligned concordantly 0 times\n",
      "    353205 (3.39%) aligned concordantly exactly 1 time\n",
      "    9669413 (92.81%) aligned concordantly >1 times\n",
      "    ----\n",
      "    395726 pairs aligned concordantly 0 times; of these:\n",
      "      14322 (3.62%) aligned discordantly 1 time\n",
      "    ----\n",
      "    381404 pairs aligned 0 times concordantly or discordantly; of these:\n",
      "      762808 mates make up the pairs; of these:\n",
      "        112642 (14.77%) aligned 0 times\n",
      "        9742 (1.28%) aligned exactly 1 time\n",
      "        640424 (83.96%) aligned >1 times\n",
      "99.46% overall alignment rate\n",
      "\n",
      "real\t5m10.518s\n",
      "user\t51m49.987s\n",
      "sys\t0m25.360s\n",
      " 47%|██████████████████████████████████████████████████████████████████████████████▊                                                                                          | 14/30 [1:41:26<1:43:35, 388.47s/it]"
     ]
    },
    {
     "name": "stdout",
     "output_type": "stream",
     "text": [
      "15-T60_94-BV3-PITA_stationary-tex_plus\n"
     ]
    },
    {
     "name": "stderr",
     "output_type": "stream",
     "text": [
      "13656888 reads; of these:\n",
      "  13656888 (100.00%) were paired; of these:\n",
      "    635599 (4.65%) aligned concordantly 0 times\n",
      "    760088 (5.57%) aligned concordantly exactly 1 time\n",
      "    12261201 (89.78%) aligned concordantly >1 times\n",
      "    ----\n",
      "    635599 pairs aligned concordantly 0 times; of these:\n",
      "      47081 (7.41%) aligned discordantly 1 time\n",
      "    ----\n",
      "    588518 pairs aligned 0 times concordantly or discordantly; of these:\n",
      "      1177036 mates make up the pairs; of these:\n",
      "        262387 (22.29%) aligned 0 times\n",
      "        19511 (1.66%) aligned exactly 1 time\n",
      "        895138 (76.05%) aligned >1 times\n",
      "99.04% overall alignment rate\n",
      "\n",
      "real\t6m50.987s\n",
      "user\t68m37.891s\n",
      "sys\t0m31.053s\n",
      " 50%|████████████████████████████████████████████████████████████████████████████████████▌                                                                                    | 15/30 [1:48:17<1:38:48, 395.26s/it]"
     ]
    },
    {
     "name": "stdout",
     "output_type": "stream",
     "text": [
      "06-T60_94-BV3-MOPS_succinate-tex_plus\n"
     ]
    },
    {
     "name": "stderr",
     "output_type": "stream",
     "text": [
      "27511022 reads; of these:\n",
      "  27511022 (100.00%) were paired; of these:\n",
      "    1574767 (5.72%) aligned concordantly 0 times\n",
      "    5735973 (20.85%) aligned concordantly exactly 1 time\n",
      "    20200282 (73.43%) aligned concordantly >1 times\n",
      "    ----\n",
      "    1574767 pairs aligned concordantly 0 times; of these:\n",
      "      183135 (11.63%) aligned discordantly 1 time\n",
      "    ----\n",
      "    1391632 pairs aligned 0 times concordantly or discordantly; of these:\n",
      "      2783264 mates make up the pairs; of these:\n",
      "        1271476 (45.68%) aligned 0 times\n",
      "        72846 (2.62%) aligned exactly 1 time\n",
      "        1438942 (51.70%) aligned >1 times\n",
      "97.69% overall alignment rate\n",
      "\n",
      "real\t12m41.805s\n",
      "user\t127m11.582s\n",
      "sys\t1m3.156s\n",
      " 53%|██████████████████████████████████████████████████████████████████████████████████████████▏                                                                              | 16/30 [2:00:58<1:57:58, 505.59s/it]"
     ]
    },
    {
     "name": "stdout",
     "output_type": "stream",
     "text": [
      "24-T60_94-BV3-PITA_log-tex_minus\n"
     ]
    },
    {
     "name": "stderr",
     "output_type": "stream",
     "text": [
      "7079982 reads; of these:\n",
      "  7079982 (100.00%) were paired; of these:\n",
      "    278610 (3.94%) aligned concordantly 0 times\n",
      "    353703 (5.00%) aligned concordantly exactly 1 time\n",
      "    6447669 (91.07%) aligned concordantly >1 times\n",
      "    ----\n",
      "    278610 pairs aligned concordantly 0 times; of these:\n",
      "      14299 (5.13%) aligned discordantly 1 time\n",
      "    ----\n",
      "    264311 pairs aligned 0 times concordantly or discordantly; of these:\n",
      "      528622 mates make up the pairs; of these:\n",
      "        97601 (18.46%) aligned 0 times\n",
      "        8315 (1.57%) aligned exactly 1 time\n",
      "        422706 (79.96%) aligned >1 times\n",
      "99.31% overall alignment rate\n",
      "\n",
      "real\t3m33.542s\n",
      "user\t35m39.343s\n",
      "sys\t0m15.989s\n",
      " 57%|███████████████████████████████████████████████████████████████████████████████████████████████▊                                                                         | 17/30 [2:04:32<1:30:31, 417.77s/it]"
     ]
    },
    {
     "name": "stdout",
     "output_type": "stream",
     "text": [
      "09-T60_94-BV3-PITA_log-tex_plus\n"
     ]
    },
    {
     "name": "stderr",
     "output_type": "stream",
     "text": [
      "7325130 reads; of these:\n",
      "  7325130 (100.00%) were paired; of these:\n",
      "    635388 (8.67%) aligned concordantly 0 times\n",
      "    465825 (6.36%) aligned concordantly exactly 1 time\n",
      "    6223917 (84.97%) aligned concordantly >1 times\n",
      "    ----\n",
      "    635388 pairs aligned concordantly 0 times; of these:\n",
      "      32378 (5.10%) aligned discordantly 1 time\n",
      "    ----\n",
      "    603010 pairs aligned 0 times concordantly or discordantly; of these:\n",
      "      1206020 mates make up the pairs; of these:\n",
      "        111558 (9.25%) aligned 0 times\n",
      "        9435 (0.78%) aligned exactly 1 time\n",
      "        1085027 (89.97%) aligned >1 times\n",
      "99.24% overall alignment rate\n",
      "\n",
      "real\t3m48.289s\n",
      "user\t38m5.124s\n",
      "sys\t0m17.536s\n",
      " 60%|█████████████████████████████████████████████████████████████████████████████████████████████████████▍                                                                   | 18/30 [2:08:20<1:12:10, 360.84s/it]"
     ]
    },
    {
     "name": "stdout",
     "output_type": "stream",
     "text": [
      "03-T60_94-BV3-MOPS_glucose-tex_plus\n"
     ]
    },
    {
     "name": "stderr",
     "output_type": "stream",
     "text": [
      "32502231 reads; of these:\n",
      "  32502231 (100.00%) were paired; of these:\n",
      "    3693468 (11.36%) aligned concordantly 0 times\n",
      "    5324664 (16.38%) aligned concordantly exactly 1 time\n",
      "    23484099 (72.25%) aligned concordantly >1 times\n",
      "    ----\n",
      "    3693468 pairs aligned concordantly 0 times; of these:\n",
      "      407688 (11.04%) aligned discordantly 1 time\n",
      "    ----\n",
      "    3285780 pairs aligned 0 times concordantly or discordantly; of these:\n",
      "      6571560 mates make up the pairs; of these:\n",
      "        3415490 (51.97%) aligned 0 times\n",
      "        201849 (3.07%) aligned exactly 1 time\n",
      "        2954221 (44.95%) aligned >1 times\n",
      "94.75% overall alignment rate\n",
      "\n",
      "real\t15m3.628s\n",
      "user\t150m57.888s\n",
      "sys\t1m17.355s\n",
      " 63%|███████████████████████████████████████████████████████████████████████████████████████████████████████████                                                              | 19/30 [2:23:24<1:36:02, 523.86s/it]"
     ]
    },
    {
     "name": "stdout",
     "output_type": "stream",
     "text": [
      "28-C58-BV1-PITA_stationary-tex_minus\n"
     ]
    },
    {
     "name": "stderr",
     "output_type": "stream",
     "text": [
      "19947708 reads; of these:\n",
      "  19947708 (100.00%) were paired; of these:\n",
      "    1741020 (8.73%) aligned concordantly 0 times\n",
      "    317414 (1.59%) aligned concordantly exactly 1 time\n",
      "    17889274 (89.68%) aligned concordantly >1 times\n",
      "    ----\n",
      "    1741020 pairs aligned concordantly 0 times; of these:\n",
      "      45924 (2.64%) aligned discordantly 1 time\n",
      "    ----\n",
      "    1695096 pairs aligned 0 times concordantly or discordantly; of these:\n",
      "      3390192 mates make up the pairs; of these:\n",
      "        463967 (13.69%) aligned 0 times\n",
      "        29917 (0.88%) aligned exactly 1 time\n",
      "        2896308 (85.43%) aligned >1 times\n",
      "98.84% overall alignment rate\n",
      "\n",
      "real\t9m41.511s\n",
      "user\t97m9.367s\n",
      "sys\t0m46.327s\n",
      " 67%|████████████████████████████████████████████████████████████████████████████████████████████████████████████████▋                                                        | 20/30 [2:33:05<1:30:11, 541.17s/it]"
     ]
    },
    {
     "name": "stdout",
     "output_type": "stream",
     "text": [
      "19-C58-BV1-MOPS_succinate-tex_minus\n"
     ]
    },
    {
     "name": "stderr",
     "output_type": "stream",
     "text": [
      "15555817 reads; of these:\n",
      "  15555817 (100.00%) were paired; of these:\n",
      "    1502162 (9.66%) aligned concordantly 0 times\n",
      "    295268 (1.90%) aligned concordantly exactly 1 time\n",
      "    13758387 (88.45%) aligned concordantly >1 times\n",
      "    ----\n",
      "    1502162 pairs aligned concordantly 0 times; of these:\n",
      "      31628 (2.11%) aligned discordantly 1 time\n",
      "    ----\n",
      "    1470534 pairs aligned 0 times concordantly or discordantly; of these:\n",
      "      2941068 mates make up the pairs; of these:\n",
      "        488776 (16.62%) aligned 0 times\n",
      "        18180 (0.62%) aligned exactly 1 time\n",
      "        2434112 (82.76%) aligned >1 times\n",
      "98.43% overall alignment rate\n",
      "\n",
      "real\t7m30.356s\n",
      "user\t75m11.574s\n",
      "sys\t0m38.540s\n",
      " 70%|██████████████████████████████████████████████████████████████████████████████████████████████████████████████████████▎                                                  | 21/30 [2:40:36<1:17:05, 513.91s/it]"
     ]
    },
    {
     "name": "stdout",
     "output_type": "stream",
     "text": [
      "02-C16_80-BV2-MOPS_glucose-tex_plus\n"
     ]
    },
    {
     "name": "stderr",
     "output_type": "stream",
     "text": [
      "17083318 reads; of these:\n",
      "  17083318 (100.00%) were paired; of these:\n",
      "    2277708 (13.33%) aligned concordantly 0 times\n",
      "    808837 (4.73%) aligned concordantly exactly 1 time\n",
      "    13996773 (81.93%) aligned concordantly >1 times\n",
      "    ----\n",
      "    2277708 pairs aligned concordantly 0 times; of these:\n",
      "      103554 (4.55%) aligned discordantly 1 time\n",
      "    ----\n",
      "    2174154 pairs aligned 0 times concordantly or discordantly; of these:\n",
      "      4348308 mates make up the pairs; of these:\n",
      "        442368 (10.17%) aligned 0 times\n",
      "        33466 (0.77%) aligned exactly 1 time\n",
      "        3872474 (89.06%) aligned >1 times\n",
      "98.71% overall alignment rate\n",
      "\n",
      "real\t7m12.435s\n",
      "user\t72m9.354s\n",
      "sys\t0m43.750s\n",
      " 73%|███████████████████████████████████████████████████████████████████████████████████████████████████████████████████████████▉                                             | 22/30 [2:47:48<1:05:15, 489.46s/it]"
     ]
    },
    {
     "name": "stdout",
     "output_type": "stream",
     "text": [
      "20-C16_80-BV2-MOPS_succinate-tex_minus\n"
     ]
    },
    {
     "name": "stderr",
     "output_type": "stream",
     "text": [
      "8451784 reads; of these:\n",
      "  8451784 (100.00%) were paired; of these:\n",
      "    880169 (10.41%) aligned concordantly 0 times\n",
      "    423857 (5.02%) aligned concordantly exactly 1 time\n",
      "    7147758 (84.57%) aligned concordantly >1 times\n",
      "    ----\n",
      "    880169 pairs aligned concordantly 0 times; of these:\n",
      "      34002 (3.86%) aligned discordantly 1 time\n",
      "    ----\n",
      "    846167 pairs aligned 0 times concordantly or discordantly; of these:\n",
      "      1692334 mates make up the pairs; of these:\n",
      "        585694 (34.61%) aligned 0 times\n",
      "        30231 (1.79%) aligned exactly 1 time\n",
      "        1076409 (63.60%) aligned >1 times\n",
      "96.54% overall alignment rate\n",
      "\n",
      "real\t3m20.446s\n",
      "user\t33m26.974s\n",
      "sys\t0m20.236s\n",
      " 77%|███████████████████████████████████████████████████████████████████████████████████████████████████████████████████████████████████                                        | 23/30 [2:51:09<46:59, 402.73s/it]"
     ]
    },
    {
     "name": "stdout",
     "output_type": "stream",
     "text": [
      "14-C16_80-BV2-PITA_stationary-tex_plus\n"
     ]
    },
    {
     "name": "stderr",
     "output_type": "stream",
     "text": [
      "9371844 reads; of these:\n",
      "  9371844 (100.00%) were paired; of these:\n",
      "    702342 (7.49%) aligned concordantly 0 times\n",
      "    380437 (4.06%) aligned concordantly exactly 1 time\n",
      "    8289065 (88.45%) aligned concordantly >1 times\n",
      "    ----\n",
      "    702342 pairs aligned concordantly 0 times; of these:\n",
      "      20965 (2.99%) aligned discordantly 1 time\n",
      "    ----\n",
      "    681377 pairs aligned 0 times concordantly or discordantly; of these:\n",
      "      1362754 mates make up the pairs; of these:\n",
      "        145217 (10.66%) aligned 0 times\n",
      "        13643 (1.00%) aligned exactly 1 time\n",
      "        1203894 (88.34%) aligned >1 times\n",
      "99.23% overall alignment rate\n",
      "\n",
      "real\t3m53.742s\n",
      "user\t39m1.002s\n",
      "sys\t0m23.374s\n",
      " 80%|████████████████████████████████████████████████████████████████████████████████████████████████████████████████████████████████████████▊                                  | 24/30 [2:55:02<35:12, 352.04s/it]"
     ]
    },
    {
     "name": "stdout",
     "output_type": "stream",
     "text": [
      "30-T60_94-BV3-PITA_stationary-tex_minus\n"
     ]
    },
    {
     "name": "stderr",
     "output_type": "stream",
     "text": [
      "15584161 reads; of these:\n",
      "  15584161 (100.00%) were paired; of these:\n",
      "    1049347 (6.73%) aligned concordantly 0 times\n",
      "    893135 (5.73%) aligned concordantly exactly 1 time\n",
      "    13641679 (87.54%) aligned concordantly >1 times\n",
      "    ----\n",
      "    1049347 pairs aligned concordantly 0 times; of these:\n",
      "      60887 (5.80%) aligned discordantly 1 time\n",
      "    ----\n",
      "    988460 pairs aligned 0 times concordantly or discordantly; of these:\n",
      "      1976920 mates make up the pairs; of these:\n",
      "        398880 (20.18%) aligned 0 times\n",
      "        20441 (1.03%) aligned exactly 1 time\n",
      "        1557599 (78.79%) aligned >1 times\n",
      "98.72% overall alignment rate\n",
      "\n",
      "real\t7m51.754s\n",
      "user\t78m44.295s\n",
      "sys\t0m39.241s\n",
      " 83%|██████████████████████████████████████████████████████████████████████████████████████████████████████████████████████████████████████████████▌                            | 25/30 [3:02:54<32:19, 387.96s/it]"
     ]
    },
    {
     "name": "stdout",
     "output_type": "stream",
     "text": [
      "08-C16_80-BV2-PITA_log-tex_plus\n"
     ]
    },
    {
     "name": "stderr",
     "output_type": "stream",
     "text": [
      "5439027 reads; of these:\n",
      "  5439027 (100.00%) were paired; of these:\n",
      "    231430 (4.25%) aligned concordantly 0 times\n",
      "    370452 (6.81%) aligned concordantly exactly 1 time\n",
      "    4837145 (88.93%) aligned concordantly >1 times\n",
      "    ----\n",
      "    231430 pairs aligned concordantly 0 times; of these:\n",
      "      16978 (7.34%) aligned discordantly 1 time\n",
      "    ----\n",
      "    214452 pairs aligned 0 times concordantly or discordantly; of these:\n",
      "      428904 mates make up the pairs; of these:\n",
      "        57295 (13.36%) aligned 0 times\n",
      "        9755 (2.27%) aligned exactly 1 time\n",
      "        361854 (84.37%) aligned >1 times\n",
      "99.47% overall alignment rate\n",
      "\n",
      "real\t2m13.779s\n",
      "user\t22m20.756s\n",
      "sys\t0m12.605s\n",
      " 87%|████████████████████████████████████████████████████████████████████████████████████████████████████████████████████████████████████████████████████▏                      | 26/30 [3:05:08<20:46, 311.70s/it]"
     ]
    },
    {
     "name": "stdout",
     "output_type": "stream",
     "text": [
      "29-C16_80-BV2-PITA_stationary-tex_minus\n"
     ]
    },
    {
     "name": "stderr",
     "output_type": "stream",
     "text": [
      "18285821 reads; of these:\n",
      "  18285821 (100.00%) were paired; of these:\n",
      "    1731346 (9.47%) aligned concordantly 0 times\n",
      "    445736 (2.44%) aligned concordantly exactly 1 time\n",
      "    16108739 (88.09%) aligned concordantly >1 times\n",
      "    ----\n",
      "    1731346 pairs aligned concordantly 0 times; of these:\n",
      "      50674 (2.93%) aligned discordantly 1 time\n",
      "    ----\n",
      "    1680672 pairs aligned 0 times concordantly or discordantly; of these:\n",
      "      3361344 mates make up the pairs; of these:\n",
      "        463901 (13.80%) aligned 0 times\n",
      "        41173 (1.22%) aligned exactly 1 time\n",
      "        2856270 (84.97%) aligned >1 times\n",
      "98.73% overall alignment rate\n",
      "\n",
      "real\t7m24.837s\n",
      "user\t74m24.344s\n",
      "sys\t0m39.321s\n",
      " 90%|█████████████████████████████████████████████████████████████████████████████████████████████████████████████████████████████████████████████████████████▉                 | 27/30 [3:12:33<17:34, 351.65s/it]"
     ]
    },
    {
     "name": "stdout",
     "output_type": "stream",
     "text": [
      "07-C58-BV1-PITA_log-tex_plus\n"
     ]
    },
    {
     "name": "stderr",
     "output_type": "stream",
     "text": [
      "6015240 reads; of these:\n",
      "  6015240 (100.00%) were paired; of these:\n",
      "    278327 (4.63%) aligned concordantly 0 times\n",
      "    382998 (6.37%) aligned concordantly exactly 1 time\n",
      "    5353915 (89.01%) aligned concordantly >1 times\n",
      "    ----\n",
      "    278327 pairs aligned concordantly 0 times; of these:\n",
      "      21118 (7.59%) aligned discordantly 1 time\n",
      "    ----\n",
      "    257209 pairs aligned 0 times concordantly or discordantly; of these:\n",
      "      514418 mates make up the pairs; of these:\n",
      "        56275 (10.94%) aligned 0 times\n",
      "        7342 (1.43%) aligned exactly 1 time\n",
      "        450801 (87.63%) aligned >1 times\n",
      "99.53% overall alignment rate\n",
      "\n",
      "real\t3m19.687s\n",
      "user\t29m57.830s\n",
      "sys\t3m45.931s\n",
      " 93%|███████████████████████████████████████████████████████████████████████████████████████████████████████████████████████████████████████████████████████████████▌           | 28/30 [3:15:53<10:12, 306.06s/it]"
     ]
    },
    {
     "name": "stdout",
     "output_type": "stream",
     "text": [
      "27-T60_94-BV3-PITA_induced-tex_minus\n"
     ]
    },
    {
     "name": "stderr",
     "output_type": "stream",
     "text": [
      "13703108 reads; of these:\n",
      "  13703108 (100.00%) were paired; of these:\n",
      "    815852 (5.95%) aligned concordantly 0 times\n",
      "    814294 (5.94%) aligned concordantly exactly 1 time\n",
      "    12072962 (88.10%) aligned concordantly >1 times\n",
      "    ----\n",
      "    815852 pairs aligned concordantly 0 times; of these:\n",
      "      62115 (7.61%) aligned discordantly 1 time\n",
      "    ----\n",
      "    753737 pairs aligned 0 times concordantly or discordantly; of these:\n",
      "      1507474 mates make up the pairs; of these:\n",
      "        354415 (23.51%) aligned 0 times\n",
      "        16197 (1.07%) aligned exactly 1 time\n",
      "        1136862 (75.42%) aligned >1 times\n",
      "98.71% overall alignment rate\n",
      "\n",
      "real\t6m49.815s\n",
      "user\t68m24.655s\n",
      "sys\t0m33.220s\n",
      " 97%|█████████████████████████████████████████████████████████████████████████████████████████████████████████████████████████████████████████████████████████████████████▎     | 29/30 [3:22:42<05:37, 337.19s/it]"
     ]
    },
    {
     "name": "stdout",
     "output_type": "stream",
     "text": [
      "26-C16_80-BV2-PITA_induced-tex_minus\n"
     ]
    },
    {
     "name": "stderr",
     "output_type": "stream",
     "text": [
      "12863271 reads; of these:\n",
      "  12863271 (100.00%) were paired; of these:\n",
      "    850798 (6.61%) aligned concordantly 0 times\n",
      "    126798 (0.99%) aligned concordantly exactly 1 time\n",
      "    11885675 (92.40%) aligned concordantly >1 times\n",
      "    ----\n",
      "    850798 pairs aligned concordantly 0 times; of these:\n",
      "      8478 (1.00%) aligned discordantly 1 time\n",
      "    ----\n",
      "    842320 pairs aligned 0 times concordantly or discordantly; of these:\n",
      "      1684640 mates make up the pairs; of these:\n",
      "        658106 (39.07%) aligned 0 times\n",
      "        30990 (1.84%) aligned exactly 1 time\n",
      "        995544 (59.10%) aligned >1 times\n",
      "97.44% overall alignment rate\n",
      "\n",
      "real\t5m10.473s\n",
      "user\t51m47.525s\n",
      "sys\t0m31.337s\n",
      "100%|███████████████████████████████████████████████████████████████████████████████████████████████████████████████████████████████████████████████████████████████████████████| 30/30 [3:27:53<00:00, 415.78s/it]\n"
     ]
    }
   ],
   "source": [
    "IN=\"../../02-OUTPUT/02-TRIM\"\n",
    "OUT=\"../../02-OUTPUT/03-ALIGN/01-BOWTIE2\"\n",
    "for seq in tqdm(glob(f\"{IN}/*-R1-trimmed.fq.gz\")):\n",
    "    if \"BV1\" in seq:\n",
    "        ref = f'{OUT}/BV1-C58'\n",
    "    if \"BV2\" in seq:\n",
    "        ref = f'{OUT}/BV2-C16_80'\n",
    "    if \"BV3\" in seq:\n",
    "        ref = f'{OUT}/BV3-T60_94'\n",
    "\n",
    "    seq_handle = seq.split('/')[-1].split('.')[0][:-11]\n",
    "    r1 = seq_handle + \"-R1\"\n",
    "    r2 = seq_handle + \"-R2\"\n",
    "    print(seq_handle)\n",
    "    os.system(f\"time bowtie2 -q --phred33 --no-unal -p 10\\\n",
    "        -x {ref} \\\n",
    "        -1 {IN}/{r1}-trimmed_filtered.fq.gz \\\n",
    "        -2 {IN}/{r2}-trimmed_filtered.fq.gz \\\n",
    "        -S {OUT}/{seq_handle}_mapping.sam\")\n",
    "    "
   ]
  },
  {
   "cell_type": "markdown",
   "id": "2ad809de",
   "metadata": {},
   "source": [
    "### SEGEMEHL"
   ]
  },
  {
   "cell_type": "code",
   "execution_count": null,
   "id": "f6a4b689",
   "metadata": {},
   "outputs": [
    {
     "name": "stderr",
     "output_type": "stream",
     "text": [
      "  0%|                                                                                                                                                                                        | 0/3 [00:00<?, ?it/s][SEGEMEHL] Mon Oct 24 15:27:04 2022: reading database sequences.\n",
      "[SEGEMEHL] Mon Oct 24 15:27:04 2022: 11 database sequences found.\n",
      "[SEGEMEHL] Mon Oct 24 15:27:04 2022: total length of db sequences: 7387725\n",
      "[SEGEMEHL] Mon Oct 24 15:27:04 2022: assigning all reads to default read group 'A1'.\n",
      "[SEGEMEHL] Mon Oct 24 15:27:04 2022: additional read group default values '\tSM:sample1\tLB:library1\tPU:unit1\tPL:illumina'\n",
      "[SEGEMEHL] Mon Oct 24 15:27:04 2022: reads assigned to read group 'A1'\n",
      "[SEGEMEHL] Mon Oct 24 15:27:04 2022: compiled sam header.\n",
      "[SEGEMEHL] Mon Oct 24 15:27:04 2022: alphabet of size (6): ACGT~\n",
      "[SEGEMEHL] Mon Oct 24 15:27:04 2022: size of db sequence: 7387736\n",
      "[SEGEMEHL] Mon Oct 24 15:27:04 2022: constructing suftab.\n",
      "[SEGEMEHL] Mon Oct 24 15:27:04 2022: alurusort: classify.\n",
      "init bit array of 923467\n",
      "[SEGEMEHL] Mon Oct 24 15:27:05 2022: alurusort: getting bit.\n",
      "[SEGEMEHL] Mon Oct 24 15:27:05 2022: not bit alurusort: alloc B of size 3563197.\n",
      "[SEGEMEHL] Mon Oct 24 15:27:05 2022: alurusort: initbitarray of size 3563197.\n",
      "init bit array of 445400\n",
      "[SEGEMEHL] Mon Oct 24 15:27:05 2022: alurusort: Qmaxdist in cl of size 7387736.\n",
      "[SEGEMEHL] Mon Oct 24 15:27:05 2022: alurusort: scan B.\n",
      "[SEGEMEHL] Mon Oct 24 15:27:05 2022: alurusort: substringsort.\n",
      "[SEGEMEHL] Mon Oct 24 15:27:05 2022: setting bit array to zero\n",
      "[SEGEMEHL] Mon Oct 24 15:27:05 2022: allocating space for buckets and buffers\n",
      "[SEGEMEHL] Mon Oct 24 15:27:05 2022: memsetting\n",
      "[SEGEMEHL] Mon Oct 24 15:27:05 2022: substring sort ... ok\n",
      "[SEGEMEHL] Mon Oct 24 15:27:05 2022: checking valbitarray.\n",
      "[SEGEMEHL] Mon Oct 24 15:27:05 2022: enter Tprime calculation.\n",
      "[SEGEMEHL] Mon Oct 24 15:27:05 2022: tprime: init arrays.\n",
      "[SEGEMEHL] Mon Oct 24 15:27:05 2022: tprime: scan B\n",
      "[SEGEMEHL] Mon Oct 24 15:27:05 2022: tprime: iterating i=7387736 elements with lenB=3563197.\n",
      "[SEGEMEHL] Mon Oct 24 15:27:05 2022: tprime: exit\n",
      "[SEGEMEHL] Mon Oct 24 15:27:05 2022: enter alursortint.\n",
      "[SEGEMEHL] Mon Oct 24 15:27:05 2022: alurusortint: classify int.\n",
      "init bit array of 445400\n",
      "[SEGEMEHL] Mon Oct 24 15:27:05 2022: alurusortint: getting bit.\n",
      "[SEGEMEHL] Mon Oct 24 15:27:05 2022: alurusortint: init bcktsA.\n",
      "init bit array of 445400\n",
      "[SEGEMEHL] Mon Oct 24 15:27:05 2022: alurusortint: countingsort.\n",
      "[SEGEMEHL] Mon Oct 24 15:27:05 2022: countingsortint: init buffers and A\n",
      "[SEGEMEHL] Mon Oct 24 15:27:05 2022: setting buffer to zero\n",
      "[SEGEMEHL] Mon Oct 24 15:27:05 2022: countsortint: scanning buffer (1 of 3)\n",
      "[SEGEMEHL] Mon Oct 24 15:27:05 2022: countsortint: scanning buffer (2 of 3)\n",
      "[SEGEMEHL] Mon Oct 24 15:27:05 2022: countsortint: scanning buffer (3 of 3)\n"
     ]
    },
    {
     "name": "stdout",
     "output_type": "stream",
     "text": [
      "BV2-C16_80\n"
     ]
    },
    {
     "name": "stderr",
     "output_type": "stream",
     "text": [
      "[SEGEMEHL] Mon Oct 24 15:27:05 2022: countsortint: scanning buffer (to set borders)\n",
      "[SEGEMEHL] Mon Oct 24 15:27:05 2022: countsortint: exiting\n",
      "init bit array of 183739\n",
      "[SEGEMEHL] Mon Oct 24 15:27:05 2022: arrayB: allocating B with 1469905 elements.\n",
      "[SEGEMEHL] Mon Oct 24 15:27:05 2022: arrayB: iterating to lenA=3563197.\n",
      "[SEGEMEHL] Mon Oct 24 15:27:05 2022: arrayB: exiting\n",
      "init bit array of 445400\n",
      "[SEGEMEHL] Mon Oct 24 15:27:05 2022: alurusortint: enter get listsL.\n",
      "[SEGEMEHL] Mon Oct 24 15:27:05 2022: getlistsL: memsetting list of 3563196 elements.\n",
      "[SEGEMEHL] Mon Oct 24 15:27:05 2022: getlistsL: iter from 3563196 down to 0.\n",
      "[SEGEMEHL] Mon Oct 24 15:27:05 2022: scanning A (3563197 elems).\n",
      "[SEGEMEHL] Mon Oct 24 15:27:05 2022: scanning accdist (13 elems) (1).\n",
      "[SEGEMEHL] Mon Oct 24 15:27:05 2022: scanning accdist (13 elems) (2).\n",
      "[SEGEMEHL] Mon Oct 24 15:27:05 2022: getlistsL: exit\n",
      "[SEGEMEHL] Mon Oct 24 15:27:05 2022: alurusortint: sort listsL.\n",
      "[SEGEMEHL] Mon Oct 24 15:27:05 2022: sortlistL: allocating stuff\n",
      "[SEGEMEHL] Mon Oct 24 15:27:05 2022: sortlistL: iterating 1469905 elems.\n",
      "[SEGEMEHL] Mon Oct 24 15:27:05 2022: sortlistL: looping 3563196 elems.\n",
      "[SEGEMEHL] Mon Oct 24 15:27:05 2022: sortlistL: iterating 3563197 elems.\n",
      "[SEGEMEHL] Mon Oct 24 15:27:05 2022: sortlistsL: exiting happily!\n",
      "[SEGEMEHL] Mon Oct 24 15:27:05 2022: alurusortint: enter tprime.\n",
      "[SEGEMEHL] Mon Oct 24 15:27:05 2022: tprime: init arrays.\n",
      "[SEGEMEHL] Mon Oct 24 15:27:05 2022: tprime: scan B\n",
      "[SEGEMEHL] Mon Oct 24 15:27:05 2022: tprime: iterating i=3563197 elements with lenB=1469905.\n",
      "[SEGEMEHL] Mon Oct 24 15:27:05 2022: tprime: exit\n",
      "[SEGEMEHL] Mon Oct 24 15:27:05 2022: alurusortint: enter alurusortint.\n",
      "[SEGEMEHL] Mon Oct 24 15:27:05 2022: alurusortint: classify int.\n",
      "init bit array of 183739\n",
      "[SEGEMEHL] Mon Oct 24 15:27:05 2022: alurusortint: getting bit.\n",
      "[SEGEMEHL] Mon Oct 24 15:27:05 2022: alurusortint: init bcktsA.\n",
      "init bit array of 183739\n",
      "[SEGEMEHL] Mon Oct 24 15:27:05 2022: alurusortint: countingsort.\n",
      "[SEGEMEHL] Mon Oct 24 15:27:05 2022: countingsortint: init buffers and A\n",
      "[SEGEMEHL] Mon Oct 24 15:27:05 2022: setting buffer to zero\n",
      "[SEGEMEHL] Mon Oct 24 15:27:05 2022: countsortint: scanning buffer (1 of 3)\n",
      "[SEGEMEHL] Mon Oct 24 15:27:05 2022: countsortint: scanning buffer (2 of 3)\n",
      "[SEGEMEHL] Mon Oct 24 15:27:05 2022: countsortint: scanning buffer (3 of 3)\n",
      "[SEGEMEHL] Mon Oct 24 15:27:05 2022: countsortint: scanning buffer (to set borders)\n",
      "[SEGEMEHL] Mon Oct 24 15:27:05 2022: countsortint: exiting\n",
      "[SEGEMEHL] Mon Oct 24 15:27:05 2022: alurusortint: Sorting type S suffixes. Init bcktsB.\n",
      "[SEGEMEHL] Mon Oct 24 15:27:05 2022: 659811\t810094\t1469905.\n",
      "\n",
      "init bit array of 82477\n",
      "[SEGEMEHL] Mon Oct 24 15:27:05 2022: arrayB: allocating B with 659811 elements.\n",
      "[SEGEMEHL] Mon Oct 24 15:27:05 2022: arrayB: iterating to lenA=1469905.\n",
      "[SEGEMEHL] Mon Oct 24 15:27:05 2022: arrayB: exiting\n",
      "[SEGEMEHL] Mon Oct 24 15:27:05 2022: alurusortint: enter Qmaxdist.\n",
      "[SEGEMEHL] Mon Oct 24 15:27:05 2022: alurusortint: enter Qdist.\n",
      "[SEGEMEHL] Mon Oct 24 15:27:05 2022: alurusortint: enter distCount.\n",
      "init bit array of 183738\n",
      "[SEGEMEHL] Mon Oct 24 15:27:05 2022: alurusortint: enter get listsS.\n",
      "[SEGEMEHL] Mon Oct 24 15:27:05 2022: getlistsS: memsetting list of 1469903 elements.\n",
      "[SEGEMEHL] Mon Oct 24 15:27:05 2022: getlistsS: iter up to 1469905.\n",
      "[SEGEMEHL] Mon Oct 24 15:27:05 2022: getlistsS: scan A\n",
      "[SEGEMEHL] Mon Oct 24 15:27:05 2022: getlistsS: set accidst\n",
      "[SEGEMEHL] Mon Oct 24 15:27:05 2022: getlistsS: exiting\n",
      "[SEGEMEHL] Mon Oct 24 15:27:05 2022: alurusortint: freeing stuff.\n",
      "[SEGEMEHL] Mon Oct 24 15:27:05 2022: alurusortint: enter sortlistsS.\n",
      "[SEGEMEHL] Mon Oct 24 15:27:05 2022: sortlistS: allocating stuff.\n",
      "[SEGEMEHL] Mon Oct 24 15:27:05 2022: sortlistS: iterating 659811 elems.\n",
      "[SEGEMEHL] Mon Oct 24 15:27:05 2022: sortlistS: looping 1469903 elems.\n",
      "[SEGEMEHL] Mon Oct 24 15:27:05 2022: sortlistS: iterating 1469905 elems.\n",
      "[SEGEMEHL] Mon Oct 24 15:27:05 2022: sortlistsS: exiting happily!\n",
      "[SEGEMEHL] Mon Oct 24 15:27:05 2022: alurusortint: enter tprime.\n",
      "[SEGEMEHL] Mon Oct 24 15:27:05 2022: tprime: init arrays.\n",
      "[SEGEMEHL] Mon Oct 24 15:27:05 2022: tprime: scan B\n",
      "[SEGEMEHL] Mon Oct 24 15:27:05 2022: tprime: iterating i=1469905 elements with lenB=659811.\n",
      "[SEGEMEHL] Mon Oct 24 15:27:05 2022: tprime: exit\n",
      "[SEGEMEHL] Mon Oct 24 15:27:05 2022: alurusortint: enter alurusortint.\n",
      "[SEGEMEHL] Mon Oct 24 15:27:05 2022: alurusortint: classify int.\n",
      "init bit array of 82477\n",
      "[SEGEMEHL] Mon Oct 24 15:27:05 2022: alurusortint: getting bit.\n",
      "[SEGEMEHL] Mon Oct 24 15:27:05 2022: alurusortint: init bcktsA.\n",
      "init bit array of 82477\n",
      "[SEGEMEHL] Mon Oct 24 15:27:05 2022: alurusortint: countingsort.\n",
      "[SEGEMEHL] Mon Oct 24 15:27:05 2022: countingsortint: init buffers and A\n",
      "[SEGEMEHL] Mon Oct 24 15:27:05 2022: setting buffer to zero\n",
      "[SEGEMEHL] Mon Oct 24 15:27:05 2022: countsortint: scanning buffer (1 of 3)\n",
      "[SEGEMEHL] Mon Oct 24 15:27:05 2022: countsortint: scanning buffer (2 of 3)\n",
      "[SEGEMEHL] Mon Oct 24 15:27:05 2022: countsortint: scanning buffer (3 of 3)\n",
      "[SEGEMEHL] Mon Oct 24 15:27:05 2022: countsortint: scanning buffer (to set borders)\n",
      "[SEGEMEHL] Mon Oct 24 15:27:05 2022: countsortint: exiting\n",
      "init bit array of 36777\n",
      "[SEGEMEHL] Mon Oct 24 15:27:05 2022: arrayB: allocating B with 294214 elements.\n",
      "[SEGEMEHL] Mon Oct 24 15:27:05 2022: arrayB: iterating to lenA=659811.\n",
      "[SEGEMEHL] Mon Oct 24 15:27:05 2022: arrayB: exiting\n",
      "init bit array of 82477\n",
      "[SEGEMEHL] Mon Oct 24 15:27:05 2022: alurusortint: enter get listsL.\n",
      "[SEGEMEHL] Mon Oct 24 15:27:05 2022: getlistsL: memsetting list of 659809 elements.\n",
      "[SEGEMEHL] Mon Oct 24 15:27:05 2022: getlistsL: iter from 659810 down to 0.\n",
      "[SEGEMEHL] Mon Oct 24 15:27:05 2022: scanning A (659811 elems).\n",
      "[SEGEMEHL] Mon Oct 24 15:27:05 2022: scanning accdist (11 elems) (1).\n",
      "[SEGEMEHL] Mon Oct 24 15:27:05 2022: scanning accdist (11 elems) (2).\n",
      "[SEGEMEHL] Mon Oct 24 15:27:05 2022: getlistsL: exit\n",
      "[SEGEMEHL] Mon Oct 24 15:27:05 2022: alurusortint: sort listsL.\n",
      "[SEGEMEHL] Mon Oct 24 15:27:05 2022: sortlistL: allocating stuff\n",
      "[SEGEMEHL] Mon Oct 24 15:27:05 2022: sortlistL: iterating 294214 elems.\n",
      "[SEGEMEHL] Mon Oct 24 15:27:05 2022: sortlistL: looping 659809 elems.\n",
      "[SEGEMEHL] Mon Oct 24 15:27:05 2022: sortlistL: iterating 659811 elems.\n",
      "[SEGEMEHL] Mon Oct 24 15:27:05 2022: sortlistsL: exiting happily!\n",
      "[SEGEMEHL] Mon Oct 24 15:27:05 2022: alurusortint: enter tprime.\n",
      "[SEGEMEHL] Mon Oct 24 15:27:05 2022: tprime: init arrays.\n",
      "[SEGEMEHL] Mon Oct 24 15:27:05 2022: tprime: scan B\n",
      "[SEGEMEHL] Mon Oct 24 15:27:05 2022: tprime: iterating i=659811 elements with lenB=294214.\n",
      "[SEGEMEHL] Mon Oct 24 15:27:05 2022: tprime: exit\n",
      "[SEGEMEHL] Mon Oct 24 15:27:05 2022: alurusortint: enter alurusortint.\n",
      "[SEGEMEHL] Mon Oct 24 15:27:05 2022: alurusortint: classify int.\n",
      "init bit array of 36777\n",
      "[SEGEMEHL] Mon Oct 24 15:27:05 2022: alurusortint: getting bit.\n",
      "[SEGEMEHL] Mon Oct 24 15:27:05 2022: alurusortint: init bcktsA.\n",
      "init bit array of 36777\n",
      "[SEGEMEHL] Mon Oct 24 15:27:05 2022: alurusortint: countingsort.\n",
      "[SEGEMEHL] Mon Oct 24 15:27:05 2022: countingsortint: init buffers and A\n",
      "[SEGEMEHL] Mon Oct 24 15:27:05 2022: setting buffer to zero\n",
      "[SEGEMEHL] Mon Oct 24 15:27:05 2022: countsortint: scanning buffer (1 of 3)\n",
      "[SEGEMEHL] Mon Oct 24 15:27:05 2022: countsortint: scanning buffer (2 of 3)\n",
      "[SEGEMEHL] Mon Oct 24 15:27:05 2022: countsortint: scanning buffer (3 of 3)\n",
      "[SEGEMEHL] Mon Oct 24 15:27:05 2022: countsortint: scanning buffer (to set borders)\n",
      "[SEGEMEHL] Mon Oct 24 15:27:05 2022: countsortint: exiting\n",
      "[SEGEMEHL] Mon Oct 24 15:27:05 2022: alurusortint: Sorting type S suffixes. Init bcktsB.\n",
      "[SEGEMEHL] Mon Oct 24 15:27:05 2022: 132587\t161627\t294214.\n",
      "\n",
      "init bit array of 16574\n",
      "[SEGEMEHL] Mon Oct 24 15:27:05 2022: arrayB: allocating B with 132587 elements.\n",
      "[SEGEMEHL] Mon Oct 24 15:27:05 2022: arrayB: iterating to lenA=294214.\n",
      "[SEGEMEHL] Mon Oct 24 15:27:05 2022: arrayB: exiting\n",
      "[SEGEMEHL] Mon Oct 24 15:27:05 2022: alurusortint: enter Qmaxdist.\n",
      "[SEGEMEHL] Mon Oct 24 15:27:05 2022: alurusortint: enter Qdist.\n",
      "[SEGEMEHL] Mon Oct 24 15:27:05 2022: alurusortint: enter distCount.\n",
      "init bit array of 36777\n",
      "[SEGEMEHL] Mon Oct 24 15:27:05 2022: alurusortint: enter get listsS.\n",
      "[SEGEMEHL] Mon Oct 24 15:27:05 2022: getlistsS: memsetting list of 294213 elements.\n",
      "[SEGEMEHL] Mon Oct 24 15:27:05 2022: getlistsS: iter up to 294214.\n",
      "[SEGEMEHL] Mon Oct 24 15:27:05 2022: getlistsS: scan A\n",
      "[SEGEMEHL] Mon Oct 24 15:27:05 2022: getlistsS: set accidst\n",
      "[SEGEMEHL] Mon Oct 24 15:27:05 2022: getlistsS: exiting\n",
      "[SEGEMEHL] Mon Oct 24 15:27:05 2022: alurusortint: freeing stuff.\n",
      "[SEGEMEHL] Mon Oct 24 15:27:05 2022: alurusortint: enter sortlistsS.\n",
      "[SEGEMEHL] Mon Oct 24 15:27:05 2022: sortlistS: allocating stuff.\n",
      "[SEGEMEHL] Mon Oct 24 15:27:05 2022: sortlistS: iterating 132587 elems.\n",
      "[SEGEMEHL] Mon Oct 24 15:27:05 2022: sortlistS: looping 294213 elems.\n",
      "[SEGEMEHL] Mon Oct 24 15:27:05 2022: sortlistS: iterating 294214 elems.\n",
      "[SEGEMEHL] Mon Oct 24 15:27:05 2022: sortlistsS: exiting happily!\n",
      "[SEGEMEHL] Mon Oct 24 15:27:05 2022: alurusortint: enter tprime.\n",
      "[SEGEMEHL] Mon Oct 24 15:27:05 2022: tprime: init arrays.\n",
      "[SEGEMEHL] Mon Oct 24 15:27:05 2022: tprime: scan B\n",
      "[SEGEMEHL] Mon Oct 24 15:27:05 2022: tprime: iterating i=294214 elements with lenB=132587.\n",
      "[SEGEMEHL] Mon Oct 24 15:27:05 2022: tprime: exit\n",
      "[SEGEMEHL] Mon Oct 24 15:27:05 2022: alurusortint: enter alurusortint.\n",
      "[SEGEMEHL] Mon Oct 24 15:27:05 2022: alurusortint: classify int.\n",
      "init bit array of 16574\n",
      "[SEGEMEHL] Mon Oct 24 15:27:05 2022: alurusortint: getting bit.\n",
      "[SEGEMEHL] Mon Oct 24 15:27:05 2022: alurusortint: init bcktsA.\n",
      "init bit array of 16574\n",
      "[SEGEMEHL] Mon Oct 24 15:27:05 2022: alurusortint: countingsort.\n",
      "[SEGEMEHL] Mon Oct 24 15:27:05 2022: countingsortint: init buffers and A\n",
      "[SEGEMEHL] Mon Oct 24 15:27:05 2022: setting buffer to zero\n",
      "[SEGEMEHL] Mon Oct 24 15:27:05 2022: countsortint: scanning buffer (1 of 3)\n",
      "[SEGEMEHL] Mon Oct 24 15:27:05 2022: countsortint: scanning buffer (2 of 3)\n",
      "[SEGEMEHL] Mon Oct 24 15:27:05 2022: countsortint: scanning buffer (3 of 3)\n",
      "[SEGEMEHL] Mon Oct 24 15:27:05 2022: countsortint: scanning buffer (to set borders)\n",
      "[SEGEMEHL] Mon Oct 24 15:27:05 2022: countsortint: exiting\n",
      "init bit array of 7488\n",
      "[SEGEMEHL] Mon Oct 24 15:27:05 2022: arrayB: allocating B with 59899 elements.\n",
      "[SEGEMEHL] Mon Oct 24 15:27:05 2022: arrayB: iterating to lenA=132587.\n",
      "[SEGEMEHL] Mon Oct 24 15:27:05 2022: arrayB: exiting\n",
      "init bit array of 16574\n",
      "[SEGEMEHL] Mon Oct 24 15:27:05 2022: alurusortint: enter get listsL.\n",
      "[SEGEMEHL] Mon Oct 24 15:27:05 2022: getlistsL: memsetting list of 132586 elements.\n",
      "[SEGEMEHL] Mon Oct 24 15:27:05 2022: getlistsL: iter from 132586 down to 0.\n",
      "[SEGEMEHL] Mon Oct 24 15:27:05 2022: scanning A (132587 elems).\n",
      "[SEGEMEHL] Mon Oct 24 15:27:05 2022: scanning accdist (10 elems) (1).\n",
      "[SEGEMEHL] Mon Oct 24 15:27:05 2022: scanning accdist (10 elems) (2).\n",
      "[SEGEMEHL] Mon Oct 24 15:27:05 2022: getlistsL: exit\n",
      "[SEGEMEHL] Mon Oct 24 15:27:05 2022: alurusortint: sort listsL.\n",
      "[SEGEMEHL] Mon Oct 24 15:27:05 2022: sortlistL: allocating stuff\n",
      "[SEGEMEHL] Mon Oct 24 15:27:05 2022: sortlistL: iterating 59899 elems.\n",
      "[SEGEMEHL] Mon Oct 24 15:27:05 2022: sortlistL: looping 132586 elems.\n",
      "[SEGEMEHL] Mon Oct 24 15:27:05 2022: sortlistL: iterating 132587 elems.\n",
      "[SEGEMEHL] Mon Oct 24 15:27:05 2022: sortlistsL: exiting happily!\n",
      "[SEGEMEHL] Mon Oct 24 15:27:05 2022: alurusortint: enter tprime.\n",
      "[SEGEMEHL] Mon Oct 24 15:27:05 2022: tprime: init arrays.\n",
      "[SEGEMEHL] Mon Oct 24 15:27:05 2022: tprime: scan B\n",
      "[SEGEMEHL] Mon Oct 24 15:27:05 2022: tprime: iterating i=132587 elements with lenB=59899.\n",
      "[SEGEMEHL] Mon Oct 24 15:27:05 2022: tprime: exit\n",
      "[SEGEMEHL] Mon Oct 24 15:27:05 2022: alurusortint: enter alurusortint.\n",
      "[SEGEMEHL] Mon Oct 24 15:27:05 2022: alurusortint: classify int.\n",
      "init bit array of 7488\n",
      "[SEGEMEHL] Mon Oct 24 15:27:05 2022: alurusortint: getting bit.\n",
      "[SEGEMEHL] Mon Oct 24 15:27:05 2022: alurusortint: init bcktsA.\n",
      "init bit array of 7488\n",
      "[SEGEMEHL] Mon Oct 24 15:27:05 2022: alurusortint: countingsort.\n",
      "[SEGEMEHL] Mon Oct 24 15:27:05 2022: countingsortint: init buffers and A\n",
      "[SEGEMEHL] Mon Oct 24 15:27:05 2022: setting buffer to zero\n",
      "[SEGEMEHL] Mon Oct 24 15:27:05 2022: countsortint: scanning buffer (1 of 3)\n",
      "[SEGEMEHL] Mon Oct 24 15:27:05 2022: countsortint: scanning buffer (2 of 3)\n",
      "[SEGEMEHL] Mon Oct 24 15:27:05 2022: countsortint: scanning buffer (3 of 3)\n",
      "[SEGEMEHL] Mon Oct 24 15:27:05 2022: countsortint: scanning buffer (to set borders)\n",
      "[SEGEMEHL] Mon Oct 24 15:27:05 2022: countsortint: exiting\n",
      "[SEGEMEHL] Mon Oct 24 15:27:05 2022: alurusortint: Sorting type S suffixes. Init bcktsB.\n",
      "[SEGEMEHL] Mon Oct 24 15:27:05 2022: 26880\t33019\t59899.\n",
      "\n",
      "init bit array of 3360\n",
      "[SEGEMEHL] Mon Oct 24 15:27:05 2022: arrayB: allocating B with 26880 elements.\n",
      "[SEGEMEHL] Mon Oct 24 15:27:05 2022: arrayB: iterating to lenA=59899.\n",
      "[SEGEMEHL] Mon Oct 24 15:27:05 2022: arrayB: exiting\n",
      "[SEGEMEHL] Mon Oct 24 15:27:05 2022: alurusortint: enter Qmaxdist.\n",
      "[SEGEMEHL] Mon Oct 24 15:27:05 2022: alurusortint: enter Qdist.\n",
      "[SEGEMEHL] Mon Oct 24 15:27:05 2022: alurusortint: enter distCount.\n",
      "init bit array of 7488\n",
      "[SEGEMEHL] Mon Oct 24 15:27:05 2022: alurusortint: enter get listsS.\n",
      "[SEGEMEHL] Mon Oct 24 15:27:05 2022: getlistsS: memsetting list of 59898 elements.\n",
      "[SEGEMEHL] Mon Oct 24 15:27:05 2022: getlistsS: iter up to 59899.\n",
      "[SEGEMEHL] Mon Oct 24 15:27:05 2022: getlistsS: scan A\n",
      "[SEGEMEHL] Mon Oct 24 15:27:05 2022: getlistsS: set accidst\n",
      "[SEGEMEHL] Mon Oct 24 15:27:05 2022: getlistsS: exiting\n",
      "[SEGEMEHL] Mon Oct 24 15:27:05 2022: alurusortint: freeing stuff.\n",
      "[SEGEMEHL] Mon Oct 24 15:27:05 2022: alurusortint: enter sortlistsS.\n",
      "[SEGEMEHL] Mon Oct 24 15:27:05 2022: sortlistS: allocating stuff.\n",
      "[SEGEMEHL] Mon Oct 24 15:27:05 2022: sortlistS: iterating 26880 elems.\n",
      "[SEGEMEHL] Mon Oct 24 15:27:05 2022: sortlistS: looping 59898 elems.\n",
      "[SEGEMEHL] Mon Oct 24 15:27:05 2022: sortlistS: iterating 59899 elems.\n",
      "[SEGEMEHL] Mon Oct 24 15:27:05 2022: sortlistsS: exiting happily!\n",
      "[SEGEMEHL] Mon Oct 24 15:27:05 2022: alurusortint: enter tprime.\n",
      "[SEGEMEHL] Mon Oct 24 15:27:05 2022: tprime: init arrays.\n",
      "[SEGEMEHL] Mon Oct 24 15:27:05 2022: tprime: scan B\n",
      "[SEGEMEHL] Mon Oct 24 15:27:05 2022: tprime: iterating i=59899 elements with lenB=26880.\n",
      "[SEGEMEHL] Mon Oct 24 15:27:05 2022: tprime: exit\n",
      "[SEGEMEHL] Mon Oct 24 15:27:05 2022: alurusortint: enter alurusortint.\n",
      "[SEGEMEHL] Mon Oct 24 15:27:05 2022: alurusortint: classify int.\n",
      "init bit array of 3360\n",
      "[SEGEMEHL] Mon Oct 24 15:27:05 2022: alurusortint: getting bit.\n",
      "[SEGEMEHL] Mon Oct 24 15:27:05 2022: alurusortint: init bcktsA.\n",
      "init bit array of 3360\n",
      "[SEGEMEHL] Mon Oct 24 15:27:05 2022: alurusortint: countingsort.\n",
      "[SEGEMEHL] Mon Oct 24 15:27:05 2022: countingsortint: init buffers and A\n",
      "[SEGEMEHL] Mon Oct 24 15:27:05 2022: setting buffer to zero\n",
      "[SEGEMEHL] Mon Oct 24 15:27:05 2022: countsortint: scanning buffer (1 of 3)\n",
      "[SEGEMEHL] Mon Oct 24 15:27:05 2022: countsortint: scanning buffer (2 of 3)\n",
      "[SEGEMEHL] Mon Oct 24 15:27:05 2022: countsortint: scanning buffer (3 of 3)\n",
      "[SEGEMEHL] Mon Oct 24 15:27:05 2022: countsortint: scanning buffer (to set borders)\n",
      "[SEGEMEHL] Mon Oct 24 15:27:05 2022: countsortint: exiting\n",
      "init bit array of 1520\n",
      "[SEGEMEHL] Mon Oct 24 15:27:05 2022: arrayB: allocating B with 12158 elements.\n",
      "[SEGEMEHL] Mon Oct 24 15:27:05 2022: arrayB: iterating to lenA=26880.\n",
      "[SEGEMEHL] Mon Oct 24 15:27:05 2022: arrayB: exiting\n",
      "init bit array of 3360\n",
      "[SEGEMEHL] Mon Oct 24 15:27:05 2022: alurusortint: enter get listsL.\n",
      "[SEGEMEHL] Mon Oct 24 15:27:05 2022: getlistsL: memsetting list of 26877 elements.\n",
      "[SEGEMEHL] Mon Oct 24 15:27:05 2022: getlistsL: iter from 26879 down to 0.\n",
      "[SEGEMEHL] Mon Oct 24 15:27:05 2022: scanning A (26880 elems).\n",
      "[SEGEMEHL] Mon Oct 24 15:27:05 2022: scanning accdist (8 elems) (1).\n",
      "[SEGEMEHL] Mon Oct 24 15:27:05 2022: scanning accdist (8 elems) (2).\n",
      "[SEGEMEHL] Mon Oct 24 15:27:05 2022: getlistsL: exit\n",
      "[SEGEMEHL] Mon Oct 24 15:27:05 2022: alurusortint: sort listsL.\n",
      "[SEGEMEHL] Mon Oct 24 15:27:05 2022: sortlistL: allocating stuff\n",
      "[SEGEMEHL] Mon Oct 24 15:27:05 2022: sortlistL: iterating 12158 elems.\n",
      "[SEGEMEHL] Mon Oct 24 15:27:05 2022: sortlistL: looping 26877 elems.\n",
      "[SEGEMEHL] Mon Oct 24 15:27:05 2022: sortlistL: iterating 26880 elems.\n",
      "[SEGEMEHL] Mon Oct 24 15:27:05 2022: sortlistsL: exiting happily!\n",
      "[SEGEMEHL] Mon Oct 24 15:27:05 2022: alurusortint: enter tprime.\n",
      "[SEGEMEHL] Mon Oct 24 15:27:05 2022: tprime: init arrays.\n",
      "[SEGEMEHL] Mon Oct 24 15:27:05 2022: tprime: scan B\n",
      "[SEGEMEHL] Mon Oct 24 15:27:05 2022: tprime: iterating i=26880 elements with lenB=12158.\n",
      "[SEGEMEHL] Mon Oct 24 15:27:05 2022: tprime: exit\n",
      "[SEGEMEHL] Mon Oct 24 15:27:05 2022: alurusortint: enter alurusortint.\n",
      "[SEGEMEHL] Mon Oct 24 15:27:05 2022: alurusortint: classify int.\n",
      "init bit array of 1520\n",
      "[SEGEMEHL] Mon Oct 24 15:27:05 2022: alurusortint: getting bit.\n",
      "[SEGEMEHL] Mon Oct 24 15:27:05 2022: alurusortint: init bcktsA.\n",
      "init bit array of 1520\n",
      "[SEGEMEHL] Mon Oct 24 15:27:05 2022: alurusortint: countingsort.\n",
      "[SEGEMEHL] Mon Oct 24 15:27:05 2022: countingsortint: init buffers and A\n",
      "[SEGEMEHL] Mon Oct 24 15:27:05 2022: setting buffer to zero\n",
      "[SEGEMEHL] Mon Oct 24 15:27:05 2022: countsortint: scanning buffer (1 of 3)\n",
      "[SEGEMEHL] Mon Oct 24 15:27:05 2022: countsortint: scanning buffer (2 of 3)\n",
      "[SEGEMEHL] Mon Oct 24 15:27:05 2022: countsortint: scanning buffer (3 of 3)\n",
      "[SEGEMEHL] Mon Oct 24 15:27:05 2022: countsortint: scanning buffer (to set borders)\n",
      "[SEGEMEHL] Mon Oct 24 15:27:05 2022: countsortint: exiting\n",
      "[SEGEMEHL] Mon Oct 24 15:27:05 2022: alurusortint: Sorting type S suffixes. Init bcktsB.\n",
      "[SEGEMEHL] Mon Oct 24 15:27:05 2022: 5392\t6766\t12158.\n",
      "\n",
      "init bit array of 674\n",
      "[SEGEMEHL] Mon Oct 24 15:27:05 2022: arrayB: allocating B with 5392 elements.\n",
      "[SEGEMEHL] Mon Oct 24 15:27:05 2022: arrayB: iterating to lenA=12158.\n",
      "[SEGEMEHL] Mon Oct 24 15:27:05 2022: arrayB: exiting\n",
      "[SEGEMEHL] Mon Oct 24 15:27:05 2022: alurusortint: enter Qmaxdist.\n",
      "[SEGEMEHL] Mon Oct 24 15:27:05 2022: alurusortint: enter Qdist.\n",
      "[SEGEMEHL] Mon Oct 24 15:27:05 2022: alurusortint: enter distCount.\n",
      "init bit array of 1520\n",
      "[SEGEMEHL] Mon Oct 24 15:27:05 2022: alurusortint: enter get listsS.\n",
      "[SEGEMEHL] Mon Oct 24 15:27:05 2022: getlistsS: memsetting list of 12157 elements.\n",
      "[SEGEMEHL] Mon Oct 24 15:27:05 2022: getlistsS: iter up to 12158.\n",
      "[SEGEMEHL] Mon Oct 24 15:27:05 2022: getlistsS: scan A\n",
      "[SEGEMEHL] Mon Oct 24 15:27:05 2022: getlistsS: set accidst\n",
      "[SEGEMEHL] Mon Oct 24 15:27:05 2022: getlistsS: exiting\n",
      "[SEGEMEHL] Mon Oct 24 15:27:05 2022: alurusortint: freeing stuff.\n",
      "[SEGEMEHL] Mon Oct 24 15:27:05 2022: alurusortint: enter sortlistsS.\n",
      "[SEGEMEHL] Mon Oct 24 15:27:05 2022: sortlistS: allocating stuff.\n",
      "[SEGEMEHL] Mon Oct 24 15:27:05 2022: sortlistS: iterating 5392 elems.\n",
      "[SEGEMEHL] Mon Oct 24 15:27:05 2022: sortlistS: looping 12157 elems.\n",
      "[SEGEMEHL] Mon Oct 24 15:27:05 2022: sortlistS: iterating 12158 elems.\n",
      "[SEGEMEHL] Mon Oct 24 15:27:05 2022: sortlistsS: exiting happily!\n",
      "[SEGEMEHL] Mon Oct 24 15:27:05 2022: alurusortint: enter tprime.\n",
      "[SEGEMEHL] Mon Oct 24 15:27:05 2022: tprime: init arrays.\n",
      "[SEGEMEHL] Mon Oct 24 15:27:05 2022: tprime: scan B\n",
      "[SEGEMEHL] Mon Oct 24 15:27:05 2022: tprime: iterating i=12158 elements with lenB=5392.\n",
      "[SEGEMEHL] Mon Oct 24 15:27:05 2022: tprime: exit\n",
      "[SEGEMEHL] Mon Oct 24 15:27:05 2022: alurusortint: enter alurusortint.\n",
      "[SEGEMEHL] Mon Oct 24 15:27:05 2022: alurusortint: classify int.\n",
      "init bit array of 674\n",
      "[SEGEMEHL] Mon Oct 24 15:27:05 2022: alurusortint: getting bit.\n",
      "[SEGEMEHL] Mon Oct 24 15:27:05 2022: alurusortint: init bcktsA.\n",
      "init bit array of 674\n",
      "[SEGEMEHL] Mon Oct 24 15:27:05 2022: alurusortint: countingsort.\n",
      "[SEGEMEHL] Mon Oct 24 15:27:05 2022: countingsortint: init buffers and A\n",
      "[SEGEMEHL] Mon Oct 24 15:27:05 2022: setting buffer to zero\n",
      "[SEGEMEHL] Mon Oct 24 15:27:05 2022: countsortint: scanning buffer (1 of 3)\n",
      "[SEGEMEHL] Mon Oct 24 15:27:05 2022: countsortint: scanning buffer (2 of 3)\n",
      "[SEGEMEHL] Mon Oct 24 15:27:05 2022: countsortint: scanning buffer (3 of 3)\n",
      "[SEGEMEHL] Mon Oct 24 15:27:05 2022: countsortint: scanning buffer (to set borders)\n",
      "[SEGEMEHL] Mon Oct 24 15:27:05 2022: countsortint: exiting\n",
      "init bit array of 303\n",
      "[SEGEMEHL] Mon Oct 24 15:27:05 2022: arrayB: allocating B with 2420 elements.\n",
      "[SEGEMEHL] Mon Oct 24 15:27:05 2022: arrayB: iterating to lenA=5392.\n",
      "[SEGEMEHL] Mon Oct 24 15:27:05 2022: arrayB: exiting\n",
      "init bit array of 674\n",
      "[SEGEMEHL] Mon Oct 24 15:27:05 2022: alurusortint: enter get listsL.\n",
      "[SEGEMEHL] Mon Oct 24 15:27:05 2022: getlistsL: memsetting list of 5391 elements.\n",
      "[SEGEMEHL] Mon Oct 24 15:27:05 2022: getlistsL: iter from 5391 down to 0.\n",
      "[SEGEMEHL] Mon Oct 24 15:27:05 2022: scanning A (5392 elems).\n",
      "[SEGEMEHL] Mon Oct 24 15:27:05 2022: scanning accdist (7 elems) (1).\n",
      "[SEGEMEHL] Mon Oct 24 15:27:05 2022: scanning accdist (7 elems) (2).\n",
      "[SEGEMEHL] Mon Oct 24 15:27:05 2022: getlistsL: exit\n",
      "[SEGEMEHL] Mon Oct 24 15:27:05 2022: alurusortint: sort listsL.\n",
      "[SEGEMEHL] Mon Oct 24 15:27:05 2022: sortlistL: allocating stuff\n",
      "[SEGEMEHL] Mon Oct 24 15:27:05 2022: sortlistL: iterating 2420 elems.\n",
      "[SEGEMEHL] Mon Oct 24 15:27:05 2022: sortlistL: looping 5391 elems.\n",
      "[SEGEMEHL] Mon Oct 24 15:27:05 2022: sortlistL: iterating 5392 elems.\n",
      "[SEGEMEHL] Mon Oct 24 15:27:05 2022: sortlistsL: exiting happily!\n",
      "[SEGEMEHL] Mon Oct 24 15:27:05 2022: alurusortint: enter tprime.\n",
      "[SEGEMEHL] Mon Oct 24 15:27:05 2022: tprime: init arrays.\n",
      "[SEGEMEHL] Mon Oct 24 15:27:05 2022: tprime: scan B\n",
      "[SEGEMEHL] Mon Oct 24 15:27:05 2022: tprime: iterating i=5392 elements with lenB=2420.\n",
      "[SEGEMEHL] Mon Oct 24 15:27:05 2022: tprime: exit\n",
      "[SEGEMEHL] Mon Oct 24 15:27:05 2022: alurusortint: enter alurusortint.\n",
      "[SEGEMEHL] Mon Oct 24 15:27:05 2022: alurusortint: classify int.\n",
      "init bit array of 303\n",
      "[SEGEMEHL] Mon Oct 24 15:27:05 2022: alurusortint: getting bit.\n",
      "[SEGEMEHL] Mon Oct 24 15:27:05 2022: alurusortint: init bcktsA.\n",
      "init bit array of 303\n",
      "[SEGEMEHL] Mon Oct 24 15:27:05 2022: alurusortint: countingsort.\n",
      "[SEGEMEHL] Mon Oct 24 15:27:05 2022: countingsortint: init buffers and A\n",
      "[SEGEMEHL] Mon Oct 24 15:27:05 2022: setting buffer to zero\n",
      "[SEGEMEHL] Mon Oct 24 15:27:05 2022: countsortint: scanning buffer (1 of 3)\n",
      "[SEGEMEHL] Mon Oct 24 15:27:05 2022: countsortint: scanning buffer (2 of 3)\n",
      "[SEGEMEHL] Mon Oct 24 15:27:05 2022: countsortint: scanning buffer (3 of 3)\n",
      "[SEGEMEHL] Mon Oct 24 15:27:05 2022: countsortint: scanning buffer (to set borders)\n",
      "[SEGEMEHL] Mon Oct 24 15:27:05 2022: countsortint: exiting\n",
      "[SEGEMEHL] Mon Oct 24 15:27:05 2022: alurusortint: Sorting type S suffixes. Init bcktsB.\n",
      "[SEGEMEHL] Mon Oct 24 15:27:05 2022: 1080\t1340\t2420.\n",
      "\n",
      "init bit array of 135\n",
      "[SEGEMEHL] Mon Oct 24 15:27:05 2022: arrayB: allocating B with 1080 elements.\n",
      "[SEGEMEHL] Mon Oct 24 15:27:05 2022: arrayB: iterating to lenA=2420.\n",
      "[SEGEMEHL] Mon Oct 24 15:27:05 2022: arrayB: exiting\n",
      "[SEGEMEHL] Mon Oct 24 15:27:05 2022: alurusortint: enter Qmaxdist.\n",
      "[SEGEMEHL] Mon Oct 24 15:27:05 2022: alurusortint: enter Qdist.\n",
      "[SEGEMEHL] Mon Oct 24 15:27:05 2022: alurusortint: enter distCount.\n",
      "init bit array of 303\n",
      "[SEGEMEHL] Mon Oct 24 15:27:05 2022: alurusortint: enter get listsS.\n",
      "[SEGEMEHL] Mon Oct 24 15:27:05 2022: getlistsS: memsetting list of 2417 elements.\n",
      "[SEGEMEHL] Mon Oct 24 15:27:05 2022: getlistsS: iter up to 2420.\n",
      "[SEGEMEHL] Mon Oct 24 15:27:05 2022: getlistsS: scan A\n",
      "[SEGEMEHL] Mon Oct 24 15:27:05 2022: getlistsS: set accidst\n",
      "[SEGEMEHL] Mon Oct 24 15:27:05 2022: getlistsS: exiting\n",
      "[SEGEMEHL] Mon Oct 24 15:27:05 2022: alurusortint: freeing stuff.\n",
      "[SEGEMEHL] Mon Oct 24 15:27:05 2022: alurusortint: enter sortlistsS.\n",
      "[SEGEMEHL] Mon Oct 24 15:27:05 2022: sortlistS: allocating stuff.\n",
      "[SEGEMEHL] Mon Oct 24 15:27:05 2022: sortlistS: iterating 1080 elems.\n",
      "[SEGEMEHL] Mon Oct 24 15:27:05 2022: sortlistS: looping 2417 elems.\n",
      "[SEGEMEHL] Mon Oct 24 15:27:05 2022: sortlistS: iterating 2420 elems.\n",
      "[SEGEMEHL] Mon Oct 24 15:27:05 2022: sortlistsS: exiting happily!\n",
      "[SEGEMEHL] Mon Oct 24 15:27:05 2022: alurusortint: valbitarraysortedS.\n",
      "init bit array of 303\n",
      "[SEGEMEHL] Mon Oct 24 15:27:05 2022: reconstructintL.\n",
      "[SEGEMEHL] Mon Oct 24 15:27:05 2022: reconstruct: init.\n",
      "[SEGEMEHL] Mon Oct 24 15:27:05 2022: reconstruct: iteration over 5392 elems.\n",
      "[SEGEMEHL] Mon Oct 24 15:27:05 2022: reconstruct: scan B (size: 2420).\n",
      "[SEGEMEHL] Mon Oct 24 15:27:05 2022: reconstruct: exit.\n",
      "init bit array of 674\n",
      "[SEGEMEHL] Mon Oct 24 15:27:05 2022: reconstructintS.\n",
      "[SEGEMEHL] Mon Oct 24 15:27:05 2022: reconstruct: init.\n",
      "[SEGEMEHL] Mon Oct 24 15:27:05 2022: reconstruct: iteration over 12158 elems.\n",
      "[SEGEMEHL] Mon Oct 24 15:27:05 2022: reconstruct: scan B (size: 5392).\n",
      "[SEGEMEHL] Mon Oct 24 15:27:05 2022: reconstruct: exit.\n",
      "init bit array of 1520\n",
      "[SEGEMEHL] Mon Oct 24 15:27:05 2022: reconstructintL.\n",
      "[SEGEMEHL] Mon Oct 24 15:27:05 2022: reconstruct: init.\n",
      "[SEGEMEHL] Mon Oct 24 15:27:05 2022: reconstruct: iteration over 26880 elems.\n",
      "[SEGEMEHL] Mon Oct 24 15:27:05 2022: reconstruct: scan B (size: 12158).\n",
      "[SEGEMEHL] Mon Oct 24 15:27:05 2022: reconstruct: exit.\n",
      "init bit array of 3360\n",
      "[SEGEMEHL] Mon Oct 24 15:27:05 2022: reconstructintS.\n",
      "[SEGEMEHL] Mon Oct 24 15:27:05 2022: reconstruct: init.\n",
      "[SEGEMEHL] Mon Oct 24 15:27:05 2022: reconstruct: iteration over 59899 elems.\n",
      "[SEGEMEHL] Mon Oct 24 15:27:05 2022: reconstruct: scan B (size: 26880).\n",
      "[SEGEMEHL] Mon Oct 24 15:27:05 2022: reconstruct: exit.\n",
      "init bit array of 7488\n",
      "[SEGEMEHL] Mon Oct 24 15:27:05 2022: reconstructintL.\n",
      "[SEGEMEHL] Mon Oct 24 15:27:05 2022: reconstruct: init.\n",
      "[SEGEMEHL] Mon Oct 24 15:27:05 2022: reconstruct: iteration over 132587 elems.\n",
      "[SEGEMEHL] Mon Oct 24 15:27:05 2022: reconstruct: scan B (size: 59899).\n",
      "[SEGEMEHL] Mon Oct 24 15:27:05 2022: reconstruct: exit.\n",
      "init bit array of 16574\n",
      "[SEGEMEHL] Mon Oct 24 15:27:05 2022: reconstructintS.\n",
      "[SEGEMEHL] Mon Oct 24 15:27:05 2022: reconstruct: init.\n",
      "[SEGEMEHL] Mon Oct 24 15:27:05 2022: reconstruct: iteration over 294214 elems.\n",
      "[SEGEMEHL] Mon Oct 24 15:27:05 2022: reconstruct: scan B (size: 132587).\n",
      "[SEGEMEHL] Mon Oct 24 15:27:05 2022: reconstruct: exit.\n",
      "init bit array of 36777\n",
      "[SEGEMEHL] Mon Oct 24 15:27:05 2022: reconstructintL.\n",
      "[SEGEMEHL] Mon Oct 24 15:27:05 2022: reconstruct: init.\n",
      "[SEGEMEHL] Mon Oct 24 15:27:05 2022: reconstruct: iteration over 659811 elems.\n",
      "[SEGEMEHL] Mon Oct 24 15:27:05 2022: reconstruct: scan B (size: 294214).\n",
      "[SEGEMEHL] Mon Oct 24 15:27:05 2022: reconstruct: exit.\n",
      "init bit array of 82477\n",
      "[SEGEMEHL] Mon Oct 24 15:27:05 2022: reconstructintS.\n",
      "[SEGEMEHL] Mon Oct 24 15:27:05 2022: reconstruct: init.\n",
      "[SEGEMEHL] Mon Oct 24 15:27:05 2022: reconstruct: iteration over 1469905 elems.\n",
      "[SEGEMEHL] Mon Oct 24 15:27:05 2022: reconstruct: scan B (size: 659811).\n",
      "[SEGEMEHL] Mon Oct 24 15:27:05 2022: reconstruct: exit.\n",
      "init bit array of 183739\n",
      "[SEGEMEHL] Mon Oct 24 15:27:05 2022: reconstructintL.\n",
      "[SEGEMEHL] Mon Oct 24 15:27:05 2022: reconstruct: init.\n",
      "[SEGEMEHL] Mon Oct 24 15:27:05 2022: reconstruct: iteration over 3563197 elems.\n",
      "[SEGEMEHL] Mon Oct 24 15:27:05 2022: reconstruct: scan B (size: 1469905).\n",
      "[SEGEMEHL] Mon Oct 24 15:27:05 2022: reconstruct: exit.\n",
      "init bit array of 445400\n",
      "[SEGEMEHL] Mon Oct 24 15:27:05 2022: reconstructcharS.\n",
      "[SEGEMEHL] Mon Oct 24 15:27:05 2022: reconstruct: init.\n",
      "[SEGEMEHL] Mon Oct 24 15:27:05 2022: reconstruct: iteration over 7387736 elems.\n",
      "[SEGEMEHL] Mon Oct 24 15:27:05 2022: reconstruct: scan B (size: 3563197).\n",
      "[SEGEMEHL] Mon Oct 24 15:27:05 2022: reconstruct: exit.\n",
      "[SEGEMEHL] Mon Oct 24 15:27:05 2022: enter aluruSuffixArrayS start.\n",
      "init bit array of 923467\n",
      "[SEGEMEHL] Mon Oct 24 15:27:05 2022: constructing inv_suftab (7387736).\n",
      "[SEGEMEHL] Mon Oct 24 15:27:05 2022: inv_suftab constructed.\n",
      "[SEGEMEHL] Mon Oct 24 15:27:05 2022: constructing lcp.\n",
      "\u001b[s\u001b[K[SEGEMEHL] Mon Oct 24 15:27:05 2022: deleting inv_suftab\n",
      "[SEGEMEHL] Mon Oct 24 15:27:05 2022: constructing child tab.\n",
      "[SEGEMEHL] Mon Oct 24 15:27:05 2022: constructing suffix links.\n",
      "[SEGEMEHL] Mon Oct 24 15:27:05 2022: constructing id.\n",
      "[SEGEMEHL] Mon Oct 24 15:27:06 2022: constructing suflinks - bottom up.\n",
      "[SEGEMEHL] Mon Oct 24 15:27:06 2022: constructing suflinks - top down.\n",
      "suflink construction. pushes: 4787558, maxstack: 31\n",
      "[SEGEMEHL] Mon Oct 24 15:27:07 2022: building  the suffix array has taken 3.000000 seconds.\n",
      "[SEGEMEHL] Mon Oct 24 15:27:07 2022: total length of suffix array was 7387725.\n",
      "[SEGEMEHL] Mon Oct 24 15:27:07 2022: writing suffix array '../../02-OUTPUT/03-ALIGN/02-READEMPTION/BV2-C16_80.idx' to disk.\n",
      "[SEGEMEHL] Mon Oct 24 15:27:07 2022: Mapping stats:\n",
      "\ttotal\tmapped\t(%)\tunique\t(%)\tmulti\t(%)\tsplit\t(%)\n",
      "all\t0\t0\t-nan%\t0\t-nan%\t0\t-nan%\t0\t-nan%\n",
      "[SEGEMEHL] Mon Oct 24 15:27:07 2022: \n",
      "Goodbye.\n",
      " \"Tschüss, Herr Kayser!\" (Shorty)\n",
      " 33%|██████████████████████████████████████████████████████████▋                                                                                                                     | 1/3 [00:02<00:04,  2.49s/it][SEGEMEHL] Mon Oct 24 15:27:07 2022: reading database sequences.\n",
      "[SEGEMEHL] Mon Oct 24 15:27:07 2022: 4 database sequences found.\n",
      "[SEGEMEHL] Mon Oct 24 15:27:07 2022: total length of db sequences: 5674258\n",
      "[SEGEMEHL] Mon Oct 24 15:27:07 2022: assigning all reads to default read group 'A1'.\n",
      "[SEGEMEHL] Mon Oct 24 15:27:07 2022: additional read group default values '\tSM:sample1\tLB:library1\tPU:unit1\tPL:illumina'\n",
      "[SEGEMEHL] Mon Oct 24 15:27:07 2022: reads assigned to read group 'A1'\n",
      "[SEGEMEHL] Mon Oct 24 15:27:07 2022: compiled sam header.\n",
      "[SEGEMEHL] Mon Oct 24 15:27:07 2022: alphabet of size (6): ACGT~\n",
      "[SEGEMEHL] Mon Oct 24 15:27:07 2022: size of db sequence: 5674262\n",
      "[SEGEMEHL] Mon Oct 24 15:27:07 2022: constructing suftab.\n",
      "[SEGEMEHL] Mon Oct 24 15:27:07 2022: alurusort: classify.\n",
      "init bit array of 709283\n",
      "[SEGEMEHL] Mon Oct 24 15:27:07 2022: alurusort: getting bit.\n",
      "[SEGEMEHL] Mon Oct 24 15:27:07 2022: not bit alurusort: alloc B of size 2735252.\n",
      "[SEGEMEHL] Mon Oct 24 15:27:07 2022: alurusort: initbitarray of size 2735252.\n",
      "init bit array of 341907\n",
      "[SEGEMEHL] Mon Oct 24 15:27:07 2022: alurusort: Qmaxdist in cl of size 5674262.\n",
      "[SEGEMEHL] Mon Oct 24 15:27:07 2022: alurusort: scan B.\n",
      "[SEGEMEHL] Mon Oct 24 15:27:07 2022: alurusort: substringsort.\n",
      "[SEGEMEHL] Mon Oct 24 15:27:07 2022: setting bit array to zero\n",
      "[SEGEMEHL] Mon Oct 24 15:27:07 2022: allocating space for buckets and buffers\n",
      "[SEGEMEHL] Mon Oct 24 15:27:07 2022: memsetting\n",
      "[SEGEMEHL] Mon Oct 24 15:27:07 2022: substring sort ... ok\n",
      "[SEGEMEHL] Mon Oct 24 15:27:07 2022: checking valbitarray.\n",
      "[SEGEMEHL] Mon Oct 24 15:27:07 2022: enter Tprime calculation.\n",
      "[SEGEMEHL] Mon Oct 24 15:27:07 2022: tprime: init arrays.\n",
      "[SEGEMEHL] Mon Oct 24 15:27:07 2022: tprime: scan B\n",
      "[SEGEMEHL] Mon Oct 24 15:27:07 2022: tprime: iterating i=5674262 elements with lenB=2735252.\n",
      "[SEGEMEHL] Mon Oct 24 15:27:07 2022: tprime: exit\n",
      "[SEGEMEHL] Mon Oct 24 15:27:07 2022: enter alursortint.\n",
      "[SEGEMEHL] Mon Oct 24 15:27:07 2022: alurusortint: classify int.\n",
      "init bit array of 341907\n"
     ]
    },
    {
     "name": "stdout",
     "output_type": "stream",
     "text": [
      "BV1-C58\n"
     ]
    },
    {
     "name": "stderr",
     "output_type": "stream",
     "text": [
      "[SEGEMEHL] Mon Oct 24 15:27:07 2022: alurusortint: getting bit.\n",
      "[SEGEMEHL] Mon Oct 24 15:27:07 2022: alurusortint: init bcktsA.\n",
      "init bit array of 341907\n",
      "[SEGEMEHL] Mon Oct 24 15:27:07 2022: alurusortint: countingsort.\n",
      "[SEGEMEHL] Mon Oct 24 15:27:07 2022: countingsortint: init buffers and A\n",
      "[SEGEMEHL] Mon Oct 24 15:27:07 2022: setting buffer to zero\n",
      "[SEGEMEHL] Mon Oct 24 15:27:07 2022: countsortint: scanning buffer (1 of 3)\n",
      "[SEGEMEHL] Mon Oct 24 15:27:07 2022: countsortint: scanning buffer (2 of 3)\n",
      "[SEGEMEHL] Mon Oct 24 15:27:07 2022: countsortint: scanning buffer (3 of 3)\n",
      "[SEGEMEHL] Mon Oct 24 15:27:07 2022: countsortint: scanning buffer (to set borders)\n",
      "[SEGEMEHL] Mon Oct 24 15:27:07 2022: countsortint: exiting\n",
      "init bit array of 137042\n",
      "[SEGEMEHL] Mon Oct 24 15:27:07 2022: arrayB: allocating B with 1096336 elements.\n",
      "[SEGEMEHL] Mon Oct 24 15:27:07 2022: arrayB: iterating to lenA=2735252.\n",
      "[SEGEMEHL] Mon Oct 24 15:27:07 2022: arrayB: exiting\n",
      "init bit array of 341907\n",
      "[SEGEMEHL] Mon Oct 24 15:27:07 2022: alurusortint: enter get listsL.\n",
      "[SEGEMEHL] Mon Oct 24 15:27:07 2022: getlistsL: memsetting list of 2735250 elements.\n",
      "[SEGEMEHL] Mon Oct 24 15:27:07 2022: getlistsL: iter from 2735251 down to 0.\n",
      "[SEGEMEHL] Mon Oct 24 15:27:07 2022: scanning A (2735252 elems).\n",
      "[SEGEMEHL] Mon Oct 24 15:27:07 2022: scanning accdist (14 elems) (1).\n",
      "[SEGEMEHL] Mon Oct 24 15:27:07 2022: scanning accdist (14 elems) (2).\n",
      "[SEGEMEHL] Mon Oct 24 15:27:07 2022: getlistsL: exit\n",
      "[SEGEMEHL] Mon Oct 24 15:27:07 2022: alurusortint: sort listsL.\n",
      "[SEGEMEHL] Mon Oct 24 15:27:07 2022: sortlistL: allocating stuff\n",
      "[SEGEMEHL] Mon Oct 24 15:27:07 2022: sortlistL: iterating 1096336 elems.\n",
      "[SEGEMEHL] Mon Oct 24 15:27:07 2022: sortlistL: looping 2735250 elems.\n",
      "[SEGEMEHL] Mon Oct 24 15:27:07 2022: sortlistL: iterating 2735252 elems.\n",
      "[SEGEMEHL] Mon Oct 24 15:27:07 2022: sortlistsL: exiting happily!\n",
      "[SEGEMEHL] Mon Oct 24 15:27:07 2022: alurusortint: enter tprime.\n",
      "[SEGEMEHL] Mon Oct 24 15:27:07 2022: tprime: init arrays.\n",
      "[SEGEMEHL] Mon Oct 24 15:27:07 2022: tprime: scan B\n",
      "[SEGEMEHL] Mon Oct 24 15:27:07 2022: tprime: iterating i=2735252 elements with lenB=1096336.\n",
      "[SEGEMEHL] Mon Oct 24 15:27:07 2022: tprime: exit\n",
      "[SEGEMEHL] Mon Oct 24 15:27:07 2022: alurusortint: enter alurusortint.\n",
      "[SEGEMEHL] Mon Oct 24 15:27:07 2022: alurusortint: classify int.\n",
      "init bit array of 137042\n",
      "[SEGEMEHL] Mon Oct 24 15:27:07 2022: alurusortint: getting bit.\n",
      "[SEGEMEHL] Mon Oct 24 15:27:07 2022: alurusortint: init bcktsA.\n",
      "init bit array of 137042\n",
      "[SEGEMEHL] Mon Oct 24 15:27:07 2022: alurusortint: countingsort.\n",
      "[SEGEMEHL] Mon Oct 24 15:27:07 2022: countingsortint: init buffers and A\n",
      "[SEGEMEHL] Mon Oct 24 15:27:07 2022: setting buffer to zero\n",
      "[SEGEMEHL] Mon Oct 24 15:27:07 2022: countsortint: scanning buffer (1 of 3)\n",
      "[SEGEMEHL] Mon Oct 24 15:27:07 2022: countsortint: scanning buffer (2 of 3)\n",
      "[SEGEMEHL] Mon Oct 24 15:27:07 2022: countsortint: scanning buffer (3 of 3)\n",
      "[SEGEMEHL] Mon Oct 24 15:27:07 2022: countsortint: scanning buffer (to set borders)\n",
      "[SEGEMEHL] Mon Oct 24 15:27:07 2022: countsortint: exiting\n",
      "[SEGEMEHL] Mon Oct 24 15:27:07 2022: alurusortint: Sorting type S suffixes. Init bcktsB.\n",
      "[SEGEMEHL] Mon Oct 24 15:27:07 2022: 492769\t603567\t1096336.\n",
      "\n",
      "init bit array of 61597\n",
      "[SEGEMEHL] Mon Oct 24 15:27:07 2022: arrayB: allocating B with 492769 elements.\n",
      "[SEGEMEHL] Mon Oct 24 15:27:07 2022: arrayB: iterating to lenA=1096336.\n",
      "[SEGEMEHL] Mon Oct 24 15:27:07 2022: arrayB: exiting\n",
      "[SEGEMEHL] Mon Oct 24 15:27:07 2022: alurusortint: enter Qmaxdist.\n",
      "[SEGEMEHL] Mon Oct 24 15:27:07 2022: alurusortint: enter Qdist.\n",
      "[SEGEMEHL] Mon Oct 24 15:27:07 2022: alurusortint: enter distCount.\n",
      "init bit array of 137042\n",
      "[SEGEMEHL] Mon Oct 24 15:27:07 2022: alurusortint: enter get listsS.\n",
      "[SEGEMEHL] Mon Oct 24 15:27:07 2022: getlistsS: memsetting list of 1096335 elements.\n",
      "[SEGEMEHL] Mon Oct 24 15:27:07 2022: getlistsS: iter up to 1096336.\n",
      "[SEGEMEHL] Mon Oct 24 15:27:07 2022: getlistsS: scan A\n",
      "[SEGEMEHL] Mon Oct 24 15:27:07 2022: getlistsS: set accidst\n",
      "[SEGEMEHL] Mon Oct 24 15:27:07 2022: getlistsS: exiting\n",
      "[SEGEMEHL] Mon Oct 24 15:27:07 2022: alurusortint: freeing stuff.\n",
      "[SEGEMEHL] Mon Oct 24 15:27:07 2022: alurusortint: enter sortlistsS.\n",
      "[SEGEMEHL] Mon Oct 24 15:27:07 2022: sortlistS: allocating stuff.\n",
      "[SEGEMEHL] Mon Oct 24 15:27:07 2022: sortlistS: iterating 492769 elems.\n",
      "[SEGEMEHL] Mon Oct 24 15:27:07 2022: sortlistS: looping 1096335 elems.\n",
      "[SEGEMEHL] Mon Oct 24 15:27:07 2022: sortlistS: iterating 1096336 elems.\n",
      "[SEGEMEHL] Mon Oct 24 15:27:07 2022: sortlistsS: exiting happily!\n",
      "[SEGEMEHL] Mon Oct 24 15:27:07 2022: alurusortint: enter tprime.\n",
      "[SEGEMEHL] Mon Oct 24 15:27:07 2022: tprime: init arrays.\n",
      "[SEGEMEHL] Mon Oct 24 15:27:07 2022: tprime: scan B\n",
      "[SEGEMEHL] Mon Oct 24 15:27:07 2022: tprime: iterating i=1096336 elements with lenB=492769.\n",
      "[SEGEMEHL] Mon Oct 24 15:27:07 2022: tprime: exit\n",
      "[SEGEMEHL] Mon Oct 24 15:27:07 2022: alurusortint: enter alurusortint.\n",
      "[SEGEMEHL] Mon Oct 24 15:27:07 2022: alurusortint: classify int.\n",
      "init bit array of 61597\n",
      "[SEGEMEHL] Mon Oct 24 15:27:07 2022: alurusortint: getting bit.\n",
      "[SEGEMEHL] Mon Oct 24 15:27:07 2022: alurusortint: init bcktsA.\n",
      "init bit array of 61597\n",
      "[SEGEMEHL] Mon Oct 24 15:27:07 2022: alurusortint: countingsort.\n",
      "[SEGEMEHL] Mon Oct 24 15:27:07 2022: countingsortint: init buffers and A\n",
      "[SEGEMEHL] Mon Oct 24 15:27:07 2022: setting buffer to zero\n",
      "[SEGEMEHL] Mon Oct 24 15:27:07 2022: countsortint: scanning buffer (1 of 3)\n",
      "[SEGEMEHL] Mon Oct 24 15:27:07 2022: countsortint: scanning buffer (2 of 3)\n",
      "[SEGEMEHL] Mon Oct 24 15:27:07 2022: countsortint: scanning buffer (3 of 3)\n",
      "[SEGEMEHL] Mon Oct 24 15:27:07 2022: countsortint: scanning buffer (to set borders)\n",
      "[SEGEMEHL] Mon Oct 24 15:27:07 2022: countsortint: exiting\n",
      "init bit array of 27507\n",
      "[SEGEMEHL] Mon Oct 24 15:27:07 2022: arrayB: allocating B with 220051 elements.\n",
      "[SEGEMEHL] Mon Oct 24 15:27:07 2022: arrayB: iterating to lenA=492769.\n",
      "[SEGEMEHL] Mon Oct 24 15:27:07 2022: arrayB: exiting\n",
      "init bit array of 61596\n",
      "[SEGEMEHL] Mon Oct 24 15:27:07 2022: alurusortint: enter get listsL.\n",
      "[SEGEMEHL] Mon Oct 24 15:27:07 2022: getlistsL: memsetting list of 492766 elements.\n",
      "[SEGEMEHL] Mon Oct 24 15:27:07 2022: getlistsL: iter from 492768 down to 0.\n",
      "[SEGEMEHL] Mon Oct 24 15:27:07 2022: scanning A (492769 elems).\n",
      "[SEGEMEHL] Mon Oct 24 15:27:07 2022: scanning accdist (10 elems) (1).\n",
      "[SEGEMEHL] Mon Oct 24 15:27:07 2022: scanning accdist (10 elems) (2).\n",
      "[SEGEMEHL] Mon Oct 24 15:27:07 2022: getlistsL: exit\n",
      "[SEGEMEHL] Mon Oct 24 15:27:07 2022: alurusortint: sort listsL.\n",
      "[SEGEMEHL] Mon Oct 24 15:27:07 2022: sortlistL: allocating stuff\n",
      "[SEGEMEHL] Mon Oct 24 15:27:07 2022: sortlistL: iterating 220051 elems.\n",
      "[SEGEMEHL] Mon Oct 24 15:27:07 2022: sortlistL: looping 492766 elems.\n",
      "[SEGEMEHL] Mon Oct 24 15:27:07 2022: sortlistL: iterating 492769 elems.\n",
      "[SEGEMEHL] Mon Oct 24 15:27:07 2022: sortlistsL: exiting happily!\n",
      "[SEGEMEHL] Mon Oct 24 15:27:07 2022: alurusortint: enter tprime.\n",
      "[SEGEMEHL] Mon Oct 24 15:27:07 2022: tprime: init arrays.\n",
      "[SEGEMEHL] Mon Oct 24 15:27:07 2022: tprime: scan B\n",
      "[SEGEMEHL] Mon Oct 24 15:27:07 2022: tprime: iterating i=492769 elements with lenB=220051.\n",
      "[SEGEMEHL] Mon Oct 24 15:27:07 2022: tprime: exit\n",
      "[SEGEMEHL] Mon Oct 24 15:27:07 2022: alurusortint: enter alurusortint.\n",
      "[SEGEMEHL] Mon Oct 24 15:27:07 2022: alurusortint: classify int.\n",
      "init bit array of 27507\n",
      "[SEGEMEHL] Mon Oct 24 15:27:07 2022: alurusortint: getting bit.\n",
      "[SEGEMEHL] Mon Oct 24 15:27:07 2022: alurusortint: init bcktsA.\n",
      "init bit array of 27507\n",
      "[SEGEMEHL] Mon Oct 24 15:27:07 2022: alurusortint: countingsort.\n",
      "[SEGEMEHL] Mon Oct 24 15:27:07 2022: countingsortint: init buffers and A\n",
      "[SEGEMEHL] Mon Oct 24 15:27:07 2022: setting buffer to zero\n",
      "[SEGEMEHL] Mon Oct 24 15:27:07 2022: countsortint: scanning buffer (1 of 3)\n",
      "[SEGEMEHL] Mon Oct 24 15:27:07 2022: countsortint: scanning buffer (2 of 3)\n",
      "[SEGEMEHL] Mon Oct 24 15:27:07 2022: countsortint: scanning buffer (3 of 3)\n",
      "[SEGEMEHL] Mon Oct 24 15:27:07 2022: countsortint: scanning buffer (to set borders)\n",
      "[SEGEMEHL] Mon Oct 24 15:27:07 2022: countsortint: exiting\n",
      "[SEGEMEHL] Mon Oct 24 15:27:07 2022: alurusortint: Sorting type S suffixes. Init bcktsB.\n",
      "[SEGEMEHL] Mon Oct 24 15:27:07 2022: 99132\t120919\t220051.\n",
      "\n",
      "init bit array of 12392\n",
      "[SEGEMEHL] Mon Oct 24 15:27:07 2022: arrayB: allocating B with 99132 elements.\n",
      "[SEGEMEHL] Mon Oct 24 15:27:07 2022: arrayB: iterating to lenA=220051.\n",
      "[SEGEMEHL] Mon Oct 24 15:27:07 2022: arrayB: exiting\n",
      "[SEGEMEHL] Mon Oct 24 15:27:07 2022: alurusortint: enter Qmaxdist.\n",
      "[SEGEMEHL] Mon Oct 24 15:27:07 2022: alurusortint: enter Qdist.\n",
      "[SEGEMEHL] Mon Oct 24 15:27:07 2022: alurusortint: enter distCount.\n",
      "init bit array of 27506\n",
      "[SEGEMEHL] Mon Oct 24 15:27:07 2022: alurusortint: enter get listsS.\n",
      "[SEGEMEHL] Mon Oct 24 15:27:07 2022: getlistsS: memsetting list of 220047 elements.\n",
      "[SEGEMEHL] Mon Oct 24 15:27:07 2022: getlistsS: iter up to 220051.\n",
      "[SEGEMEHL] Mon Oct 24 15:27:07 2022: getlistsS: scan A\n",
      "[SEGEMEHL] Mon Oct 24 15:27:07 2022: getlistsS: set accidst\n",
      "[SEGEMEHL] Mon Oct 24 15:27:07 2022: getlistsS: exiting\n",
      "[SEGEMEHL] Mon Oct 24 15:27:07 2022: alurusortint: freeing stuff.\n",
      "[SEGEMEHL] Mon Oct 24 15:27:07 2022: alurusortint: enter sortlistsS.\n",
      "[SEGEMEHL] Mon Oct 24 15:27:07 2022: sortlistS: allocating stuff.\n",
      "[SEGEMEHL] Mon Oct 24 15:27:07 2022: sortlistS: iterating 99132 elems.\n",
      "[SEGEMEHL] Mon Oct 24 15:27:07 2022: sortlistS: looping 220047 elems.\n",
      "[SEGEMEHL] Mon Oct 24 15:27:07 2022: sortlistS: iterating 220051 elems.\n",
      "[SEGEMEHL] Mon Oct 24 15:27:07 2022: sortlistsS: exiting happily!\n",
      "[SEGEMEHL] Mon Oct 24 15:27:07 2022: alurusortint: enter tprime.\n",
      "[SEGEMEHL] Mon Oct 24 15:27:07 2022: tprime: init arrays.\n",
      "[SEGEMEHL] Mon Oct 24 15:27:07 2022: tprime: scan B\n",
      "[SEGEMEHL] Mon Oct 24 15:27:07 2022: tprime: iterating i=220051 elements with lenB=99132.\n",
      "[SEGEMEHL] Mon Oct 24 15:27:07 2022: tprime: exit\n",
      "[SEGEMEHL] Mon Oct 24 15:27:07 2022: alurusortint: enter alurusortint.\n",
      "[SEGEMEHL] Mon Oct 24 15:27:07 2022: alurusortint: classify int.\n",
      "init bit array of 12392\n",
      "[SEGEMEHL] Mon Oct 24 15:27:07 2022: alurusortint: getting bit.\n",
      "[SEGEMEHL] Mon Oct 24 15:27:07 2022: alurusortint: init bcktsA.\n",
      "init bit array of 12392\n",
      "[SEGEMEHL] Mon Oct 24 15:27:07 2022: alurusortint: countingsort.\n",
      "[SEGEMEHL] Mon Oct 24 15:27:07 2022: countingsortint: init buffers and A\n",
      "[SEGEMEHL] Mon Oct 24 15:27:07 2022: setting buffer to zero\n",
      "[SEGEMEHL] Mon Oct 24 15:27:07 2022: countsortint: scanning buffer (1 of 3)\n",
      "[SEGEMEHL] Mon Oct 24 15:27:07 2022: countsortint: scanning buffer (2 of 3)\n",
      "[SEGEMEHL] Mon Oct 24 15:27:07 2022: countsortint: scanning buffer (3 of 3)\n",
      "[SEGEMEHL] Mon Oct 24 15:27:07 2022: countsortint: scanning buffer (to set borders)\n",
      "[SEGEMEHL] Mon Oct 24 15:27:07 2022: countsortint: exiting\n",
      "init bit array of 5616\n",
      "[SEGEMEHL] Mon Oct 24 15:27:07 2022: arrayB: allocating B with 44928 elements.\n",
      "[SEGEMEHL] Mon Oct 24 15:27:07 2022: arrayB: iterating to lenA=99132.\n",
      "[SEGEMEHL] Mon Oct 24 15:27:07 2022: arrayB: exiting\n",
      "init bit array of 12392\n",
      "[SEGEMEHL] Mon Oct 24 15:27:07 2022: alurusortint: enter get listsL.\n",
      "[SEGEMEHL] Mon Oct 24 15:27:07 2022: getlistsL: memsetting list of 99129 elements.\n",
      "[SEGEMEHL] Mon Oct 24 15:27:07 2022: getlistsL: iter from 99131 down to 0.\n",
      "[SEGEMEHL] Mon Oct 24 15:27:07 2022: scanning A (99132 elems).\n",
      "[SEGEMEHL] Mon Oct 24 15:27:07 2022: scanning accdist (9 elems) (1).\n",
      "[SEGEMEHL] Mon Oct 24 15:27:07 2022: scanning accdist (9 elems) (2).\n",
      "[SEGEMEHL] Mon Oct 24 15:27:07 2022: getlistsL: exit\n",
      "[SEGEMEHL] Mon Oct 24 15:27:07 2022: alurusortint: sort listsL.\n",
      "[SEGEMEHL] Mon Oct 24 15:27:07 2022: sortlistL: allocating stuff\n",
      "[SEGEMEHL] Mon Oct 24 15:27:07 2022: sortlistL: iterating 44928 elems.\n",
      "[SEGEMEHL] Mon Oct 24 15:27:07 2022: sortlistL: looping 99129 elems.\n",
      "[SEGEMEHL] Mon Oct 24 15:27:07 2022: sortlistL: iterating 99132 elems.\n",
      "[SEGEMEHL] Mon Oct 24 15:27:07 2022: sortlistsL: exiting happily!\n",
      "[SEGEMEHL] Mon Oct 24 15:27:07 2022: alurusortint: enter tprime.\n",
      "[SEGEMEHL] Mon Oct 24 15:27:07 2022: tprime: init arrays.\n",
      "[SEGEMEHL] Mon Oct 24 15:27:07 2022: tprime: scan B\n",
      "[SEGEMEHL] Mon Oct 24 15:27:07 2022: tprime: iterating i=99132 elements with lenB=44928.\n",
      "[SEGEMEHL] Mon Oct 24 15:27:07 2022: tprime: exit\n",
      "[SEGEMEHL] Mon Oct 24 15:27:07 2022: alurusortint: enter alurusortint.\n",
      "[SEGEMEHL] Mon Oct 24 15:27:07 2022: alurusortint: classify int.\n",
      "init bit array of 5616\n",
      "[SEGEMEHL] Mon Oct 24 15:27:07 2022: alurusortint: getting bit.\n",
      "[SEGEMEHL] Mon Oct 24 15:27:07 2022: alurusortint: init bcktsA.\n",
      "init bit array of 5616\n",
      "[SEGEMEHL] Mon Oct 24 15:27:07 2022: alurusortint: countingsort.\n",
      "[SEGEMEHL] Mon Oct 24 15:27:07 2022: countingsortint: init buffers and A\n",
      "[SEGEMEHL] Mon Oct 24 15:27:07 2022: setting buffer to zero\n",
      "[SEGEMEHL] Mon Oct 24 15:27:07 2022: countsortint: scanning buffer (1 of 3)\n",
      "[SEGEMEHL] Mon Oct 24 15:27:07 2022: countsortint: scanning buffer (2 of 3)\n",
      "[SEGEMEHL] Mon Oct 24 15:27:07 2022: countsortint: scanning buffer (3 of 3)\n",
      "[SEGEMEHL] Mon Oct 24 15:27:07 2022: countsortint: scanning buffer (to set borders)\n",
      "[SEGEMEHL] Mon Oct 24 15:27:07 2022: countsortint: exiting\n",
      "[SEGEMEHL] Mon Oct 24 15:27:07 2022: alurusortint: Sorting type S suffixes. Init bcktsB.\n",
      "[SEGEMEHL] Mon Oct 24 15:27:07 2022: 20192\t24736\t44928.\n",
      "\n",
      "init bit array of 2524\n",
      "[SEGEMEHL] Mon Oct 24 15:27:07 2022: arrayB: allocating B with 20192 elements.\n",
      "[SEGEMEHL] Mon Oct 24 15:27:07 2022: arrayB: iterating to lenA=44928.\n",
      "[SEGEMEHL] Mon Oct 24 15:27:07 2022: arrayB: exiting\n",
      "[SEGEMEHL] Mon Oct 24 15:27:07 2022: alurusortint: enter Qmaxdist.\n",
      "[SEGEMEHL] Mon Oct 24 15:27:07 2022: alurusortint: enter Qdist.\n",
      "[SEGEMEHL] Mon Oct 24 15:27:07 2022: alurusortint: enter distCount.\n",
      "init bit array of 5616\n",
      "[SEGEMEHL] Mon Oct 24 15:27:07 2022: alurusortint: enter get listsS.\n",
      "[SEGEMEHL] Mon Oct 24 15:27:07 2022: getlistsS: memsetting list of 44926 elements.\n",
      "[SEGEMEHL] Mon Oct 24 15:27:07 2022: getlistsS: iter up to 44928.\n",
      "[SEGEMEHL] Mon Oct 24 15:27:07 2022: getlistsS: scan A\n",
      "[SEGEMEHL] Mon Oct 24 15:27:07 2022: getlistsS: set accidst\n",
      "[SEGEMEHL] Mon Oct 24 15:27:07 2022: getlistsS: exiting\n",
      "[SEGEMEHL] Mon Oct 24 15:27:07 2022: alurusortint: freeing stuff.\n",
      "[SEGEMEHL] Mon Oct 24 15:27:07 2022: alurusortint: enter sortlistsS.\n",
      "[SEGEMEHL] Mon Oct 24 15:27:07 2022: sortlistS: allocating stuff.\n",
      "[SEGEMEHL] Mon Oct 24 15:27:07 2022: sortlistS: iterating 20192 elems.\n",
      "[SEGEMEHL] Mon Oct 24 15:27:07 2022: sortlistS: looping 44926 elems.\n",
      "[SEGEMEHL] Mon Oct 24 15:27:07 2022: sortlistS: iterating 44928 elems.\n",
      "[SEGEMEHL] Mon Oct 24 15:27:07 2022: sortlistsS: exiting happily!\n",
      "[SEGEMEHL] Mon Oct 24 15:27:07 2022: alurusortint: enter tprime.\n",
      "[SEGEMEHL] Mon Oct 24 15:27:07 2022: tprime: init arrays.\n",
      "[SEGEMEHL] Mon Oct 24 15:27:07 2022: tprime: scan B\n",
      "[SEGEMEHL] Mon Oct 24 15:27:07 2022: tprime: iterating i=44928 elements with lenB=20192.\n",
      "[SEGEMEHL] Mon Oct 24 15:27:07 2022: tprime: exit\n",
      "[SEGEMEHL] Mon Oct 24 15:27:07 2022: alurusortint: enter alurusortint.\n",
      "[SEGEMEHL] Mon Oct 24 15:27:07 2022: alurusortint: classify int.\n",
      "init bit array of 2524\n",
      "[SEGEMEHL] Mon Oct 24 15:27:07 2022: alurusortint: getting bit.\n",
      "[SEGEMEHL] Mon Oct 24 15:27:07 2022: alurusortint: init bcktsA.\n",
      "init bit array of 2524\n",
      "[SEGEMEHL] Mon Oct 24 15:27:07 2022: alurusortint: countingsort.\n",
      "[SEGEMEHL] Mon Oct 24 15:27:07 2022: countingsortint: init buffers and A\n",
      "[SEGEMEHL] Mon Oct 24 15:27:07 2022: setting buffer to zero\n",
      "[SEGEMEHL] Mon Oct 24 15:27:07 2022: countsortint: scanning buffer (1 of 3)\n",
      "[SEGEMEHL] Mon Oct 24 15:27:07 2022: countsortint: scanning buffer (2 of 3)\n",
      "[SEGEMEHL] Mon Oct 24 15:27:07 2022: countsortint: scanning buffer (3 of 3)\n",
      "[SEGEMEHL] Mon Oct 24 15:27:07 2022: countsortint: scanning buffer (to set borders)\n",
      "[SEGEMEHL] Mon Oct 24 15:27:07 2022: countsortint: exiting\n",
      "init bit array of 1147\n",
      "[SEGEMEHL] Mon Oct 24 15:27:07 2022: arrayB: allocating B with 9169 elements.\n",
      "[SEGEMEHL] Mon Oct 24 15:27:07 2022: arrayB: iterating to lenA=20192.\n",
      "[SEGEMEHL] Mon Oct 24 15:27:07 2022: arrayB: exiting\n",
      "init bit array of 2524\n",
      "[SEGEMEHL] Mon Oct 24 15:27:07 2022: alurusortint: enter get listsL.\n",
      "[SEGEMEHL] Mon Oct 24 15:27:07 2022: getlistsL: memsetting list of 20189 elements.\n",
      "[SEGEMEHL] Mon Oct 24 15:27:07 2022: getlistsL: iter from 20191 down to 0.\n",
      "[SEGEMEHL] Mon Oct 24 15:27:07 2022: scanning A (20192 elems).\n",
      "[SEGEMEHL] Mon Oct 24 15:27:07 2022: scanning accdist (8 elems) (1).\n",
      "[SEGEMEHL] Mon Oct 24 15:27:07 2022: scanning accdist (8 elems) (2).\n",
      "[SEGEMEHL] Mon Oct 24 15:27:07 2022: getlistsL: exit\n",
      "[SEGEMEHL] Mon Oct 24 15:27:07 2022: alurusortint: sort listsL.\n",
      "[SEGEMEHL] Mon Oct 24 15:27:07 2022: sortlistL: allocating stuff\n",
      "[SEGEMEHL] Mon Oct 24 15:27:07 2022: sortlistL: iterating 9169 elems.\n",
      "[SEGEMEHL] Mon Oct 24 15:27:07 2022: sortlistL: looping 20189 elems.\n",
      "[SEGEMEHL] Mon Oct 24 15:27:07 2022: sortlistL: iterating 20192 elems.\n",
      "[SEGEMEHL] Mon Oct 24 15:27:07 2022: sortlistsL: exiting happily!\n",
      "[SEGEMEHL] Mon Oct 24 15:27:07 2022: alurusortint: enter tprime.\n",
      "[SEGEMEHL] Mon Oct 24 15:27:07 2022: tprime: init arrays.\n",
      "[SEGEMEHL] Mon Oct 24 15:27:07 2022: tprime: scan B\n",
      "[SEGEMEHL] Mon Oct 24 15:27:07 2022: tprime: iterating i=20192 elements with lenB=9169.\n",
      "[SEGEMEHL] Mon Oct 24 15:27:07 2022: tprime: exit\n",
      "[SEGEMEHL] Mon Oct 24 15:27:07 2022: alurusortint: enter alurusortint.\n",
      "[SEGEMEHL] Mon Oct 24 15:27:07 2022: alurusortint: classify int.\n",
      "init bit array of 1147\n",
      "[SEGEMEHL] Mon Oct 24 15:27:07 2022: alurusortint: getting bit.\n",
      "[SEGEMEHL] Mon Oct 24 15:27:07 2022: alurusortint: init bcktsA.\n",
      "init bit array of 1147\n",
      "[SEGEMEHL] Mon Oct 24 15:27:07 2022: alurusortint: countingsort.\n",
      "[SEGEMEHL] Mon Oct 24 15:27:07 2022: countingsortint: init buffers and A\n",
      "[SEGEMEHL] Mon Oct 24 15:27:07 2022: setting buffer to zero\n",
      "[SEGEMEHL] Mon Oct 24 15:27:07 2022: countsortint: scanning buffer (1 of 3)\n",
      "[SEGEMEHL] Mon Oct 24 15:27:07 2022: countsortint: scanning buffer (2 of 3)\n",
      "[SEGEMEHL] Mon Oct 24 15:27:07 2022: countsortint: scanning buffer (3 of 3)\n",
      "[SEGEMEHL] Mon Oct 24 15:27:07 2022: countsortint: scanning buffer (to set borders)\n",
      "[SEGEMEHL] Mon Oct 24 15:27:07 2022: countsortint: exiting\n",
      "[SEGEMEHL] Mon Oct 24 15:27:07 2022: alurusortint: Sorting type S suffixes. Init bcktsB.\n",
      "[SEGEMEHL] Mon Oct 24 15:27:07 2022: 4069\t5100\t9169.\n",
      "\n",
      "init bit array of 509\n",
      "[SEGEMEHL] Mon Oct 24 15:27:07 2022: arrayB: allocating B with 4069 elements.\n",
      "[SEGEMEHL] Mon Oct 24 15:27:07 2022: arrayB: iterating to lenA=9169.\n",
      "[SEGEMEHL] Mon Oct 24 15:27:07 2022: arrayB: exiting\n",
      "[SEGEMEHL] Mon Oct 24 15:27:07 2022: alurusortint: enter Qmaxdist.\n",
      "[SEGEMEHL] Mon Oct 24 15:27:07 2022: alurusortint: enter Qdist.\n",
      "[SEGEMEHL] Mon Oct 24 15:27:07 2022: alurusortint: enter distCount.\n",
      "init bit array of 1146\n",
      "[SEGEMEHL] Mon Oct 24 15:27:07 2022: alurusortint: enter get listsS.\n",
      "[SEGEMEHL] Mon Oct 24 15:27:07 2022: getlistsS: memsetting list of 9166 elements.\n",
      "[SEGEMEHL] Mon Oct 24 15:27:07 2022: getlistsS: iter up to 9169.\n",
      "[SEGEMEHL] Mon Oct 24 15:27:07 2022: getlistsS: scan A\n",
      "[SEGEMEHL] Mon Oct 24 15:27:07 2022: getlistsS: set accidst\n",
      "[SEGEMEHL] Mon Oct 24 15:27:07 2022: getlistsS: exiting\n",
      "[SEGEMEHL] Mon Oct 24 15:27:07 2022: alurusortint: freeing stuff.\n",
      "[SEGEMEHL] Mon Oct 24 15:27:07 2022: alurusortint: enter sortlistsS.\n",
      "[SEGEMEHL] Mon Oct 24 15:27:07 2022: sortlistS: allocating stuff.\n",
      "[SEGEMEHL] Mon Oct 24 15:27:07 2022: sortlistS: iterating 4069 elems.\n",
      "[SEGEMEHL] Mon Oct 24 15:27:07 2022: sortlistS: looping 9166 elems.\n",
      "[SEGEMEHL] Mon Oct 24 15:27:07 2022: sortlistS: iterating 9169 elems.\n",
      "[SEGEMEHL] Mon Oct 24 15:27:07 2022: sortlistsS: exiting happily!\n",
      "[SEGEMEHL] Mon Oct 24 15:27:07 2022: alurusortint: valbitarraysortedS.\n",
      "init bit array of 1147\n",
      "[SEGEMEHL] Mon Oct 24 15:27:07 2022: reconstructintL.\n",
      "[SEGEMEHL] Mon Oct 24 15:27:07 2022: reconstruct: init.\n",
      "[SEGEMEHL] Mon Oct 24 15:27:07 2022: reconstruct: iteration over 20192 elems.\n",
      "[SEGEMEHL] Mon Oct 24 15:27:07 2022: reconstruct: scan B (size: 9169).\n",
      "[SEGEMEHL] Mon Oct 24 15:27:07 2022: reconstruct: exit.\n",
      "init bit array of 2524\n",
      "[SEGEMEHL] Mon Oct 24 15:27:07 2022: reconstructintS.\n",
      "[SEGEMEHL] Mon Oct 24 15:27:07 2022: reconstruct: init.\n",
      "[SEGEMEHL] Mon Oct 24 15:27:07 2022: reconstruct: iteration over 44928 elems.\n",
      "[SEGEMEHL] Mon Oct 24 15:27:07 2022: reconstruct: scan B (size: 20192).\n",
      "[SEGEMEHL] Mon Oct 24 15:27:07 2022: reconstruct: exit.\n",
      "init bit array of 5616\n",
      "[SEGEMEHL] Mon Oct 24 15:27:07 2022: reconstructintL.\n",
      "[SEGEMEHL] Mon Oct 24 15:27:07 2022: reconstruct: init.\n",
      "[SEGEMEHL] Mon Oct 24 15:27:07 2022: reconstruct: iteration over 99132 elems.\n",
      "[SEGEMEHL] Mon Oct 24 15:27:07 2022: reconstruct: scan B (size: 44928).\n",
      "[SEGEMEHL] Mon Oct 24 15:27:07 2022: reconstruct: exit.\n",
      "init bit array of 12392\n",
      "[SEGEMEHL] Mon Oct 24 15:27:07 2022: reconstructintS.\n",
      "[SEGEMEHL] Mon Oct 24 15:27:07 2022: reconstruct: init.\n",
      "[SEGEMEHL] Mon Oct 24 15:27:07 2022: reconstruct: iteration over 220051 elems.\n",
      "[SEGEMEHL] Mon Oct 24 15:27:07 2022: reconstruct: scan B (size: 99132).\n",
      "[SEGEMEHL] Mon Oct 24 15:27:07 2022: reconstruct: exit.\n",
      "init bit array of 27507\n",
      "[SEGEMEHL] Mon Oct 24 15:27:07 2022: reconstructintL.\n",
      "[SEGEMEHL] Mon Oct 24 15:27:07 2022: reconstruct: init.\n",
      "[SEGEMEHL] Mon Oct 24 15:27:07 2022: reconstruct: iteration over 492769 elems.\n",
      "[SEGEMEHL] Mon Oct 24 15:27:07 2022: reconstruct: scan B (size: 220051).\n",
      "[SEGEMEHL] Mon Oct 24 15:27:07 2022: reconstruct: exit.\n",
      "init bit array of 61597\n",
      "[SEGEMEHL] Mon Oct 24 15:27:07 2022: reconstructintS.\n",
      "[SEGEMEHL] Mon Oct 24 15:27:07 2022: reconstruct: init.\n",
      "[SEGEMEHL] Mon Oct 24 15:27:07 2022: reconstruct: iteration over 1096336 elems.\n",
      "[SEGEMEHL] Mon Oct 24 15:27:07 2022: reconstruct: scan B (size: 492769).\n",
      "[SEGEMEHL] Mon Oct 24 15:27:07 2022: reconstruct: exit.\n",
      "init bit array of 137042\n",
      "[SEGEMEHL] Mon Oct 24 15:27:07 2022: reconstructintL.\n",
      "[SEGEMEHL] Mon Oct 24 15:27:07 2022: reconstruct: init.\n",
      "[SEGEMEHL] Mon Oct 24 15:27:07 2022: reconstruct: iteration over 2735252 elems.\n",
      "[SEGEMEHL] Mon Oct 24 15:27:07 2022: reconstruct: scan B (size: 1096336).\n",
      "[SEGEMEHL] Mon Oct 24 15:27:07 2022: reconstruct: exit.\n",
      "init bit array of 341907\n",
      "[SEGEMEHL] Mon Oct 24 15:27:07 2022: reconstructcharS.\n",
      "[SEGEMEHL] Mon Oct 24 15:27:07 2022: reconstruct: init.\n",
      "[SEGEMEHL] Mon Oct 24 15:27:07 2022: reconstruct: iteration over 5674262 elems.\n",
      "[SEGEMEHL] Mon Oct 24 15:27:07 2022: reconstruct: scan B (size: 2735252).\n",
      "[SEGEMEHL] Mon Oct 24 15:27:07 2022: reconstruct: exit.\n",
      "[SEGEMEHL] Mon Oct 24 15:27:07 2022: enter aluruSuffixArrayS start.\n",
      "init bit array of 709283\n",
      "[SEGEMEHL] Mon Oct 24 15:27:07 2022: constructing inv_suftab (5674262).\n",
      "[SEGEMEHL] Mon Oct 24 15:27:07 2022: inv_suftab constructed.\n",
      "[SEGEMEHL] Mon Oct 24 15:27:07 2022: constructing lcp.\n",
      "\u001b[s\u001b[K[SEGEMEHL] Mon Oct 24 15:27:07 2022: deleting inv_suftab\n",
      "[SEGEMEHL] Mon Oct 24 15:27:07 2022: constructing child tab.\n",
      "[SEGEMEHL] Mon Oct 24 15:27:08 2022: constructing suffix links.\n",
      "[SEGEMEHL] Mon Oct 24 15:27:08 2022: constructing id.\n",
      "[SEGEMEHL] Mon Oct 24 15:27:08 2022: constructing suflinks - bottom up.\n",
      "[SEGEMEHL] Mon Oct 24 15:27:08 2022: constructing suflinks - top down.\n",
      "suflink construction. pushes: 3667467, maxstack: 33\n",
      "[SEGEMEHL] Mon Oct 24 15:27:09 2022: building  the suffix array has taken 2.000000 seconds.\n",
      "[SEGEMEHL] Mon Oct 24 15:27:09 2022: total length of suffix array was 5674258.\n",
      "[SEGEMEHL] Mon Oct 24 15:27:09 2022: writing suffix array '../../02-OUTPUT/03-ALIGN/02-READEMPTION/BV1-C58.idx' to disk.\n",
      "[SEGEMEHL] Mon Oct 24 15:27:09 2022: Mapping stats:\n",
      "\ttotal\tmapped\t(%)\tunique\t(%)\tmulti\t(%)\tsplit\t(%)\n",
      "all\t0\t0\t-nan%\t0\t-nan%\t0\t-nan%\t0\t-nan%\n",
      "[SEGEMEHL] Mon Oct 24 15:27:09 2022: \n",
      "Goodbye.\n",
      " \"Ich hol' jetzt die Hilti!\" (Ein verzweifelter Bauarbeiter)\n",
      " 67%|█████████████████████████████████████████████████████████████████████████████████████████████████████████████████████▎                                                          | 2/3 [00:04<00:02,  2.11s/it][SEGEMEHL] Mon Oct 24 15:27:09 2022: reading database sequences.\n",
      "[SEGEMEHL] Mon Oct 24 15:27:09 2022: 5 database sequences found.\n",
      "[SEGEMEHL] Mon Oct 24 15:27:09 2022: total length of db sequences: 6084750\n",
      "[SEGEMEHL] Mon Oct 24 15:27:09 2022: assigning all reads to default read group 'A1'.\n",
      "[SEGEMEHL] Mon Oct 24 15:27:09 2022: additional read group default values '\tSM:sample1\tLB:library1\tPU:unit1\tPL:illumina'\n",
      "[SEGEMEHL] Mon Oct 24 15:27:09 2022: reads assigned to read group 'A1'\n",
      "[SEGEMEHL] Mon Oct 24 15:27:09 2022: compiled sam header.\n",
      "[SEGEMEHL] Mon Oct 24 15:27:09 2022: alphabet of size (6): ACGT~\n",
      "[SEGEMEHL] Mon Oct 24 15:27:09 2022: size of db sequence: 6084755\n",
      "[SEGEMEHL] Mon Oct 24 15:27:09 2022: constructing suftab.\n",
      "[SEGEMEHL] Mon Oct 24 15:27:09 2022: alurusort: classify.\n",
      "init bit array of 760595\n",
      "[SEGEMEHL] Mon Oct 24 15:27:09 2022: alurusort: getting bit.\n",
      "[SEGEMEHL] Mon Oct 24 15:27:09 2022: not bit alurusort: alloc B of size 2875521.\n",
      "[SEGEMEHL] Mon Oct 24 15:27:09 2022: alurusort: initbitarray of size 2875521.\n",
      "init bit array of 359441\n",
      "[SEGEMEHL] Mon Oct 24 15:27:09 2022: alurusort: Qmaxdist in cl of size 6084755.\n",
      "[SEGEMEHL] Mon Oct 24 15:27:09 2022: alurusort: scan B.\n",
      "[SEGEMEHL] Mon Oct 24 15:27:09 2022: alurusort: substringsort.\n",
      "[SEGEMEHL] Mon Oct 24 15:27:09 2022: setting bit array to zero\n",
      "[SEGEMEHL] Mon Oct 24 15:27:09 2022: allocating space for buckets and buffers\n",
      "[SEGEMEHL] Mon Oct 24 15:27:09 2022: memsetting\n",
      "[SEGEMEHL] Mon Oct 24 15:27:09 2022: substring sort ... ok\n",
      "[SEGEMEHL] Mon Oct 24 15:27:09 2022: checking valbitarray.\n",
      "[SEGEMEHL] Mon Oct 24 15:27:09 2022: enter Tprime calculation.\n",
      "[SEGEMEHL] Mon Oct 24 15:27:09 2022: tprime: init arrays.\n",
      "[SEGEMEHL] Mon Oct 24 15:27:09 2022: tprime: scan B\n",
      "[SEGEMEHL] Mon Oct 24 15:27:09 2022: tprime: iterating i=6084755 elements with lenB=2875521.\n",
      "[SEGEMEHL] Mon Oct 24 15:27:09 2022: tprime: exit\n",
      "[SEGEMEHL] Mon Oct 24 15:27:09 2022: enter alursortint.\n",
      "[SEGEMEHL] Mon Oct 24 15:27:09 2022: alurusortint: classify int.\n",
      "init bit array of 359441\n",
      "[SEGEMEHL] Mon Oct 24 15:27:09 2022: alurusortint: getting bit.\n",
      "[SEGEMEHL] Mon Oct 24 15:27:09 2022: alurusortint: init bcktsA.\n",
      "init bit array of 359441\n",
      "[SEGEMEHL] Mon Oct 24 15:27:09 2022: alurusortint: countingsort.\n"
     ]
    },
    {
     "name": "stdout",
     "output_type": "stream",
     "text": [
      "BV3-T60_94\n"
     ]
    },
    {
     "name": "stderr",
     "output_type": "stream",
     "text": [
      "[SEGEMEHL] Mon Oct 24 15:27:09 2022: countingsortint: init buffers and A\n",
      "[SEGEMEHL] Mon Oct 24 15:27:09 2022: setting buffer to zero\n",
      "[SEGEMEHL] Mon Oct 24 15:27:09 2022: countsortint: scanning buffer (1 of 3)\n",
      "[SEGEMEHL] Mon Oct 24 15:27:09 2022: countsortint: scanning buffer (2 of 3)\n",
      "[SEGEMEHL] Mon Oct 24 15:27:09 2022: countsortint: scanning buffer (3 of 3)\n",
      "[SEGEMEHL] Mon Oct 24 15:27:09 2022: countsortint: scanning buffer (to set borders)\n",
      "[SEGEMEHL] Mon Oct 24 15:27:09 2022: countsortint: exiting\n",
      "init bit array of 142397\n",
      "[SEGEMEHL] Mon Oct 24 15:27:09 2022: arrayB: allocating B with 1139171 elements.\n",
      "[SEGEMEHL] Mon Oct 24 15:27:09 2022: arrayB: iterating to lenA=2875521.\n",
      "[SEGEMEHL] Mon Oct 24 15:27:09 2022: arrayB: exiting\n",
      "init bit array of 359440\n",
      "[SEGEMEHL] Mon Oct 24 15:27:09 2022: alurusortint: enter get listsL.\n",
      "[SEGEMEHL] Mon Oct 24 15:27:09 2022: getlistsL: memsetting list of 2875520 elements.\n",
      "[SEGEMEHL] Mon Oct 24 15:27:09 2022: getlistsL: iter from 2875520 down to 0.\n",
      "[SEGEMEHL] Mon Oct 24 15:27:09 2022: scanning A (2875521 elems).\n",
      "[SEGEMEHL] Mon Oct 24 15:27:09 2022: scanning accdist (14 elems) (1).\n",
      "[SEGEMEHL] Mon Oct 24 15:27:09 2022: scanning accdist (14 elems) (2).\n",
      "[SEGEMEHL] Mon Oct 24 15:27:09 2022: getlistsL: exit\n",
      "[SEGEMEHL] Mon Oct 24 15:27:09 2022: alurusortint: sort listsL.\n",
      "[SEGEMEHL] Mon Oct 24 15:27:09 2022: sortlistL: allocating stuff\n",
      "[SEGEMEHL] Mon Oct 24 15:27:09 2022: sortlistL: iterating 1139171 elems.\n",
      "[SEGEMEHL] Mon Oct 24 15:27:09 2022: sortlistL: looping 2875520 elems.\n",
      "[SEGEMEHL] Mon Oct 24 15:27:09 2022: sortlistL: iterating 2875521 elems.\n",
      "[SEGEMEHL] Mon Oct 24 15:27:09 2022: sortlistsL: exiting happily!\n",
      "[SEGEMEHL] Mon Oct 24 15:27:09 2022: alurusortint: enter tprime.\n",
      "[SEGEMEHL] Mon Oct 24 15:27:09 2022: tprime: init arrays.\n",
      "[SEGEMEHL] Mon Oct 24 15:27:09 2022: tprime: scan B\n",
      "[SEGEMEHL] Mon Oct 24 15:27:09 2022: tprime: iterating i=2875521 elements with lenB=1139171.\n",
      "[SEGEMEHL] Mon Oct 24 15:27:09 2022: tprime: exit\n",
      "[SEGEMEHL] Mon Oct 24 15:27:09 2022: alurusortint: enter alurusortint.\n",
      "[SEGEMEHL] Mon Oct 24 15:27:09 2022: alurusortint: classify int.\n",
      "init bit array of 142397\n",
      "[SEGEMEHL] Mon Oct 24 15:27:09 2022: alurusortint: getting bit.\n",
      "[SEGEMEHL] Mon Oct 24 15:27:09 2022: alurusortint: init bcktsA.\n",
      "init bit array of 142397\n",
      "[SEGEMEHL] Mon Oct 24 15:27:09 2022: alurusortint: countingsort.\n",
      "[SEGEMEHL] Mon Oct 24 15:27:09 2022: countingsortint: init buffers and A\n",
      "[SEGEMEHL] Mon Oct 24 15:27:09 2022: setting buffer to zero\n",
      "[SEGEMEHL] Mon Oct 24 15:27:09 2022: countsortint: scanning buffer (1 of 3)\n",
      "[SEGEMEHL] Mon Oct 24 15:27:09 2022: countsortint: scanning buffer (2 of 3)\n",
      "[SEGEMEHL] Mon Oct 24 15:27:09 2022: countsortint: scanning buffer (3 of 3)\n",
      "[SEGEMEHL] Mon Oct 24 15:27:09 2022: countsortint: scanning buffer (to set borders)\n",
      "[SEGEMEHL] Mon Oct 24 15:27:09 2022: countsortint: exiting\n",
      "[SEGEMEHL] Mon Oct 24 15:27:09 2022: alurusortint: Sorting type S suffixes. Init bcktsB.\n",
      "[SEGEMEHL] Mon Oct 24 15:27:09 2022: 511866\t627305\t1139171.\n",
      "\n",
      "init bit array of 63984\n",
      "[SEGEMEHL] Mon Oct 24 15:27:09 2022: arrayB: allocating B with 511866 elements.\n",
      "[SEGEMEHL] Mon Oct 24 15:27:09 2022: arrayB: iterating to lenA=1139171.\n",
      "[SEGEMEHL] Mon Oct 24 15:27:09 2022: arrayB: exiting\n",
      "[SEGEMEHL] Mon Oct 24 15:27:09 2022: alurusortint: enter Qmaxdist.\n",
      "[SEGEMEHL] Mon Oct 24 15:27:09 2022: alurusortint: enter Qdist.\n",
      "[SEGEMEHL] Mon Oct 24 15:27:09 2022: alurusortint: enter distCount.\n",
      "init bit array of 142397\n",
      "[SEGEMEHL] Mon Oct 24 15:27:09 2022: alurusortint: enter get listsS.\n",
      "[SEGEMEHL] Mon Oct 24 15:27:09 2022: getlistsS: memsetting list of 1139169 elements.\n",
      "[SEGEMEHL] Mon Oct 24 15:27:09 2022: getlistsS: iter up to 1139171.\n",
      "[SEGEMEHL] Mon Oct 24 15:27:09 2022: getlistsS: scan A\n",
      "[SEGEMEHL] Mon Oct 24 15:27:09 2022: getlistsS: set accidst\n",
      "[SEGEMEHL] Mon Oct 24 15:27:09 2022: getlistsS: exiting\n",
      "[SEGEMEHL] Mon Oct 24 15:27:09 2022: alurusortint: freeing stuff.\n",
      "[SEGEMEHL] Mon Oct 24 15:27:09 2022: alurusortint: enter sortlistsS.\n",
      "[SEGEMEHL] Mon Oct 24 15:27:09 2022: sortlistS: allocating stuff.\n",
      "[SEGEMEHL] Mon Oct 24 15:27:09 2022: sortlistS: iterating 511866 elems.\n",
      "[SEGEMEHL] Mon Oct 24 15:27:09 2022: sortlistS: looping 1139169 elems.\n",
      "[SEGEMEHL] Mon Oct 24 15:27:09 2022: sortlistS: iterating 1139171 elems.\n",
      "[SEGEMEHL] Mon Oct 24 15:27:09 2022: sortlistsS: exiting happily!\n",
      "[SEGEMEHL] Mon Oct 24 15:27:09 2022: alurusortint: enter tprime.\n",
      "[SEGEMEHL] Mon Oct 24 15:27:09 2022: tprime: init arrays.\n",
      "[SEGEMEHL] Mon Oct 24 15:27:09 2022: tprime: scan B\n",
      "[SEGEMEHL] Mon Oct 24 15:27:09 2022: tprime: iterating i=1139171 elements with lenB=511866.\n",
      "[SEGEMEHL] Mon Oct 24 15:27:09 2022: tprime: exit\n",
      "[SEGEMEHL] Mon Oct 24 15:27:09 2022: alurusortint: enter alurusortint.\n",
      "[SEGEMEHL] Mon Oct 24 15:27:09 2022: alurusortint: classify int.\n",
      "init bit array of 63984\n",
      "[SEGEMEHL] Mon Oct 24 15:27:09 2022: alurusortint: getting bit.\n",
      "[SEGEMEHL] Mon Oct 24 15:27:09 2022: alurusortint: init bcktsA.\n",
      "init bit array of 63984\n",
      "[SEGEMEHL] Mon Oct 24 15:27:09 2022: alurusortint: countingsort.\n",
      "[SEGEMEHL] Mon Oct 24 15:27:09 2022: countingsortint: init buffers and A\n",
      "[SEGEMEHL] Mon Oct 24 15:27:09 2022: setting buffer to zero\n",
      "[SEGEMEHL] Mon Oct 24 15:27:09 2022: countsortint: scanning buffer (1 of 3)\n",
      "[SEGEMEHL] Mon Oct 24 15:27:09 2022: countsortint: scanning buffer (2 of 3)\n",
      "[SEGEMEHL] Mon Oct 24 15:27:09 2022: countsortint: scanning buffer (3 of 3)\n",
      "[SEGEMEHL] Mon Oct 24 15:27:09 2022: countsortint: scanning buffer (to set borders)\n",
      "[SEGEMEHL] Mon Oct 24 15:27:09 2022: countsortint: exiting\n",
      "init bit array of 28607\n",
      "[SEGEMEHL] Mon Oct 24 15:27:09 2022: arrayB: allocating B with 228853 elements.\n",
      "[SEGEMEHL] Mon Oct 24 15:27:09 2022: arrayB: iterating to lenA=511866.\n",
      "[SEGEMEHL] Mon Oct 24 15:27:09 2022: arrayB: exiting\n",
      "init bit array of 63983\n",
      "[SEGEMEHL] Mon Oct 24 15:27:09 2022: alurusortint: enter get listsL.\n",
      "[SEGEMEHL] Mon Oct 24 15:27:09 2022: getlistsL: memsetting list of 511863 elements.\n",
      "[SEGEMEHL] Mon Oct 24 15:27:09 2022: getlistsL: iter from 511865 down to 0.\n",
      "[SEGEMEHL] Mon Oct 24 15:27:09 2022: scanning A (511866 elems).\n",
      "[SEGEMEHL] Mon Oct 24 15:27:09 2022: scanning accdist (10 elems) (1).\n",
      "[SEGEMEHL] Mon Oct 24 15:27:09 2022: scanning accdist (10 elems) (2).\n",
      "[SEGEMEHL] Mon Oct 24 15:27:09 2022: getlistsL: exit\n",
      "[SEGEMEHL] Mon Oct 24 15:27:09 2022: alurusortint: sort listsL.\n",
      "[SEGEMEHL] Mon Oct 24 15:27:09 2022: sortlistL: allocating stuff\n",
      "[SEGEMEHL] Mon Oct 24 15:27:09 2022: sortlistL: iterating 228853 elems.\n",
      "[SEGEMEHL] Mon Oct 24 15:27:09 2022: sortlistL: looping 511863 elems.\n",
      "[SEGEMEHL] Mon Oct 24 15:27:09 2022: sortlistL: iterating 511866 elems.\n",
      "[SEGEMEHL] Mon Oct 24 15:27:09 2022: sortlistsL: exiting happily!\n",
      "[SEGEMEHL] Mon Oct 24 15:27:09 2022: alurusortint: enter tprime.\n",
      "[SEGEMEHL] Mon Oct 24 15:27:09 2022: tprime: init arrays.\n",
      "[SEGEMEHL] Mon Oct 24 15:27:09 2022: tprime: scan B\n",
      "[SEGEMEHL] Mon Oct 24 15:27:09 2022: tprime: iterating i=511866 elements with lenB=228853.\n",
      "[SEGEMEHL] Mon Oct 24 15:27:09 2022: tprime: exit\n",
      "[SEGEMEHL] Mon Oct 24 15:27:09 2022: alurusortint: enter alurusortint.\n",
      "[SEGEMEHL] Mon Oct 24 15:27:09 2022: alurusortint: classify int.\n",
      "init bit array of 28607\n",
      "[SEGEMEHL] Mon Oct 24 15:27:09 2022: alurusortint: getting bit.\n",
      "[SEGEMEHL] Mon Oct 24 15:27:09 2022: alurusortint: init bcktsA.\n",
      "init bit array of 28607\n",
      "[SEGEMEHL] Mon Oct 24 15:27:09 2022: alurusortint: countingsort.\n",
      "[SEGEMEHL] Mon Oct 24 15:27:09 2022: countingsortint: init buffers and A\n",
      "[SEGEMEHL] Mon Oct 24 15:27:09 2022: setting buffer to zero\n",
      "[SEGEMEHL] Mon Oct 24 15:27:09 2022: countsortint: scanning buffer (1 of 3)\n",
      "[SEGEMEHL] Mon Oct 24 15:27:09 2022: countsortint: scanning buffer (2 of 3)\n",
      "[SEGEMEHL] Mon Oct 24 15:27:09 2022: countsortint: scanning buffer (3 of 3)\n",
      "[SEGEMEHL] Mon Oct 24 15:27:09 2022: countsortint: scanning buffer (to set borders)\n",
      "[SEGEMEHL] Mon Oct 24 15:27:09 2022: countsortint: exiting\n",
      "[SEGEMEHL] Mon Oct 24 15:27:09 2022: alurusortint: Sorting type S suffixes. Init bcktsB.\n",
      "[SEGEMEHL] Mon Oct 24 15:27:09 2022: 103301\t125552\t228853.\n",
      "\n",
      "init bit array of 12913\n",
      "[SEGEMEHL] Mon Oct 24 15:27:09 2022: arrayB: allocating B with 103301 elements.\n",
      "[SEGEMEHL] Mon Oct 24 15:27:09 2022: arrayB: iterating to lenA=228853.\n",
      "[SEGEMEHL] Mon Oct 24 15:27:09 2022: arrayB: exiting\n",
      "[SEGEMEHL] Mon Oct 24 15:27:09 2022: alurusortint: enter Qmaxdist.\n",
      "[SEGEMEHL] Mon Oct 24 15:27:09 2022: alurusortint: enter Qdist.\n",
      "[SEGEMEHL] Mon Oct 24 15:27:09 2022: alurusortint: enter distCount.\n",
      "init bit array of 28606\n",
      "[SEGEMEHL] Mon Oct 24 15:27:09 2022: alurusortint: enter get listsS.\n",
      "[SEGEMEHL] Mon Oct 24 15:27:09 2022: getlistsS: memsetting list of 228848 elements.\n",
      "[SEGEMEHL] Mon Oct 24 15:27:09 2022: getlistsS: iter up to 228853.\n",
      "[SEGEMEHL] Mon Oct 24 15:27:09 2022: getlistsS: scan A\n",
      "[SEGEMEHL] Mon Oct 24 15:27:09 2022: getlistsS: set accidst\n",
      "[SEGEMEHL] Mon Oct 24 15:27:09 2022: getlistsS: exiting\n",
      "[SEGEMEHL] Mon Oct 24 15:27:09 2022: alurusortint: freeing stuff.\n",
      "[SEGEMEHL] Mon Oct 24 15:27:09 2022: alurusortint: enter sortlistsS.\n",
      "[SEGEMEHL] Mon Oct 24 15:27:09 2022: sortlistS: allocating stuff.\n",
      "[SEGEMEHL] Mon Oct 24 15:27:09 2022: sortlistS: iterating 103301 elems.\n",
      "[SEGEMEHL] Mon Oct 24 15:27:09 2022: sortlistS: looping 228848 elems.\n",
      "[SEGEMEHL] Mon Oct 24 15:27:09 2022: sortlistS: iterating 228853 elems.\n",
      "[SEGEMEHL] Mon Oct 24 15:27:09 2022: sortlistsS: exiting happily!\n",
      "[SEGEMEHL] Mon Oct 24 15:27:09 2022: alurusortint: enter tprime.\n",
      "[SEGEMEHL] Mon Oct 24 15:27:09 2022: tprime: init arrays.\n",
      "[SEGEMEHL] Mon Oct 24 15:27:09 2022: tprime: scan B\n",
      "[SEGEMEHL] Mon Oct 24 15:27:09 2022: tprime: iterating i=228853 elements with lenB=103301.\n",
      "[SEGEMEHL] Mon Oct 24 15:27:09 2022: tprime: exit\n",
      "[SEGEMEHL] Mon Oct 24 15:27:09 2022: alurusortint: enter alurusortint.\n",
      "[SEGEMEHL] Mon Oct 24 15:27:09 2022: alurusortint: classify int.\n",
      "init bit array of 12913\n",
      "[SEGEMEHL] Mon Oct 24 15:27:09 2022: alurusortint: getting bit.\n",
      "[SEGEMEHL] Mon Oct 24 15:27:09 2022: alurusortint: init bcktsA.\n",
      "init bit array of 12913\n",
      "[SEGEMEHL] Mon Oct 24 15:27:09 2022: alurusortint: countingsort.\n",
      "[SEGEMEHL] Mon Oct 24 15:27:09 2022: countingsortint: init buffers and A\n",
      "[SEGEMEHL] Mon Oct 24 15:27:09 2022: setting buffer to zero\n",
      "[SEGEMEHL] Mon Oct 24 15:27:09 2022: countsortint: scanning buffer (1 of 3)\n",
      "[SEGEMEHL] Mon Oct 24 15:27:09 2022: countsortint: scanning buffer (2 of 3)\n",
      "[SEGEMEHL] Mon Oct 24 15:27:09 2022: countsortint: scanning buffer (3 of 3)\n",
      "[SEGEMEHL] Mon Oct 24 15:27:09 2022: countsortint: scanning buffer (to set borders)\n",
      "[SEGEMEHL] Mon Oct 24 15:27:09 2022: countsortint: exiting\n",
      "init bit array of 5836\n",
      "[SEGEMEHL] Mon Oct 24 15:27:09 2022: arrayB: allocating B with 46682 elements.\n",
      "[SEGEMEHL] Mon Oct 24 15:27:09 2022: arrayB: iterating to lenA=103301.\n",
      "[SEGEMEHL] Mon Oct 24 15:27:09 2022: arrayB: exiting\n",
      "init bit array of 12913\n",
      "[SEGEMEHL] Mon Oct 24 15:27:09 2022: alurusortint: enter get listsL.\n",
      "[SEGEMEHL] Mon Oct 24 15:27:09 2022: getlistsL: memsetting list of 103298 elements.\n",
      "[SEGEMEHL] Mon Oct 24 15:27:09 2022: getlistsL: iter from 103300 down to 0.\n",
      "[SEGEMEHL] Mon Oct 24 15:27:09 2022: scanning A (103301 elems).\n",
      "[SEGEMEHL] Mon Oct 24 15:27:09 2022: scanning accdist (10 elems) (1).\n",
      "[SEGEMEHL] Mon Oct 24 15:27:09 2022: scanning accdist (10 elems) (2).\n",
      "[SEGEMEHL] Mon Oct 24 15:27:09 2022: getlistsL: exit\n",
      "[SEGEMEHL] Mon Oct 24 15:27:09 2022: alurusortint: sort listsL.\n",
      "[SEGEMEHL] Mon Oct 24 15:27:09 2022: sortlistL: allocating stuff\n",
      "[SEGEMEHL] Mon Oct 24 15:27:09 2022: sortlistL: iterating 46682 elems.\n",
      "[SEGEMEHL] Mon Oct 24 15:27:09 2022: sortlistL: looping 103298 elems.\n",
      "[SEGEMEHL] Mon Oct 24 15:27:09 2022: sortlistL: iterating 103301 elems.\n",
      "[SEGEMEHL] Mon Oct 24 15:27:09 2022: sortlistsL: exiting happily!\n",
      "[SEGEMEHL] Mon Oct 24 15:27:09 2022: alurusortint: enter tprime.\n",
      "[SEGEMEHL] Mon Oct 24 15:27:09 2022: tprime: init arrays.\n",
      "[SEGEMEHL] Mon Oct 24 15:27:09 2022: tprime: scan B\n",
      "[SEGEMEHL] Mon Oct 24 15:27:09 2022: tprime: iterating i=103301 elements with lenB=46682.\n",
      "[SEGEMEHL] Mon Oct 24 15:27:09 2022: tprime: exit\n",
      "[SEGEMEHL] Mon Oct 24 15:27:09 2022: alurusortint: enter alurusortint.\n",
      "[SEGEMEHL] Mon Oct 24 15:27:09 2022: alurusortint: classify int.\n",
      "init bit array of 5836\n",
      "[SEGEMEHL] Mon Oct 24 15:27:09 2022: alurusortint: getting bit.\n",
      "[SEGEMEHL] Mon Oct 24 15:27:09 2022: alurusortint: init bcktsA.\n",
      "init bit array of 5836\n",
      "[SEGEMEHL] Mon Oct 24 15:27:09 2022: alurusortint: countingsort.\n",
      "[SEGEMEHL] Mon Oct 24 15:27:09 2022: countingsortint: init buffers and A\n",
      "[SEGEMEHL] Mon Oct 24 15:27:09 2022: setting buffer to zero\n",
      "[SEGEMEHL] Mon Oct 24 15:27:09 2022: countsortint: scanning buffer (1 of 3)\n",
      "[SEGEMEHL] Mon Oct 24 15:27:09 2022: countsortint: scanning buffer (2 of 3)\n",
      "[SEGEMEHL] Mon Oct 24 15:27:09 2022: countsortint: scanning buffer (3 of 3)\n",
      "[SEGEMEHL] Mon Oct 24 15:27:09 2022: countsortint: scanning buffer (to set borders)\n",
      "[SEGEMEHL] Mon Oct 24 15:27:09 2022: countsortint: exiting\n",
      "[SEGEMEHL] Mon Oct 24 15:27:09 2022: alurusortint: Sorting type S suffixes. Init bcktsB.\n",
      "[SEGEMEHL] Mon Oct 24 15:27:09 2022: 21058\t25624\t46682.\n",
      "\n",
      "init bit array of 2633\n",
      "[SEGEMEHL] Mon Oct 24 15:27:09 2022: arrayB: allocating B with 21058 elements.\n",
      "[SEGEMEHL] Mon Oct 24 15:27:09 2022: arrayB: iterating to lenA=46682.\n",
      "[SEGEMEHL] Mon Oct 24 15:27:09 2022: arrayB: exiting\n",
      "[SEGEMEHL] Mon Oct 24 15:27:09 2022: alurusortint: enter Qmaxdist.\n",
      "[SEGEMEHL] Mon Oct 24 15:27:09 2022: alurusortint: enter Qdist.\n",
      "[SEGEMEHL] Mon Oct 24 15:27:09 2022: alurusortint: enter distCount.\n",
      "init bit array of 5835\n",
      "[SEGEMEHL] Mon Oct 24 15:27:09 2022: alurusortint: enter get listsS.\n",
      "[SEGEMEHL] Mon Oct 24 15:27:09 2022: getlistsS: memsetting list of 46676 elements.\n",
      "[SEGEMEHL] Mon Oct 24 15:27:09 2022: getlistsS: iter up to 46682.\n",
      "[SEGEMEHL] Mon Oct 24 15:27:09 2022: getlistsS: scan A\n",
      "[SEGEMEHL] Mon Oct 24 15:27:09 2022: getlistsS: set accidst\n",
      "[SEGEMEHL] Mon Oct 24 15:27:09 2022: getlistsS: exiting\n",
      "[SEGEMEHL] Mon Oct 24 15:27:09 2022: alurusortint: freeing stuff.\n",
      "[SEGEMEHL] Mon Oct 24 15:27:09 2022: alurusortint: enter sortlistsS.\n",
      "[SEGEMEHL] Mon Oct 24 15:27:09 2022: sortlistS: allocating stuff.\n",
      "[SEGEMEHL] Mon Oct 24 15:27:09 2022: sortlistS: iterating 21058 elems.\n",
      "[SEGEMEHL] Mon Oct 24 15:27:09 2022: sortlistS: looping 46676 elems.\n",
      "[SEGEMEHL] Mon Oct 24 15:27:09 2022: sortlistS: iterating 46682 elems.\n",
      "[SEGEMEHL] Mon Oct 24 15:27:09 2022: sortlistsS: exiting happily!\n",
      "[SEGEMEHL] Mon Oct 24 15:27:09 2022: alurusortint: enter tprime.\n",
      "[SEGEMEHL] Mon Oct 24 15:27:09 2022: tprime: init arrays.\n",
      "[SEGEMEHL] Mon Oct 24 15:27:09 2022: tprime: scan B\n",
      "[SEGEMEHL] Mon Oct 24 15:27:09 2022: tprime: iterating i=46682 elements with lenB=21058.\n",
      "[SEGEMEHL] Mon Oct 24 15:27:09 2022: tprime: exit\n",
      "[SEGEMEHL] Mon Oct 24 15:27:09 2022: alurusortint: enter alurusortint.\n",
      "[SEGEMEHL] Mon Oct 24 15:27:09 2022: alurusortint: classify int.\n",
      "init bit array of 2633\n",
      "[SEGEMEHL] Mon Oct 24 15:27:09 2022: alurusortint: getting bit.\n",
      "[SEGEMEHL] Mon Oct 24 15:27:09 2022: alurusortint: init bcktsA.\n",
      "init bit array of 2633\n",
      "[SEGEMEHL] Mon Oct 24 15:27:09 2022: alurusortint: countingsort.\n",
      "[SEGEMEHL] Mon Oct 24 15:27:09 2022: countingsortint: init buffers and A\n",
      "[SEGEMEHL] Mon Oct 24 15:27:09 2022: setting buffer to zero\n",
      "[SEGEMEHL] Mon Oct 24 15:27:09 2022: countsortint: scanning buffer (1 of 3)\n",
      "[SEGEMEHL] Mon Oct 24 15:27:09 2022: countsortint: scanning buffer (2 of 3)\n",
      "[SEGEMEHL] Mon Oct 24 15:27:09 2022: countsortint: scanning buffer (3 of 3)\n",
      "[SEGEMEHL] Mon Oct 24 15:27:09 2022: countsortint: scanning buffer (to set borders)\n",
      "[SEGEMEHL] Mon Oct 24 15:27:09 2022: countsortint: exiting\n",
      "init bit array of 1185\n",
      "[SEGEMEHL] Mon Oct 24 15:27:09 2022: arrayB: allocating B with 9477 elements.\n",
      "[SEGEMEHL] Mon Oct 24 15:27:09 2022: arrayB: iterating to lenA=21058.\n",
      "[SEGEMEHL] Mon Oct 24 15:27:09 2022: arrayB: exiting\n",
      "init bit array of 2632\n",
      "[SEGEMEHL] Mon Oct 24 15:27:09 2022: alurusortint: enter get listsL.\n",
      "[SEGEMEHL] Mon Oct 24 15:27:09 2022: getlistsL: memsetting list of 21056 elements.\n",
      "[SEGEMEHL] Mon Oct 24 15:27:09 2022: getlistsL: iter from 21057 down to 0.\n",
      "[SEGEMEHL] Mon Oct 24 15:27:09 2022: scanning A (21058 elems).\n",
      "[SEGEMEHL] Mon Oct 24 15:27:09 2022: scanning accdist (8 elems) (1).\n",
      "[SEGEMEHL] Mon Oct 24 15:27:09 2022: scanning accdist (8 elems) (2).\n",
      "[SEGEMEHL] Mon Oct 24 15:27:09 2022: getlistsL: exit\n",
      "[SEGEMEHL] Mon Oct 24 15:27:09 2022: alurusortint: sort listsL.\n",
      "[SEGEMEHL] Mon Oct 24 15:27:09 2022: sortlistL: allocating stuff\n",
      "[SEGEMEHL] Mon Oct 24 15:27:09 2022: sortlistL: iterating 9477 elems.\n",
      "[SEGEMEHL] Mon Oct 24 15:27:09 2022: sortlistL: looping 21056 elems.\n",
      "[SEGEMEHL] Mon Oct 24 15:27:09 2022: sortlistL: iterating 21058 elems.\n",
      "[SEGEMEHL] Mon Oct 24 15:27:09 2022: sortlistsL: exiting happily!\n",
      "[SEGEMEHL] Mon Oct 24 15:27:09 2022: alurusortint: enter tprime.\n",
      "[SEGEMEHL] Mon Oct 24 15:27:09 2022: tprime: init arrays.\n",
      "[SEGEMEHL] Mon Oct 24 15:27:09 2022: tprime: scan B\n",
      "[SEGEMEHL] Mon Oct 24 15:27:09 2022: tprime: iterating i=21058 elements with lenB=9477.\n",
      "[SEGEMEHL] Mon Oct 24 15:27:09 2022: tprime: exit\n",
      "[SEGEMEHL] Mon Oct 24 15:27:09 2022: alurusortint: enter alurusortint.\n",
      "[SEGEMEHL] Mon Oct 24 15:27:09 2022: alurusortint: classify int.\n",
      "init bit array of 1185\n",
      "[SEGEMEHL] Mon Oct 24 15:27:09 2022: alurusortint: getting bit.\n",
      "[SEGEMEHL] Mon Oct 24 15:27:09 2022: alurusortint: init bcktsA.\n",
      "init bit array of 1185\n",
      "[SEGEMEHL] Mon Oct 24 15:27:09 2022: alurusortint: countingsort.\n",
      "[SEGEMEHL] Mon Oct 24 15:27:09 2022: countingsortint: init buffers and A\n",
      "[SEGEMEHL] Mon Oct 24 15:27:09 2022: setting buffer to zero\n",
      "[SEGEMEHL] Mon Oct 24 15:27:09 2022: countsortint: scanning buffer (1 of 3)\n",
      "[SEGEMEHL] Mon Oct 24 15:27:09 2022: countsortint: scanning buffer (2 of 3)\n",
      "[SEGEMEHL] Mon Oct 24 15:27:09 2022: countsortint: scanning buffer (3 of 3)\n",
      "[SEGEMEHL] Mon Oct 24 15:27:09 2022: countsortint: scanning buffer (to set borders)\n",
      "[SEGEMEHL] Mon Oct 24 15:27:09 2022: countsortint: exiting\n",
      "[SEGEMEHL] Mon Oct 24 15:27:09 2022: alurusortint: Sorting type S suffixes. Init bcktsB.\n",
      "[SEGEMEHL] Mon Oct 24 15:27:09 2022: 4259\t5218\t9477.\n",
      "\n",
      "init bit array of 533\n",
      "[SEGEMEHL] Mon Oct 24 15:27:09 2022: arrayB: allocating B with 4259 elements.\n",
      "[SEGEMEHL] Mon Oct 24 15:27:09 2022: arrayB: iterating to lenA=9477.\n",
      "[SEGEMEHL] Mon Oct 24 15:27:09 2022: arrayB: exiting\n",
      "[SEGEMEHL] Mon Oct 24 15:27:09 2022: alurusortint: enter Qmaxdist.\n",
      "[SEGEMEHL] Mon Oct 24 15:27:09 2022: alurusortint: enter Qdist.\n",
      "[SEGEMEHL] Mon Oct 24 15:27:09 2022: alurusortint: enter distCount.\n",
      "init bit array of 1185\n",
      "[SEGEMEHL] Mon Oct 24 15:27:09 2022: alurusortint: enter get listsS.\n",
      "[SEGEMEHL] Mon Oct 24 15:27:09 2022: getlistsS: memsetting list of 9476 elements.\n",
      "[SEGEMEHL] Mon Oct 24 15:27:09 2022: getlistsS: iter up to 9477.\n",
      "[SEGEMEHL] Mon Oct 24 15:27:09 2022: getlistsS: scan A\n",
      "[SEGEMEHL] Mon Oct 24 15:27:09 2022: getlistsS: set accidst\n",
      "[SEGEMEHL] Mon Oct 24 15:27:09 2022: getlistsS: exiting\n",
      "[SEGEMEHL] Mon Oct 24 15:27:09 2022: alurusortint: freeing stuff.\n",
      "[SEGEMEHL] Mon Oct 24 15:27:09 2022: alurusortint: enter sortlistsS.\n",
      "[SEGEMEHL] Mon Oct 24 15:27:09 2022: sortlistS: allocating stuff.\n",
      "[SEGEMEHL] Mon Oct 24 15:27:09 2022: sortlistS: iterating 4259 elems.\n",
      "[SEGEMEHL] Mon Oct 24 15:27:09 2022: sortlistS: looping 9476 elems.\n",
      "[SEGEMEHL] Mon Oct 24 15:27:09 2022: sortlistS: iterating 9477 elems.\n",
      "[SEGEMEHL] Mon Oct 24 15:27:09 2022: sortlistsS: exiting happily!\n",
      "[SEGEMEHL] Mon Oct 24 15:27:09 2022: alurusortint: enter tprime.\n",
      "[SEGEMEHL] Mon Oct 24 15:27:09 2022: tprime: init arrays.\n",
      "[SEGEMEHL] Mon Oct 24 15:27:09 2022: tprime: scan B\n",
      "[SEGEMEHL] Mon Oct 24 15:27:09 2022: tprime: iterating i=9477 elements with lenB=4259.\n",
      "[SEGEMEHL] Mon Oct 24 15:27:09 2022: tprime: exit\n",
      "[SEGEMEHL] Mon Oct 24 15:27:09 2022: alurusortint: enter alurusortint.\n",
      "[SEGEMEHL] Mon Oct 24 15:27:09 2022: alurusortint: classify int.\n",
      "init bit array of 533\n",
      "[SEGEMEHL] Mon Oct 24 15:27:09 2022: alurusortint: getting bit.\n",
      "[SEGEMEHL] Mon Oct 24 15:27:09 2022: alurusortint: init bcktsA.\n",
      "init bit array of 533\n",
      "[SEGEMEHL] Mon Oct 24 15:27:09 2022: alurusortint: countingsort.\n",
      "[SEGEMEHL] Mon Oct 24 15:27:09 2022: countingsortint: init buffers and A\n",
      "[SEGEMEHL] Mon Oct 24 15:27:09 2022: setting buffer to zero\n",
      "[SEGEMEHL] Mon Oct 24 15:27:09 2022: countsortint: scanning buffer (1 of 3)\n",
      "[SEGEMEHL] Mon Oct 24 15:27:09 2022: countsortint: scanning buffer (2 of 3)\n",
      "[SEGEMEHL] Mon Oct 24 15:27:09 2022: countsortint: scanning buffer (3 of 3)\n",
      "[SEGEMEHL] Mon Oct 24 15:27:09 2022: countsortint: scanning buffer (to set borders)\n",
      "[SEGEMEHL] Mon Oct 24 15:27:09 2022: countsortint: exiting\n",
      "init bit array of 241\n",
      "[SEGEMEHL] Mon Oct 24 15:27:09 2022: arrayB: allocating B with 1924 elements.\n",
      "[SEGEMEHL] Mon Oct 24 15:27:09 2022: arrayB: iterating to lenA=4259.\n",
      "[SEGEMEHL] Mon Oct 24 15:27:09 2022: arrayB: exiting\n",
      "init bit array of 532\n",
      "[SEGEMEHL] Mon Oct 24 15:27:09 2022: alurusortint: enter get listsL.\n",
      "[SEGEMEHL] Mon Oct 24 15:27:09 2022: getlistsL: memsetting list of 4256 elements.\n",
      "[SEGEMEHL] Mon Oct 24 15:27:09 2022: getlistsL: iter from 4258 down to 0.\n",
      "[SEGEMEHL] Mon Oct 24 15:27:09 2022: scanning A (4259 elems).\n",
      "[SEGEMEHL] Mon Oct 24 15:27:09 2022: scanning accdist (7 elems) (1).\n",
      "[SEGEMEHL] Mon Oct 24 15:27:09 2022: scanning accdist (7 elems) (2).\n",
      "[SEGEMEHL] Mon Oct 24 15:27:09 2022: getlistsL: exit\n",
      "[SEGEMEHL] Mon Oct 24 15:27:09 2022: alurusortint: sort listsL.\n",
      "[SEGEMEHL] Mon Oct 24 15:27:09 2022: sortlistL: allocating stuff\n",
      "[SEGEMEHL] Mon Oct 24 15:27:09 2022: sortlistL: iterating 1924 elems.\n",
      "[SEGEMEHL] Mon Oct 24 15:27:09 2022: sortlistL: looping 4256 elems.\n",
      "[SEGEMEHL] Mon Oct 24 15:27:09 2022: sortlistL: iterating 4259 elems.\n",
      "[SEGEMEHL] Mon Oct 24 15:27:09 2022: sortlistsL: exiting happily!\n",
      "[SEGEMEHL] Mon Oct 24 15:27:09 2022: alurusortint: valbitarraysortedL.\n",
      "init bit array of 533\n",
      "[SEGEMEHL] Mon Oct 24 15:27:09 2022: reconstructintS.\n",
      "[SEGEMEHL] Mon Oct 24 15:27:09 2022: reconstruct: init.\n",
      "[SEGEMEHL] Mon Oct 24 15:27:09 2022: reconstruct: iteration over 9477 elems.\n",
      "[SEGEMEHL] Mon Oct 24 15:27:09 2022: reconstruct: scan B (size: 4259).\n",
      "[SEGEMEHL] Mon Oct 24 15:27:09 2022: reconstruct: exit.\n",
      "init bit array of 1185\n",
      "[SEGEMEHL] Mon Oct 24 15:27:09 2022: reconstructintL.\n",
      "[SEGEMEHL] Mon Oct 24 15:27:09 2022: reconstruct: init.\n",
      "[SEGEMEHL] Mon Oct 24 15:27:09 2022: reconstruct: iteration over 21058 elems.\n",
      "[SEGEMEHL] Mon Oct 24 15:27:09 2022: reconstruct: scan B (size: 9477).\n",
      "[SEGEMEHL] Mon Oct 24 15:27:09 2022: reconstruct: exit.\n",
      "init bit array of 2633\n",
      "[SEGEMEHL] Mon Oct 24 15:27:09 2022: reconstructintS.\n",
      "[SEGEMEHL] Mon Oct 24 15:27:09 2022: reconstruct: init.\n",
      "[SEGEMEHL] Mon Oct 24 15:27:09 2022: reconstruct: iteration over 46682 elems.\n",
      "[SEGEMEHL] Mon Oct 24 15:27:09 2022: reconstruct: scan B (size: 21058).\n",
      "[SEGEMEHL] Mon Oct 24 15:27:09 2022: reconstruct: exit.\n",
      "init bit array of 5836\n",
      "[SEGEMEHL] Mon Oct 24 15:27:09 2022: reconstructintL.\n",
      "[SEGEMEHL] Mon Oct 24 15:27:09 2022: reconstruct: init.\n",
      "[SEGEMEHL] Mon Oct 24 15:27:09 2022: reconstruct: iteration over 103301 elems.\n",
      "[SEGEMEHL] Mon Oct 24 15:27:09 2022: reconstruct: scan B (size: 46682).\n",
      "[SEGEMEHL] Mon Oct 24 15:27:09 2022: reconstruct: exit.\n",
      "init bit array of 12913\n",
      "[SEGEMEHL] Mon Oct 24 15:27:09 2022: reconstructintS.\n",
      "[SEGEMEHL] Mon Oct 24 15:27:09 2022: reconstruct: init.\n",
      "[SEGEMEHL] Mon Oct 24 15:27:09 2022: reconstruct: iteration over 228853 elems.\n",
      "[SEGEMEHL] Mon Oct 24 15:27:09 2022: reconstruct: scan B (size: 103301).\n",
      "[SEGEMEHL] Mon Oct 24 15:27:09 2022: reconstruct: exit.\n",
      "init bit array of 28607\n",
      "[SEGEMEHL] Mon Oct 24 15:27:09 2022: reconstructintL.\n",
      "[SEGEMEHL] Mon Oct 24 15:27:09 2022: reconstruct: init.\n",
      "[SEGEMEHL] Mon Oct 24 15:27:09 2022: reconstruct: iteration over 511866 elems.\n",
      "[SEGEMEHL] Mon Oct 24 15:27:09 2022: reconstruct: scan B (size: 228853).\n",
      "[SEGEMEHL] Mon Oct 24 15:27:09 2022: reconstruct: exit.\n",
      "init bit array of 63984\n",
      "[SEGEMEHL] Mon Oct 24 15:27:09 2022: reconstructintS.\n",
      "[SEGEMEHL] Mon Oct 24 15:27:09 2022: reconstruct: init.\n",
      "[SEGEMEHL] Mon Oct 24 15:27:09 2022: reconstruct: iteration over 1139171 elems.\n",
      "[SEGEMEHL] Mon Oct 24 15:27:09 2022: reconstruct: scan B (size: 511866).\n",
      "[SEGEMEHL] Mon Oct 24 15:27:09 2022: reconstruct: exit.\n",
      "init bit array of 142397\n",
      "[SEGEMEHL] Mon Oct 24 15:27:09 2022: reconstructintL.\n",
      "[SEGEMEHL] Mon Oct 24 15:27:09 2022: reconstruct: init.\n",
      "[SEGEMEHL] Mon Oct 24 15:27:09 2022: reconstruct: iteration over 2875521 elems.\n",
      "[SEGEMEHL] Mon Oct 24 15:27:09 2022: reconstruct: scan B (size: 1139171).\n",
      "[SEGEMEHL] Mon Oct 24 15:27:09 2022: reconstruct: exit.\n",
      "init bit array of 359441\n",
      "[SEGEMEHL] Mon Oct 24 15:27:09 2022: reconstructcharS.\n",
      "[SEGEMEHL] Mon Oct 24 15:27:09 2022: reconstruct: init.\n",
      "[SEGEMEHL] Mon Oct 24 15:27:09 2022: reconstruct: iteration over 6084755 elems.\n",
      "[SEGEMEHL] Mon Oct 24 15:27:09 2022: reconstruct: scan B (size: 2875521).\n",
      "[SEGEMEHL] Mon Oct 24 15:27:09 2022: reconstruct: exit.\n",
      "[SEGEMEHL] Mon Oct 24 15:27:09 2022: enter aluruSuffixArrayS start.\n",
      "init bit array of 760595\n",
      "[SEGEMEHL] Mon Oct 24 15:27:09 2022: constructing inv_suftab (6084755).\n",
      "[SEGEMEHL] Mon Oct 24 15:27:09 2022: inv_suftab constructed.\n",
      "[SEGEMEHL] Mon Oct 24 15:27:09 2022: constructing lcp.\n",
      "\u001b[s\u001b[K[SEGEMEHL] Mon Oct 24 15:27:09 2022: deleting inv_suftab\n",
      "[SEGEMEHL] Mon Oct 24 15:27:09 2022: constructing child tab.\n",
      "[SEGEMEHL] Mon Oct 24 15:27:10 2022: constructing suffix links.\n",
      "[SEGEMEHL] Mon Oct 24 15:27:10 2022: constructing id.\n",
      "[SEGEMEHL] Mon Oct 24 15:27:10 2022: constructing suflinks - bottom up.\n",
      "[SEGEMEHL] Mon Oct 24 15:27:10 2022: constructing suflinks - top down.\n",
      "suflink construction. pushes: 3930764, maxstack: 34\n",
      "[SEGEMEHL] Mon Oct 24 15:27:11 2022: building  the suffix array has taken 2.000000 seconds.\n",
      "[SEGEMEHL] Mon Oct 24 15:27:11 2022: total length of suffix array was 6084750.\n",
      "[SEGEMEHL] Mon Oct 24 15:27:11 2022: writing suffix array '../../02-OUTPUT/03-ALIGN/02-READEMPTION/BV3-T60_94.idx' to disk.\n",
      "[SEGEMEHL] Mon Oct 24 15:27:11 2022: Mapping stats:\n",
      "\ttotal\tmapped\t(%)\tunique\t(%)\tmulti\t(%)\tsplit\t(%)\n",
      "all\t0\t0\t-nan%\t0\t-nan%\t0\t-nan%\t0\t-nan%\n",
      "[SEGEMEHL] Mon Oct 24 15:27:11 2022: \n",
      "Goodbye.\n",
      " \"Boooooring!\" (David S.)\n",
      "100%|████████████████████████████████████████████████████████████████████████████████████████████████████████████████████████████████████████████████████████████████████████████████| 3/3 [00:06<00:00,  2.10s/it]\n"
     ]
    }
   ],
   "source": [
    "IN = '../../01-INPUT/03-REFERENCE'\n",
    "OUT = '../../02-OUTPUT/03-ALIGN/02-SEGEMEHL'\n",
    "for fna in tqdm(glob(f'{IN}/*.fna')):\n",
    "    handle = fna.split('/')[-1].replace('.fna','')\n",
    "    print(handle)\n",
    "    os.system(f'segemehl.x -d {fna} -x {OUT}/{handle}.idx')"
   ]
  },
  {
   "cell_type": "code",
   "execution_count": 3,
   "id": "44b62ef8",
   "metadata": {},
   "outputs": [
    {
     "name": "stderr",
     "output_type": "stream",
     "text": [
      "  0%|          | 0/30 [00:00<?, ?it/s][SEGEMEHL] Mon Oct 24 20:07:56 2022: reading queries in '../../02-OUTPUT/02-TRIM/01-C58-BV1-MOPS_glucose-tex_plus-R1-trimmed_filtered.fq.gz'.\n"
     ]
    },
    {
     "name": "stdout",
     "output_type": "stream",
     "text": [
      "01-C58-BV1-MOPS_glucose-tex_plus\n"
     ]
    }
   ],
   "source": [
    "IN=\"../../02-OUTPUT/02-TRIM\"\n",
    "OUT=\"../../02-OUTPUT/03-ALIGN/02-SEGEMEHL\"\n",
    "for seq in tqdm(glob(f\"{IN}/*-R1-trimmed.fq.gz\")):\n",
    "\n",
    "    if \"BV1\" in seq:\n",
    "        ref = f'{OUT}/BV1-C58.idx'\n",
    "        db = '../../01-INPUT/03-REFERENCE/BV1-C58.fna'\n",
    "    if \"BV2\" in seq:\n",
    "        ref = f'{OUT}/BV2-C16_80.idx'\n",
    "        db = f'../../01-INPUT/03-REFERENCE/BV2-C16_80.fna'\n",
    "    if \"BV3\" in seq:\n",
    "        ref = f'{OUT}/BV3-T60_94.idx'\n",
    "        db = f'../../01-INPUT/03-REFERENCE/BV3-T60_94.fna' \n",
    "\n",
    "    seq_handle = seq.split('/')[-1].split('.')[0][:-11]\n",
    "    r1 = seq_handle + \"-R1\"\n",
    "    r2 = seq_handle + \"-R2\"\n",
    "    print(seq_handle)\n",
    "    \n",
    "    os.system(f\"time segemehl.x -t 10 -s\\\n",
    "        -i {ref} \\\n",
    "        -d {db} \\\n",
    "        -q {IN}/{r1}-trimmed_filtered.fq.gz \\\n",
    "        -p {IN}/{r2}-trimmed_filtered.fq.gz \\\n",
    "        -o {OUT}/{seq_handle}_mapping.sam\")"
   ]
  },
  {
   "cell_type": "code",
   "execution_count": 2,
   "id": "5e6069ef",
   "metadata": {},
   "outputs": [
    {
     "name": "stderr",
     "output_type": "stream",
     "text": [
      "  0%|          | 0/30 [00:00<?, ?it/s]"
     ]
    },
    {
     "name": "stdout",
     "output_type": "stream",
     "text": [
      "../../02-OUTPUT/03-ALIGN/02-SEGEMEHL/25-C58-BV1-PITA_induced-tex_minus_mapping\n"
     ]
    },
    {
     "name": "stderr",
     "output_type": "stream",
     "text": [
      "[E::hts_open_format] Failed to open file \"../../02-OUTPUT/03-ALIGN/02-SEGEMEHL/25-C58-BV1-PITA_induced-tex_minus_mapping_sorted.bam.tmp.0003.bam\" : File exists\n",
      "[E::hts_open_format] Failed to open file \"../../02-OUTPUT/03-ALIGN/02-SEGEMEHL/25-C58-BV1-PITA_induced-tex_minus_mapping_sorted.bam.tmp.0003-001.bam\" : File exists\n",
      "[E::hts_open_format] Failed to open file \"../../02-OUTPUT/03-ALIGN/02-SEGEMEHL/25-C58-BV1-PITA_induced-tex_minus_mapping_sorted.bam.tmp.0007.bam\" : File exists\n",
      "[E::hts_open_format] Failed to open file \"../../02-OUTPUT/03-ALIGN/02-SEGEMEHL/25-C58-BV1-PITA_induced-tex_minus_mapping_sorted.bam.tmp.0007-001.bam\" : File exists\n",
      "[E::hts_open_format] Failed to open file \"../../02-OUTPUT/03-ALIGN/02-SEGEMEHL/25-C58-BV1-PITA_induced-tex_minus_mapping_sorted.bam.tmp.0008.bam\" : File exists\n",
      "[E::hts_open_format] Failed to open file \"../../02-OUTPUT/03-ALIGN/02-SEGEMEHL/25-C58-BV1-PITA_induced-tex_minus_mapping_sorted.bam.tmp.0008-001.bam\" : File exists\n",
      "[E::hts_open_format] Failed to open file \"../../02-OUTPUT/03-ALIGN/02-SEGEMEHL/25-C58-BV1-PITA_induced-tex_minus_mapping_sorted.bam.tmp.0004.bam\" : File exists\n",
      "[E::hts_open_format] Failed to open file \"../../02-OUTPUT/03-ALIGN/02-SEGEMEHL/25-C58-BV1-PITA_induced-tex_minus_mapping_sorted.bam.tmp.0004-001.bam\" : File exists\n",
      "[E::hts_open_format] Failed to open file \"../../02-OUTPUT/03-ALIGN/02-SEGEMEHL/25-C58-BV1-PITA_induced-tex_minus_mapping_sorted.bam.tmp.0006.bam\" : File exists\n",
      "[E::hts_open_format] Failed to open file \"../../02-OUTPUT/03-ALIGN/02-SEGEMEHL/25-C58-BV1-PITA_induced-tex_minus_mapping_sorted.bam.tmp.0006-001.bam\" : File exists\n",
      "[E::hts_open_format] Failed to open file \"../../02-OUTPUT/03-ALIGN/02-SEGEMEHL/25-C58-BV1-PITA_induced-tex_minus_mapping_sorted.bam.tmp.0000.bam\" : File exists\n",
      "[E::hts_open_format] Failed to open file \"../../02-OUTPUT/03-ALIGN/02-SEGEMEHL/25-C58-BV1-PITA_induced-tex_minus_mapping_sorted.bam.tmp.0000-001.bam\" : File exists\n",
      "[E::hts_open_format] Failed to open file \"../../02-OUTPUT/03-ALIGN/02-SEGEMEHL/25-C58-BV1-PITA_induced-tex_minus_mapping_sorted.bam.tmp.0002.bam\" : File exists\n",
      "[E::hts_open_format] Failed to open file \"../../02-OUTPUT/03-ALIGN/02-SEGEMEHL/25-C58-BV1-PITA_induced-tex_minus_mapping_sorted.bam.tmp.0002-001.bam\" : File exists\n",
      "[E::hts_open_format] Failed to open file \"../../02-OUTPUT/03-ALIGN/02-SEGEMEHL/25-C58-BV1-PITA_induced-tex_minus_mapping_sorted.bam.tmp.0009.bam\" : File exists\n",
      "[E::hts_open_format] Failed to open file \"../../02-OUTPUT/03-ALIGN/02-SEGEMEHL/25-C58-BV1-PITA_induced-tex_minus_mapping_sorted.bam.tmp.0009-001.bam\" : File exists\n",
      "[E::hts_open_format] Failed to open file \"../../02-OUTPUT/03-ALIGN/02-SEGEMEHL/25-C58-BV1-PITA_induced-tex_minus_mapping_sorted.bam.tmp.0001.bam\" : File exists\n",
      "[E::hts_open_format] Failed to open file \"../../02-OUTPUT/03-ALIGN/02-SEGEMEHL/25-C58-BV1-PITA_induced-tex_minus_mapping_sorted.bam.tmp.0001-001.bam\" : File exists\n",
      "[E::hts_open_format] Failed to open file \"../../02-OUTPUT/03-ALIGN/02-SEGEMEHL/25-C58-BV1-PITA_induced-tex_minus_mapping_sorted.bam.tmp.0005.bam\" : File exists\n",
      "[E::hts_open_format] Failed to open file \"../../02-OUTPUT/03-ALIGN/02-SEGEMEHL/25-C58-BV1-PITA_induced-tex_minus_mapping_sorted.bam.tmp.0005-001.bam\" : File exists\n",
      "[E::hts_open_format] Failed to open file \"../../02-OUTPUT/03-ALIGN/02-SEGEMEHL/25-C58-BV1-PITA_induced-tex_minus_mapping_sorted.bam.tmp.0016.bam\" : File exists\n",
      "[E::hts_open_format] Failed to open file \"../../02-OUTPUT/03-ALIGN/02-SEGEMEHL/25-C58-BV1-PITA_induced-tex_minus_mapping_sorted.bam.tmp.0016-001.bam\" : File exists\n",
      "[E::hts_open_format] Failed to open file \"../../02-OUTPUT/03-ALIGN/02-SEGEMEHL/25-C58-BV1-PITA_induced-tex_minus_mapping_sorted.bam.tmp.0018.bam\" : File exists\n",
      "[E::hts_open_format] Failed to open file \"../../02-OUTPUT/03-ALIGN/02-SEGEMEHL/25-C58-BV1-PITA_induced-tex_minus_mapping_sorted.bam.tmp.0018-001.bam\" : File exists\n",
      "[E::hts_open_format] Failed to open file \"../../02-OUTPUT/03-ALIGN/02-SEGEMEHL/25-C58-BV1-PITA_induced-tex_minus_mapping_sorted.bam.tmp.0012.bam\" : File exists\n",
      "[E::hts_open_format] Failed to open file \"../../02-OUTPUT/03-ALIGN/02-SEGEMEHL/25-C58-BV1-PITA_induced-tex_minus_mapping_sorted.bam.tmp.0012-001.bam\" : File exists\n",
      "[E::hts_open_format] Failed to open file \"../../02-OUTPUT/03-ALIGN/02-SEGEMEHL/25-C58-BV1-PITA_induced-tex_minus_mapping_sorted.bam.tmp.0017.bam\" : File exists\n",
      "[E::hts_open_format] Failed to open file \"../../02-OUTPUT/03-ALIGN/02-SEGEMEHL/25-C58-BV1-PITA_induced-tex_minus_mapping_sorted.bam.tmp.0017-001.bam\" : File exists\n",
      "[E::hts_open_format] Failed to open file \"../../02-OUTPUT/03-ALIGN/02-SEGEMEHL/25-C58-BV1-PITA_induced-tex_minus_mapping_sorted.bam.tmp.0011.bam\" : File exists\n",
      "[E::hts_open_format] Failed to open file \"../../02-OUTPUT/03-ALIGN/02-SEGEMEHL/25-C58-BV1-PITA_induced-tex_minus_mapping_sorted.bam.tmp.0011-001.bam\" : File exists\n",
      "[E::hts_open_format] Failed to open file \"../../02-OUTPUT/03-ALIGN/02-SEGEMEHL/25-C58-BV1-PITA_induced-tex_minus_mapping_sorted.bam.tmp.0014.bam\" : File exists\n",
      "[E::hts_open_format] Failed to open file \"../../02-OUTPUT/03-ALIGN/02-SEGEMEHL/25-C58-BV1-PITA_induced-tex_minus_mapping_sorted.bam.tmp.0014-001.bam\" : File exists\n",
      "[E::hts_open_format] Failed to open file \"../../02-OUTPUT/03-ALIGN/02-SEGEMEHL/25-C58-BV1-PITA_induced-tex_minus_mapping_sorted.bam.tmp.0019.bam\" : File exists\n",
      "[E::hts_open_format] Failed to open file \"../../02-OUTPUT/03-ALIGN/02-SEGEMEHL/25-C58-BV1-PITA_induced-tex_minus_mapping_sorted.bam.tmp.0019-001.bam\" : File exists\n",
      "[E::hts_open_format] Failed to open file \"../../02-OUTPUT/03-ALIGN/02-SEGEMEHL/25-C58-BV1-PITA_induced-tex_minus_mapping_sorted.bam.tmp.0010.bam\" : File exists\n",
      "[E::hts_open_format] Failed to open file \"../../02-OUTPUT/03-ALIGN/02-SEGEMEHL/25-C58-BV1-PITA_induced-tex_minus_mapping_sorted.bam.tmp.0010-001.bam\" : File exists\n",
      "[E::hts_open_format] Failed to open file \"../../02-OUTPUT/03-ALIGN/02-SEGEMEHL/25-C58-BV1-PITA_induced-tex_minus_mapping_sorted.bam.tmp.0013.bam\" : File exists\n",
      "[E::hts_open_format] Failed to open file \"../../02-OUTPUT/03-ALIGN/02-SEGEMEHL/25-C58-BV1-PITA_induced-tex_minus_mapping_sorted.bam.tmp.0013-001.bam\" : File exists\n",
      "[E::hts_open_format] Failed to open file \"../../02-OUTPUT/03-ALIGN/02-SEGEMEHL/25-C58-BV1-PITA_induced-tex_minus_mapping_sorted.bam.tmp.0015.bam\" : File exists\n",
      "[E::hts_open_format] Failed to open file \"../../02-OUTPUT/03-ALIGN/02-SEGEMEHL/25-C58-BV1-PITA_induced-tex_minus_mapping_sorted.bam.tmp.0015-001.bam\" : File exists\n",
      "[E::hts_open_format] Failed to open file \"../../02-OUTPUT/03-ALIGN/02-SEGEMEHL/25-C58-BV1-PITA_induced-tex_minus_mapping_sorted.bam.tmp.0027.bam\" : File exists\n",
      "[E::hts_open_format] Failed to open file \"../../02-OUTPUT/03-ALIGN/02-SEGEMEHL/25-C58-BV1-PITA_induced-tex_minus_mapping_sorted.bam.tmp.0027-001.bam\" : File exists\n",
      "[E::hts_open_format] Failed to open file \"../../02-OUTPUT/03-ALIGN/02-SEGEMEHL/25-C58-BV1-PITA_induced-tex_minus_mapping_sorted.bam.tmp.0023.bam\" : File exists\n",
      "[E::hts_open_format] Failed to open file \"../../02-OUTPUT/03-ALIGN/02-SEGEMEHL/25-C58-BV1-PITA_induced-tex_minus_mapping_sorted.bam.tmp.0023-001.bam\" : File exists\n",
      "[E::hts_open_format] Failed to open file \"../../02-OUTPUT/03-ALIGN/02-SEGEMEHL/25-C58-BV1-PITA_induced-tex_minus_mapping_sorted.bam.tmp.0028.bam\" : File exists\n",
      "[E::hts_open_format] Failed to open file \"../../02-OUTPUT/03-ALIGN/02-SEGEMEHL/25-C58-BV1-PITA_induced-tex_minus_mapping_sorted.bam.tmp.0028-001.bam\" : File exists\n",
      "[E::hts_open_format] Failed to open file \"../../02-OUTPUT/03-ALIGN/02-SEGEMEHL/25-C58-BV1-PITA_induced-tex_minus_mapping_sorted.bam.tmp.0024.bam\" : File exists\n",
      "[E::hts_open_format] Failed to open file \"../../02-OUTPUT/03-ALIGN/02-SEGEMEHL/25-C58-BV1-PITA_induced-tex_minus_mapping_sorted.bam.tmp.0024-001.bam\" : File exists\n",
      "[E::hts_open_format] Failed to open file \"../../02-OUTPUT/03-ALIGN/02-SEGEMEHL/25-C58-BV1-PITA_induced-tex_minus_mapping_sorted.bam.tmp.0026.bam\" : File exists\n",
      "[E::hts_open_format] Failed to open file \"../../02-OUTPUT/03-ALIGN/02-SEGEMEHL/25-C58-BV1-PITA_induced-tex_minus_mapping_sorted.bam.tmp.0026-001.bam\" : File exists\n",
      "[E::hts_open_format] Failed to open file \"../../02-OUTPUT/03-ALIGN/02-SEGEMEHL/25-C58-BV1-PITA_induced-tex_minus_mapping_sorted.bam.tmp.0029.bam\" : File exists\n",
      "[E::hts_open_format] Failed to open file \"../../02-OUTPUT/03-ALIGN/02-SEGEMEHL/25-C58-BV1-PITA_induced-tex_minus_mapping_sorted.bam.tmp.0029-001.bam\" : File exists\n",
      "[E::hts_open_format] Failed to open file \"../../02-OUTPUT/03-ALIGN/02-SEGEMEHL/25-C58-BV1-PITA_induced-tex_minus_mapping_sorted.bam.tmp.0020.bam\" : File exists\n",
      "[E::hts_open_format] Failed to open file \"../../02-OUTPUT/03-ALIGN/02-SEGEMEHL/25-C58-BV1-PITA_induced-tex_minus_mapping_sorted.bam.tmp.0020-001.bam\" : File exists\n",
      "[E::hts_open_format] Failed to open file \"../../02-OUTPUT/03-ALIGN/02-SEGEMEHL/25-C58-BV1-PITA_induced-tex_minus_mapping_sorted.bam.tmp.0025.bam\" : File exists\n",
      "[E::hts_open_format] Failed to open file \"../../02-OUTPUT/03-ALIGN/02-SEGEMEHL/25-C58-BV1-PITA_induced-tex_minus_mapping_sorted.bam.tmp.0025-001.bam\" : File exists\n",
      "[E::hts_open_format] Failed to open file \"../../02-OUTPUT/03-ALIGN/02-SEGEMEHL/25-C58-BV1-PITA_induced-tex_minus_mapping_sorted.bam.tmp.0022.bam\" : File exists\n",
      "[E::hts_open_format] Failed to open file \"../../02-OUTPUT/03-ALIGN/02-SEGEMEHL/25-C58-BV1-PITA_induced-tex_minus_mapping_sorted.bam.tmp.0022-001.bam\" : File exists\n",
      "[E::hts_open_format] Failed to open file \"../../02-OUTPUT/03-ALIGN/02-SEGEMEHL/25-C58-BV1-PITA_induced-tex_minus_mapping_sorted.bam.tmp.0021.bam\" : File exists\n",
      "[E::hts_open_format] Failed to open file \"../../02-OUTPUT/03-ALIGN/02-SEGEMEHL/25-C58-BV1-PITA_induced-tex_minus_mapping_sorted.bam.tmp.0021-001.bam\" : File exists\n",
      "[E::hts_open_format] Failed to open file \"../../02-OUTPUT/03-ALIGN/02-SEGEMEHL/25-C58-BV1-PITA_induced-tex_minus_mapping_sorted.bam.tmp.0037.bam\" : File exists\n",
      "[E::hts_open_format] Failed to open file \"../../02-OUTPUT/03-ALIGN/02-SEGEMEHL/25-C58-BV1-PITA_induced-tex_minus_mapping_sorted.bam.tmp.0037-001.bam\" : File exists\n",
      "[E::hts_open_format] Failed to open file \"../../02-OUTPUT/03-ALIGN/02-SEGEMEHL/25-C58-BV1-PITA_induced-tex_minus_mapping_sorted.bam.tmp.0032.bam\" : File exists\n",
      "[E::hts_open_format] Failed to open file \"../../02-OUTPUT/03-ALIGN/02-SEGEMEHL/25-C58-BV1-PITA_induced-tex_minus_mapping_sorted.bam.tmp.0032-001.bam\" : File exists\n",
      "[E::hts_open_format] Failed to open file \"../../02-OUTPUT/03-ALIGN/02-SEGEMEHL/25-C58-BV1-PITA_induced-tex_minus_mapping_sorted.bam.tmp.0036.bam\" : File exists\n",
      "[E::hts_open_format] Failed to open file \"../../02-OUTPUT/03-ALIGN/02-SEGEMEHL/25-C58-BV1-PITA_induced-tex_minus_mapping_sorted.bam.tmp.0036-001.bam\" : File exists\n",
      "[E::hts_open_format] Failed to open file \"../../02-OUTPUT/03-ALIGN/02-SEGEMEHL/25-C58-BV1-PITA_induced-tex_minus_mapping_sorted.bam.tmp.0038.bam\" : File exists\n",
      "[E::hts_open_format] Failed to open file \"../../02-OUTPUT/03-ALIGN/02-SEGEMEHL/25-C58-BV1-PITA_induced-tex_minus_mapping_sorted.bam.tmp.0038-001.bam\" : File exists\n",
      "[E::hts_open_format] Failed to open file \"../../02-OUTPUT/03-ALIGN/02-SEGEMEHL/25-C58-BV1-PITA_induced-tex_minus_mapping_sorted.bam.tmp.0034.bam\" : File exists\n",
      "[E::hts_open_format] Failed to open file \"../../02-OUTPUT/03-ALIGN/02-SEGEMEHL/25-C58-BV1-PITA_induced-tex_minus_mapping_sorted.bam.tmp.0034-001.bam\" : File exists\n",
      "[E::hts_open_format] Failed to open file \"../../02-OUTPUT/03-ALIGN/02-SEGEMEHL/25-C58-BV1-PITA_induced-tex_minus_mapping_sorted.bam.tmp.0033.bam\" : File exists\n",
      "[E::hts_open_format] Failed to open file \"../../02-OUTPUT/03-ALIGN/02-SEGEMEHL/25-C58-BV1-PITA_induced-tex_minus_mapping_sorted.bam.tmp.0033-001.bam\" : File exists\n",
      "[E::hts_open_format] Failed to open file \"../../02-OUTPUT/03-ALIGN/02-SEGEMEHL/25-C58-BV1-PITA_induced-tex_minus_mapping_sorted.bam.tmp.0039.bam\" : File exists\n",
      "[E::hts_open_format] Failed to open file \"../../02-OUTPUT/03-ALIGN/02-SEGEMEHL/25-C58-BV1-PITA_induced-tex_minus_mapping_sorted.bam.tmp.0039-001.bam\" : File exists\n",
      "[E::hts_open_format] Failed to open file \"../../02-OUTPUT/03-ALIGN/02-SEGEMEHL/25-C58-BV1-PITA_induced-tex_minus_mapping_sorted.bam.tmp.0030.bam\" : File exists\n",
      "[E::hts_open_format] Failed to open file \"../../02-OUTPUT/03-ALIGN/02-SEGEMEHL/25-C58-BV1-PITA_induced-tex_minus_mapping_sorted.bam.tmp.0030-001.bam\" : File exists\n",
      "[E::hts_open_format] Failed to open file \"../../02-OUTPUT/03-ALIGN/02-SEGEMEHL/25-C58-BV1-PITA_induced-tex_minus_mapping_sorted.bam.tmp.0031.bam\" : File exists\n",
      "[E::hts_open_format] Failed to open file \"../../02-OUTPUT/03-ALIGN/02-SEGEMEHL/25-C58-BV1-PITA_induced-tex_minus_mapping_sorted.bam.tmp.0031-001.bam\" : File exists\n",
      "[E::hts_open_format] Failed to open file \"../../02-OUTPUT/03-ALIGN/02-SEGEMEHL/25-C58-BV1-PITA_induced-tex_minus_mapping_sorted.bam.tmp.0035.bam\" : File exists\n",
      "[E::hts_open_format] Failed to open file \"../../02-OUTPUT/03-ALIGN/02-SEGEMEHL/25-C58-BV1-PITA_induced-tex_minus_mapping_sorted.bam.tmp.0035-001.bam\" : File exists\n",
      "[bam_sort_core] merging from 40 files and 10 in-memory blocks...\n",
      "  3%|▎         | 1/30 [02:11<1:03:44, 131.88s/it]"
     ]
    },
    {
     "name": "stdout",
     "output_type": "stream",
     "text": [
      "../../02-OUTPUT/03-ALIGN/02-SEGEMEHL/30-T60_94-BV3-PITA_stationary-tex_minus_mapping\n"
     ]
    },
    {
     "name": "stderr",
     "output_type": "stream",
     "text": [
      "[bam_sort_core] merging from 40 files and 10 in-memory blocks...\n",
      "  7%|▋         | 2/30 [04:31<1:03:33, 136.21s/it]"
     ]
    },
    {
     "name": "stdout",
     "output_type": "stream",
     "text": [
      "../../02-OUTPUT/03-ALIGN/02-SEGEMEHL/07-C58-BV1-PITA_log-tex_plus_mapping\n"
     ]
    },
    {
     "name": "stderr",
     "output_type": "stream",
     "text": [
      "[bam_sort_core] merging from 10 files and 10 in-memory blocks...\n",
      " 10%|█         | 3/30 [05:20<43:32, 96.76s/it]   "
     ]
    },
    {
     "name": "stdout",
     "output_type": "stream",
     "text": [
      "../../02-OUTPUT/03-ALIGN/02-SEGEMEHL/24-T60_94-BV3-PITA_log-tex_minus_mapping\n"
     ]
    },
    {
     "name": "stderr",
     "output_type": "stream",
     "text": [
      "[bam_sort_core] merging from 20 files and 10 in-memory blocks...\n",
      " 13%|█▎        | 4/30 [06:27<36:44, 84.79s/it]"
     ]
    },
    {
     "name": "stdout",
     "output_type": "stream",
     "text": [
      "../../02-OUTPUT/03-ALIGN/02-SEGEMEHL/11-C16_80-BV2-PITA_induced-tex_plus_mapping\n"
     ]
    },
    {
     "name": "stderr",
     "output_type": "stream",
     "text": [
      "[bam_sort_core] merging from 10 files and 10 in-memory blocks...\n",
      " 17%|█▋        | 5/30 [07:25<31:15, 75.00s/it]"
     ]
    },
    {
     "name": "stdout",
     "output_type": "stream",
     "text": [
      "../../02-OUTPUT/03-ALIGN/02-SEGEMEHL/15-T60_94-BV3-PITA_stationary-tex_plus_mapping\n"
     ]
    },
    {
     "name": "stderr",
     "output_type": "stream",
     "text": [
      "[bam_sort_core] merging from 40 files and 10 in-memory blocks...\n",
      " 20%|██        | 6/30 [09:32<37:04, 92.69s/it]"
     ]
    },
    {
     "name": "stdout",
     "output_type": "stream",
     "text": [
      "../../02-OUTPUT/03-ALIGN/02-SEGEMEHL/03-T60_94-BV3-MOPS_glucose-tex_plus_mapping\n"
     ]
    },
    {
     "name": "stderr",
     "output_type": "stream",
     "text": [
      "[bam_sort_core] merging from 80 files and 10 in-memory blocks...\n",
      " 23%|██▎       | 7/30 [14:09<58:40, 153.06s/it]"
     ]
    },
    {
     "name": "stdout",
     "output_type": "stream",
     "text": [
      "../../02-OUTPUT/03-ALIGN/02-SEGEMEHL/29-C16_80-BV2-PITA_stationary-tex_minus_mapping\n"
     ]
    },
    {
     "name": "stderr",
     "output_type": "stream",
     "text": [
      "[bam_sort_core] merging from 40 files and 10 in-memory blocks...\n",
      " 27%|██▋       | 8/30 [16:29<54:37, 148.98s/it]"
     ]
    },
    {
     "name": "stdout",
     "output_type": "stream",
     "text": [
      "../../02-OUTPUT/03-ALIGN/02-SEGEMEHL/06-T60_94-BV3-MOPS_succinate-tex_plus_mapping\n"
     ]
    },
    {
     "name": "stderr",
     "output_type": "stream",
     "text": [
      "[bam_sort_core] merging from 70 files and 10 in-memory blocks...\n",
      " 30%|███       | 9/30 [20:28<1:02:00, 177.17s/it]"
     ]
    },
    {
     "name": "stdout",
     "output_type": "stream",
     "text": [
      "../../02-OUTPUT/03-ALIGN/02-SEGEMEHL/16-C58-BV1-MOPS_glucose-tex_minus_mapping\n"
     ]
    },
    {
     "name": "stderr",
     "output_type": "stream",
     "text": [
      "[bam_sort_core] merging from 50 files and 10 in-memory blocks...\n",
      " 33%|███▎      | 10/30 [23:29<59:23, 178.16s/it] "
     ]
    },
    {
     "name": "stdout",
     "output_type": "stream",
     "text": [
      "../../02-OUTPUT/03-ALIGN/02-SEGEMEHL/12-T60_94-BV3-PITA_induced-tex_plus_mapping\n"
     ]
    },
    {
     "name": "stderr",
     "output_type": "stream",
     "text": [
      "[bam_sort_core] merging from 20 files and 10 in-memory blocks...\n",
      " 37%|███▋      | 11/30 [24:57<47:42, 150.66s/it]"
     ]
    },
    {
     "name": "stdout",
     "output_type": "stream",
     "text": [
      "../../02-OUTPUT/03-ALIGN/02-SEGEMEHL/23-C16_80-BV2-PITA_log-tex_minus_mapping\n"
     ]
    },
    {
     "name": "stderr",
     "output_type": "stream",
     "text": [
      "[bam_sort_core] merging from 20 files and 10 in-memory blocks...\n",
      " 40%|████      | 12/30 [26:03<37:25, 124.76s/it]"
     ]
    },
    {
     "name": "stdout",
     "output_type": "stream",
     "text": [
      "../../02-OUTPUT/03-ALIGN/02-SEGEMEHL/08-C16_80-BV2-PITA_log-tex_plus_mapping\n"
     ]
    },
    {
     "name": "stderr",
     "output_type": "stream",
     "text": [
      "[bam_sort_core] merging from 10 files and 10 in-memory blocks...\n",
      " 43%|████▎     | 13/30 [26:46<28:23, 100.21s/it]"
     ]
    },
    {
     "name": "stdout",
     "output_type": "stream",
     "text": [
      "../../02-OUTPUT/03-ALIGN/02-SEGEMEHL/28-C58-BV1-PITA_stationary-tex_minus_mapping\n"
     ]
    },
    {
     "name": "stderr",
     "output_type": "stream",
     "text": [
      "[bam_sort_core] merging from 50 files and 10 in-memory blocks...\n",
      " 47%|████▋     | 14/30 [29:32<31:57, 119.87s/it]"
     ]
    },
    {
     "name": "stdout",
     "output_type": "stream",
     "text": [
      "../../02-OUTPUT/03-ALIGN/02-SEGEMEHL/14-C16_80-BV2-PITA_stationary-tex_plus_mapping\n"
     ]
    },
    {
     "name": "stderr",
     "output_type": "stream",
     "text": [
      "[bam_sort_core] merging from 20 files and 10 in-memory blocks...\n",
      " 50%|█████     | 15/30 [30:46<26:32, 106.20s/it]"
     ]
    },
    {
     "name": "stdout",
     "output_type": "stream",
     "text": [
      "../../02-OUTPUT/03-ALIGN/02-SEGEMEHL/10-C58-BV1-PITA_induced-tex_plus_mapping\n"
     ]
    },
    {
     "name": "stderr",
     "output_type": "stream",
     "text": [
      "[bam_sort_core] merging from 20 files and 10 in-memory blocks...\n",
      " 53%|█████▎    | 16/30 [32:19<23:49, 102.12s/it]"
     ]
    },
    {
     "name": "stdout",
     "output_type": "stream",
     "text": [
      "../../02-OUTPUT/03-ALIGN/02-SEGEMEHL/13-C58-BV1-PITA_stationary-tex_plus_mapping\n"
     ]
    },
    {
     "name": "stderr",
     "output_type": "stream",
     "text": [
      "[bam_sort_core] merging from 60 files and 10 in-memory blocks...\n",
      " 57%|█████▋    | 17/30 [35:51<29:17, 135.16s/it]"
     ]
    },
    {
     "name": "stdout",
     "output_type": "stream",
     "text": [
      "../../02-OUTPUT/03-ALIGN/02-SEGEMEHL/20-C16_80-BV2-MOPS_succinate-tex_minus_mapping\n"
     ]
    },
    {
     "name": "stderr",
     "output_type": "stream",
     "text": [
      "[bam_sort_core] merging from 20 files and 10 in-memory blocks...\n",
      " 60%|██████    | 18/30 [36:59<23:01, 115.11s/it]"
     ]
    },
    {
     "name": "stdout",
     "output_type": "stream",
     "text": [
      "../../02-OUTPUT/03-ALIGN/02-SEGEMEHL/27-T60_94-BV3-PITA_induced-tex_minus_mapping\n"
     ]
    },
    {
     "name": "stderr",
     "output_type": "stream",
     "text": [
      "[bam_sort_core] merging from 40 files and 10 in-memory blocks...\n",
      " 63%|██████▎   | 19/30 [39:05<21:40, 118.25s/it]"
     ]
    },
    {
     "name": "stdout",
     "output_type": "stream",
     "text": [
      "../../02-OUTPUT/03-ALIGN/02-SEGEMEHL/17-C16_80-BV2-MOPS_glucose-tex_minus_mapping\n"
     ]
    },
    {
     "name": "stderr",
     "output_type": "stream",
     "text": [
      "[bam_sort_core] merging from 40 files and 10 in-memory blocks...\n",
      " 67%|██████▋   | 20/30 [41:33<21:11, 127.16s/it]"
     ]
    },
    {
     "name": "stdout",
     "output_type": "stream",
     "text": [
      "../../02-OUTPUT/03-ALIGN/02-SEGEMEHL/05-C16_80-BV2-MOPS_succinate-tex_plus_mapping\n"
     ]
    },
    {
     "name": "stderr",
     "output_type": "stream",
     "text": [
      "[bam_sort_core] merging from 50 files and 10 in-memory blocks...\n",
      " 70%|███████   | 21/30 [44:42<21:52, 145.82s/it]"
     ]
    },
    {
     "name": "stdout",
     "output_type": "stream",
     "text": [
      "../../02-OUTPUT/03-ALIGN/02-SEGEMEHL/01-C58-BV1-MOPS_glucose-tex_plus_mapping\n"
     ]
    },
    {
     "name": "stderr",
     "output_type": "stream",
     "text": [
      "[bam_sort_core] merging from 30 files and 10 in-memory blocks...\n",
      " 73%|███████▎  | 22/30 [46:28<17:50, 133.76s/it]"
     ]
    },
    {
     "name": "stdout",
     "output_type": "stream",
     "text": [
      "../../02-OUTPUT/03-ALIGN/02-SEGEMEHL/22-C58-BV1-PITA_log-tex_minus_mapping\n"
     ]
    },
    {
     "name": "stderr",
     "output_type": "stream",
     "text": [
      "[bam_sort_core] merging from 40 files and 10 in-memory blocks...\n",
      " 77%|███████▋  | 23/30 [48:38<15:30, 132.88s/it]"
     ]
    },
    {
     "name": "stdout",
     "output_type": "stream",
     "text": [
      "../../02-OUTPUT/03-ALIGN/02-SEGEMEHL/04-C58-BV1-MOPS_succinate-tex_plus_mapping\n"
     ]
    },
    {
     "name": "stderr",
     "output_type": "stream",
     "text": [
      "[bam_sort_core] merging from 80 files and 10 in-memory blocks...\n",
      " 80%|████████  | 24/30 [53:25<17:53, 178.97s/it]"
     ]
    },
    {
     "name": "stdout",
     "output_type": "stream",
     "text": [
      "../../02-OUTPUT/03-ALIGN/02-SEGEMEHL/26-C16_80-BV2-PITA_induced-tex_minus_mapping\n"
     ]
    },
    {
     "name": "stderr",
     "output_type": "stream",
     "text": [
      "[bam_sort_core] merging from 30 files and 10 in-memory blocks...\n",
      " 83%|████████▎ | 25/30 [55:06<12:58, 155.70s/it]"
     ]
    },
    {
     "name": "stdout",
     "output_type": "stream",
     "text": [
      "../../02-OUTPUT/03-ALIGN/02-SEGEMEHL/19-C58-BV1-MOPS_succinate-tex_minus_mapping\n"
     ]
    },
    {
     "name": "stderr",
     "output_type": "stream",
     "text": [
      "[bam_sort_core] merging from 40 files and 10 in-memory blocks...\n",
      " 87%|████████▋ | 26/30 [57:20<09:55, 149.00s/it]"
     ]
    },
    {
     "name": "stdout",
     "output_type": "stream",
     "text": [
      "../../02-OUTPUT/03-ALIGN/02-SEGEMEHL/02-C16_80-BV2-MOPS_glucose-tex_plus_mapping\n"
     ]
    },
    {
     "name": "stderr",
     "output_type": "stream",
     "text": [
      "[bam_sort_core] merging from 40 files and 10 in-memory blocks...\n",
      " 90%|█████████ | 27/30 [59:40<07:18, 146.30s/it]"
     ]
    },
    {
     "name": "stdout",
     "output_type": "stream",
     "text": [
      "../../02-OUTPUT/03-ALIGN/02-SEGEMEHL/21-T60_94-BV3-MOPS_succinate-tex_minus_mapping\n"
     ]
    },
    {
     "name": "stderr",
     "output_type": "stream",
     "text": [
      "[bam_sort_core] merging from 30 files and 10 in-memory blocks...\n",
      " 93%|█████████▎| 28/30 [1:01:38<04:35, 137.83s/it]"
     ]
    },
    {
     "name": "stdout",
     "output_type": "stream",
     "text": [
      "../../02-OUTPUT/03-ALIGN/02-SEGEMEHL/09-T60_94-BV3-PITA_log-tex_plus_mapping\n"
     ]
    },
    {
     "name": "stderr",
     "output_type": "stream",
     "text": [
      "[bam_sort_core] merging from 20 files and 10 in-memory blocks...\n",
      " 97%|█████████▋| 29/30 [1:02:47<01:57, 117.32s/it]"
     ]
    },
    {
     "name": "stdout",
     "output_type": "stream",
     "text": [
      "../../02-OUTPUT/03-ALIGN/02-SEGEMEHL/18-T60_94-BV3-MOPS_glucose-tex_minus_mapping\n"
     ]
    },
    {
     "name": "stderr",
     "output_type": "stream",
     "text": [
      "[bam_sort_core] merging from 30 files and 10 in-memory blocks...\n",
      "100%|██████████| 30/30 [1:04:26<00:00, 128.89s/it]\n"
     ]
    }
   ],
   "source": [
    "# IN=\"../../02-OUTPUT/03-ALIGN/01-BOWTIE2\"\n",
    "# for seq in tqdm(glob(f\"{IN}/*.sam\")):\n",
    "#     handle = seq.split(\".sam\")[0]\n",
    "#     print(handle)\n",
    "#     os.system(f'samtools view -bS {handle}.sam > {handle}.bam')\n",
    "#     os.system(f'samtools sort {handle}.bam -o {handle}_sorted.bam')\n",
    "IN=\"../../02-OUTPUT/03-ALIGN/02-SEGEMEHL\"\n",
    "for seq in tqdm(glob(f\"{IN}/*.sam\")):\n",
    "    handle = seq.split(\".sam\")[0]\n",
    "    print(handle)\n",
    "    os.system(f'samtools view --threads 10 -bS {handle}.sam > {handle}.bam')\n",
    "    os.system(f'samtools sort --threads 10 {handle}.bam -o {handle}_sorted.bam')"
   ]
  },
  {
   "cell_type": "markdown",
   "id": "f7b308f6-5fa4-425b-8a52-1529472ff0cb",
   "metadata": {},
   "source": [
    "### READemption"
   ]
  },
  {
   "cell_type": "code",
   "execution_count": null,
   "id": "f76c437d-3d06-4d2b-9109-8d1fa944b2f2",
   "metadata": {},
   "outputs": [],
   "source": [
    "# for file in glob('../../02-OUTPUT/03-ALIGN/02-READEMPTION/*/input/reads/*'):\n",
    "#     if '-R1' in file:\n",
    "#         os.rename(file,file.replace('-R1','-R1_p1'))\n",
    "#     elif '-R2' in file:\n",
    "#         os.rename(file,file.replace('-R2','-R2_p2'))\n",
    "#     else:\n",
    "#         raise exception('error!')\n",
    "#sudo docker pull tillsauerwein/reademption\n",
    "#sudo docker run -i -t tillsauerwein/reademption\n",
    "#docker ps\n",
    "#docker cp BV1-READemption beautiful_wiles:/data/; docker cp BV2-READemption beautiful_wiles:/data/; docker cp BV3-READemption beautiful_wiles:/data/\n",
    "#docker attach beautiful_wiles\n",
    "\n",
    "## reademption create --project_path BV1 --species bv1=\"BV1\"  \n",
    "\n",
    "# reademption align -fastq --processes 10 --project_path BV1-READemption --progress; \\\n",
    "# reademption coverage --processes 10 --project_path BV1-READemption; \\\n",
    "# reademption align -fastq -processes 10 --project_path BV2-READemption --progress \\\n",
    "# reademption coverage --processes 10 --project_path BV2-READemption; \\\n",
    "# reademption align -fastq -processes 10 --project_path BV3-READemption --progress; \\\n",
    "# reademption coverage --processes 10 --project_path BV3-READemption"
   ]
  },
  {
   "cell_type": "markdown",
   "id": "1918c590-d15c-47ae-9b2d-f80cb05d46fe",
   "metadata": {},
   "source": [
    "# 04 TSS"
   ]
  },
  {
   "cell_type": "code",
   "execution_count": 2,
   "id": "4eda4aee",
   "metadata": {},
   "outputs": [
    {
     "name": "stderr",
     "output_type": "stream",
     "text": [
      "  0%|          | 0/30 [00:00<?, ?it/s]"
     ]
    },
    {
     "name": "stdout",
     "output_type": "stream",
     "text": [
      "../../02-OUTPUT/03-ALIGN/02-SEGEMEHL/25-C58-BV1-PITA_induced-tex_minus_mapping\n"
     ]
    },
    {
     "name": "stderr",
     "output_type": "stream",
     "text": [
      "[bam_sort_core] merging from 44 files and 1 in-memory blocks...\n"
     ]
    }
   ],
   "source": [
    "from os import subprocess\n",
    "\n",
    "IN=\"../../02-OUTPUT/03-ALIGN/01-BOWTIE2\"\n",
    "for seq in tqdm(glob(f\"{IN}/*_sorted.bam\")):\n",
    "    handle = seq.split(\".bam\")[0]\n",
    "    print(handle)\n",
    "    os.system(f'perl ./make_proper_wig.pl {handle}.bam + > {handle}_forward.wig')\n",
    "    os.system(f'perl ./make_proper_wig.pl {handle}.bam - > {handle}_reverse.wig')"
   ]
  },
  {
   "cell_type": "code",
   "execution_count": 22,
   "id": "609c3d74",
   "metadata": {},
   "outputs": [
    {
     "name": "stdout",
     "output_type": "stream",
     "text": [
      "$WIG_FOLDER/03-T60_94-BV3-MOPS_glucose-tex_plus-mapping_sorted_forward.wig:tex:1:a:+\n",
      "$WIG_FOLDER/03-T60_94-BV3-MOPS_glucose-tex_plus-mapping_sorted_reverse.wig:tex:1:a:-\n",
      "$WIG_FOLDER/06-T60_94-BV3-MOPS_succinate-tex_plus-mapping_sorted_forward.wig:tex:2:a:+\n",
      "$WIG_FOLDER/06-T60_94-BV3-MOPS_succinate-tex_plus-mapping_sorted_reverse.wig:tex:2:a:-\n",
      "$WIG_FOLDER/09-T60_94-BV3-PITA_log-tex_plus-mapping_sorted_forward.wig:tex:4:a:+\n",
      "$WIG_FOLDER/09-T60_94-BV3-PITA_log-tex_plus-mapping_sorted_reverse.wig:tex:4:a:-\n",
      "$WIG_FOLDER/12-T60_94-BV3-PITA_induced-tex_plus-mapping_sorted_forward.wig:tex:3:a:+\n",
      "$WIG_FOLDER/12-T60_94-BV3-PITA_induced-tex_plus-mapping_sorted_reverse.wig:tex:3:a:-\n",
      "$WIG_FOLDER/15-T60_94-BV3-PITA_stationary-tex_plus-mapping_sorted_forward.wig:tex:5:a:+\n",
      "$WIG_FOLDER/15-T60_94-BV3-PITA_stationary-tex_plus-mapping_sorted_reverse.wig:tex:5:a:-\n",
      "$WIG_FOLDER/18-T60_94-BV3-MOPS_glucose-tex_minus-mapping_sorted_forward.wig:notex:1:a:+\n",
      "$WIG_FOLDER/18-T60_94-BV3-MOPS_glucose-tex_minus-mapping_sorted_reverse.wig:notex:1:a:-\n",
      "$WIG_FOLDER/21-T60_94-BV3-MOPS_succinate-tex_minus-mapping_sorted_forward.wig:notex:2:a:+\n",
      "$WIG_FOLDER/21-T60_94-BV3-MOPS_succinate-tex_minus-mapping_sorted_reverse.wig:notex:2:a:-\n",
      "$WIG_FOLDER/24-T60_94-BV3-PITA_log-tex_minus-mapping_sorted_forward.wig:notex:4:a:+\n",
      "$WIG_FOLDER/24-T60_94-BV3-PITA_log-tex_minus-mapping_sorted_reverse.wig:notex:4:a:-\n",
      "$WIG_FOLDER/27-T60_94-BV3-PITA_induced-tex_minus-mapping_sorted_forward.wig:notex:3:a:+\n",
      "$WIG_FOLDER/27-T60_94-BV3-PITA_induced-tex_minus-mapping_sorted_reverse.wig:notex:3:a:-\n",
      "$WIG_FOLDER/30-T60_94-BV3-PITA_stationary-tex_minus-mapping_sorted_forward.wig:notex:5:a:+\n",
      "$WIG_FOLDER/30-T60_94-BV3-PITA_stationary-tex_minus-mapping_sorted_reverse.wig:notex:5:a:-\n"
     ]
    }
   ],
   "source": [
    "condition_mapper = {'MOPS_glucose':1,\n",
    " 'MOPS_succinate':2,\n",
    " 'PITA_induced':3,\n",
    " 'PITA_log':4,\n",
    " 'PITA_stationary':5}\n",
    "strand_mapper = {'forward':'+', 'reverse':'-'}\n",
    "tex_mapper = {'tex_plus':'tex', 'tex_minus':'notex'}\n",
    "# rep_mapper = {'R1':'a','R2':'b'}\n",
    "\n",
    "for wig in sorted(glob('../../02-OUTPUT/03-ALIGN/02-SEGEMEHL/*.wig')):\n",
    "    wig = wig.split('/')[-1].replace('_mapping','-mapping')\n",
    "    tex = tex_mapper[ wig.split('-')[4] ]\n",
    "    condition = condition_mapper[ wig.split('-')[3] ]\n",
    "    strand = strand_mapper[ wig.split('-')[5].split('_')[-1].split('.')[0] ]\n",
    "    rep = 'a' #rep_mapper[ wig.split('-')[5].split('_')[0] ]\n",
    "    name = f'{wig}:{tex}:{condition}:{rep}:{strand}'\n",
    "    # print(wig, name)\n",
    "    print(name)"
   ]
  },
  {
   "cell_type": "code",
   "execution_count": 13,
   "id": "16200ae1",
   "metadata": {},
   "outputs": [
    {
     "name": "stdout",
     "output_type": "stream",
     "text": [
      "\n",
      "       ___    _   ___   ______                  _     \n",
      "      /   |  / | / / | / / __ \\____ ____  _____(_)____ \\\n",
      "  __ / /| | /  |/ /  |/ / / / / __ `/ _ \\/ ___/ / ___/__\\\n",
      " |  / ___ |/ /|  / /|  / /_/ / /_/ /  __(__  ) / /__    /\n",
      " | /_/  |_/_/ |_/_/ |_/\\____/\\__, /\\___/____/_/\\___/   /\n",
      " |                          /____/ \n",
      " |__________________\n",
      " |_____________________\n",
      " |________________________________________________\n",
      " |                                                \\\n",
      " |________________________________________________/\n",
      "\n",
      "Running TSS prediction\n",
      "which: no TSSpredator.jar in (/usr/local/bin)\n",
      "Error: Strand of libs should be assigned as + or -\n"
     ]
    }
   ],
   "source": [
    "WIG_FOLDER=\"BV1-ANNOgesic_firstpass/input/wigs/tex_notex\"\n",
    "\n",
    "TEX_LIBS=\"$WIG_FOLDER/01-C58-BV1-MOPS_glucose-tex_plus-R1_forward.wig:tex:1:a:+ \\\n",
    "$WIG_FOLDER/01-C58-BV1-MOPS_glucose-tex_plus-R1_reverse.wig:tex:1:a:- \\\n",
    "$WIG_FOLDER/04-C58-BV1-MOPS_succinate-tex_plus-R1_forward.wig:tex:2:a:+ \\\n",
    "$WIG_FOLDER/04-C58-BV1-MOPS_succinate-tex_plus-R1_reverse.wig:tex:2:a:- \\\n",
    "$WIG_FOLDER/07-C58-BV1-PITA_log-tex_plus-R1_forward.wig:tex:4:a:+ \\\n",
    "$WIG_FOLDER/07-C58-BV1-PITA_log-tex_plus-R1_reverse.wig:tex:4:a:- \\\n",
    "$WIG_FOLDER/10-C58-BV1-PITA_induced-tex_plus-R1_forward.wig:tex:3:a:+ \\\n",
    "$WIG_FOLDER/10-C58-BV1-PITA_induced-tex_plus-R1_reverse.wig:tex:3:a:- \\\n",
    "$WIG_FOLDER/13-C58-BV1-PITA_stationary-tex_plus-R1_forward.wig:tex:5:a:+ \\\n",
    "$WIG_FOLDER/13-C58-BV1-PITA_stationary-tex_plus-R1_reverse.wig:tex:5:a:- \\\n",
    "$WIG_FOLDER/16-C58-BV1-MOPS_glucose-tex_minus-R1_forward.wig:notex:1:a:+ \\\n",
    "$WIG_FOLDER/16-C58-BV1-MOPS_glucose-tex_minus-R1_reverse.wig:notex:1:a:- \\\n",
    "$WIG_FOLDER/19-C58-BV1-MOPS_succinate-tex_minus-R1_forward.wig:notex:2:a:+ \\\n",
    "$WIG_FOLDER/19-C58-BV1-MOPS_succinate-tex_minus-R1_reverse.wig:notex:2:a:- \\\n",
    "$WIG_FOLDER/22-C58-BV1-PITA_log-tex_minus-R1_forward.wig:notex:4:a:+ \\\n",
    "$WIG_FOLDER/22-C58-BV1-PITA_log-tex_minus-R1_reverse.wig:notex:4:a:- \\\n",
    "$WIG_FOLDER/25-C58-BV1-PITA_induced-tex_minus-R1_forward.wig:notex:3:a:+ \\\n",
    "$WIG_FOLDER/25-C58-BV1-PITA_induced-tex_minus-R1_reverse.wig:notex:3:a:- \\\n",
    "$WIG_FOLDER/28-C58-BV1-PITA_stationary-tex_minus-R1_forward.wig:notex:5:a:+ \\\n",
    "$WIG_FOLDER/28-C58-BV1-PITA_stationary-tex_minus-R1_reverse.wig:notex:5:a:-\"\n",
    "\n",
    "annogesic tss_ps --project_path BV1-ANNOgesic_firstpass \\\n",
    "--program TSS \\\n",
    "--fasta_files BV1-ANNOgesic_firstpass/input/references/fasta_files/C58.fna \\\n",
    "--annotation_files BV1-ANNOgesic_firstpass/input/references/annotations/C58.gff \\\n",
    "--condition_names MOPS_glucose MOPS_succinate PITA_induced PITA_log PITA_stationary \\\n",
    "--tex_notex_libs $TEX_LIBS \\\n",
    "--replicate any_1"
   ]
  },
  {
   "cell_type": "code",
   "execution_count": 8,
   "id": "65bf8de5",
   "metadata": {},
   "outputs": [
    {
     "name": "stdout",
     "output_type": "stream",
     "text": [
      "BV1-ANNOgesic_firstpass\n"
     ]
    }
   ],
   "source": [
    "WIG_FOLDER=\"BV1/input/wigs/tex_notex\"\n",
    "\n",
    "TEX_LIBS=\"$WIG_FOLDER/01-C58-BV1-MOPS_glucose-tex_plus_mapping_sorted_forward.wig:tex:1:a:+ \\\n",
    "$WIG_FOLDER/01-C58-BV1-MOPS_glucose-tex_plus_mapping_sorted_reverse.wig:tex:1:a:- \\\n",
    "$WIG_FOLDER/04-C58-BV1-MOPS_succinate-tex_plus_mapping_sorted_forward.wig:tex:2:a:+ \\\n",
    "$WIG_FOLDER/04-C58-BV1-MOPS_succinate-tex_plus_mapping_sorted_reverse.wig:tex:2:a:- \\\n",
    "$WIG_FOLDER/07-C58-BV1-PITA_log-tex_plus_mapping_sorted_forward.wig:tex:4:a:+ \\\n",
    "$WIG_FOLDER/07-C58-BV1-PITA_log-tex_plus_mapping_sorted_reverse.wig:tex:4:a:- \\\n",
    "$WIG_FOLDER/10-C58-BV1-PITA_induced-tex_plus_mapping_sorted_forward.wig:tex:3:a:+ \\\n",
    "$WIG_FOLDER/10-C58-BV1-PITA_induced-tex_plus_mapping_sorted_reverse.wig:tex:3:a:- \\\n",
    "$WIG_FOLDER/13-C58-BV1-PITA_stationary-tex_plus_mapping_sorted_forward.wig:tex:5:a:+ \\\n",
    "$WIG_FOLDER/13-C58-BV1-PITA_stationary-tex_plus_mapping_sorted_reverse.wig:tex:5:a:- \\\n",
    "$WIG_FOLDER/16-C58-BV1-MOPS_glucose-tex_minus_mapping_sorted_forward.wig:notex:1:a:+ \\\n",
    "$WIG_FOLDER/16-C58-BV1-MOPS_glucose-tex_minus_mapping_sorted_reverse.wig:notex:1:a:- \\\n",
    "$WIG_FOLDER/19-C58-BV1-MOPS_succinate-tex_minus_mapping_sorted_forward.wig:notex:2:a:+ \\\n",
    "$WIG_FOLDER/19-C58-BV1-MOPS_succinate-tex_minus_mapping_sorted_reverse.wig:notex:2:a:- \\\n",
    "$WIG_FOLDER/22-C58-BV1-PITA_log-tex_minus_mapping_sorted_forward.wig:notex:4:a:+ \\\n",
    "$WIG_FOLDER/22-C58-BV1-PITA_log-tex_minus_mapping_sorted_reverse.wig:notex:4:a:- \\\n",
    "$WIG_FOLDER/25-C58-BV1-PITA_induced-tex_minus_mapping_sorted_forward.wig:notex:3:a:+ \\\n",
    "$WIG_FOLDER/25-C58-BV1-PITA_induced-tex_minus_mapping_sorted_reverse.wig:notex:3:a:- \\\n",
    "$WIG_FOLDER/28-C58-BV1-PITA_stationary-tex_minus_mapping_sorted_forward.wig:notex:5:a:+ \\\n",
    "$WIG_FOLDER/28-C58-BV1-PITA_stationary-tex_minus_mapping_sorted_reverse.wig:notex:5:a:-\"\n",
    "\n",
    "annogesic tss_ps --project_path BV1 \\\n",
    "--program TSS \\\n",
    "--fasta_files BV1/input/references/fasta_files/C58.fna \\\n",
    "--annotation_files BV1/input/references/annotations/BV1_filtered.gff \\\n",
    "--condition_names MOPS_glucose MOPS_succinate PITA_induced PITA_log PITA_stationary \\\n",
    "--tex_notex_libs $TEX_LIBS \\\n",
    "--replicate any_1 --output_id ID\n",
    "\n",
    "cp -r BV1 BV1_optimization_2; annogesic tss_ps --project_path BV1_optimization_2 \\\n",
    "--program TSS \\\n",
    "--fasta_files BV1_optimization_2/input/references/fasta_files/C58.fna \\\n",
    "--annotation_files BV1_optimization_2/input/references/annotations/BV1_filtered.gff \\\n",
    "--condition_names MOPS_glucose MOPS_succinate PITA_induced PITA_log PITA_stationary \\\n",
    "--tex_notex_libs $TEX_LIBS \\\n",
    "--replicate any_1 -he 1.0 -rh 0.5 -fa 6.0 -rf 1.9 -bh 0.043 -ef 2.2 -pf 5.6 --output_id ID"
   ]
  },
  {
   "cell_type": "code",
   "execution_count": null,
   "id": "eb075de1",
   "metadata": {},
   "outputs": [],
   "source": [
    "WIG_FOLDER=\"BV2/input/wigs/tex_notex\"\n",
    "\n",
    "TEX_LIBS=\"$WIG_FOLDER/02-C16_80-BV2-MOPS_glucose-tex_plus_mapping_sorted_forward.wig:tex:1:a:+ \\\n",
    "$WIG_FOLDER/02-C16_80-BV2-MOPS_glucose-tex_plus_mapping_sorted_reverse.wig:tex:1:a:- \\\n",
    "$WIG_FOLDER/05-C16_80-BV2-MOPS_succinate-tex_plus_mapping_sorted_forward.wig:tex:2:a:+ \\\n",
    "$WIG_FOLDER/05-C16_80-BV2-MOPS_succinate-tex_plus_mapping_sorted_reverse.wig:tex:2:a:- \\\n",
    "$WIG_FOLDER/08-C16_80-BV2-PITA_log-tex_plus_mapping_sorted_forward.wig:tex:4:a:+ \\\n",
    "$WIG_FOLDER/08-C16_80-BV2-PITA_log-tex_plus_mapping_sorted_reverse.wig:tex:4:a:- \\\n",
    "$WIG_FOLDER/11-C16_80-BV2-PITA_induced-tex_plus_mapping_sorted_forward.wig:tex:3:a:+ \\\n",
    "$WIG_FOLDER/11-C16_80-BV2-PITA_induced-tex_plus_mapping_sorted_reverse.wig:tex:3:a:- \\\n",
    "$WIG_FOLDER/14-C16_80-BV2-PITA_stationary-tex_plus_mapping_sorted_forward.wig:tex:5:a:+ \\\n",
    "$WIG_FOLDER/14-C16_80-BV2-PITA_stationary-tex_plus_mapping_sorted_reverse.wig:tex:5:a:- \\\n",
    "$WIG_FOLDER/17-C16_80-BV2-MOPS_glucose-tex_minus_mapping_sorted_forward.wig:notex:1:a:+ \\\n",
    "$WIG_FOLDER/17-C16_80-BV2-MOPS_glucose-tex_minus_mapping_sorted_reverse.wig:notex:1:a:- \\\n",
    "$WIG_FOLDER/20-C16_80-BV2-MOPS_succinate-tex_minus_mapping_sorted_forward.wig:notex:2:a:+ \\\n",
    "$WIG_FOLDER/20-C16_80-BV2-MOPS_succinate-tex_minus_mapping_sorted_reverse.wig:notex:2:a:- \\\n",
    "$WIG_FOLDER/23-C16_80-BV2-PITA_log-tex_minus_mapping_sorted_forward.wig:notex:4:a:+ \\\n",
    "$WIG_FOLDER/23-C16_80-BV2-PITA_log-tex_minus_mapping_sorted_reverse.wig:notex:4:a:- \\\n",
    "$WIG_FOLDER/26-C16_80-BV2-PITA_induced-tex_minus_mapping_sorted_forward.wig:notex:3:a:+ \\\n",
    "$WIG_FOLDER/26-C16_80-BV2-PITA_induced-tex_minus_mapping_sorted_reverse.wig:notex:3:a:- \\\n",
    "$WIG_FOLDER/29-C16_80-BV2-PITA_stationary-tex_minus_mapping_sorted_forward.wig:notex:5:a:+ \\\n",
    "$WIG_FOLDER/29-C16_80-BV2-PITA_stationary-tex_minus_mapping_sorted_reverse.wig:notex:5:a:-\"\n",
    "\n",
    "annogesic tss_ps --project_path BV2 \\\n",
    "--program TSS \\\n",
    "--fasta_files BV2/input/references/fasta_files/BV2-C16_80.fna \\\n",
    "--annotation_files BV2/input/references/annotations/BV2_filtered.gff \\\n",
    "--condition_names MOPS_glucose MOPS_succinate PITA_induced PITA_log PITA_stationary \\\n",
    "--tex_notex_libs $TEX_LIBS \\\n",
    "--replicate any_1 --output_id ID\n",
    "\n",
    "cp -r BV2 BV2_optimization_2; annogesic tss_ps --project_path BV2_optimization_2 \\\n",
    "--program TSS \\\n",
    "--fasta_files BV2_optimization_2/input/references/fasta_files/BV2-C16_80.fna \\\n",
    "--annotation_files BV2_optimization_2/input/references/annotations/BV2_filtered.gff \\\n",
    "--condition_names MOPS_glucose MOPS_succinate PITA_induced PITA_log PITA_stationary \\\n",
    "--tex_notex_libs $TEX_LIBS \\\n",
    "--replicate any_1 -he 1.0 -rh 0.5 -fa 6.0 -rf 1.9 -bh 0.043 -ef 2.2 -pf 5.6 --output_id ID"
   ]
  },
  {
   "cell_type": "code",
   "execution_count": null,
   "id": "fb57abf4",
   "metadata": {},
   "outputs": [],
   "source": [
    "WIG_FOLDER=\"BV3/input/wigs/tex_notex\"\n",
    "\n",
    "TEX_LIBS=\"$WIG_FOLDER/03-T60_94-BV3-MOPS_glucose-tex_plus_mapping_sorted_forward.wig:tex:1:a:+ \\\n",
    "$WIG_FOLDER/03-T60_94-BV3-MOPS_glucose-tex_plus_mapping_sorted_reverse.wig:tex:1:a:- \\\n",
    "$WIG_FOLDER/06-T60_94-BV3-MOPS_succinate-tex_plus_mapping_sorted_forward.wig:tex:2:a:+ \\\n",
    "$WIG_FOLDER/06-T60_94-BV3-MOPS_succinate-tex_plus_mapping_sorted_reverse.wig:tex:2:a:- \\\n",
    "$WIG_FOLDER/09-T60_94-BV3-PITA_log-tex_plus_mapping_sorted_forward.wig:tex:4:a:+ \\\n",
    "$WIG_FOLDER/09-T60_94-BV3-PITA_log-tex_plus_mapping_sorted_reverse.wig:tex:4:a:- \\\n",
    "$WIG_FOLDER/12-T60_94-BV3-PITA_induced-tex_plus_mapping_sorted_forward.wig:tex:3:a:+ \\\n",
    "$WIG_FOLDER/12-T60_94-BV3-PITA_induced-tex_plus_mapping_sorted_reverse.wig:tex:3:a:- \\\n",
    "$WIG_FOLDER/15-T60_94-BV3-PITA_stationary-tex_plus_mapping_sorted_forward.wig:tex:5:a:+ \\\n",
    "$WIG_FOLDER/15-T60_94-BV3-PITA_stationary-tex_plus_mapping_sorted_reverse.wig:tex:5:a:- \\\n",
    "$WIG_FOLDER/18-T60_94-BV3-MOPS_glucose-tex_minus_mapping_sorted_forward.wig:notex:1:a:+ \\\n",
    "$WIG_FOLDER/18-T60_94-BV3-MOPS_glucose-tex_minus_mapping_sorted_reverse.wig:notex:1:a:- \\\n",
    "$WIG_FOLDER/21-T60_94-BV3-MOPS_succinate-tex_minus_mapping_sorted_forward.wig:notex:2:a:+ \\\n",
    "$WIG_FOLDER/21-T60_94-BV3-MOPS_succinate-tex_minus_mapping_sorted_reverse.wig:notex:2:a:- \\\n",
    "$WIG_FOLDER/24-T60_94-BV3-PITA_log-tex_minus_mapping_sorted_forward.wig:notex:4:a:+ \\\n",
    "$WIG_FOLDER/24-T60_94-BV3-PITA_log-tex_minus_mapping_sorted_reverse.wig:notex:4:a:- \\\n",
    "$WIG_FOLDER/27-T60_94-BV3-PITA_induced-tex_minus_mapping_sorted_forward.wig:notex:3:a:+ \\\n",
    "$WIG_FOLDER/27-T60_94-BV3-PITA_induced-tex_minus_mapping_sorted_reverse.wig:notex:3:a:- \\\n",
    "$WIG_FOLDER/30-T60_94-BV3-PITA_stationary-tex_minus_mapping_sorted_forward.wig:notex:5:a:+ \\\n",
    "$WIG_FOLDER/30-T60_94-BV3-PITA_stationary-tex_minus_mapping_sorted_reverse.wig:notex:5:a:-\"\n",
    "\n",
    "annogesic tss_ps --project_path BV3 \\\n",
    "--program TSS \\\n",
    "--fasta_files BV3/input/references/fasta_files/BV3-T60_94.fna \\\n",
    "--annotation_files BV3/input/references/annotations/BV3_filtered.gff \\\n",
    "--condition_names MOPS_glucose MOPS_succinate PITA_induced PITA_log PITA_stationary \\\n",
    "--tex_notex_libs $TEX_LIBS \\\n",
    "--replicate any_1 --output_id ID\n",
    "\n",
    "cp -r BV3 BV3_optimization_2; annogesic tss_ps --project_path BV3_optimization_2 \\\n",
    "--program TSS \\\n",
    "--fasta_files BV3_optimization_2/input/references/fasta_files/BV3-T60_94.fna \\\n",
    "--annotation_files BV3_optimization_2/input/references/annotations/BV3_filtered.gff \\\n",
    "--condition_names MOPS_glucose MOPS_succinate PITA_induced PITA_log PITA_stationary \\\n",
    "--tex_notex_libs $TEX_LIBS \\\n",
    "--replicate any_1 -he 1.0 -rh 0.5 -fa 6.0 -rf 1.9 -bh 0.043 -ef 2.2 -pf 5.6 --output_id ID"
   ]
  },
  {
   "cell_type": "code",
   "execution_count": null,
   "id": "40ccb604-9117-464c-bd3e-430394893414",
   "metadata": {},
   "outputs": [],
   "source": [
    "# annogesic tss_ps --project_path BV1-ANNOgesic_optimization_1 \\\n",
    "# --program TSS \\\n",
    "# --fasta_files BV1-ANNOgesic/input/references/fasta_files/C58.fna \\\n",
    "# --annotation_files BV1-ANNOgesic/input/references/annotations/C58.gff \\\n",
    "# --condition_names MOPS_glucose MOPS_succinate PITA_induced PITA_log PITA_stationary \\\n",
    "# --tex_notex_libs $TEX_LIBS \\\n",
    "# --replicate any_1 -he 1.7 -rh 1.6 -fa 8.6 -rf 2.9 -bh 0.044 -ef 0.8 -pf 0.1\n",
    "# annogesic tss_ps --project_path BV1-ANNOgesic_optimization_2 \\\n",
    "# --program TSS \\\n",
    "# --fasta_files BV1-ANNOgesic/input/references/fasta_files/C58.fna \\\n",
    "# --annotation_files BV1-ANNOgesic/input/references/annotations/C58.gff \\\n",
    "# --condition_names MOPS_glucose MOPS_succinate PITA_induced PITA_log PITA_stationary \\\n",
    "# --tex_notex_libs $TEX_LIBS \\\n",
    "# --replicate any_1 -he 1.0 -rh 0.5 -fa 6.0 -rf 1.9 -bh 0.043 -ef 2.2 -pf 5.6\n",
    "# annogesic tss_ps --project_path BV1-ANNOgesic_optimization_3 \\\n",
    "# --program TSS \\\n",
    "# --fasta_files BV1-ANNOgesic/input/references/fasta_files/C58.fna \\\n",
    "# --annotation_files BV1-ANNOgesic/input/references/annotations/C58.gff \\\n",
    "# --condition_names MOPS_glucose MOPS_succinate PITA_induced PITA_log PITA_stationary \\\n",
    "# --tex_notex_libs $TEX_LIBS \\\n",
    "# --replicate any_1 -he 2.2 -rh 1.0 -fa 7.9 -rf 5.2 -bh 0.028 -ef 3.3 -pf 2.2"
   ]
  },
  {
   "cell_type": "markdown",
   "id": "2f939a99-c0a5-4439-8947-6b7d7a6a2797",
   "metadata": {},
   "source": [
    "# 05 ANALYZE"
   ]
  },
  {
   "cell_type": "code",
   "execution_count": null,
   "id": "b92a69d5-19a9-48b4-8752-e1edf32ab227",
   "metadata": {
    "collapsed": true,
    "jupyter": {
     "outputs_hidden": true
    }
   },
   "outputs": [],
   "source": [
    "# analysis\n",
    "\n",
    "# number TSS\n",
    "# UTR length\n",
    "# promoter sequence logo\n",
    "# number TSS per gene\n",
    "# TSS coverage -- how many operons/genes have TSS, how many are missing\n",
    "# TSS coverage in promoter MPRA library\n",
    "# pycirco plot of TSS across genome"
   ]
  },
  {
   "cell_type": "markdown",
   "id": "b261b94f",
   "metadata": {},
   "source": [
    "# 06 other annogesic tools"
   ]
  },
  {
   "cell_type": "code",
   "execution_count": 2,
   "id": "fbcc5efd",
   "metadata": {},
   "outputs": [
    {
     "ename": "SyntaxError",
     "evalue": "invalid syntax (549779591.py, line 80)",
     "output_type": "error",
     "traceback": [
      "\u001b[0;36m  File \u001b[0;32m\"/tmp/ipykernel_1182065/549779591.py\"\u001b[0;36m, line \u001b[0;32m80\u001b[0m\n\u001b[0;31m    annogesic transcript \\\u001b[0m\n\u001b[0m              ^\u001b[0m\n\u001b[0;31mSyntaxError\u001b[0m\u001b[0;31m:\u001b[0m invalid syntax\n"
     ]
    }
   ],
   "source": [
    "BV1_WIG_FOLDER=\"BV1/input/wigs/tex_notex\"\n",
    "\n",
    "BV1_TEX_LIBS=\"$BV1_WIG_FOLDER/01-C58-BV1-MOPS_glucose-tex_plus_mapping_sorted_forward.wig:tex:1:a:+ \\\n",
    "$BV1_WIG_FOLDER/01-C58-BV1-MOPS_glucose-tex_plus_mapping_sorted_reverse.wig:tex:1:a:- \\\n",
    "$BV1_WIG_FOLDER/04-C58-BV1-MOPS_succinate-tex_plus_mapping_sorted_forward.wig:tex:2:a:+ \\\n",
    "$BV1_WIG_FOLDER/04-C58-BV1-MOPS_succinate-tex_plus_mapping_sorted_reverse.wig:tex:2:a:- \\\n",
    "$BV1_WIG_FOLDER/07-C58-BV1-PITA_log-tex_plus_mapping_sorted_forward.wig:tex:4:a:+ \\\n",
    "$BV1_WIG_FOLDER/07-C58-BV1-PITA_log-tex_plus_mapping_sorted_reverse.wig:tex:4:a:- \\\n",
    "$BV1_WIG_FOLDER/10-C58-BV1-PITA_induced-tex_plus_mapping_sorted_forward.wig:tex:3:a:+ \\\n",
    "$BV1_WIG_FOLDER/10-C58-BV1-PITA_induced-tex_plus_mapping_sorted_reverse.wig:tex:3:a:- \\\n",
    "$BV1_WIG_FOLDER/13-C58-BV1-PITA_stationary-tex_plus_mapping_sorted_forward.wig:tex:5:a:+ \\\n",
    "$BV1_WIG_FOLDER/13-C58-BV1-PITA_stationary-tex_plus_mapping_sorted_reverse.wig:tex:5:a:- \\\n",
    "$BV1_WIG_FOLDER/16-C58-BV1-MOPS_glucose-tex_minus_mapping_sorted_forward.wig:notex:1:a:+ \\\n",
    "$BV1_WIG_FOLDER/16-C58-BV1-MOPS_glucose-tex_minus_mapping_sorted_reverse.wig:notex:1:a:- \\\n",
    "$BV1_WIG_FOLDER/19-C58-BV1-MOPS_succinate-tex_minus_mapping_sorted_forward.wig:notex:2:a:+ \\\n",
    "$BV1_WIG_FOLDER/19-C58-BV1-MOPS_succinate-tex_minus_mapping_sorted_reverse.wig:notex:2:a:- \\\n",
    "$BV1_WIG_FOLDER/22-C58-BV1-PITA_log-tex_minus_mapping_sorted_forward.wig:notex:4:a:+ \\\n",
    "$BV1_WIG_FOLDER/22-C58-BV1-PITA_log-tex_minus_mapping_sorted_reverse.wig:notex:4:a:- \\\n",
    "$BV1_WIG_FOLDER/25-C58-BV1-PITA_induced-tex_minus_mapping_sorted_forward.wig:notex:3:a:+ \\\n",
    "$BV1_WIG_FOLDER/25-C58-BV1-PITA_induced-tex_minus_mapping_sorted_reverse.wig:notex:3:a:- \\\n",
    "$BV1_WIG_FOLDER/28-C58-BV1-PITA_stationary-tex_minus_mapping_sorted_forward.wig:notex:5:a:+ \\\n",
    "$BV1_WIG_FOLDER/28-C58-BV1-PITA_stationary-tex_minus_mapping_sorted_reverse.wig:notex:5:a:-\"\n",
    "\n",
    "BV2_WIG_FOLDER=\"BV2/input/wigs/tex_notex\"\n",
    "\n",
    "BV2_TEX_LIBS=\"$BV2_WIG_FOLDER/02-C16_80-BV2-MOPS_glucose-tex_plus_mapping_sorted_forward.wig:tex:1:a:+ \\\n",
    "$BV2_WIG_FOLDER/02-C16_80-BV2-MOPS_glucose-tex_plus_mapping_sorted_reverse.wig:tex:1:a:- \\\n",
    "$BV2_WIG_FOLDER/05-C16_80-BV2-MOPS_succinate-tex_plus_mapping_sorted_forward.wig:tex:2:a:+ \\\n",
    "$BV2_WIG_FOLDER/05-C16_80-BV2-MOPS_succinate-tex_plus_mapping_sorted_reverse.wig:tex:2:a:- \\\n",
    "$BV2_WIG_FOLDER/08-C16_80-BV2-PITA_log-tex_plus_mapping_sorted_forward.wig:tex:4:a:+ \\\n",
    "$BV2_WIG_FOLDER/08-C16_80-BV2-PITA_log-tex_plus_mapping_sorted_reverse.wig:tex:4:a:- \\\n",
    "$BV2_WIG_FOLDER/11-C16_80-BV2-PITA_induced-tex_plus_mapping_sorted_forward.wig:tex:3:a:+ \\\n",
    "$BV2_WIG_FOLDER/11-C16_80-BV2-PITA_induced-tex_plus_mapping_sorted_reverse.wig:tex:3:a:- \\\n",
    "$BV2_WIG_FOLDER/14-C16_80-BV2-PITA_stationary-tex_plus_mapping_sorted_forward.wig:tex:5:a:+ \\\n",
    "$BV2_WIG_FOLDER/14-C16_80-BV2-PITA_stationary-tex_plus_mapping_sorted_reverse.wig:tex:5:a:- \\\n",
    "$BV2_WIG_FOLDER/17-C16_80-BV2-MOPS_glucose-tex_minus_mapping_sorted_forward.wig:notex:1:a:+ \\\n",
    "$BV2_WIG_FOLDER/17-C16_80-BV2-MOPS_glucose-tex_minus_mapping_sorted_reverse.wig:notex:1:a:- \\\n",
    "$BV2_WIG_FOLDER/20-C16_80-BV2-MOPS_succinate-tex_minus_mapping_sorted_forward.wig:notex:2:a:+ \\\n",
    "$BV2_WIG_FOLDER/20-C16_80-BV2-MOPS_succinate-tex_minus_mapping_sorted_reverse.wig:notex:2:a:- \\\n",
    "$BV2_WIG_FOLDER/23-C16_80-BV2-PITA_log-tex_minus_mapping_sorted_forward.wig:notex:4:a:+ \\\n",
    "$BV2_WIG_FOLDER/23-C16_80-BV2-PITA_log-tex_minus_mapping_sorted_reverse.wig:notex:4:a:- \\\n",
    "$BV2_WIG_FOLDER/26-C16_80-BV2-PITA_induced-tex_minus_mapping_sorted_forward.wig:notex:3:a:+ \\\n",
    "$BV2_WIG_FOLDER/26-C16_80-BV2-PITA_induced-tex_minus_mapping_sorted_reverse.wig:notex:3:a:- \\\n",
    "$BV2_WIG_FOLDER/29-C16_80-BV2-PITA_stationary-tex_minus_mapping_sorted_forward.wig:notex:5:a:+ \\\n",
    "$BV2_WIG_FOLDER/29-C16_80-BV2-PITA_stationary-tex_minus_mapping_sorted_reverse.wig:notex:5:a:-\"\n",
    "\n",
    "BV3_WIG_FOLDER=\"BV3/input/wigs/tex_notex\"\n",
    "\n",
    "BV3_TEX_LIBS=\"$BV3_TEX_LIBS/03-T60_94-BV3-MOPS_glucose-tex_plus_mapping_sorted_forward.wig:tex:1:a:+ \\\n",
    "$BV3_TEX_LIBS/03-T60_94-BV3-MOPS_glucose-tex_plus_mapping_sorted_reverse.wig:tex:1:a:- \\\n",
    "$BV3_TEX_LIBS/06-T60_94-BV3-MOPS_succinate-tex_plus_mapping_sorted_forward.wig:tex:2:a:+ \\\n",
    "$BV3_TEX_LIBS/06-T60_94-BV3-MOPS_succinate-tex_plus_mapping_sorted_reverse.wig:tex:2:a:- \\\n",
    "$BV3_TEX_LIBS/09-T60_94-BV3-PITA_log-tex_plus_mapping_sorted_forward.wig:tex:4:a:+ \\\n",
    "$BV3_TEX_LIBS/09-T60_94-BV3-PITA_log-tex_plus_mapping_sorted_reverse.wig:tex:4:a:- \\\n",
    "$BV3_TEX_LIBS/12-T60_94-BV3-PITA_induced-tex_plus_mapping_sorted_forward.wig:tex:3:a:+ \\\n",
    "$BV3_TEX_LIBS/12-T60_94-BV3-PITA_induced-tex_plus_mapping_sorted_reverse.wig:tex:3:a:- \\\n",
    "$BV3_TEX_LIBS/15-T60_94-BV3-PITA_stationary-tex_plus_mapping_sorted_forward.wig:tex:5:a:+ \\\n",
    "$BV3_TEX_LIBS/15-T60_94-BV3-PITA_stationary-tex_plus_mapping_sorted_reverse.wig:tex:5:a:- \\\n",
    "$BV3_TEX_LIBS/18-T60_94-BV3-MOPS_glucose-tex_minus_mapping_sorted_forward.wig:notex:1:a:+ \\\n",
    "$BV3_TEX_LIBS/18-T60_94-BV3-MOPS_glucose-tex_minus_mapping_sorted_reverse.wig:notex:1:a:- \\\n",
    "$BV3_TEX_LIBS/21-T60_94-BV3-MOPS_succinate-tex_minus_mapping_sorted_forward.wig:notex:2:a:+ \\\n",
    "$BV3_TEX_LIBS/21-T60_94-BV3-MOPS_succinate-tex_minus_mapping_sorted_reverse.wig:notex:2:a:- \\\n",
    "$BV3_TEX_LIBS/24-T60_94-BV3-PITA_log-tex_minus_mapping_sorted_forward.wig:notex:4:a:+ \\\n",
    "$BV3_TEX_LIBS/24-T60_94-BV3-PITA_log-tex_minus_mapping_sorted_reverse.wig:notex:4:a:- \\\n",
    "$BV3_TEX_LIBS/27-T60_94-BV3-PITA_induced-tex_minus_mapping_sorted_forward.wig:notex:3:a:+ \\\n",
    "$BV3_TEX_LIBS/27-T60_94-BV3-PITA_induced-tex_minus_mapping_sorted_reverse.wig:notex:3:a:- \\\n",
    "$BV3_TEX_LIBS/30-T60_94-BV3-PITA_stationary-tex_minus_mapping_sorted_forward.wig:notex:5:a:+ \\\n",
    "$BV3_TEX_LIBS/30-T60_94-BV3-PITA_stationary-tex_minus_mapping_sorted_reverse.wig:notex:5:a:-\"\n",
    "\n",
    "## transcript detection\n",
    "\n",
    "# annogesic transcript \\\n",
    "#     --annotation_files BV1/input/references/annotations/BV1_filtered.gff \\\n",
    "#     --tex_notex_libs $BV1_TEX_LIBS \\\n",
    "#     --replicate_tex all_1 \\\n",
    "#     --compare_feature_genome gene CDS \\\n",
    "#     --tss_files BV1/output/TSSs/gffs/BV1_filtered_TSS.gff \\\n",
    "#     --project_path BV1\n",
    "\n",
    "## terminator prediction\n",
    "\n",
    "# annogesic terminator \\\n",
    "#     --fasta_files BV1/input/references/fasta_files/C58.fna \\\n",
    "#     --annotation_files BV1/input/references/annotations/BV1_filtered.gff \\\n",
    "#     --transcript_files BV1/output/transcripts/gffs/BV1_filtered_transcript.gff \\\n",
    "#     --tex_notex_libs $BV1_TEX_LIBS \\\n",
    "#     --replicate_tex all_1 \\\n",
    "#     --project_path BV1\n",
    "\n",
    "## 5' and 3' UTR\n",
    "\n",
    "# annogesic utr \\\n",
    "#     --annotation_files BV1/input/references/annotations/BV1_filtered.gff \\\n",
    "#     --tss_files BV1/output/TSSs/gffs/BV1_filtered_TSS.gff \\\n",
    "#     --transcript_files BV1/output/transcripts/gffs/BV1_filtered_transcript.gff \\\n",
    "#     --terminator_files BV1/output/terminators/gffs/best_candidates/BV1_filtered_term.gff \\\n",
    "#     --project_path BV1\n",
    "\n",
    "## operon\n",
    "\n",
    "# annogesic operon \\\n",
    "#     --annotation_files BV1/input/references/annotations/BV1_filtered.gff \\\n",
    "#     --tss_files BV1/output/TSSs/gffs/BV1_filtered_TSS.gff \\\n",
    "#     --transcript_files BV1/output/transcripts/gffs/BV1_filtered_transcript.gff \\\n",
    "#     --terminator_files BV1/output/terminators/gffs/best_candidates/BV1_filtered_term.gff \\\n",
    "#     --project_path BV1\n",
    "\n",
    "## promoter motif\n",
    "\n",
    "# annogesic promoter \\\n",
    "#     --tss_files BV1/output/TSSs/gffs/BV1_filtered_TSS.gff \\\n",
    "#     --fasta_files BV1/input/references/fasta_files/C58.fna \\\n",
    "#     --motif_width 50 2-10 \\\n",
    "#     --project_path BV1\n",
    "\n",
    "## sRNA prediction\n",
    "\n",
    "# from https://raw.githubusercontent.com/Sung-Huan/ANNOgesic/master/database/sRNA_database_BSRD.fa\n",
    "$SRNA_DB_PATH=/data/lucas/sRNA_database_BSRD.fa\n",
    "\n",
    "# from ftp://ftp.ncbi.nih.gov/blast/db/FASTA/nr.gz\n",
    "$NR_DB_PATH=/data/lucas/nr.fa\n",
    "\n",
    "annogesic srna \\\n",
    "    --filter_info tss blast_srna sec_str blast_nr \\\n",
    "    --annotation_files BV1/input/references/annotations/BV1_filtered.gff \\\n",
    "    --tss_files BV1/output/TSSs/gffs/BV1_filtered_TSS.gff \\\n",
    "    --processing_site_files BV1/output/processing_sites/gffs/BV1_filtered_processing.gff \\\n",
    "    --transcript_files BV1/output/transcripts/gffs/BV1_filtered_transcript.gff \\\n",
    "    --fasta_files BV1/input/references/fasta_files/C58.fna \\\n",
    "    --terminator_files BV1/output/terminators/gffs/best_candidates/BV1_filtered_term.gff \\\n",
    "    --promoter_tables BV1/output/promoters/BV1_filtered/MEME/promoter_motifs_BV1_filtered_allgenome_all_types_50_nt/meme.csv \\\n",
    "    --promoter_names MOTIF_1 \\\n",
    "    --mountain_plot \\\n",
    "    --utr_derived_srna \\\n",
    "    --compute_sec_structures \\\n",
    "    --srna_format \\\n",
    "    --nr_format \\\n",
    "    --nr_database_path $NR_DB_PATH \\\n",
    "    --srna_database_path $SRNA_DB_PATH \\\n",
    "    --tex_notex_libs $BV1_TEX_LIBS \\\n",
    "    --replicate_tex all_1 \\\n",
    "    --project_path BV1\n",
    "\n",
    "annogesic sorf \\\n",
    "    --annotation_files BV1/input/references/annotations/BV1_filtered.gff \\\n",
    "    --tss_files BV1/output/TSSs/gffs/BV1_filtered_TSS.gff \\\n",
    "    --transcript_files BV1/output/transcripts/gffs/BV1_filtered_transcript.gff \\\n",
    "    --fasta_files BV1/input/references/fasta_files/C58.fna \\\n",
    "    --srna_files BV1/output/sRNAs/gffs/best_candidates/BV1_filtered_sRNA.gff \\\n",
    "    --tex_notex_libs $TEX_LIBS \\\n",
    "    --replicate_tex all_1 -u \\\n",
    "    --project_path BV1\n",
    "\n",
    "annogesic srna_target \\\n",
    "    --annotation_files BV1/input/references/annotations/BV1_filtered.gff \\\n",
    "    --fasta_files BV1/input/references/fasta_files/C58.fna \\\n",
    "    --srna_files BV1/output/sRNAs/gffs/best_candidates/BV1_filtered_sRNA.gff \\\n",
    "    --query_srnas all \\\n",
    "    --mode_intarna H \\\n",
    "    --program RNAup IntaRNA RNAplex \\\n",
    "    --project_path ANNOgesic\n",
    "\n",
    "# need to add bam files into docker...\n",
    "# BAM_FILES=BV1/input/BAMs/tex_notex/\n",
    "# annogesic circrna \\\n",
    "#     --fasta_files BV1/input/references/fasta_files/C58.fna \\\n",
    "#     --parallels 10 \\\n",
    "#     --annotation_files ANNOgesic/input/references/annotations/BV1_filtered.gff \\\n",
    "#     --bam_files BV1/input/BAMs/tex_notex/\n",
    "#     --read_files all_samples:$READ_FILES \\\n",
    "#     --project_path ANNOgesic\n",
    "\n",
    "annogesic riboswitch_thermometer \\\n",
    "    --annotation_files BV1/input/references/annotations/BV1_filtered.gff \\\n",
    "    --fasta_files BV1/input/references/fasta_files/C58.fna \\\n",
    "    --riboswitch_id_file /data/lucas/riboswitch_ID_file/Rfam_riboswitch_ID.csv \\\n",
    "    --rna_thermometer_id_file /data/lucas/RNA_thermometer_ID_file/Rfam_RNA_thermometer_ID.csv \\\n",
    "    --rfam_path /data/lucas/databases/CMs/Rfam.cm \\\n",
    "    --transcript_files BV1/output/transcripts/gffs/BV1_filtered_transcript.gff \\\n",
    "    --tss_files BV1/output/TSSs/gffs/BV1_filtered_TSS.gff \\\n",
    "    --project_path BV1"
   ]
  }
 ],
 "metadata": {
  "kernelspec": {
   "display_name": "base",
   "language": "python",
   "name": "python3"
  },
  "language_info": {
   "name": "python",
   "version": "3.9.13 (main, Aug 25 2022, 23:26:10) \n[GCC 11.2.0]"
  },
  "vscode": {
   "interpreter": {
    "hash": "112989f40982219f9c2133127490be09f86560db102a13a350eb86b01002b443"
   }
  }
 },
 "nbformat": 4,
 "nbformat_minor": 5
}
